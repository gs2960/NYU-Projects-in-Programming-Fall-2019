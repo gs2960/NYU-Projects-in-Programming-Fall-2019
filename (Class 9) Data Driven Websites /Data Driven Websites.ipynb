{
 "cells": [
  {
   "cell_type": "markdown",
   "metadata": {},
   "source": [
    "# All material ©2019, Alex Siegman"
   ]
  },
  {
   "cell_type": "markdown",
   "metadata": {},
   "source": [
    "---"
   ]
  },
  {
   "cell_type": "markdown",
   "metadata": {},
   "source": [
    "## Today we are going to delve into Flask – a web framework (technically a micro-framework). Like everything else in this course, to best understand, we're going to dive right in. \n",
    "\n",
    "## Let's take our \"Hello, World!\" API from last class and add a bit of complexity in the form of some formatting. In particular, we'll add some HTML (Hyper-Text Markup Language) – the standard markup language for any document meant to be displayed by a web browser. \n",
    "\n",
    "## First, we need to create an HTML file that our Flask app can call. In your terminal: \n",
    "\n",
    "1. \\> {navigate to desired directory}\n",
    "2. \\> mkdir templates\n",
    "3. \\> cd templates\n",
    "4. \\> touch index.html"
   ]
  },
  {
   "cell_type": "markdown",
   "metadata": {},
   "source": [
    "<!DOCTYPE html> <!-- this is how you comment in HTML --> \n",
    "<html>\n",
    "<head> <!-- let's open a header... --> \n",
    "  <title>Class 9 – Data Driven Websites</title> <!-- and add our title --> \n",
    "</head> <!-- close out the header --> \n",
    "<body>\n",
    "  <h1>Hello, World!</h1> \n",
    "  <hr>\n",
    "  <div style=\"color: red\"> <!-- adding some color --> \n",
    "    <strong>Here's some color!</strong>\n",
    "  </div>\n",
    "</body>\n",
    "</html>"
   ]
  },
  {
   "cell_type": "markdown",
   "metadata": {},
   "source": [
    "## Then, let's create a new .py file to host our application, where we'll point to this index.html file. In your terminal: \n",
    "\n",
    "\n",
    "1. \\> {navigate to desired directory}\n",
    "2. \\> mkdir app\n",
    "3. \\> cd app\n",
    "4. \\> touch helloAdvanced.py"
   ]
  },
  {
   "cell_type": "code",
   "execution_count": null,
   "metadata": {},
   "outputs": [],
   "source": [
    "from flask import Flask, render_template\n",
    "from datetime import * # the '*' means \"import everything from the datetime library\"\n",
    "\n",
    "app = Flask(__name__) \n",
    "\n",
    "visitor_counter = 0 # set a variable used to track visitors to our URL\n",
    "\n",
    "def get_time_message(): # a new function called get_time_message\n",
    "    datetime.now().strftime('%Y-%m-%d %H:%M:%S') # get the current time from datetime\n",
    "    date = datetime.now().strftime('%Y-%m-%d') # get today's date from the current time \n",
    "    time = datetime.now().strftime('%H:%M:%S') # get the current time from the current time \n",
    "    message = \"The date is {d} and the time is {t}\" # create the message telling us the current date and time \n",
    "    return message.format(d=date, t=time) # return our message \n",
    "\n",
    "@app.route(\"/\") # this ultimately means that when you visit https://localhost/ the \"home\" function below will be called\n",
    "def home(): # define a new function called \"home\"\n",
    "    message = get_time_message() # call the get_time_message function defined above\n",
    "    return render_template(\"index.html\")\n",
    "\n",
    "@app.route(\"/hello\") # this ultiamtely means that when you visit https://localhost/hello the \"hello_visitor\" function below will be called\n",
    "def hello_visitor(): # define a new function called \"hello_visitor\"\n",
    "    global visitor_counter # 'global' variable gets updated each time someone visits /hello\n",
    "    visitor_counter += 1 # each time tis function is called, we count as a new visitor\n",
    "    return \"<H1> Hello! You are visitor #{i}</H1>\".format(i=visitor_counter) # return our desired message\n",
    "\n",
    "app.run(host='0.0.0.0',port=5000,debug=True) # this forces flask to run on your computer's IP address"
   ]
  },
  {
   "cell_type": "markdown",
   "metadata": {},
   "source": [
    "## We can also leverage the Jinja templating language witin our Flask app:"
   ]
  },
  {
   "cell_type": "code",
   "execution_count": null,
   "metadata": {},
   "outputs": [],
   "source": [
    "!pip install Jinja2"
   ]
  },
  {
   "cell_type": "markdown",
   "metadata": {},
   "source": [
    "## Let's make some changes to our index.html file:"
   ]
  },
  {
   "cell_type": "markdown",
   "metadata": {},
   "source": [
    "<!DOCTYPE html>\n",
    "<html>\n",
    "<head> \n",
    "  <title>Class 9 – Data Driven Websites</title> \n",
    "</head>\n",
    "<body>\n",
    "  <h1>Hello {{ username }}! Today is {{ today }}</h1> <!-- we are going to add variables username and today here --> \n",
    "                                                      <!-- the {{ }} is a Jinja-specific syntax --> \n",
    "  <hr>\n",
    "  <div style=\"color: red\"> \n",
    "    <strong>Here's some color!</strong>\n",
    "  </div>\n",
    "</body>\n",
    "</html>"
   ]
  },
  {
   "cell_type": "markdown",
   "metadata": {},
   "source": [
    "## And then add to our helloAdvanced.py file:"
   ]
  },
  {
   "cell_type": "code",
   "execution_count": null,
   "metadata": {},
   "outputs": [],
   "source": [
    "from flask import Flask, render_template \n",
    "from datetime import *\n",
    "\n",
    "app = Flask(__name__)\n",
    "\n",
    "visitor_counter = 0 # set a variable used to track visitors to our URL\n",
    "\n",
    "def get_time_message():\n",
    "    datetime.now().strftime('%Y-%m-%d %H:%M:%S')\n",
    "    date = datetime.now().strftime('%Y-%m-%d')\n",
    "    time = datetime.now().strftime('%H:%M:%S')\n",
    "    message = \"The date is {d} and the time is {t}\"\n",
    "    return message.format(d=date, t=time)\n",
    "\n",
    "@app.route(\"/\")\n",
    "def home():\n",
    "    message = get_time_message()\n",
    "    return render_template(\"index.html\",username=\"Alex Siegman\",today=message) # here is where we call our variables\n",
    "\n",
    "@app.route(\"/hello\")\n",
    "def hello_visitor():\n",
    "    global visitor_counter # global gets updated each time someone visits /hello\n",
    "    visitor_counter += 1\n",
    "    return \"<H1> Hello! You are visitor #{i}</H1>\".format(i=visitor_counter)\n",
    "\n",
    "app.run(host='0.0.0.0',port=5000,debug=True)"
   ]
  },
  {
   "cell_type": "markdown",
   "metadata": {},
   "source": [
    "## We can also leverage what is known as a \"Jinja iterator\" – basically allowing us to render if / else statements in our template. For example, let's alter helloAdvanced.py file to include: "
   ]
  },
  {
   "cell_type": "markdown",
   "metadata": {},
   "source": [
    "from flask import Flask, render_template \n",
    "from datetime import *\n",
    "\n",
    "app = Flask(__name__)\n",
    "\n",
    "visitor_counter = 0 # set a variable used to track visitors to our URL\n",
    "\n",
    "def get_time_message():\n",
    "    datetime.now().strftime('%Y-%m-%d %H:%M:%S')\n",
    "    date = datetime.now().strftime('%Y-%m-%d')\n",
    "    time = datetime.now().strftime('%H:%M:%S')\n",
    "    message = \"The date is {d} and the time is {t}\"\n",
    "    return message.format(d=date, t=time)\n",
    "\n",
    "@app.route(\"/\")\n",
    "def home():\n",
    "    message = get_time_message()\n",
    "    return render_template(\"index.html\",username=\"Alex Siegman\",today=message) # here is where we call our variables\n",
    "\n",
    "@app.route(\"/hello\")\n",
    "def hello_visitor():\n",
    "    global visitor_counter # global gets updated each time someone visits /hello\n",
    "    visitor_counter += 1\n",
    "    return \"<H1> Hello! You are visitor #{i}</H1>\".format(i=visitor_counter)\n",
    "\n",
    "@app.route(\"/colleagues\")\n",
    "def colleagues(): \n",
    "    colleagues = [\n",
    "        {\"name\": \"Alex Siegman\", \"hometown\": \"Tampa\"},\n",
    "        {\"name\": \"Chloe Stein\", \"hometown\":  \"Hillsdale\"},\n",
    "        {\"name\": \"John Doe\", \"hometown\": \"New York\"}\n",
    "    ]\n",
    "    return render_template(\"colleagues.html\", title=\"My Colleagues\",colleagues=colleagues)\n",
    "\n",
    "app.run(host='0.0.0.0',port=5000,debug=True)"
   ]
  },
  {
   "cell_type": "markdown",
   "metadata": {},
   "source": [
    "## We then create a file called colleagues.html in the templates folder and add: "
   ]
  },
  {
   "cell_type": "markdown",
   "metadata": {},
   "source": [
    "<body>\n",
    "    <h2>{{ title }}</h2>\n",
    "    <ul>\n",
    "        {% for i in colleagues %}\n",
    "            <li>\n",
    "                {% if i.hometown == Tampa %}\n",
    "                    <u>Name: {{ i.name }}; age: {{ i.age }}</u>\n",
    "                {% else %}\n",
    "                    Name: {{ i.name }}; age: {{ i.age }}\n",
    "                {% endif %}\n",
    "            </li>\n",
    "        {% endfor %}\n",
    "    </ul>\n",
    "</body>"
   ]
  },
  {
   "cell_type": "markdown",
   "metadata": {},
   "source": [
    "## So far so good. But what happens if we want to call upon a SQL database, such as our Citibike database from Week 1, and display it in a Flask application? "
   ]
  },
  {
   "cell_type": "code",
   "execution_count": 1,
   "metadata": {},
   "outputs": [],
   "source": [
    "# create connection"
   ]
  },
  {
   "cell_type": "code",
   "execution_count": null,
   "metadata": {},
   "outputs": [],
   "source": [
    "# in helloAdvanced.py: \n",
    "\n",
    "from flask import Flask, render_template\n",
    "from sqlalchemy import create_engine\n",
    "\n",
    "app = Flask(__name__)\n",
    "\n",
    "@app.route('/citibike')\n",
    "def citibike_stations():\n",
    "\n",
    "    conn_string = 'mysql://{user}:{password}@{host}/{db}?charset={encoding}'.format(\n",
    "        host = 'db.ipeirotis.org', \n",
    "        user = 'student',\n",
    "        db = 'citibike_fall2017',\n",
    "        password = 'dwdstudent2015',\n",
    "        encoding = 'utf8mb4')\n",
    "\n",
    "    engine = create_engine(conn_string)\n",
    "    con = engine.connect()\n",
    "    stations = con.execute(\"SELECT DISTINCT id AS station_id, name, capacity, lat, lon  FROM status_fall2017\")\n",
    "    con.close()\n",
    "\n",
    "    return render_template('citibike.html', stations=stations)\n",
    "\n",
    "app.run(host='0.0.0.0', port=5000, debug=True)"
   ]
  },
  {
   "cell_type": "code",
   "execution_count": null,
   "metadata": {},
   "outputs": [],
   "source": [
    "# create templates/citibike.html\n",
    "\n",
    "<!DOCTYPE html>\n",
    "<html>\n",
    "<body>   <!-- This is a comment in HTML -->\n",
    "    <table>\n",
    "        <thead>\n",
    "            <tr>    <!-- Construct table header -->\n",
    "                <th>Station ID</th>\n",
    "                <th>Address</th>\n",
    "                <th>Capacity</th>\n",
    "                <th>Lon / Lat</th>\n",
    "            </tr>\n",
    "        </thead>\n",
    "        <tbody>\n",
    "            {% for station in stations %}    <!-- Fill table rows for each station --> \n",
    "                <tr>\n",
    "                    <td>{{ station.station_id }}</td>\n",
    "                    <td>{{ station.name }}</td>\n",
    "                    <td>{{ station.capacity }}</td>\n",
    "                    <td>{{ station.lon }}, {{ station.lat }}</td>\n",
    "\n",
    "                </tr>\n",
    "            {% endfor %}\n",
    "         </tbody>\n",
    "    </table>\n",
    "</body>\n",
    "</html>"
   ]
  },
  {
   "cell_type": "markdown",
   "metadata": {},
   "source": [
    "## What if we want to take things a step further and query from our Citibike databse? We'll need to create a new function that accepts the station_id as a parameter; the code will then query the database for that parameter and return the station status. \n",
    "\n",
    "## In helloAdvanced.py, add:"
   ]
  },
  {
   "cell_type": "code",
   "execution_count": null,
   "metadata": {},
   "outputs": [],
   "source": [
    "from flask import request\n",
    "@app.route('/station_status')\n",
    "def station_status():\n",
    "\n",
    "    station_id = int(request.args.get('station_id'))\n",
    "\n",
    "    conn_string = 'mysql://{user}:{password}@{host}/{db}?charset={encoding}'.format(\n",
    "        host = 'db.ipeirotis.org', \n",
    "        user = 'student',\n",
    "        db = 'citibike_fall2017',\n",
    "        password = 'dwdstudent2015',\n",
    "        encoding = 'utf8mb4')\n",
    "\n",
    "    engine = create_engine(conn_string)\n",
    "    con = engine.connect()\n",
    "    query = '''SELECT available_bikes, \n",
    "                      available_docks, \n",
    "                      capacity, \n",
    "                      available_bikes / capacity AS percent_full,\n",
    "                      communication_time \n",
    "               FROM status_fall2017\n",
    "               WHERE id = %s'''\n",
    "    status = con.execute(query, (station_id,))\n",
    "\n",
    "    con.close()\n",
    "\n",
    "    return render_template('station_status.html', station_id = station_id, statuses=status)"
   ]
  },
  {
   "cell_type": "code",
   "execution_count": null,
   "metadata": {},
   "outputs": [],
   "source": [
    "# create templates/station_status.html: \n",
    "\n",
    "<!DOCTYPE html>\n",
    "<html>\n",
    "<body> \n",
    "    <table>\n",
    "        <thead>\n",
    "            <tr>    <!-- Construct table header -->\n",
    "                    <th> Time </th>\n",
    "                    <th> Bikes available </th>\n",
    "                    <th> Docks available </th>\n",
    "                    <th> Total docks </th>\n",
    "                    <th> Percent full </th>\n",
    "            </tr>\n",
    "        </thead>\n",
    "        <tbody>\n",
    "            {% for status in statuses %}\n",
    "                <tr>\n",
    "                    <td>{{ status.communication_time }}</td>\n",
    "                    <td>{{ status.available_bikes }}</td>\n",
    "                    <td>{{ status.available_docks }}</td>\n",
    "                    <td>{{ status.capacity }}</td>\n",
    "                    <td>{{ status.percent_full }}</td>\n",
    "                </tr>\n",
    "            {% endfor %}\n",
    "         </tbody>\n",
    "    </table>\n",
    "</body>\n",
    "</html>\n",
    "\n",
    "# then try localhost/station_status?station_id=85"
   ]
  },
  {
   "cell_type": "code",
   "execution_count": null,
   "metadata": {},
   "outputs": [],
   "source": []
  },
  {
   "cell_type": "code",
   "execution_count": null,
   "metadata": {},
   "outputs": [],
   "source": []
  },
  {
   "cell_type": "code",
   "execution_count": null,
   "metadata": {},
   "outputs": [],
   "source": []
  }
 ],
 "metadata": {
  "kernelspec": {
   "display_name": "Python 3",
   "language": "python",
   "name": "python3"
  },
  "language_info": {
   "codemirror_mode": {
    "name": "ipython",
    "version": 3
   },
   "file_extension": ".py",
   "mimetype": "text/x-python",
   "name": "python",
   "nbconvert_exporter": "python",
   "pygments_lexer": "ipython3",
   "version": "3.7.1"
  }
 },
 "nbformat": 4,
 "nbformat_minor": 2
}
