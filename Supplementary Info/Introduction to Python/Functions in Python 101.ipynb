{
 "cells": [
  {
   "cell_type": "markdown",
   "metadata": {},
   "source": [
    "# All material ©2019, Alex Siegman"
   ]
  },
  {
   "cell_type": "markdown",
   "metadata": {},
   "source": [
    "---"
   ]
  },
  {
   "cell_type": "code",
   "execution_count": 15,
   "metadata": {},
   "outputs": [
    {
     "name": "stdout",
     "output_type": "stream",
     "text": [
      "Hello, John!\n"
     ]
    }
   ],
   "source": [
    "# the premise of a basic function\n",
    "\n",
    "def greet(name): # the function is called 'greet' and it take the input 'name'\n",
    "    return \"Hello, \" +name +\"!\" # return \"Hello, \" and concatenate the inputted name\n",
    "\n",
    "print(greet(\"John\")) # call our function with the desired input"
   ]
  },
  {
   "cell_type": "code",
   "execution_count": 20,
   "metadata": {},
   "outputs": [
    {
     "name": "stdout",
     "output_type": "stream",
     "text": [
      "Hello John\n"
     ]
    }
   ],
   "source": [
    "# functions can be passed as parameters to other functions\n",
    "\n",
    "def greet(name):\n",
    "    return \"Hello \" + name \n",
    "\n",
    "def call(function):\n",
    "    name2 = \"John\"\n",
    "    return function(name2)  \n",
    "\n",
    "print(call(greet))"
   ]
  },
  {
   "cell_type": "code",
   "execution_count": 21,
   "metadata": {},
   "outputs": [
    {
     "name": "stdout",
     "output_type": "stream",
     "text": [
      "Hello there!\n"
     ]
    }
   ],
   "source": [
    "# functions can also return different functions \n",
    "\n",
    "def compose_greet_func():\n",
    "    def get_message():\n",
    "        return \"Hello there!\"\n",
    "\n",
    "    return get_message\n",
    "\n",
    "greet = compose_greet_func()\n",
    "print(greet())"
   ]
  },
  {
   "cell_type": "code",
   "execution_count": 22,
   "metadata": {},
   "outputs": [
    {
     "name": "stdout",
     "output_type": "stream",
     "text": [
      "<p>Welcome to breakfast, Alex. Glad to have you!</p>\n"
     ]
    }
   ],
   "source": [
    "# function wrappers are a function that takes another function as an argument, generates a new function, augments the \n",
    "# work of the original function, and returnsthe generated function so that it can be used anywhere\n",
    "\n",
    "def get_text(name):\n",
    "    return \"Welcome to breakfast, \"+name+\". Glad to have you!\"\n",
    "get_text(\"Alex\")\n",
    "\n",
    "def p_decorate(func):\n",
    "    def func_wrapper(name):\n",
    "        return \"<p>\"+func(name)+\"</p>\"\n",
    "    return func_wrapper\n",
    "\n",
    "get_text = p_decorate(get_text)\n",
    "\n",
    "print(my_get_text(\"Alex\"))"
   ]
  }
 ],
 "metadata": {
  "kernelspec": {
   "display_name": "Python 3",
   "language": "python",
   "name": "python3"
  },
  "language_info": {
   "codemirror_mode": {
    "name": "ipython",
    "version": 3
   },
   "file_extension": ".py",
   "mimetype": "text/x-python",
   "name": "python",
   "nbconvert_exporter": "python",
   "pygments_lexer": "ipython3",
   "version": "3.7.1"
  }
 },
 "nbformat": 4,
 "nbformat_minor": 2
}
