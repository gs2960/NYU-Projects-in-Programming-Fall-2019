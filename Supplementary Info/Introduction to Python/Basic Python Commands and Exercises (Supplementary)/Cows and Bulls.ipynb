{
 "cells": [
  {
   "cell_type": "markdown",
   "metadata": {},
   "source": [
    "# In this script we will prompt the user for a 4-digit number, then:\n",
    "\t\n",
    "> ### Ask the user to guess a 4-digit number\n",
    "> ### For every digit that the user guessed correctly and in the correct place, they have a \"cow\"\n",
    "> ### For every digit they guessed correctly but in the wrong place, they get a \"bull\"\n",
    "> ### Every time the user makes a guess, tell them how many \"cows\" and \"bulls\" they have\n",
    "> ### Once the user guesses the correct number, the game is over\n",
    "\n",
    "## Thank you to http://www.practicepython.org/ for the inspiration and direction for this script.\n"
   ]
  },
  {
   "cell_type": "code",
   "execution_count": null,
   "metadata": {},
   "outputs": [],
   "source": [
    "import random\n",
    "\n",
    "computer_choice = list(random.sample(range(0,10),4))\n",
    "\n",
    "def compare_numbers():\n",
    "\n",
    "    while True:\n",
    "\n",
    "        cows = 0\n",
    "        bulls = 0\n",
    "        user_guess = list(get_userGuess())\n",
    "        for i in range(0,4):\n",
    "            if computer_choice[i] == user_guess[i]:\n",
    "                cows += 1\n",
    "            else:\n",
    "                bulls += 1\n",
    "        print(computer_choice)\n",
    "        print(user_guess)\n",
    "        print(\"You have \" + str(cows) + \" cow(s) and \" + str(bulls) + \" bull(s).\")\n",
    "\n",
    "def get_userGuess():\n",
    "    return list(input(\"Please input a four-digit number with each digit separated by a comma: \"))\n",
    "\n",
    "\n",
    "if __name__ == \"__main__\":\n",
    "    compare_numbers()"
   ]
  },
  {
   "cell_type": "code",
   "execution_count": null,
   "metadata": {},
   "outputs": [],
   "source": []
  }
 ],
 "metadata": {
  "kernelspec": {
   "display_name": "Python 3",
   "language": "python",
   "name": "python3"
  },
  "language_info": {
   "codemirror_mode": {
    "name": "ipython",
    "version": 3
   },
   "file_extension": ".py",
   "mimetype": "text/x-python",
   "name": "python",
   "nbconvert_exporter": "python",
   "pygments_lexer": "ipython3",
   "version": "3.7.1"
  }
 },
 "nbformat": 4,
 "nbformat_minor": 2
}
