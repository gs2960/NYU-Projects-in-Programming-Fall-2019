{
 "cells": [
  {
   "cell_type": "markdown",
   "metadata": {},
   "source": [
    "## This exercise comes from Mark Hansen, Mike Young and Suman Deb Roy's SP2017 class \"Computational Journalism\" at Columbia's Graduate School of Journalism."
   ]
  },
  {
   "cell_type": "code",
   "execution_count": null,
   "metadata": {},
   "outputs": [],
   "source": [
    "import requests\n",
    "import urllib.parse\n",
    "\n",
    "params = {\n",
    "    'client': 'chrome',\n",
    "    'ds': 'n',\n",
    "    'q': input(\"What are your search paramaters? \")\n",
    "}\n",
    "\n",
    "url_params = urllib.parse.urlencode(params) # see here for info on how this line differs between Python2 and Python3: https://stackoverflow.com/questions/28906859/module-has-no-attribute-urlencode\n",
    "url = 'http://suggestqueries.google.com/complete/search?%s' % urllib.parse.urlencode(params)\n",
    "\n",
    "r = requests.get(url)\n",
    "data = r.json()\n",
    "\n",
    "search_term = data[0]\n",
    "results = data[1]\n",
    "\n",
    "for result in results:\n",
    "    print(result)"
   ]
  },
  {
   "cell_type": "code",
   "execution_count": null,
   "metadata": {},
   "outputs": [],
   "source": []
  }
 ],
 "metadata": {
  "kernelspec": {
   "display_name": "Python 3",
   "language": "python",
   "name": "python3"
  },
  "language_info": {
   "codemirror_mode": {
    "name": "ipython",
    "version": 3
   },
   "file_extension": ".py",
   "mimetype": "text/x-python",
   "name": "python",
   "nbconvert_exporter": "python",
   "pygments_lexer": "ipython3",
   "version": "3.7.1"
  }
 },
 "nbformat": 4,
 "nbformat_minor": 2
}
