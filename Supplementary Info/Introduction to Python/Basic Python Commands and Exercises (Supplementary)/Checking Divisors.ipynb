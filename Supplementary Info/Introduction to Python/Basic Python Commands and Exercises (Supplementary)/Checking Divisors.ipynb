{
 "cells": [
  {
   "cell_type": "markdown",
   "metadata": {},
   "source": [
    "# In this script we will create a program that asks the user to enter a number.  The script will subsequently return a list of divisors for that number.\n",
    "\n",
    "## Thank you to http://www.practicepython.org/ for the inspiration and direction for this script."
   ]
  },
  {
   "cell_type": "code",
   "execution_count": null,
   "metadata": {},
   "outputs": [],
   "source": [
    "def divisors():\n",
    "\n",
    "    number = int(input(\"For what number would you like to know its divisors? \"))\n",
    "    divisor_list = []\n",
    "\n",
    "    for i in range(0,1000000):\n",
    "        if i % number == 0:\n",
    "            divisor_list.append(i)\n",
    "\n",
    "    print(divisor_list)\n",
    "\n",
    "if __name__ == \"__main__\":\n",
    "    divisors()"
   ]
  }
 ],
 "metadata": {
  "kernelspec": {
   "display_name": "Python 3",
   "language": "python",
   "name": "python3"
  },
  "language_info": {
   "codemirror_mode": {
    "name": "ipython",
    "version": 3
   },
   "file_extension": ".py",
   "mimetype": "text/x-python",
   "name": "python",
   "nbconvert_exporter": "python",
   "pygments_lexer": "ipython3",
   "version": "3.7.1"
  }
 },
 "nbformat": 4,
 "nbformat_minor": 2
}
