{
 "cells": [
  {
   "cell_type": "markdown",
   "metadata": {},
   "source": [
    "## Thanks to http://www.openbookproject.net/py4fun/tiles/tiles.html for the inspiration and direction for this script."
   ]
  },
  {
   "cell_type": "code",
   "execution_count": 1,
   "metadata": {},
   "outputs": [],
   "source": [
    "import re\n",
    "\n",
    "# squares are numbered 0 - 8\n",
    "\n",
    "# 0 1 2\n",
    "# 3 4 5\n",
    "# 6 7 8\n",
    "\n",
    "# when square x is blank, squares that can slide in are:\n",
    "\n",
    "_slides = (\n",
    "    (1,3), # can slide into square 0\n",
    "    (0,4,2), # can slide into square 1\n",
    "    (1,5), # can slide into square 2\n",
    "    (0,4,6), # can slide into square 3\n",
    "    (1,3,5,7), # can slide into square 4\n",
    "    (2,4,8), # can slide into square 5\n",
    "    (3,7), # can slide into square 6\n",
    "    (4,6,8), # can slide into square 7\n",
    "    (5,7)) # can slide into square 8\n",
    "\n",
    "Goal = \"12345678_\" #the board when the puzzle is done\n",
    "\n",
    "def getMoves(board):\n",
    "    rempty = board.find('_')\n",
    "    return empty, _slides[empty]\n",
    "\n",
    "def makeMove(board,empty,mov):\n",
    "    lbrd = list(board)\n",
    "    lbrd[empty],lbrd[mov] = lbrd[mov],lbrd[empty]\n",
    "    return \"\".join(lbrd)\n",
    "\n",
    "manTable = {}\n",
    "\n",
    "def manhatten(a,b):\n",
    "    global manTable\n",
    "    if not manTable:\n",
    "        print(\"Building table for manhatten distance\")\n",
    "        for aa in range(9):\n",
    "            for bb in range(9):\n",
    "                arow = aa/3; acol=aa%3\n",
    "                brow = bb/3; bcol=bb%3\n",
    "                manTable[(aa,bb)] = abs(arow-brow)+abs(acol-bcol)\n",
    "    ans = manTable.get((a,b))\n",
    "    if ans == None : print(\"args\",a,b,a+b,\"-->\",ans)\n",
    "    return ans\n",
    "\n",
    "def pretty(squares):\n",
    "    return \"%s %s %s\" % (squares[0:3],squares[3:6],squares[6:9])\n",
    "\n",
    "def printPuzzle(squares,mesg=\"\"):\n",
    "    print(\"----------\",mesg)\n",
    "    blankIt = re.sub(\"0\",' ',squares)\n",
    "    print(blankIt[0:3])\n",
    "    print(blankIt[3:6])\n",
    "    print(blankIt[6:9])"
   ]
  },
  {
   "cell_type": "code",
   "execution_count": null,
   "metadata": {},
   "outputs": [],
   "source": []
  }
 ],
 "metadata": {
  "kernelspec": {
   "display_name": "Python 3",
   "language": "python",
   "name": "python3"
  },
  "language_info": {
   "codemirror_mode": {
    "name": "ipython",
    "version": 3
   },
   "file_extension": ".py",
   "mimetype": "text/x-python",
   "name": "python",
   "nbconvert_exporter": "python",
   "pygments_lexer": "ipython3",
   "version": "3.7.1"
  }
 },
 "nbformat": 4,
 "nbformat_minor": 2
}
