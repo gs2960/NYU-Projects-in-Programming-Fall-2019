{
 "cells": [
  {
   "cell_type": "markdown",
   "metadata": {},
   "source": [
    "## Thank you to http://www.practicepython.org/ for the inspiration and direction for this script."
   ]
  },
  {
   "cell_type": "code",
   "execution_count": null,
   "metadata": {},
   "outputs": [],
   "source": [
    "import random\n",
    "\n",
    "initial = input(\"Initial choice (A,B,C)? \").upper()\n",
    "action = input(\"Always Switch/Hold (S,H) ? \").upper()\n",
    "doors = [\"A\",\"B\",\"C\"]\n",
    "totalWins = 0\n",
    "\n",
    "print(\"Let's play 100 times!\")\n",
    "\n",
    "for i in range(100):\n",
    "    placed = random.choice(doors) # prize is placed randomly\n",
    "    chosen = initial # your first choice\n",
    "    used = [chosen,placed] # moderator choses an empty door\n",
    "    avail = [door for door in doors if door not in used] # same as saying \"door for door in ['A','B','C'] if door not in ['A','C']]['B']\n",
    "    opened = random.choice(avail)\n",
    "    if action == \"S\": # you switch to remaining door\n",
    "        avail = [door for door in doors if door not in [chosen,opened]]\n",
    "        chosen = avail[0] # should only be one door left\n",
    "    youWin = (chosen == placed)\n",
    "    if youWin : totalWins += 1\n",
    "    print(\"  Prize placed behind\",placed),\n",
    "    print(\"-You chose\",initial,\"-Moderator opened\",opened),\n",
    "    if action == \"H\" :\n",
    "        print(\"-You held to\" ,chosen),\n",
    "    else:\n",
    "        print(\"-You switched to\",chosen),\n",
    "    if youWin:\n",
    "        print(\"-You win (wins now\",totalWins,\")\"),"
   ]
  },
  {
   "cell_type": "code",
   "execution_count": null,
   "metadata": {},
   "outputs": [],
   "source": []
  }
 ],
 "metadata": {
  "kernelspec": {
   "display_name": "Python 3",
   "language": "python",
   "name": "python3"
  },
  "language_info": {
   "codemirror_mode": {
    "name": "ipython",
    "version": 3
   },
   "file_extension": ".py",
   "mimetype": "text/x-python",
   "name": "python",
   "nbconvert_exporter": "python",
   "pygments_lexer": "ipython3",
   "version": "3.7.1"
  }
 },
 "nbformat": 4,
 "nbformat_minor": 2
}
