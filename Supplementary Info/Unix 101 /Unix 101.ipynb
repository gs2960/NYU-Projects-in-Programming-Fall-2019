{
 "cells": [
  {
   "cell_type": "markdown",
   "metadata": {},
   "source": [
    "# All material ©2019, Alex Siegman"
   ]
  },
  {
   "cell_type": "markdown",
   "metadata": {},
   "source": [
    "---"
   ]
  },
  {
   "cell_type": "markdown",
   "metadata": {},
   "source": [
    "## An Introduction to Unix"
   ]
  },
  {
   "cell_type": "markdown",
   "metadata": {},
   "source": [
    "### An operating system (OS) organizes and controls the hardware and software on your computer. Basically, it manages all of the resources on your machine. <br>\n",
    "\n",
    "### If you're on a MacBook right now, your operating system is MacOS. MacOS was, in turn, built using the 'Unix' platform. You can access this platform using the 'Unix Shell' – a command-line interface. <br>\n",
    "\n",
    "### To access this shell, simply open your terminal and type away! To access this shell via Jupyter Notebook we use the bash command ('!')"
   ]
  },
  {
   "cell_type": "markdown",
   "metadata": {},
   "source": [
    "---"
   ]
  },
  {
   "cell_type": "code",
   "execution_count": 1,
   "metadata": {},
   "outputs": [
    {
     "name": "stdout",
     "output_type": "stream",
     "text": [
      "/Users/siegmanA/Desktop/NYU-Projects-in-Programming-Fall-2019/Supplementary Info/Unix 101 \r\n"
     ]
    }
   ],
   "source": [
    "!pwd # 'print working directory' shows you where you are at any given moment"
   ]
  },
  {
   "cell_type": "code",
   "execution_count": 2,
   "metadata": {},
   "outputs": [
    {
     "name": "stdout",
     "output_type": "stream",
     "text": [
      "\u001b[34mNewDirectory\u001b[m\u001b[m                    SternTech_UserData.csv\r\n",
      "Obama_2009_InauguralAddress.txt Unix 101.ipynb\r\n"
     ]
    }
   ],
   "source": [
    "!ls # show all of the files stored in your working directory "
   ]
  },
  {
   "cell_type": "code",
   "execution_count": 3,
   "metadata": {
    "scrolled": true
   },
   "outputs": [
    {
     "name": "stdout",
     "output_type": "stream",
     "text": [
      "\r\n",
      "LS(1)                     BSD General Commands Manual                    LS(1)\r\n",
      "\r\n",
      "N\bNA\bAM\bME\bE\r\n",
      "     l\bls\bs -- list directory contents\r\n",
      "\r\n",
      "S\bSY\bYN\bNO\bOP\bPS\bSI\bIS\bS\r\n",
      "     l\bls\bs [-\b-A\bAB\bBC\bCF\bFG\bGH\bHL\bLO\bOP\bPR\bRS\bST\bTU\bUW\bW@\b@a\bab\bbc\bcd\bde\bef\bfg\bgh\bhi\bik\bkl\blm\bmn\bno\bop\bpq\bqr\brs\bst\btu\buw\bwx\bx1\b1] [_\bf_\bi_\bl_\be _\b._\b._\b.]\r\n",
      "\r\n",
      "D\bDE\bES\bSC\bCR\bRI\bIP\bPT\bTI\bIO\bON\bN\r\n",
      "     For each operand that names a _\bf_\bi_\bl_\be of a type other than directory, l\bls\bs\r\n",
      "     displays its name as well as any requested, associated information.  For\r\n",
      "     each operand that names a _\bf_\bi_\bl_\be of type directory, l\bls\bs displays the names\r\n",
      "     of files contained within that directory, as well as any requested, asso-\r\n",
      "     ciated information.\r\n",
      "\r\n",
      "     If no operands are given, the contents of the current directory are dis-\r\n",
      "     played.  If more than one operand is given, non-directory operands are\r\n",
      "     displayed first; directory and non-directory operands are sorted sepa-\r\n",
      "     rately and in lexicographical order.\r\n",
      "\r\n",
      "     The following options are available:\r\n",
      "\r\n",
      "     -\b-@\b@      Display extended attribute keys and sizes in long (-\b-l\bl) output.\r\n",
      "\r\n",
      "     -\b-1\b1      (The numeric digit ``one''.)  Force output to be one entry per\r\n",
      "             line.  This is the default when output is not to a terminal.\r\n",
      "\r\n",
      "     -\b-A\bA      List all entries except for _\b. and _\b._\b..  Always set for the super-\r\n",
      "             user.\r\n",
      "\r\n",
      "     -\b-a\ba      Include directory entries whose names begin with a dot (_\b.).\r\n",
      "\r\n",
      "     -\b-B\bB      Force printing of non-printable characters (as defined by\r\n",
      "             ctype(3) and current locale settings) in file names as \\_\bx_\bx_\bx,\r\n",
      "             where _\bx_\bx_\bx is the numeric value of the character in octal.\r\n",
      "\r\n",
      "     -\b-b\bb      As -\b-B\bB, but use C escape codes whenever possible.\r\n",
      "\r\n",
      "     -\b-C\bC      Force multi-column output; this is the default when output is to\r\n",
      "             a terminal.\r\n",
      "\r\n",
      "     -\b-c\bc      Use time when file status was last changed for sorting (-\b-t\bt) or\r\n",
      "             long printing (-\b-l\bl).\r\n",
      "\r\n",
      "     -\b-d\bd      Directories are listed as plain files (not searched recursively).\r\n",
      "\r\n",
      "     -\b-e\be      Print the Access Control List (ACL) associated with the file, if\r\n",
      "             present, in long (-\b-l\bl) output.\r\n",
      "\r\n",
      "     -\b-F\bF      Display a slash (`/') immediately after each pathname that is a\r\n",
      "             directory, an asterisk (`*') after each that is executable, an at\r\n",
      "             sign (`@') after each symbolic link, an equals sign (`=') after\r\n",
      "             each socket, a percent sign (`%') after each whiteout, and a ver-\r\n",
      "             tical bar (`|') after each that is a FIFO.\r\n",
      "\r\n",
      "     -\b-f\bf      Output is not sorted.  This option turns on the -\b-a\ba option.\r\n",
      "\r\n",
      "     -\b-G\bG      Enable colorized output.  This option is equivalent to defining\r\n",
      "             CLICOLOR in the environment.  (See below.)\r\n",
      "\r\n",
      "     -\b-g\bg      This option is only available for compatibility with POSIX; it is\r\n",
      "             used to display the group name in the long (-\b-l\bl) format output\r\n",
      "             (the owner name is suppressed).\r\n",
      "\r\n",
      "     -\b-H\bH      Symbolic links on the command line are followed.  This option is\r\n",
      "             assumed if none of the -\b-F\bF, -\b-d\bd, or -\b-l\bl options are specified.\r\n",
      "\r\n",
      "     -\b-h\bh      When used with the -\b-l\bl option, use unit suffixes: Byte, Kilobyte,\r\n",
      "             Megabyte, Gigabyte, Terabyte and Petabyte in order to reduce the\r\n",
      "             number of digits to three or less using base 2 for sizes.\r\n",
      "\r\n",
      "     -\b-i\bi      For each file, print the file's file serial number (inode num-\r\n",
      "             ber).\r\n",
      "\r\n",
      "     -\b-k\bk      If the -\b-s\bs option is specified, print the file size allocation in\r\n",
      "             kilobytes, not blocks.  This option overrides the environment\r\n",
      "             variable BLOCKSIZE.\r\n",
      "\r\n",
      "     -\b-L\bL      Follow all symbolic links to final target and list the file or\r\n",
      "             directory the link references rather than the link itself.  This\r\n",
      "             option cancels the -\b-P\bP option.\r\n",
      "\r\n",
      "     -\b-l\bl      (The lowercase letter ``ell''.)  List in long format.  (See\r\n",
      "             below.)  If the output is to a terminal, a total sum for all the\r\n",
      "             file sizes is output on a line before the long listing.\r\n",
      "\r\n",
      "     -\b-m\bm      Stream output format; list files across the page, separated by\r\n",
      "             commas.\r\n",
      "\r\n",
      "     -\b-n\bn      Display user and group IDs numerically, rather than converting to\r\n",
      "             a user or group name in a long (-\b-l\bl) output.  This option turns on\r\n",
      "             the -\b-l\bl option.\r\n",
      "\r\n",
      "     -\b-O\bO      Include the file flags in a long (-\b-l\bl) output.\r\n",
      "\r\n",
      "     -\b-o\bo      List in long format, but omit the group id.\r\n",
      "\r\n",
      "     -\b-P\bP      If argument is a symbolic link, list the link itself rather than\r\n",
      "             the object the link references.  This option cancels the -\b-H\bH and\r\n",
      "             -\b-L\bL options.\r\n",
      "\r\n",
      "     -\b-p\bp      Write a slash (`/') after each filename if that file is a direc-\r\n",
      "             tory.\r\n",
      "\r\n",
      "     -\b-q\bq      Force printing of non-graphic characters in file names as the\r\n",
      "             character `?'; this is the default when output is to a terminal.\r\n",
      "\r\n",
      "     -\b-R\bR      Recursively list subdirectories encountered.\r\n",
      "\r\n",
      "     -\b-r\br      Reverse the order of the sort to get reverse lexicographical\r\n",
      "             order or the oldest entries first (or largest files last, if com-\r\n",
      "             bined with sort by size\r\n",
      "\r\n",
      "     -\b-S\bS      Sort files by size\r\n",
      "\r\n",
      "     -\b-s\bs      Display the number of file system blocks actually used by each\r\n",
      "             file, in units of 512 bytes, where partial units are rounded up\r\n",
      "             to the next integer value.  If the output is to a terminal, a\r\n",
      "             total sum for all the file sizes is output on a line before the\r\n",
      "             listing.  The environment variable BLOCKSIZE overrides the unit\r\n",
      "             size of 512 bytes.\r\n",
      "\r\n",
      "     -\b-T\bT      When used with the -\b-l\bl (lowercase letter ``ell'') option, display\r\n",
      "             complete time information for the file, including month, day,\r\n",
      "             hour, minute, second, and year.\r\n",
      "\r\n",
      "     -\b-t\bt      Sort by time modified (most recently modified first) before sort-\r\n",
      "             ing the operands by lexicographical order.\r\n",
      "\r\n",
      "     -\b-u\bu      Use time of last access, instead of last modification of the file\r\n",
      "             for sorting (-\b-t\bt) or long printing (-\b-l\bl).\r\n",
      "\r\n",
      "     -\b-U\bU      Use time of file creation, instead of last modification for sort-\r\n",
      "             ing (-\b-t\bt) or long output (-\b-l\bl).\r\n",
      "\r\n",
      "     -\b-v\bv      Force unedited printing of non-graphic characters; this is the\r\n",
      "             default when output is not to a terminal.\r\n",
      "\r\n",
      "     -\b-W\bW      Display whiteouts when scanning directories.  (-\b-S\bS) flag).\r\n",
      "\r\n",
      "     -\b-w\bw      Force raw printing of non-printable characters.  This is the\r\n",
      "             default when output is not to a terminal.\r\n",
      "\r\n",
      "     -\b-x\bx      The same as -\b-C\bC, except that the multi-column output is produced\r\n",
      "             with entries sorted across, rather than down, the columns.\r\n",
      "\r\n",
      "     The -\b-1\b1, -\b-C\bC, -\b-x\bx, and -\b-l\bl options all override each other; the last one\r\n",
      "     specified determines the format used.\r\n",
      "\r\n",
      "     The -\b-c\bc and -\b-u\bu options override each other; the last one specified deter-\r\n",
      "     mines the file time used.\r\n",
      "\r\n",
      "     The -\b-B\bB, -\b-b\bb, -\b-w\bw, and -\b-q\bq options all override each other; the last one\r\n",
      "     specified determines the format used for non-printable characters.\r\n",
      "\r\n",
      "     The -\b-H\bH, -\b-L\bL and -\b-P\bP options all override each other (either partially or\r\n",
      "     fully); they are applied in the order specified.\r\n",
      "\r\n",
      "     By default, l\bls\bs lists one entry per line to standard output; the excep-\r\n",
      "     tions are to terminals or when the -\b-C\bC or -\b-x\bx options are specified.\r\n",
      "\r\n",
      "     File information is displayed with one or more <blank>s separating the\r\n",
      "     information associated with the -\b-i\bi, -\b-s\bs, and -\b-l\bl options.\r\n",
      "\r\n",
      "   T\bTh\bhe\be L\bLo\bon\bng\bg F\bFo\bor\brm\bma\bat\bt\r\n",
      "     If the -\b-l\bl option is given, the following information is displayed for\r\n",
      "     each file: file mode, number of links, owner name, group name, number of\r\n",
      "     bytes in the file, abbreviated month, day-of-month file was last modi-\r\n",
      "     fied, hour file last modified, minute file last modified, and the path-\r\n",
      "     name.  In addition, for each directory whose contents are displayed, the\r\n",
      "     total number of 512-byte blocks used by the files in the directory is\r\n",
      "     displayed on a line by itself, immediately before the information for the\r\n",
      "     files in the directory.  If the file or directory has extended\r\n",
      "     attributes, the permissions field printed by the -\b-l\bl option is followed by\r\n",
      "     a '@' character.  Otherwise, if the file or directory has extended secu-\r\n",
      "     rity information (such as an access control list), the permissions field\r\n",
      "     printed by the -\b-l\bl option is followed by a '+' character.\r\n",
      "\r\n",
      "     If the modification time of the file is more than 6 months in the past or\r\n",
      "     future, then the year of the last modification is displayed in place of\r\n",
      "     the hour and minute fields.\r\n",
      "\r\n",
      "     If the owner or group names are not a known user or group name, or the -\b-n\bn\r\n",
      "     option is given, the numeric ID's are displayed.\r\n",
      "\r\n",
      "     If the file is a character special or block special file, the major and\r\n",
      "     minor device numbers for the file are displayed in the size field.  If\r\n",
      "     the file is a symbolic link, the pathname of the linked-to file is pre-\r\n",
      "     ceded by ``->''.\r\n",
      "\r\n",
      "     The file mode printed under the -\b-l\bl option consists of the entry type,\r\n",
      "     owner permissions, and group permissions.  The entry type character\r\n",
      "     describes the type of file, as follows:\r\n",
      "\r\n",
      "           b\bb     Block special file.\r\n",
      "           c\bc     Character special file.\r\n",
      "           d\bd     Directory.\r\n",
      "           l\bl     Symbolic link.\r\n",
      "           s\bs     Socket link.\r\n",
      "           p\bp     FIFO.\r\n",
      "           -\b-     Regular file.\r\n",
      "\r\n",
      "     The next three fields are three characters each: owner permissions, group\r\n",
      "     permissions, and other permissions.  Each field has three character posi-\r\n",
      "     tions:\r\n",
      "\r\n",
      "           1.   If r\br, the file is readable; if -\b-, it is not readable.\r\n",
      "\r\n",
      "           2.   If w\bw, the file is writable; if -\b-, it is not writable.\r",
      "\r\n",
      "\r\n",
      "           3.   The first of the following that applies:\r\n",
      "\r\n",
      "                      S\bS     If in the owner permissions, the file is not exe-\r\n",
      "                            cutable and set-user-ID mode is set.  If in the\r\n",
      "                            group permissions, the file is not executable and\r\n",
      "                            set-group-ID mode is set.\r\n",
      "\r\n",
      "                      s\bs     If in the owner permissions, the file is exe-\r\n",
      "                            cutable and set-user-ID mode is set.  If in the\r\n",
      "                            group permissions, the file is executable and set-\r\n",
      "                            group-ID mode is set.\r\n",
      "\r\n",
      "                      x\bx     The file is executable or the directory is search-\r\n",
      "                            able.\r\n",
      "\r\n",
      "                      -\b-     The file is neither readable, writable, exe-\r\n",
      "                            cutable, nor set-user-ID nor set-group-ID mode,\r\n",
      "                            nor sticky.  (See below.)\r\n",
      "\r\n",
      "                These next two apply only to the third character in the last\r\n",
      "                group (other permissions).\r\n",
      "\r\n",
      "                      T\bT     The sticky bit is set (mode 1000), but not execute\r\n",
      "                            or search permission.  (See chmod(1) or\r\n",
      "                            sticky(8).)\r\n",
      "\r\n",
      "                      t\bt     The sticky bit is set (mode 1000), and is search-\r\n",
      "                            able or executable.  (See chmod(1) or sticky(8).)\r\n",
      "\r\n",
      "E\bEX\bXA\bAM\bMP\bPL\bLE\bES\bS\r\n",
      "     The following is how to do an l\bls\bs listing sorted by increasing size\r\n",
      "\r\n",
      "           ls -lrS\r\n",
      "\r\n",
      "D\bDI\bIA\bAG\bGN\bNO\bOS\bST\bTI\bIC\bCS\bS\r\n",
      "     The l\bls\bs utility exits 0 on success, and >0 if an error occurs.\r\n",
      "\r\n",
      "E\bEN\bNV\bVI\bIR\bRO\bON\bNM\bME\bEN\bNT\bT\r\n",
      "     The following environment variables affect the execution of l\bls\bs:\r\n",
      "\r\n",
      "     BLOCKSIZE       If the environment variable BLOCKSIZE is set, the block\r\n",
      "                     counts (see -\b-s\bs) will be displayed in units of that size\r\n",
      "                     block.\r\n",
      "\r\n",
      "     CLICOLOR        Use ANSI color sequences to distinguish file types.  See\r\n",
      "                     LSCOLORS below.  In addition to the file types mentioned\r\n",
      "                     in the -\b-F\bF option some extra attributes (setuid bit set,\r\n",
      "                     etc.) are also displayed.  The colorization is dependent\r\n",
      "                     on a terminal type with the proper termcap(5) capabili-\r\n",
      "                     ties.  The default ``cons25'' console has the proper\r\n",
      "                     capabilities, but to display the colors in an xterm(1),\r\n",
      "                     for example, the TERM variable must be set to\r\n",
      "                     ``xterm-color''.  Other terminal types may require simi-\r\n",
      "                     lar adjustments.  Colorization is silently disabled if\r\n",
      "                     the output isn't directed to a terminal unless the\r\n",
      "                     CLICOLOR_FORCE variable is defined.\r\n",
      "\r\n",
      "     CLICOLOR_FORCE  Color sequences are normally disabled if the output isn't\r\n",
      "                     directed to a terminal.  This can be overridden by set-\r\n",
      "                     ting this flag.  The TERM variable still needs to refer-\r\n",
      "                     ence a color capable terminal however otherwise it is not\r\n",
      "                     possible to determine which color sequences to use.\r\n",
      "\r\n",
      "     COLUMNS         If this variable contains a string representing a decimal\r\n",
      "                     integer, it is used as the column position width for dis-\r\n",
      "                     playing multiple-text-column output.  The l\bls\bs utility cal-\r\n",
      "                     culates how many pathname text columns to display based\r\n",
      "                     on the width provided.  (See -\b-C\bC and -\b-x\bx.)\r\n",
      "\r\n",
      "     LANG            The locale to use when determining the order of day and\r\n",
      "                     month in the long -\b-l\bl format output.  See environ(7) for\r\n",
      "                     more information.\r\n",
      "\r\n",
      "     LSCOLORS        The value of this variable describes what color to use\r\n",
      "                     for which attribute when colors are enabled with\r\n",
      "                     CLICOLOR.  This string is a concatenation of pairs of the\r\n",
      "                     format _\bf_\bb, where _\bf is the foreground color and _\bb is the\r\n",
      "                     background color.\r\n",
      "\r\n",
      "                     The color designators are as follows:\r\n",
      "\r\n",
      "                           a\ba     black\r\n",
      "                           b\bb     red\r\n",
      "                           c\bc     green\r\n",
      "                           d\bd     brown\r\n",
      "                           e\be     blue\r\n",
      "                           f\bf     magenta\r\n",
      "                           g\bg     cyan\r\n",
      "                           h\bh     light grey\r\n",
      "                           A\bA     bold black, usually shows up as dark grey\r\n",
      "                           B\bB     bold red\r\n",
      "                           C\bC     bold green\r\n",
      "                           D\bD     bold brown, usually shows up as yellow\r\n",
      "                           E\bE     bold blue\r\n",
      "                           F\bF     bold magenta\r\n",
      "                           G\bG     bold cyan\r\n",
      "                           H\bH     bold light grey; looks like bright white\r\n",
      "                           x\bx     default foreground or background\r\n",
      "\r\n",
      "                     Note that the above are standard ANSI colors.  The actual\r\n",
      "                     display may differ depending on the color capabilities of\r\n",
      "                     the terminal in use.\r\n",
      "\r\n",
      "                     The order of the attributes are as follows:\r\n",
      "\r\n",
      "                           1.   directory\r\n",
      "                           2.   symbolic link\r\n",
      "                           3.   socket\r\n",
      "                           4.   pipe\r\n",
      "                           5.   executable\r\n",
      "                           6.   block special\r\n",
      "                           7.   character special\r\n",
      "                           8.   executable with setuid bit set\r\n",
      "                           9.   executable with setgid bit set\r\n",
      "                           10.  directory writable to others, with sticky bit\r\n",
      "                           11.  directory writable to others, without sticky\r\n",
      "                                bit\r\n",
      "\r\n",
      "                     The default is \"exfxcxdxbxegedabagacad\", i.e. blue fore-\r\n",
      "                     ground and default background for regular directories,\r\n",
      "                     black foreground and red background for setuid executa-\r\n",
      "                     bles, etc.\r\n",
      "\r\n",
      "     LS_COLWIDTHS    If this variable is set, it is considered to be a colon-\r\n",
      "                     delimited list of minimum column widths.  Unreasonable\r\n",
      "                     and insufficient widths are ignored (thus zero signifies\r\n",
      "                     a dynamically sized column).  Not all columns have\r\n",
      "                     changeable widths.  The fields are, in order: inode,\r\n",
      "                     block count, number of links, user name, group name,\r\n",
      "                     flags, file size, file name.\r\n",
      "\r\n",
      "     TERM            The CLICOLOR functionality depends on a terminal type\r\n",
      "                     with color capabilities.\r\n",
      "\r\n",
      "     TZ              The timezone to use when displaying dates.  See\r\n",
      "                     environ(7) for more information.\r\n",
      "\r\n",
      "C\bCO\bOM\bMP\bPA\bAT\bTI\bIB\bBI\bIL\bLI\bIT\bTY\bY\r\n",
      "     The group field is now automatically included in the long listing for\r\n",
      "     files in order to be compatible with the IEEE Std 1003.2 (``POSIX.2'')\r\n",
      "     specification.\r\n",
      "\r\n",
      "L\bLE\bEG\bGA\bAC\bCY\bY D\bDE\bES\bSC\bCR\bRI\bIP\bPT\bTI\bIO\bON\bN\r\n",
      "     In legacy mode, the -\b-f\bf option does not turn on the -\b-a\ba option and the -\b-g\bg,\r\n",
      "     -\b-n\bn, and -\b-o\bo options do not turn on the -\b-l\bl option.\r\n",
      "\r\n",
      "     Also, the -\b-o\bo option causes the file flags to be included in a long (-l)\r\n",
      "     output; there is no -\b-O\bO option.\r\n",
      "\r\n",
      "     When -\b-H\bH is specified (and not overridden by -\b-L\bL or -\b-P\bP) and a file argument\r\n",
      "     is a symlink that resolves to a non-directory file, the output will\r\n",
      "     reflect the nature of the link, rather than that of the file.  In legacy\r\n",
      "     operation, the output will describe the file.\r\n",
      "\r\n",
      "     For more information about legacy mode, see compat(5).\r\n",
      "\r\n",
      "S\bSE\bEE\bE A\bAL\bLS\bSO\bO\r\n",
      "     chflags(1), chmod(1), sort(1), xterm(1), compat(5), termcap(5),\r\n",
      "     symlink(7), sticky(8)\r\n",
      "\r\n",
      "S\bST\bTA\bAN\bND\bDA\bAR\bRD\bDS\bS\r\n",
      "     The l\bls\bs utility conforms to IEEE Std 1003.1-2001 (``POSIX.1'').\r\n",
      "\r\n",
      "H\bHI\bIS\bST\bTO\bOR\bRY\bY\r\n",
      "     An l\bls\bs command appeared in Version 1 AT&T UNIX.\r\n",
      "\r\n",
      "B\bBU\bUG\bGS\bS\r\n",
      "     To maintain backward compatibility, the relationships between the many\r\n",
      "     options are quite complex.\r\n",
      "\r\n",
      "BSD                              May 19, 2002                              BSD\r\n"
     ]
    }
   ],
   "source": [
    "!man ls # 'man' will provide you with help on any UNIX command"
   ]
  },
  {
   "cell_type": "markdown",
   "metadata": {},
   "source": [
    "### You'll see that we have two files in our folder: A .txt file that  I have copied from http://obamaspeeches.com/ that represents the full text of Obama's 2009 Inauguration Speech, and a .csv containing our fabricated SternTech user data."
   ]
  },
  {
   "cell_type": "code",
   "execution_count": 4,
   "metadata": {},
   "outputs": [
    {
     "name": "stdout",
     "output_type": "stream",
     "text": [
      "My fellow citizens:\r\n",
      "\r\n",
      "I stand here today humbled by the task before us, grateful for the trust you have bestowed, mindful of the sacrifices borne by our ancestors. I thank President Bush for his service to our nation, as well as the generosity and cooperation he has shown throughout this transition.\r\n",
      "\r\n",
      "Forty-four Americans have now taken the presidential oath. The words have been spoken during rising tides of prosperity and the still waters of peace. Yet, every so often the oath is taken amidst gathering clouds and raging storms. At these moments, America has carried on not simply because of the skill or vision of those in high office, but because We the People have remained faithful to the ideals of our forbearers, and true to our founding documents.\r\n",
      "\r\n",
      "So it has been. So it must be with this generation of Americans.\r\n",
      "\r\n",
      "That we are in the midst of crisis is now well understood. Our nation is at war, against a far-reaching network of violence and hatred. Our economy is badly weakened, a consequence of greed and irresponsibility on the part of some, but also our collective failure to make hard choices and prepare the nation for a new age. Homes have been lost; jobs shed; businesses shuttered. Our health care is too costly; our schools fail too many; and each day brings further evidence that the ways we use energy strengthen our adversaries and threaten our planet.\r\n",
      "\r\n"
     ]
    }
   ],
   "source": [
    "!head Obama_2009_InauguralAddress.txt # print the first 10 lines of a file"
   ]
  },
  {
   "cell_type": "code",
   "execution_count": 5,
   "metadata": {},
   "outputs": [
    {
     "name": "stdout",
     "output_type": "stream",
     "text": [
      "My fellow citizens:\r\n",
      "\r\n",
      "I stand here today humbled by the task before us, grateful for the trust you have bestowed, mindful of the sacrifices borne by our ancestors. I thank President Bush for his service to our nation, as well as the generosity and cooperation he has shown throughout this transition.\r\n"
     ]
    }
   ],
   "source": [
    "!head -3 Obama_2009_InauguralAddress.txt # print the first three lines of a file"
   ]
  },
  {
   "cell_type": "code",
   "execution_count": 6,
   "metadata": {},
   "outputs": [
    {
     "name": "stdout",
     "output_type": "stream",
     "text": [
      "America. In the face of our common dangers, in this winter of our hardship, let us remember these timeless words. With hope and virtue, let us brave once more the icy currents, and endure what storms may come. Let it be said by our children's children that when we were tested we refused to let this journey end, that we did not turn back nor did we falter; and with eyes fixed on the horizon and God's grace upon us, we carried forth that great gift of freedom and delivered it safely to future generations.\r\n",
      "\r\n",
      "Thank you. God bless you and God bless the United States of America.\r\n"
     ]
    }
   ],
   "source": [
    "!tail -3 Obama_2009_InauguralAddress.txt # print the last 3 lines of a file"
   ]
  },
  {
   "cell_type": "code",
   "execution_count": 7,
   "metadata": {},
   "outputs": [
    {
     "name": "stdout",
     "output_type": "stream",
     "text": [
      ",id,company_size,age,sex,clicked_on_ad,ad_type,location,timestamp\r\n",
      "0,081217b4-1cf5-4657-8287-6db1b75462e4,large,92,M,Yes,Business,MidWest,2018-08-26 06:00:27.124290\r\n",
      "1,d0b45a01-b73d-4f8e-bfa8-c53ea75397f1,large,56,M,Yes,Culinary,SouthWest,2011-06-01 18:54:34.815634\r\n"
     ]
    }
   ],
   "source": [
    "!head -3 SternTech_UserData.csv"
   ]
  },
  {
   "cell_type": "code",
   "execution_count": 8,
   "metadata": {},
   "outputs": [
    {
     "name": "stdout",
     "output_type": "stream",
     "text": [
      "My fellow citizens:\r\n",
      "\r\n",
      "I stand here today humbled by the task before us, grateful for the trust you have bestowed, mindful of the sacrifices borne by our ancestors. I thank President Bush for his service to our nation, as well as the generosity and cooperation he has shown throughout this transition.\r\n",
      "\r\n",
      "Forty-four Americans have now taken the presidential oath. The words have been spoken during rising tides of prosperity and the still waters of peace. Yet, every so often the oath is taken amidst gathering clouds and raging storms. At these moments, America has carried on not simply because of the skill or vision of those in high office, but because We the People have remained faithful to the ideals of our forbearers, and true to our founding documents.\r\n",
      "\r\n",
      "So it has been. So it must be with this generation of Americans.\r\n",
      "\r\n",
      "That we are in the midst of crisis is now well understood. Our nation is at war, against a far-reaching network of violence and hatred. Our economy is badly weakened, a consequence of greed and irresponsibility on the part of some, but also our collective failure to make hard choices and prepare the nation for a new age. Homes have been lost; jobs shed; businesses shuttered. Our health care is too costly; our schools fail too many; and each day brings further evidence that the ways we use energy strengthen our adversaries and threaten our planet.\r\n",
      "\r\n",
      "These are the indicators of crisis, subject to data and statistics. Less measurable but no less profound is a sapping of confidence across our land - a nagging fear that America's decline is inevitable, and that the next generation must lower its sights.\r\n",
      "\r\n",
      "Today I say to you that the challenges we face are real. They are serious and they are many. They will not be met easily or in a short span of time. But know this, America - they will be met.\r\n",
      "\r\n",
      "On this day, we gather because we have chosen hope over fear, unity of purpose over conflict and discord.\r\n",
      "\r\n",
      "On this day, we come to proclaim an end to the petty grievances and false promises, the recriminations and worn out dogmas, that for far too long have strangled our politics.\r\n",
      "\r\n",
      "We remain a young nation, but in the words of Scripture, the time has come to set aside childish things. The time has come to reaffirm our enduring spirit; to choose our better history; to carry forward that precious gift, that noble idea, passed on from generation to generation: the God-given promise that all are equal, all are free, and all deserve a chance to pursue their full measure of happiness.\r\n",
      "\r\n",
      "In reaffirming the greatness of our nation, we understand that greatness is never a given. It must be earned. Our journey has never been one of short-cuts or settling for less. It has not been the path for the faint-hearted - for those who prefer leisure over work, or seek only the pleasures of riches and fame. Rather, it has been the risk-takers, the doers, the makers of things - some celebrated but more often men and women obscure in their labor, who have carried us up the long, rugged path towards prosperity and freedom.\r\n",
      "\r\n",
      "For us, they packed up their few worldly possessions and traveled across oceans in search of a new life.\r\n",
      "\r\n",
      "For us, they toiled in sweatshops and settled the West; endured the lash of the whip and plowed the hard earth.\r\n",
      "\r\n",
      "For us, they fought and died, in places like Concord and Gettysburg; Normandy and Khe Sahn.\r\n",
      "\r\n",
      "Time and again these men and women struggled and sacrificed and worked till their hands were raw so that we might live a better life. They saw America as bigger than the sum of our individual ambitions; greater than all the differences of birth or wealth or faction.\r\n",
      "\r\n",
      "This is the journey we continue today. We remain the most prosperous, powerful nation on Earth. Our workers are no less productive than when this crisis began. Our minds are no less inventive, our goods and services no less needed than they were last week or last month or last year. Our capacity remains undiminished. But our time of standing pat, of protecting narrow interests and putting off unpleasant decisions - that time has surely passed. Starting today, we must pick ourselves up, dust ourselves off, and begin again the work of remaking America.\r\n",
      "\r\n",
      "For everywhere we look, there is work to be done. The state of the economy calls for action, bold and swift, and we will act - not only to create new jobs, but to lay a new foundation for growth. We will build the roads and bridges, the electric grids and digital lines that feed our commerce and bind us together. We will restore science to its rightful place, and wield technology's wonders to raise health care's quality and lower its cost. We will harness the sun and the winds and the soil to fuel our cars and run our factories. And we will transform our schools and colleges and universities to meet the demands of a new age. All this we can do. And all this we will do.\r\n",
      "\r\n",
      "Now, there are some who question the scale of our ambitions - who suggest that our system cannot tolerate too many big plans. Their memories are short. For they have forgotten what this country has already done; what free men and women can achieve when imagination is joined to common purpose, and necessity to courage.\r\n",
      "\r\n",
      "What the cynics fail to understand is that the ground has shifted beneath them - that the stale political arguments that have consumed us for so long no longer apply. The question we ask today is not whether our government is too big or too small, but whether it works - whether it helps families find jobs at a decent wage, care they can afford, a retirement that is dignified. Where the answer is yes, we intend to move forward. Where the answer is no, programs will end. And those of us who manage the public's dollars will be held to account - to spend wisely, reform bad habits, and do our business in the light of day - because only then can we restore the vital trust between a people and their government.\\\r\n",
      "Nor is the question before us whether the market is a force for good or ill. Its power to generate wealth and expand freedom is unmatched, but this crisis has reminded us that without a watchful eye, the market can spin out of control - and that a nation cannot prosper long when it favors only the prosperous. The success of our economy has always depended not just on the size of our Gross Domestic Product, but on the reach of our prosperity; on the ability to extend opportunity to every willing heart - not out of charity, but because it is the surest route to our common good.\r\n",
      "\r\n",
      "As for our common defense, we reject as false the choice between our safety and our ideals. Our Founding Fathers, faced with perils we can scarcely imagine, drafted a charter to assure the rule of law and the rights of man, a charter expanded by the blood of generations. Those ideals still light the world, and we will not give them up for expedience's sake. And so to all other peoples and governments who are watching today, from the grandest capitals to the small village where my father was born: know that America is a friend of each nation and every man, woman, and child who seeks a future of peace and dignity, and we are ready to lead once more.\r\n",
      "\r\n",
      "Recall that earlier generations faced down fascism and communism not just with missiles and tanks, but with the sturdy alliances and enduring convictions. They understood that our power alone cannot protect us, nor does it entitle us to do as we please. Instead, they knew that our power grows through its prudent use; our security emanates from the justness of our cause, the force of our example, the tempering qualities of humility and restraint.\r\n",
      "\r\n",
      "We are the keepers of this legacy. Guided by these principles once more, we can meet those new threats that demand even greater effort - even greater cooperation and understanding between nations. We will begin to responsibly leave Iraq to its people, and forge a hard-earned peace in Afghanistan. With old friends and former foes, we\\'92ll work tirelessly to lessen the nuclear threat, and roll back the specter of a warming planet. We will not apologize for our way of life, nor will we waver in its defense, and for those who seek to advance their aims by inducing terror and slaughtering innocents, we say to you now that our spirit is stronger and cannot be broken; you cannot outlast us, and we will defeat you.\r\n",
      "\r\n",
      "For we know that our patchwork heritage is a strength, not a weakness. We are a nation of Christians and Muslims, Jews and Hindus - and non-believers. We are shaped by every language and culture, drawn from every end of this Earth; and because we have tasted the bitter swill of civil war and segregation, and emerged from that dark chapter stronger and more united, we cannot help but believe that the old hatreds shall someday pass; that the lines of tribe shall soon dissolve; that as the world grows smaller, our common humanity shall reveal itself; and that America must play its role in ushering in a new era of peace.\r\n",
      "\r\n",
      "To the Muslim world, we seek a new way forward, based on mutual interest and mutual respect. To those leaders around the globe who seek to sow conflict, or blame their society's ills on the West - know that your people will judge you on what you can build, not what you destroy. To those who cling to power through corruption and deceit and the silencing of dissent, know that you are on the wrong side of history; but that we will extend a hand if you are willing to unclench your fist.\r\n",
      "\r\n",
      "To the people of poor nations, we pledge to work alongside you to make your farms flourish and let clean waters flow; to nourish starved bodies and feed hungry minds. And to those nations like ours that enjoy relative plenty, we say we can no longer afford indifference to the suffering outside our borders; nor can we consume the world's resources without regard to effect. For the world has changed, and we must change with it.\r\n",
      "\r\n",
      "As we consider the road that unfolds before us, we remember with humble gratitude those brave Americans who, at this very hour, patrol far-off deserts and distant mountains. They have something to tell us, just as the fallen heroes who lie in Arlington whisper through the ages. We honor them not only because they are guardians of our liberty, but because they embody the spirit of service; a willingness to find meaning in something greater than themselves. And yet, at this moment - a moment that will define a generation - it is precisely this spirit that must inhabit us all.\r\n",
      "\r\n",
      "For as much as government can do and must do, it is ultimately the faith and determination of the American people upon which this nation relies. It is the kindness to take in a stranger when the levees break, the selflessness of workers who would rather cut their hours than see a friend lose their job which sees us through our darkest hours. It is the firefighter's courage to storm a stairway filled with smoke, but also a parent's willingness to nurture a child, that finally decides our fate.\r\n",
      "\r\n",
      "Our challenges may be new. The instruments with which we meet them may be new. But those values upon which our success depends - honesty and hard work, courage and fair play, tolerance and curiosity, loyalty and patriotism - these things are old. These things are true. They have been the quiet force of progress throughout our history. What is demanded then is a return to these truths. What is required of us now is a new era of responsibility - a recognition, on the part of every American, that we have duties to ourselves, our nation, and the world, duties that we do not grudgingly accept but rather seize gladly, firm in the knowledge that there is nothing so satisfying to the spirit, so defining of our character, than giving our all to a difficult task.\r\n",
      "\r\n",
      "This is the price and the promise of citizenship.\r\n",
      "\r\n",
      "This is the source of our confidence - the knowledge that God calls on us to shape an uncertain destiny.\r\n",
      "\r\n",
      "This is the meaning of our liberty and our creed - why men and women and children of every race and every faith can join in celebration across this magnificent mall, and why a man whose father less than sixty years ago might not have been served at a local restaurant can now stand before you to take a most sacred oath.\r\n",
      "\r\n",
      "So let us mark this day with remembrance, of who we are and how far we have traveled. In the year of America's birth, in the coldest of months, a small band of patriots huddled by dying campfires on the shores of an icy river. The capital was abandoned. The enemy was advancing. The snow was stained with blood. At a moment when the outcome of our revolution was most in doubt, the father of our nation ordered these words be read to the people:\\\r\n",
      "\"Let it be told to the future world...that in the depth of winter, when nothing but hope and virtue could survive...that the city and the country, alarmed at one common danger, came forth to meet [it].\"\r\n",
      "\r\n",
      "America. In the face of our common dangers, in this winter of our hardship, let us remember these timeless words. With hope and virtue, let us brave once more the icy currents, and endure what storms may come. Let it be said by our children's children that when we were tested we refused to let this journey end, that we did not turn back nor did we falter; and with eyes fixed on the horizon and God's grace upon us, we carried forth that great gift of freedom and delivered it safely to future generations.\r\n",
      "\r\n",
      "Thank you. God bless you and God bless the United States of America.\r\n"
     ]
    }
   ],
   "source": [
    "!cat Obama_2009_InauguralAddress.txt # view the whole file"
   ]
  },
  {
   "cell_type": "code",
   "execution_count": 9,
   "metadata": {},
   "outputs": [
    {
     "name": "stdout",
     "output_type": "stream",
     "text": [
      "     1\tMy fellow citizens:\r\n",
      "     2\t\r\n",
      "     3\tI stand here today humbled by the task before us, grateful for the trust you have bestowed, mindful of the sacrifices borne by our ancestors. I thank President Bush for his service to our nation, as well as the generosity and cooperation he has shown throughout this transition.\r\n",
      "     4\t\r\n",
      "     5\tForty-four Americans have now taken the presidential oath. The words have been spoken during rising tides of prosperity and the still waters of peace. Yet, every so often the oath is taken amidst gathering clouds and raging storms. At these moments, America has carried on not simply because of the skill or vision of those in high office, but because We the People have remained faithful to the ideals of our forbearers, and true to our founding documents.\r\n",
      "     6\t\r\n",
      "     7\tSo it has been. So it must be with this generation of Americans.\r\n",
      "     8\t\r\n",
      "     9\tThat we are in the midst of crisis is now well understood. Our nation is at war, against a far-reaching network of violence and hatred. Our economy is badly weakened, a consequence of greed and irresponsibility on the part of some, but also our collective failure to make hard choices and prepare the nation for a new age. Homes have been lost; jobs shed; businesses shuttered. Our health care is too costly; our schools fail too many; and each day brings further evidence that the ways we use energy strengthen our adversaries and threaten our planet.\r\n",
      "    10\t\r\n",
      "    11\tThese are the indicators of crisis, subject to data and statistics. Less measurable but no less profound is a sapping of confidence across our land - a nagging fear that America's decline is inevitable, and that the next generation must lower its sights.\r\n",
      "    12\t\r\n",
      "    13\tToday I say to you that the challenges we face are real. They are serious and they are many. They will not be met easily or in a short span of time. But know this, America - they will be met.\r\n",
      "    14\t\r\n",
      "    15\tOn this day, we gather because we have chosen hope over fear, unity of purpose over conflict and discord.\r\n",
      "    16\t\r\n",
      "    17\tOn this day, we come to proclaim an end to the petty grievances and false promises, the recriminations and worn out dogmas, that for far too long have strangled our politics.\r\n",
      "    18\t\r\n",
      "    19\tWe remain a young nation, but in the words of Scripture, the time has come to set aside childish things. The time has come to reaffirm our enduring spirit; to choose our better history; to carry forward that precious gift, that noble idea, passed on from generation to generation: the God-given promise that all are equal, all are free, and all deserve a chance to pursue their full measure of happiness.\r\n",
      "    20\t\r\n",
      "    21\tIn reaffirming the greatness of our nation, we understand that greatness is never a given. It must be earned. Our journey has never been one of short-cuts or settling for less. It has not been the path for the faint-hearted - for those who prefer leisure over work, or seek only the pleasures of riches and fame. Rather, it has been the risk-takers, the doers, the makers of things - some celebrated but more often men and women obscure in their labor, who have carried us up the long, rugged path towards prosperity and freedom.\r\n",
      "    22\t\r\n",
      "    23\tFor us, they packed up their few worldly possessions and traveled across oceans in search of a new life.\r\n",
      "    24\t\r\n",
      "    25\tFor us, they toiled in sweatshops and settled the West; endured the lash of the whip and plowed the hard earth.\r\n",
      "    26\t\r\n",
      "    27\tFor us, they fought and died, in places like Concord and Gettysburg; Normandy and Khe Sahn.\r\n",
      "    28\t\r\n",
      "    29\tTime and again these men and women struggled and sacrificed and worked till their hands were raw so that we might live a better life. They saw America as bigger than the sum of our individual ambitions; greater than all the differences of birth or wealth or faction.\r\n",
      "    30\t\r\n",
      "    31\tThis is the journey we continue today. We remain the most prosperous, powerful nation on Earth. Our workers are no less productive than when this crisis began. Our minds are no less inventive, our goods and services no less needed than they were last week or last month or last year. Our capacity remains undiminished. But our time of standing pat, of protecting narrow interests and putting off unpleasant decisions - that time has surely passed. Starting today, we must pick ourselves up, dust ourselves off, and begin again the work of remaking America.\r\n",
      "    32\t\r\n",
      "    33\tFor everywhere we look, there is work to be done. The state of the economy calls for action, bold and swift, and we will act - not only to create new jobs, but to lay a new foundation for growth. We will build the roads and bridges, the electric grids and digital lines that feed our commerce and bind us together. We will restore science to its rightful place, and wield technology's wonders to raise health care's quality and lower its cost. We will harness the sun and the winds and the soil to fuel our cars and run our factories. And we will transform our schools and colleges and universities to meet the demands of a new age. All this we can do. And all this we will do.\r\n",
      "    34\t\r\n",
      "    35\tNow, there are some who question the scale of our ambitions - who suggest that our system cannot tolerate too many big plans. Their memories are short. For they have forgotten what this country has already done; what free men and women can achieve when imagination is joined to common purpose, and necessity to courage.\r\n",
      "    36\t\r\n",
      "    37\tWhat the cynics fail to understand is that the ground has shifted beneath them - that the stale political arguments that have consumed us for so long no longer apply. The question we ask today is not whether our government is too big or too small, but whether it works - whether it helps families find jobs at a decent wage, care they can afford, a retirement that is dignified. Where the answer is yes, we intend to move forward. Where the answer is no, programs will end. And those of us who manage the public's dollars will be held to account - to spend wisely, reform bad habits, and do our business in the light of day - because only then can we restore the vital trust between a people and their government.\\\r\n",
      "    38\tNor is the question before us whether the market is a force for good or ill. Its power to generate wealth and expand freedom is unmatched, but this crisis has reminded us that without a watchful eye, the market can spin out of control - and that a nation cannot prosper long when it favors only the prosperous. The success of our economy has always depended not just on the size of our Gross Domestic Product, but on the reach of our prosperity; on the ability to extend opportunity to every willing heart - not out of charity, but because it is the surest route to our common good.\r\n",
      "    39\t\r\n",
      "    40\tAs for our common defense, we reject as false the choice between our safety and our ideals. Our Founding Fathers, faced with perils we can scarcely imagine, drafted a charter to assure the rule of law and the rights of man, a charter expanded by the blood of generations. Those ideals still light the world, and we will not give them up for expedience's sake. And so to all other peoples and governments who are watching today, from the grandest capitals to the small village where my father was born: know that America is a friend of each nation and every man, woman, and child who seeks a future of peace and dignity, and we are ready to lead once more.\r\n",
      "    41\t\r\n",
      "    42\tRecall that earlier generations faced down fascism and communism not just with missiles and tanks, but with the sturdy alliances and enduring convictions. They understood that our power alone cannot protect us, nor does it entitle us to do as we please. Instead, they knew that our power grows through its prudent use; our security emanates from the justness of our cause, the force of our example, the tempering qualities of humility and restraint.\r\n",
      "    43\t\r\n",
      "    44\tWe are the keepers of this legacy. Guided by these principles once more, we can meet those new threats that demand even greater effort - even greater cooperation and understanding between nations. We will begin to responsibly leave Iraq to its people, and forge a hard-earned peace in Afghanistan. With old friends and former foes, we\\'92ll work tirelessly to lessen the nuclear threat, and roll back the specter of a warming planet. We will not apologize for our way of life, nor will we waver in its defense, and for those who seek to advance their aims by inducing terror and slaughtering innocents, we say to you now that our spirit is stronger and cannot be broken; you cannot outlast us, and we will defeat you.\r\n",
      "    45\t\r\n",
      "    46\tFor we know that our patchwork heritage is a strength, not a weakness. We are a nation of Christians and Muslims, Jews and Hindus - and non-believers. We are shaped by every language and culture, drawn from every end of this Earth; and because we have tasted the bitter swill of civil war and segregation, and emerged from that dark chapter stronger and more united, we cannot help but believe that the old hatreds shall someday pass; that the lines of tribe shall soon dissolve; that as the world grows smaller, our common humanity shall reveal itself; and that America must play its role in ushering in a new era of peace.\r\n",
      "    47\t\r\n",
      "    48\tTo the Muslim world, we seek a new way forward, based on mutual interest and mutual respect. To those leaders around the globe who seek to sow conflict, or blame their society's ills on the West - know that your people will judge you on what you can build, not what you destroy. To those who cling to power through corruption and deceit and the silencing of dissent, know that you are on the wrong side of history; but that we will extend a hand if you are willing to unclench your fist.\r\n",
      "    49\t\r\n",
      "    50\tTo the people of poor nations, we pledge to work alongside you to make your farms flourish and let clean waters flow; to nourish starved bodies and feed hungry minds. And to those nations like ours that enjoy relative plenty, we say we can no longer afford indifference to the suffering outside our borders; nor can we consume the world's resources without regard to effect. For the world has changed, and we must change with it.\r\n",
      "    51\t\r\n",
      "    52\tAs we consider the road that unfolds before us, we remember with humble gratitude those brave Americans who, at this very hour, patrol far-off deserts and distant mountains. They have something to tell us, just as the fallen heroes who lie in Arlington whisper through the ages. We honor them not only because they are guardians of our liberty, but because they embody the spirit of service; a willingness to find meaning in something greater than themselves. And yet, at this moment - a moment that will define a generation - it is precisely this spirit that must inhabit us all.\r\n",
      "    53\t\r\n",
      "    54\tFor as much as government can do and must do, it is ultimately the faith and determination of the American people upon which this nation relies. It is the kindness to take in a stranger when the levees break, the selflessness of workers who would rather cut their hours than see a friend lose their job which sees us through our darkest hours. It is the firefighter's courage to storm a stairway filled with smoke, but also a parent's willingness to nurture a child, that finally decides our fate.\r\n",
      "    55\t\r\n",
      "    56\tOur challenges may be new. The instruments with which we meet them may be new. But those values upon which our success depends - honesty and hard work, courage and fair play, tolerance and curiosity, loyalty and patriotism - these things are old. These things are true. They have been the quiet force of progress throughout our history. What is demanded then is a return to these truths. What is required of us now is a new era of responsibility - a recognition, on the part of every American, that we have duties to ourselves, our nation, and the world, duties that we do not grudgingly accept but rather seize gladly, firm in the knowledge that there is nothing so satisfying to the spirit, so defining of our character, than giving our all to a difficult task.\r\n",
      "    57\t\r\n",
      "    58\tThis is the price and the promise of citizenship.\r\n",
      "    59\t\r\n",
      "    60\tThis is the source of our confidence - the knowledge that God calls on us to shape an uncertain destiny.\r\n",
      "    61\t\r\n",
      "    62\tThis is the meaning of our liberty and our creed - why men and women and children of every race and every faith can join in celebration across this magnificent mall, and why a man whose father less than sixty years ago might not have been served at a local restaurant can now stand before you to take a most sacred oath.\r\n",
      "    63\t\r\n",
      "    64\tSo let us mark this day with remembrance, of who we are and how far we have traveled. In the year of America's birth, in the coldest of months, a small band of patriots huddled by dying campfires on the shores of an icy river. The capital was abandoned. The enemy was advancing. The snow was stained with blood. At a moment when the outcome of our revolution was most in doubt, the father of our nation ordered these words be read to the people:\\\r\n",
      "    65\t\"Let it be told to the future world...that in the depth of winter, when nothing but hope and virtue could survive...that the city and the country, alarmed at one common danger, came forth to meet [it].\"\r\n",
      "    66\t\r\n",
      "    67\tAmerica. In the face of our common dangers, in this winter of our hardship, let us remember these timeless words. With hope and virtue, let us brave once more the icy currents, and endure what storms may come. Let it be said by our children's children that when we were tested we refused to let this journey end, that we did not turn back nor did we falter; and with eyes fixed on the horizon and God's grace upon us, we carried forth that great gift of freedom and delivered it safely to future generations.\r\n",
      "    68\t\r\n",
      "    69\tThank you. God bless you and God bless the United States of America.\r\n"
     ]
    }
   ],
   "source": [
    "!cat -n Obama_2009_InauguralAddress.txt # print the whole file and number each line"
   ]
  },
  {
   "cell_type": "markdown",
   "metadata": {},
   "source": [
    "### What else can we do with Unix commands ?"
   ]
  },
  {
   "cell_type": "code",
   "execution_count": 10,
   "metadata": {},
   "outputs": [
    {
     "name": "stdout",
     "output_type": "stream",
     "text": [
      "      69    2413   13414 Obama_2009_InauguralAddress.txt\r\n"
     ]
    }
   ],
   "source": [
    "!wc Obama_2009_InauguralAddress.txt # how many lines, words, and characters are in the file? "
   ]
  },
  {
   "cell_type": "code",
   "execution_count": 11,
   "metadata": {},
   "outputs": [
    {
     "name": "stdout",
     "output_type": "stream",
     "text": [
      "America. In the face of our common dangers, in this winter of our hardship, let us remember these timeless words. With hope and virtue, let us brave once more the icy currents, and endure what storms may come. Let it be said by our children's children that when we were tested we refused to let this journey end, that we did not turn back nor did we falter; and with eyes fixed on the horizon and God's grace upon us, we carried forth that great gift of freedom and delivered it safely to future generations.\r\n"
     ]
    }
   ],
   "source": [
    "!egrep \"^[Aa]merica\" Obama_2009_InauguralAddress.txt # egrep pulls lines that match a regular expression pattern \n",
    "        \n",
    "        # here, we are looking for a sentence that starts with 'America' or 'america'"
   ]
  },
  {
   "cell_type": "code",
   "execution_count": 12,
   "metadata": {},
   "outputs": [],
   "source": [
    "!head -3 Obama_2009_InauguralAddress.txt > firstThreeLines.txt # store the first three lines as a new txt file\n",
    "                                                               # called 'firstThreeLines.txt'"
   ]
  },
  {
   "cell_type": "code",
   "execution_count": 13,
   "metadata": {},
   "outputs": [
    {
     "name": "stdout",
     "output_type": "stream",
     "text": [
      "My fellow citizens:\r\n",
      "\r\n",
      "I stand here today humbled by the task before us, grateful for the trust you have bestowed, mindful of the sacrifices borne by our ancestors. I thank President Bush for his service to our nation, as well as the generosity and cooperation he has shown throughout this transition.\r\n"
     ]
    }
   ],
   "source": [
    "!head firstThreeLines.txt"
   ]
  },
  {
   "cell_type": "code",
   "execution_count": 14,
   "metadata": {},
   "outputs": [],
   "source": [
    "!cut -c 1-5 firstThreeLines.txt > firstThreeLinesCut.txt \n",
    "\n",
    "# cut lets us chose an item to delete from the file                                                       "
   ]
  },
  {
   "cell_type": "code",
   "execution_count": 15,
   "metadata": {},
   "outputs": [
    {
     "name": "stdout",
     "output_type": "stream",
     "text": [
      "My fe\r\n",
      "\r\n",
      "I sta\r\n"
     ]
    }
   ],
   "source": [
    "!head firstThreeLinesCut.txt # -c 1-5 lets you cut the first five characters of the text, resulting in: "
   ]
  },
  {
   "cell_type": "code",
   "execution_count": 16,
   "metadata": {},
   "outputs": [],
   "source": [
    "!rm firstThreeLines.txt # delete the new files\n",
    "!rm firstThreeLinesCut.txt"
   ]
  },
  {
   "cell_type": "markdown",
   "metadata": {},
   "source": [
    "## Some other useful Unix commands"
   ]
  },
  {
   "cell_type": "code",
   "execution_count": 17,
   "metadata": {},
   "outputs": [
    {
     "name": "stdout",
     "output_type": "stream",
     "text": [
      "mkdir: NewDirectory: File exists\r\n"
     ]
    }
   ],
   "source": [
    "# mkdir will create a new directory \n",
    "\n",
    "!mkdir NewDirectory"
   ]
  },
  {
   "cell_type": "code",
   "execution_count": 18,
   "metadata": {},
   "outputs": [],
   "source": [
    "# cp will copy a file \n",
    "\n",
    "!cp Obama_2009_InauguralAddress.txt Copy_Obama_2009_InauguralAddress.txt\n",
    "\n",
    "# cp 'file to be copied' 'name of copied file'"
   ]
  },
  {
   "cell_type": "code",
   "execution_count": 19,
   "metadata": {},
   "outputs": [],
   "source": [
    "# mv will move a file\n",
    "\n",
    "!mv Copy_Obama_2009_InauguralAddress.txt NewDirectory/\n",
    "\n",
    "# mv 'file to be moved' 'directory to move it to'"
   ]
  },
  {
   "cell_type": "markdown",
   "metadata": {},
   "source": [
    "## Now, what if we were dealing with a CSV file? "
   ]
  },
  {
   "cell_type": "code",
   "execution_count": 20,
   "metadata": {},
   "outputs": [
    {
     "data": {
      "text/html": [
       "<div>\n",
       "<style scoped>\n",
       "    .dataframe tbody tr th:only-of-type {\n",
       "        vertical-align: middle;\n",
       "    }\n",
       "\n",
       "    .dataframe tbody tr th {\n",
       "        vertical-align: top;\n",
       "    }\n",
       "\n",
       "    .dataframe thead th {\n",
       "        text-align: right;\n",
       "    }\n",
       "</style>\n",
       "<table border=\"1\" class=\"dataframe\">\n",
       "  <thead>\n",
       "    <tr style=\"text-align: right;\">\n",
       "      <th></th>\n",
       "      <th>Unnamed: 0</th>\n",
       "      <th>id</th>\n",
       "      <th>company_size</th>\n",
       "      <th>age</th>\n",
       "      <th>sex</th>\n",
       "      <th>clicked_on_ad</th>\n",
       "      <th>ad_type</th>\n",
       "      <th>location</th>\n",
       "      <th>timestamp</th>\n",
       "    </tr>\n",
       "  </thead>\n",
       "  <tbody>\n",
       "    <tr>\n",
       "      <th>0</th>\n",
       "      <td>0</td>\n",
       "      <td>081217b4-1cf5-4657-8287-6db1b75462e4</td>\n",
       "      <td>large</td>\n",
       "      <td>92</td>\n",
       "      <td>M</td>\n",
       "      <td>Yes</td>\n",
       "      <td>Business</td>\n",
       "      <td>MidWest</td>\n",
       "      <td>2018-08-26 06:00:27.124290</td>\n",
       "    </tr>\n",
       "    <tr>\n",
       "      <th>1</th>\n",
       "      <td>1</td>\n",
       "      <td>d0b45a01-b73d-4f8e-bfa8-c53ea75397f1</td>\n",
       "      <td>large</td>\n",
       "      <td>56</td>\n",
       "      <td>M</td>\n",
       "      <td>Yes</td>\n",
       "      <td>Culinary</td>\n",
       "      <td>SouthWest</td>\n",
       "      <td>2011-06-01 18:54:34.815634</td>\n",
       "    </tr>\n",
       "    <tr>\n",
       "      <th>2</th>\n",
       "      <td>2</td>\n",
       "      <td>1dc2e636-e19b-4d42-b228-df09cd009acb</td>\n",
       "      <td>large</td>\n",
       "      <td>20</td>\n",
       "      <td>F</td>\n",
       "      <td>No</td>\n",
       "      <td>Business</td>\n",
       "      <td>SouthEast</td>\n",
       "      <td>2013-07-16 00:24:47.888180</td>\n",
       "    </tr>\n",
       "    <tr>\n",
       "      <th>3</th>\n",
       "      <td>3</td>\n",
       "      <td>5d09d6d4-023e-4fa1-9559-89526679e885</td>\n",
       "      <td>large</td>\n",
       "      <td>55</td>\n",
       "      <td>F</td>\n",
       "      <td>Yes</td>\n",
       "      <td>Political</td>\n",
       "      <td>NorthWest</td>\n",
       "      <td>2010-06-25 12:13:51.369878</td>\n",
       "    </tr>\n",
       "    <tr>\n",
       "      <th>4</th>\n",
       "      <td>4</td>\n",
       "      <td>b69e54e3-fc89-4c0f-8bdb-280409db173e</td>\n",
       "      <td>medium</td>\n",
       "      <td>25</td>\n",
       "      <td>N</td>\n",
       "      <td>No</td>\n",
       "      <td>Tech</td>\n",
       "      <td>US</td>\n",
       "      <td>2010-09-22 07:53:12.454909</td>\n",
       "    </tr>\n",
       "  </tbody>\n",
       "</table>\n",
       "</div>"
      ],
      "text/plain": [
       "   Unnamed: 0                                    id company_size  age sex  \\\n",
       "0           0  081217b4-1cf5-4657-8287-6db1b75462e4        large   92   M   \n",
       "1           1  d0b45a01-b73d-4f8e-bfa8-c53ea75397f1        large   56   M   \n",
       "2           2  1dc2e636-e19b-4d42-b228-df09cd009acb        large   20   F   \n",
       "3           3  5d09d6d4-023e-4fa1-9559-89526679e885        large   55   F   \n",
       "4           4  b69e54e3-fc89-4c0f-8bdb-280409db173e       medium   25   N   \n",
       "\n",
       "  clicked_on_ad    ad_type   location                   timestamp  \n",
       "0           Yes   Business    MidWest  2018-08-26 06:00:27.124290  \n",
       "1           Yes   Culinary  SouthWest  2011-06-01 18:54:34.815634  \n",
       "2            No   Business  SouthEast  2013-07-16 00:24:47.888180  \n",
       "3           Yes  Political  NorthWest  2010-06-25 12:13:51.369878  \n",
       "4            No       Tech         US  2010-09-22 07:53:12.454909  "
      ]
     },
     "execution_count": 20,
     "metadata": {},
     "output_type": "execute_result"
    }
   ],
   "source": [
    "import pandas as pd\n",
    "\n",
    "csv = pd.read_csv(\"/Users/siegmanA/Desktop/NYU-Projects-in-Programming-Fall-2019/Supplementary Info/Unix 101 /SternTech_UserData.csv\") \n",
    "\n",
    "csv.head() # explore our csv"
   ]
  },
  {
   "cell_type": "code",
   "execution_count": 21,
   "metadata": {},
   "outputs": [],
   "source": [
    "!cut -d\",\" -f1 SternTech_UserData.csv > UserColumn1.csv # let's cut the first field (the first column) of this csv and store \n",
    "                                             # it on its own "
   ]
  },
  {
   "cell_type": "code",
   "execution_count": 22,
   "metadata": {},
   "outputs": [
    {
     "data": {
      "text/html": [
       "<div>\n",
       "<style scoped>\n",
       "    .dataframe tbody tr th:only-of-type {\n",
       "        vertical-align: middle;\n",
       "    }\n",
       "\n",
       "    .dataframe tbody tr th {\n",
       "        vertical-align: top;\n",
       "    }\n",
       "\n",
       "    .dataframe thead th {\n",
       "        text-align: right;\n",
       "    }\n",
       "</style>\n",
       "<table border=\"1\" class=\"dataframe\">\n",
       "  <thead>\n",
       "    <tr style=\"text-align: right;\">\n",
       "      <th></th>\n",
       "      <th>0</th>\n",
       "    </tr>\n",
       "  </thead>\n",
       "  <tbody>\n",
       "    <tr>\n",
       "      <th>0</th>\n",
       "      <td>1</td>\n",
       "    </tr>\n",
       "    <tr>\n",
       "      <th>1</th>\n",
       "      <td>2</td>\n",
       "    </tr>\n",
       "    <tr>\n",
       "      <th>2</th>\n",
       "      <td>3</td>\n",
       "    </tr>\n",
       "    <tr>\n",
       "      <th>3</th>\n",
       "      <td>4</td>\n",
       "    </tr>\n",
       "    <tr>\n",
       "      <th>4</th>\n",
       "      <td>5</td>\n",
       "    </tr>\n",
       "  </tbody>\n",
       "</table>\n",
       "</div>"
      ],
      "text/plain": [
       "   0\n",
       "0  1\n",
       "1  2\n",
       "2  3\n",
       "3  4\n",
       "4  5"
      ]
     },
     "execution_count": 22,
     "metadata": {},
     "output_type": "execute_result"
    }
   ],
   "source": [
    "csv = pd.read_csv(\"/Users/siegmanA/Desktop/NYU-Projects-in-Programming-Fall-2019/Supplementary Info/Unix 101 /UserColumn1.csv\") \n",
    "\n",
    "csv.head() # explore our csv"
   ]
  },
  {
   "cell_type": "code",
   "execution_count": 23,
   "metadata": {},
   "outputs": [],
   "source": [
    "!rm UserColumn1.csv # remove this file"
   ]
  },
  {
   "cell_type": "code",
   "execution_count": 24,
   "metadata": {
    "scrolled": false
   },
   "outputs": [
    {
     "name": "stdout",
     "output_type": "stream",
     "text": [
      "2019-12-26 19:39:29.445442\r\n",
      "2019-12-26 18:27:39.862812\r\n",
      "2019-12-26 15:16:19.974062\r\n",
      "2019-12-26 14:25:59.532873\r\n",
      "2019-12-26 09:36:09.321090\r\n",
      "2019-12-26 09:34:52.739451\r\n",
      "2019-12-26 03:56:46.542648\r\n",
      "2019-12-26 02:15:52.446483\r\n",
      "2019-12-25 22:57:28.429947\r\n",
      "2019-12-25 22:40:27.996445\r\n",
      "2019-12-25 21:29:15.986466\r\n",
      "2019-12-25 21:21:17.424311\r\n",
      "2019-12-25 15:10:03.441522\r\n",
      "2019-12-25 14:24:18.796538\r\n",
      "2019-12-25 13:59:36.802096\r\n",
      "2019-12-25 10:02:19.205158\r\n",
      "2019-12-25 09:30:14.761209\r\n",
      "2019-12-25 08:45:23.390607\r\n",
      "2019-12-24 23:57:39.604124\r\n",
      "2019-12-24 23:01:44.256625\r\n",
      "2019-12-24 21:39:02.417017\r\n",
      "2019-12-24 18:33:01.480159\r\n",
      "2019-12-24 17:04:23.729728\r\n",
      "2019-12-24 16:36:31.015531\r\n",
      "2019-12-24 11:06:36.819081\r\n",
      "sort: Broken pipe\r\n"
     ]
    }
   ],
   "source": [
    "!cut -d\",\" -f9 SternTech_UserData.csv | sort -nr | head -25 # get the 25 most recent timestamps in descending order"
   ]
  },
  {
   "cell_type": "markdown",
   "metadata": {},
   "source": [
    "## That's it for now! For more on Unix basics and common commands check out this article from Stanford: http://mally.stanford.edu/~sr/computing/basic-unix.html"
   ]
  }
 ],
 "metadata": {
  "kernelspec": {
   "display_name": "Python 3",
   "language": "python",
   "name": "python3"
  },
  "language_info": {
   "codemirror_mode": {
    "name": "ipython",
    "version": 3
   },
   "file_extension": ".py",
   "mimetype": "text/x-python",
   "name": "python",
   "nbconvert_exporter": "python",
   "pygments_lexer": "ipython3",
   "version": "3.7.1"
  }
 },
 "nbformat": 4,
 "nbformat_minor": 2
}
