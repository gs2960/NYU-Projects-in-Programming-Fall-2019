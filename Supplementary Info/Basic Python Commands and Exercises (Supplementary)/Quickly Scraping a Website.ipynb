{
 "cells": [
  {
   "cell_type": "markdown",
   "metadata": {},
   "source": [
    "## In this script we will scrape the text from an online article"
   ]
  },
  {
   "cell_type": "code",
   "execution_count": null,
   "metadata": {},
   "outputs": [],
   "source": [
    "from bs4 import BeautifulSoup\n",
    "from requests import get\n",
    "import pprint\n",
    "\n",
    "url = \"http://www.vanityfair.com/society/2014/06/monica-lewinsky-humiliation-culture\"\n",
    "head_data = {'From': 'myemail@gmail.com '} # put your own email here \n",
    "\n",
    "\n",
    "response = get(url,headers=head_data)\n",
    "page = BeautifulSoup(response.text,\"lxml\")\n",
    "\n",
    "text = page.find_all(\"p\")\n",
    "\n",
    "print(text)"
   ]
  },
  {
   "cell_type": "code",
   "execution_count": null,
   "metadata": {},
   "outputs": [],
   "source": []
  }
 ],
 "metadata": {
  "kernelspec": {
   "display_name": "Python 3",
   "language": "python",
   "name": "python3"
  },
  "language_info": {
   "codemirror_mode": {
    "name": "ipython",
    "version": 3
   },
   "file_extension": ".py",
   "mimetype": "text/x-python",
   "name": "python",
   "nbconvert_exporter": "python",
   "pygments_lexer": "ipython3",
   "version": "3.7.1"
  }
 },
 "nbformat": 4,
 "nbformat_minor": 2
}
