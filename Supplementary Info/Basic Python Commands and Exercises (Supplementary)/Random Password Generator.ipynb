{
 "cells": [
  {
   "cell_type": "markdown",
   "metadata": {},
   "source": [
    "# In this script we will develop our own random password generator.\n",
    "\n",
    "## Thank you to http://www.practicepython.org/ for the inspiration and direction for this script."
   ]
  },
  {
   "cell_type": "code",
   "execution_count": null,
   "metadata": {},
   "outputs": [],
   "source": [
    "import string\n",
    "import random \n",
    "import time\n",
    "\n",
    "possibleCharacters = string.ascii_letters + string.digits + string.punctuation + string.whitespace\n",
    "\n",
    "def password_generator():\n",
    "    pass_length = int(input(\"How many characters would you like your password to be? \"))\n",
    "    password = []\n",
    "    for i in range(0,pass_length):\n",
    "        password.append(random.choice(possibleCharacters))\n",
    "\n",
    "    print(''.join(password))\n",
    "\n",
    "if __name__ == \"__main__\":\n",
    "    password_generator()"
   ]
  },
  {
   "cell_type": "code",
   "execution_count": null,
   "metadata": {},
   "outputs": [],
   "source": []
  }
 ],
 "metadata": {
  "kernelspec": {
   "display_name": "Python 3",
   "language": "python",
   "name": "python3"
  },
  "language_info": {
   "codemirror_mode": {
    "name": "ipython",
    "version": 3
   },
   "file_extension": ".py",
   "mimetype": "text/x-python",
   "name": "python",
   "nbconvert_exporter": "python",
   "pygments_lexer": "ipython3",
   "version": "3.7.1"
  }
 },
 "nbformat": 4,
 "nbformat_minor": 2
}
