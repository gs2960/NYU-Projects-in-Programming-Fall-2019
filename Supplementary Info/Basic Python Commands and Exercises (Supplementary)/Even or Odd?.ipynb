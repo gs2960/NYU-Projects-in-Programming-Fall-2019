{
 "cells": [
  {
   "cell_type": "markdown",
   "metadata": {},
   "source": [
    "# In this script we will create a program that asks a user for a number and tells that user if the number is even or odd. \n",
    "\n",
    "## Thank you to http://www.practicepython.org/ for the inspiration and direction for this script."
   ]
  },
  {
   "cell_type": "code",
   "execution_count": null,
   "metadata": {},
   "outputs": [],
   "source": [
    "def odd_or_even(): #Create a function. \n",
    "    \n",
    "    greeting = input(\"Hello! I can tell you if a number is odd or even. Would you like to continue? \\n Y/N \").upper() #Ask the user if they would like to continue. Convert their y/n response to an uppercase 'Y' or 'N'.\n",
    "    if greeting == 'Y': # if the user wants to continue...\n",
    "        number = int(input(\"What number are you curious about? \")) # prompt that user for a number. \n",
    "        if number % 2 == 0: # if that number mod 2 is 0 (i.e., if that number divided by two leaves no remainder)...\n",
    "            print(\"That's an even number!\") # rell your user that the number is even. \n",
    "        else: # otherwise...\n",
    "            print(\"That's an odd number!\") # tell your user that the number is odd. \n",
    "    else: # if the user does not want to continue (if they enter 'N' and not 'Y')...\n",
    "        print(\"Sorry to see you go !\") # say goodbye...\n",
    "        exit() # ...and close the program \n",
    "\n",
    "if __name__ == \"__main__\": \n",
    "    odd_or_even() "
   ]
  },
  {
   "cell_type": "code",
   "execution_count": null,
   "metadata": {},
   "outputs": [],
   "source": []
  }
 ],
 "metadata": {
  "kernelspec": {
   "display_name": "Python 3",
   "language": "python",
   "name": "python3"
  },
  "language_info": {
   "codemirror_mode": {
    "name": "ipython",
    "version": 3
   },
   "file_extension": ".py",
   "mimetype": "text/x-python",
   "name": "python",
   "nbconvert_exporter": "python",
   "pygments_lexer": "ipython3",
   "version": "3.7.1"
  }
 },
 "nbformat": 4,
 "nbformat_minor": 2
}
