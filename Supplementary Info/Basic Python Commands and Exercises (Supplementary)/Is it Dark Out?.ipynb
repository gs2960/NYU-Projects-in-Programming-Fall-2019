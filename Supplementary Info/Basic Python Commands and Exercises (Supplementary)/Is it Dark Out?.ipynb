{
 "cells": [
  {
   "cell_type": "markdown",
   "metadata": {},
   "source": [
    "# In this script we will simply tell a user whether or not it is dark outside\n",
    "\n",
    "## Thank you to http://www.practicepython.org/ for the inspiration and direction for this script."
   ]
  },
  {
   "cell_type": "code",
   "execution_count": null,
   "metadata": {},
   "outputs": [],
   "source": [
    "import time\n",
    "print(\"Is it dark outside?\" + \"\\n==================\")\n",
    "\n",
    "# month_Number : Sunset_Hour\n",
    "# be sure to change the values below based on your timezone and daylight savings\n",
    "\n",
    "dark = {\n",
    "    1:16, # i.e., in New York, in January it gets dark at 4 pm. You can, of course, make the details as granular as you would like, but this will do for now.\n",
    "    2:17,\n",
    "    3:18,\n",
    "    4:19,\n",
    "    5:19,\n",
    "    6:20,\n",
    "    7:20,\n",
    "    8:19,\n",
    "    9:18,\n",
    "    10:17,\n",
    "    11:16,\n",
    "    12:16\n",
    "}\n",
    "\n",
    "# month_number : sunrise_hour\n",
    "\n",
    "light = {\n",
    "    1:8,\n",
    "    2:7,\n",
    "    3:6,\n",
    "    4:5,\n",
    "    5:4,\n",
    "    6:4,\n",
    "    7:4,\n",
    "    8:5,\n",
    "    9:6,\n",
    "    10:6,\n",
    "    11:7,\n",
    "    12:8\n",
    "}\n",
    "\n",
    "current_time = time.localtime()\n",
    "\n",
    "# for more info on the time and the if statement below visit http://pythoncentral.io/how-to-get-and-format-the-current-time-in-python/\n",
    "# remember, it's dark if the hour is later than or equal to the sunset time, or earlier than the sunrise time. Thus:\n",
    "\n",
    "if current_time.tm_hour >= dark[current_time.tm_mon] or current_time.tm_hour < light[current_time.tm_mon]:\n",
    "# if current hour is later than or equal to the sunset time for the current month or the current hour is earlier than the sunrise time for the current month\n",
    "    print(\"Yes\")\n",
    "else:\n",
    "    print(\"No\")"
   ]
  },
  {
   "cell_type": "code",
   "execution_count": null,
   "metadata": {},
   "outputs": [],
   "source": []
  }
 ],
 "metadata": {
  "kernelspec": {
   "display_name": "Python 3",
   "language": "python",
   "name": "python3"
  },
  "language_info": {
   "codemirror_mode": {
    "name": "ipython",
    "version": 3
   },
   "file_extension": ".py",
   "mimetype": "text/x-python",
   "name": "python",
   "nbconvert_exporter": "python",
   "pygments_lexer": "ipython3",
   "version": "3.7.1"
  }
 },
 "nbformat": 4,
 "nbformat_minor": 2
}
