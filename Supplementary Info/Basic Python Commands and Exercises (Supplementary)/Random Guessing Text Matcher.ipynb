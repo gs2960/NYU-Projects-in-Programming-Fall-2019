{
 "cells": [
  {
   "cell_type": "markdown",
   "metadata": {},
   "source": [
    "# This script should try to put together a target string by randomly guessing cahracters \n",
    "\n",
    "## Thanks to http://usingpython.com/programs/ for the core code and inspiration for this tool!"
   ]
  },
  {
   "cell_type": "code",
   "execution_count": null,
   "metadata": {},
   "outputs": [],
   "source": [
    "import string # so we can create a bucket of characters from which to pull our random guesses\n",
    "import random # so we can randomly select a character from that aforementioned bucket\n",
    "import time # so we can pause between each guess and not overload the computer\n",
    "\n",
    "possibleCharacters = string.ascii_letters + string.digits + string.punctuation + string.whitespace \n",
    "# we want our random character options to include upper and lowercase letters, integers, punctuation and spaces. \n",
    "# see here for more --> https://docs.python.org/2/library/string.html\n",
    "\n",
    "target = input(\"Enter your target text in quotations, please: \") # this is the target text that the computer will try to match by randomly generating characters from our bucket of letters, numbers, punctuation and whitespace\n",
    "attemptThis = ''.join(random.choice(possibleCharacters) for i in range(len(target))) # for every character in our target text, randomly generate a character from our bucket of possible characters (letters, numbers, punctuation and whitespace) and join it to the previously selected character, if there is one\n",
    "attemptNext = '' # setting this blank for the moment\n",
    "\n",
    "completed = False\n",
    "\n",
    "attempt = 0\n",
    "\n",
    "while completed == False: # as long as we haven't matched our target text...\n",
    "    print(attemptThis) # follow the instructions above for 'attemptThis' and print the result so we can see it\n",
    "    attemptNext = '' # still keeping this blank for the moment\n",
    "    completed = True\n",
    "    for i in range(len(target)): # for every character in the target text...\n",
    "        if attemptThis[i] != target[i]: # if the randomly generated character from attemptThis does not match the target text character in that same position...\n",
    "            completed = False # we have not completed the function (aka we have not matched the target text) and will need to try again\n",
    "            attemptNext += random.choice(possibleCharacters) # so we try again and generate another random character ???\n",
    "        else: # but if we did randomly choose the right character...\n",
    "            attemptNext += target[i] \n",
    "    attempt += 1 # we move on to the next\n",
    "    attemptThis = attemptNext\n",
    "    time.sleep(0.1) # sleep for .1 seconds to give the computer a break.\n",
    "\n",
    "print(\"Target matched! That took \" + str(attempt) + \" attempt(s)\") # print our success message as well as the number of attempts we made to reach the target text"
   ]
  },
  {
   "cell_type": "code",
   "execution_count": null,
   "metadata": {},
   "outputs": [],
   "source": []
  }
 ],
 "metadata": {
  "kernelspec": {
   "display_name": "Python 3",
   "language": "python",
   "name": "python3"
  },
  "language_info": {
   "codemirror_mode": {
    "name": "ipython",
    "version": 3
   },
   "file_extension": ".py",
   "mimetype": "text/x-python",
   "name": "python",
   "nbconvert_exporter": "python",
   "pygments_lexer": "ipython3",
   "version": "3.7.1"
  }
 },
 "nbformat": 4,
 "nbformat_minor": 2
}
