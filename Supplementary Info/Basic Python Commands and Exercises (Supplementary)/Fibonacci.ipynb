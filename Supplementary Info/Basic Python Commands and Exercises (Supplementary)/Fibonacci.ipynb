{
 "cells": [
  {
   "cell_type": "markdown",
   "metadata": {},
   "source": [
    "# In this script we will generate a Fibonacci sequence\n",
    "\n",
    "## Thank you to http://www.practicepython.org/ for the inspiration and direction for this script."
   ]
  },
  {
   "cell_type": "code",
   "execution_count": null,
   "metadata": {},
   "outputs": [],
   "source": [
    "def fibonacci():\n",
    "    number = int(input(\"How many numbers would you like to generate? \"))\n",
    "    fibonacci_list = [1,1]\n",
    "    for i in range(2,number):\n",
    "        a = fibonacci_list[-1]\n",
    "        b = fibonacci_list[-2]\n",
    "        c = a+b\n",
    "        fibonacci_list.append(c)\n",
    "    print(fibonacci_list)\n",
    "\n",
    "if __name__ == \"__main__\":\n",
    "    fibonacci()"
   ]
  },
  {
   "cell_type": "code",
   "execution_count": null,
   "metadata": {},
   "outputs": [],
   "source": []
  }
 ],
 "metadata": {
  "kernelspec": {
   "display_name": "Python 3",
   "language": "python",
   "name": "python3"
  },
  "language_info": {
   "codemirror_mode": {
    "name": "ipython",
    "version": 3
   },
   "file_extension": ".py",
   "mimetype": "text/x-python",
   "name": "python",
   "nbconvert_exporter": "python",
   "pygments_lexer": "ipython3",
   "version": "3.7.1"
  }
 },
 "nbformat": 4,
 "nbformat_minor": 2
}
