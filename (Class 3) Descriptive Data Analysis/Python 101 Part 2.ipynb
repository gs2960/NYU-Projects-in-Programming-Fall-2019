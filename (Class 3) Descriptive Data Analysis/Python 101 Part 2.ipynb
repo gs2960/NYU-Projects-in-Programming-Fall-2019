{
 "cells": [
  {
   "cell_type": "markdown",
   "metadata": {},
   "source": [
    "# All material ©2019, Alex Siegman\n"
   ]
  },
  {
   "cell_type": "markdown",
   "metadata": {},
   "source": [
    "-----"
   ]
  },
  {
   "cell_type": "markdown",
   "metadata": {},
   "source": [
    "## Hello! And welcome to Python 101, Part 2\n",
    "\n",
    "<br>\n",
    "\n",
    "The goal of these notebooks is simple: To help you secure a foothold in what is otherwise the very daunting climb towards learning a new programming anguage (and, of course, to have fun!) "
   ]
  },
  {
   "cell_type": "markdown",
   "metadata": {},
   "source": [
    "## In Part 1 we learned about: \n",
    "\n",
    "1. The different ways we can work with (and manipulate) words and numbers in Python.\n",
    "2. Lists in Python. \n",
    "3. 'If' and 'While' statements in Python. \n",
    "\n",
    "## In Part 2 we will learn about: \n",
    "\n",
    "1. Libraries in Python. \n",
    "2. Functions in Python. \n",
    "\n",
    "### Alas, let's get started!"
   ]
  },
  {
   "cell_type": "markdown",
   "metadata": {},
   "source": [
    "---"
   ]
  },
  {
   "cell_type": "markdown",
   "metadata": {},
   "source": [
    "### Today we are going to be mimicking this brilliant and simple bot, @TwoHeadlines: <br> https://twitter.com/twoheadlines?lang=en\n",
    "\n",
    "<br>\n",
    "\n",
    "The concept is simple. It takes two different headlines from two different outlets via their RSS feeds (which we'll go over in a moment) and combines them to produce often comical and almost always nonsensical news headlines.\n",
    "\n",
    "<br>\n",
    "\n",
    "The first thing we must do to create our own TwoHeadlines bot is import a few libraries. \n",
    "\n",
    "### *Libraries in Python are collections of functions and methods that allow you to perform various actions without writing your own code.\n",
    "\n",
    "<br>\n",
    "\n",
    "For instance, in our Two Headlines bot we are going to use: \n",
    "\n",
    "#### Feedparser: a library that will allow us to read various RSS feeds (again, we'll get to RSS in a moment)<br>\n",
    "https://pythonhosted.org/feedparser/introduction.html\n",
    "\n",
    "#### Random: a library that will allow us to generate random numbers <br> \n",
    "https://docs.python.org/2/library/random.html\n",
    "\n",
    "#### Time: a library that will allow us to work around traditionally tricky time functions <br>\n",
    "https://docs.python.org/2/library/time.html\n",
    "\n",
    "<br>\n",
    "\n",
    "Thus, your first lines of code will look as follows: <br>"
   ]
  },
  {
   "cell_type": "code",
   "execution_count": 1,
   "metadata": {},
   "outputs": [],
   "source": [
    "import feedparser\n",
    "import random\n",
    "import time"
   ]
  },
  {
   "cell_type": "markdown",
   "metadata": {},
   "source": [
    "<br> Great! Now, we want to begin by defining our function. <br>\n",
    "\n",
    "#### Remember, funcitons come in handy when you want to repeat the same task many times using the same _type_ of input. <br>"
   ]
  },
  {
   "cell_type": "code",
   "execution_count": 15,
   "metadata": {},
   "outputs": [],
   "source": [
    "#For example\n",
    "\n",
    "def printSentence(sentence):\n",
    "    print(sentence + \" Plus a new sentence.\")\n",
    "    return;"
   ]
  },
  {
   "cell_type": "code",
   "execution_count": 16,
   "metadata": {},
   "outputs": [
    {
     "name": "stdout",
     "output_type": "stream",
     "text": [
      "This is the sentence I want to print. Plus a new sentence.\n"
     ]
    }
   ],
   "source": [
    "printSentence(\"This is the sentence I want to print.\")"
   ]
  },
  {
   "cell_type": "markdown",
   "metadata": {},
   "source": [
    "#### In this case, we will call our function 'TwoHeadlines' \n"
   ]
  },
  {
   "cell_type": "code",
   "execution_count": 17,
   "metadata": {},
   "outputs": [],
   "source": [
    "def TwoHeadlines(): # we are leaving the input blank for now, and you'll see why in a moment\n",
    "    pass # this 'pass' is here just to avoid an error as we work on our function. To see what happens without it, \n",
    "         # try removing the 'pass' line and see the error you receive."
   ]
  },
  {
   "cell_type": "markdown",
   "metadata": {},
   "source": [
    "## Now, for some RSS feeds! \n",
    "\n",
    "RSS is (Rich Site Summary, or, Real Simple Syndication) allows us to access website's content in a standardized and machine-readable format. \n",
    "\n",
    "To best understand RSS, take a look at the following examples: \n",
    "\n",
    "http://www.wsj.com/public/page/rss_news_and_feeds.html <br>\n",
    "https://archive.nytimes.com/www.nytimes.com/services/xml/rss/index.html <br>\n",
    "http://rss.cnn.com/rss/cnn_topstories.rss <br>"
   ]
  },
  {
   "cell_type": "code",
   "execution_count": 27,
   "metadata": {},
   "outputs": [],
   "source": [
    "# to see how you can actually pull these RSS feeds using Python, we're going to rely on Python. \n",
    "# as an example, let's pull two feeds.\n",
    "\n",
    "# note that we first set a variable equal to the desired url for the desired RSS feed. \n",
    "# then, we use feedparser to store that information into a new variable.\n",
    "\n",
    "nyt_rss_url = 'https://rss.nytimes.com/services/xml/rss/nyt/HomePage.xml' # find the desired rss feed\n",
    "espn_rss_url = 'https://www.espn.com/espn/rss/news' # find a second desired rss feed\n",
    "\n",
    "nyt_feed = feedparser.parse(nyt_rss_url) # use feedparser to, well, parse the feed\n",
    "espn_feed = feedparser.parse(espn_rss_url) # use feedparser to, well, parse the feed"
   ]
  },
  {
   "cell_type": "markdown",
   "metadata": {
    "collapsed": true
   },
   "source": [
    "## Next, we need to get a bit creative:\n",
    "\n",
    "First and foremost, we don't want that entire RSS feed, we just want the headline for the latest article! But if you type the following:"
   ]
  },
  {
   "cell_type": "code",
   "execution_count": 29,
   "metadata": {},
   "outputs": [
    {
     "name": "stdout",
     "output_type": "stream",
     "text": [
      "{'feed': {'title': 'NYT > Top Stories', 'title_detail': {'type': 'text/plain', 'language': None, 'base': 'https://rss.nytimes.com/services/xml/rss/nyt/HomePage.xml', 'value': 'NYT > Top Stories'}, 'links': [{'rel': 'alternate', 'type': 'text/html', 'href': 'https://www.nytimes.com?emc=rss&partner=rss'}, {'href': 'https://rss.nytimes.com/services/xml/rss/nyt/HomePage.xml', 'rel': 'self', 'type': 'application/rss+xml'}], 'link': 'https://www.nytimes.com?emc=rss&partner=rss', 'subtitle': '', 'subtitle_detail': {'type': 'text/html', 'language': None, 'base': 'https://rss.nytimes.com/services/xml/rss/nyt/HomePage.xml', 'value': ''}, 'language': 'en-us', 'rights': 'Copyright 2019 The New York Times Company', 'rights_detail': {'type': 'text/plain', 'language': None, 'base': 'https://rss.nytimes.com/services/xml/rss/nyt/HomePage.xml', 'value': 'Copyright 2019 The New York Times Company'}, 'updated': 'Mon, 01 Jul 2019 19:53:51 +0000', 'updated_parsed': time.struct_time(tm_year=2019, tm_mon=7, tm_mday=1, tm_hour=19, tm_min=53, tm_sec=51, tm_wday=0, tm_yday=182, tm_isdst=0), 'image': {'title': 'NYT > Top Stories', 'title_detail': {'type': 'text/plain', 'language': None, 'base': 'https://rss.nytimes.com/services/xml/rss/nyt/HomePage.xml', 'value': 'NYT > Top Stories'}, 'href': 'https://static01.nyt.com/images/misc/NYT_logo_rss_250x40.png', 'links': [{'rel': 'alternate', 'type': 'text/html', 'href': 'https://www.nytimes.com?emc=rss&partner=rss'}], 'link': 'https://www.nytimes.com?emc=rss&partner=rss'}}, 'entries': [{'title': 'Angry Core of Hong Kong Protesters Storms Legislature, Dividing the Movement', 'title_detail': {'type': 'text/plain', 'language': None, 'base': 'https://rss.nytimes.com/services/xml/rss/nyt/HomePage.xml', 'value': 'Angry Core of Hong Kong Protesters Storms Legislature, Dividing the Movement'}, 'links': [{'rel': 'alternate', 'type': 'text/html', 'href': 'https://www.nytimes.com/2019/07/01/world/asia/hong-kong-protest.html?emc=rss&partner=rss'}, {'href': 'https://www.nytimes.com/2019/07/01/world/asia/hong-kong-protest.html?emc=rss&partner=rss', 'rel': 'standout', 'type': 'text/html'}], 'link': 'https://www.nytimes.com/2019/07/01/world/asia/hong-kong-protest.html?emc=rss&partner=rss', 'id': 'https://www.nytimes.com/2019/07/01/world/asia/hong-kong-protest.html', 'guidislink': False, 'summary': 'After weeks of protest that took the high road, a smaller group’s use of force to enter and deface government chambers raises questions about direction and leadership.', 'summary_detail': {'type': 'text/html', 'language': None, 'base': 'https://rss.nytimes.com/services/xml/rss/nyt/HomePage.xml', 'value': 'After weeks of protest that took the high road, a smaller group’s use of force to enter and deface government chambers raises questions about direction and leadership.'}, 'authors': [{'name': 'Javier C. Hernández'}], 'author': 'Javier C. Hernández', 'author_detail': {'name': 'Javier C. Hernández'}, 'published': 'Mon, 01 Jul 2019 19:30:02 +0000', 'published_parsed': time.struct_time(tm_year=2019, tm_mon=7, tm_mday=1, tm_hour=19, tm_min=30, tm_sec=2, tm_wday=0, tm_yday=182, tm_isdst=0), 'tags': [{'term': 'Hong Kong', 'scheme': 'http://www.nytimes.com/namespaces/keywords/nyt_geo', 'label': None}, {'term': 'Demonstrations, Protests and Riots', 'scheme': 'http://www.nytimes.com/namespaces/keywords/des', 'label': None}, {'term': 'Politics and Government', 'scheme': 'http://www.nytimes.com/namespaces/keywords/des', 'label': None}, {'term': 'Police Brutality, Misconduct and Shootings', 'scheme': 'http://www.nytimes.com/namespaces/keywords/des', 'label': None}, {'term': 'Police', 'scheme': 'http://www.nytimes.com/namespaces/keywords/des', 'label': None}, {'term': 'Communist Party of China', 'scheme': 'http://www.nytimes.com/namespaces/keywords/nyt_org', 'label': None}, {'term': 'Lam, Carrie (1957- )', 'scheme': 'http://www.nytimes.com/namespaces/keywords/nyt_per', 'label': None}, {'term': 'Xi Jinping', 'scheme': 'http://www.nytimes.com/namespaces/keywords/nyt_per', 'label': None}, {'term': 'Beijing (China)', 'scheme': 'http://www.nytimes.com/namespaces/keywords/nyt_geo', 'label': None}, {'term': 'China', 'scheme': 'http://www.nytimes.com/namespaces/keywords/nyt_geo', 'label': None}], 'media_content': [{'height': '151', 'medium': 'image', 'url': 'https://static01.nyt.com/images/2019/07/01/world/01hongkong-briefing3/01hongkong-briefing3-moth.jpg', 'width': '151'}], 'media_credit': [{'content': 'Lam Yik Fei for The New York Times'}], 'credit': 'Lam Yik Fei for The New York Times'}, {'title': 'Hong Kong Protest Live Updates: Police Disperse Protesters Outside Legislative Building', 'title_detail': {'type': 'text/plain', 'language': None, 'base': 'https://rss.nytimes.com/services/xml/rss/nyt/HomePage.xml', 'value': 'Hong Kong Protest Live Updates: Police Disperse Protesters Outside Legislative Building'}, 'links': [{'rel': 'alternate', 'type': 'text/html', 'href': 'https://www.nytimes.com/2019/06/30/world/asia/hong-kong-protest-live-updates.html?emc=rss&partner=rss'}, {'href': 'https://www.nytimes.com/2019/06/30/world/asia/hong-kong-protest-live-updates.html?emc=rss&partner=rss', 'rel': 'standout', 'type': 'text/html'}], 'link': 'https://www.nytimes.com/2019/06/30/world/asia/hong-kong-protest-live-updates.html?emc=rss&partner=rss', 'id': 'https://www.nytimes.com/2019/06/30/world/asia/hong-kong-protest-live-updates.html', 'guidislink': False, 'summary': 'Protesters had mostly cleared out of the Legislative Council building after 3 hours of occupation. Then a cordon of riot police used tear gas and charged to scatter the crowd.', 'summary_detail': {'type': 'text/html', 'language': None, 'base': 'https://rss.nytimes.com/services/xml/rss/nyt/HomePage.xml', 'value': 'Protesters had mostly cleared out of the Legislative Council building after 3 hours of occupation. Then a cordon of riot police used tear gas and charged to scatter the crowd.'}, 'authors': [{'name': 'The New York Times'}], 'author': 'The New York Times', 'author_detail': {'name': 'The New York Times'}, 'published': 'Mon, 01 Jul 2019 19:46:55 +0000', 'published_parsed': time.struct_time(tm_year=2019, tm_mon=7, tm_mday=1, tm_hour=19, tm_min=46, tm_sec=55, tm_wday=0, tm_yday=182, tm_isdst=0), 'tags': [{'term': 'Demonstrations, Protests and Riots', 'scheme': 'http://www.nytimes.com/namespaces/keywords/des', 'label': None}, {'term': 'Politics and Government', 'scheme': 'http://www.nytimes.com/namespaces/keywords/des', 'label': None}, {'term': 'Lam, Carrie (1957- )', 'scheme': 'http://www.nytimes.com/namespaces/keywords/nyt_per', 'label': None}, {'term': 'Hong Kong', 'scheme': 'http://www.nytimes.com/namespaces/keywords/nyt_geo', 'label': None}, {'term': 'China', 'scheme': 'http://www.nytimes.com/namespaces/keywords/nyt_geo', 'label': None}], 'media_content': [{'height': '151', 'medium': 'image', 'url': 'https://static01.nyt.com/images/2019/07/01/world/01hongkong-photos-FADER-PROMO/01hkbriefing-LegCo3-moth.jpg', 'width': '151'}], 'media_credit': [{'content': 'Lam Yik Fei for The New York Times'}], 'credit': 'Lam Yik Fei for The New York Times', 'content': [{'type': 'text/plain', 'language': None, 'base': 'https://rss.nytimes.com/services/xml/rss/nyt/HomePage.xml', 'value': 'Protesters used a steel cart to breach the doors of the Legislative Council hours after a ceremony commemorated the city’s return to Chinese control.'}]}, {'title': 'On Hong Kong Handover Anniversary, Many Fear Loss of Freedoms', 'title_detail': {'type': 'text/plain', 'language': None, 'base': 'https://rss.nytimes.com/services/xml/rss/nyt/HomePage.xml', 'value': 'On Hong Kong Handover Anniversary, Many Fear Loss of Freedoms'}, 'links': [{'rel': 'alternate', 'type': 'text/html', 'href': 'https://www.nytimes.com/2019/07/01/world/asia/hong-kong-china-handover.html?emc=rss&partner=rss'}, {'href': 'https://www.nytimes.com/2019/07/01/world/asia/hong-kong-china-handover.html?emc=rss&partner=rss', 'rel': 'standout', 'type': 'text/html'}], 'link': 'https://www.nytimes.com/2019/07/01/world/asia/hong-kong-china-handover.html?emc=rss&partner=rss', 'id': 'https://www.nytimes.com/2019/07/01/world/asia/hong-kong-china-handover.html', 'guidislink': False, 'summary': '‘One country, two systems’ was Beijing’s pledge when it took back a former British colony. But concerns over civil liberties are mounting.', 'summary_detail': {'type': 'text/html', 'language': None, 'base': 'https://rss.nytimes.com/services/xml/rss/nyt/HomePage.xml', 'value': '‘One country, two systems’ was Beijing’s pledge when it took back a former British colony. But concerns over civil liberties are mounting.'}, 'authors': [{'name': 'Austin Ramzy'}], 'author': 'Austin Ramzy', 'author_detail': {'name': 'Austin Ramzy'}, 'published': 'Mon, 01 Jul 2019 19:46:53 +0000', 'published_parsed': time.struct_time(tm_year=2019, tm_mon=7, tm_mday=1, tm_hour=19, tm_min=46, tm_sec=53, tm_wday=0, tm_yday=182, tm_isdst=0), 'tags': [{'term': 'Hong Kong', 'scheme': 'http://www.nytimes.com/namespaces/keywords/nyt_geo', 'label': None}, {'term': 'China', 'scheme': 'http://www.nytimes.com/namespaces/keywords/nyt_geo', 'label': None}, {'term': 'Great Britain', 'scheme': 'http://www.nytimes.com/namespaces/keywords/nyt_geo', 'label': None}, {'term': 'Politics and Government', 'scheme': 'http://www.nytimes.com/namespaces/keywords/des', 'label': None}, {'term': 'Freedom of Speech and Expression', 'scheme': 'http://www.nytimes.com/namespaces/keywords/des', 'label': None}, {'term': 'Demonstrations, Protests and Riots', 'scheme': 'http://www.nytimes.com/namespaces/keywords/des', 'label': None}, {'term': 'Lam, Carrie (1957- )', 'scheme': 'http://www.nytimes.com/namespaces/keywords/nyt_per', 'label': None}, {'term': 'Human Rights and Human Rights Violations', 'scheme': 'http://www.nytimes.com/namespaces/keywords/des', 'label': None}, {'term': 'Extradition', 'scheme': 'http://www.nytimes.com/namespaces/keywords/des', 'label': None}, {'term': 'Communist Party of China', 'scheme': 'http://www.nytimes.com/namespaces/keywords/nyt_org', 'label': None}], 'media_content': [{'height': '151', 'medium': 'image', 'url': 'https://static01.nyt.com/images/2019/07/01/world/00hongkong-promises-1sub/00hongkong-promises-1sub-moth.jpg', 'width': '151'}], 'media_credit': [{'content': 'Torsten Blackwood/Agence France-Presse &mdash; Getty Images'}], 'credit': 'Torsten Blackwood/Agence France-Presse &mdash; Getty Images', 'content': [{'type': 'text/plain', 'language': None, 'base': 'https://rss.nytimes.com/services/xml/rss/nyt/HomePage.xml', 'value': 'July 1997: Handover.'}]}, {'title': 'Iran Breaches Critical Limit on Nuclear Fuel Under 2015 Deal', 'title_detail': {'type': 'text/plain', 'language': None, 'base': 'https://rss.nytimes.com/services/xml/rss/nyt/HomePage.xml', 'value': 'Iran Breaches Critical Limit on Nuclear Fuel Under 2015 Deal'}, 'links': [{'rel': 'alternate', 'type': 'text/html', 'href': 'https://www.nytimes.com/2019/07/01/us/politics/iran-nuclear-limit-compliance.html?emc=rss&partner=rss'}, {'href': 'https://www.nytimes.com/2019/07/01/us/politics/iran-nuclear-limit-compliance.html?emc=rss&partner=rss', 'rel': 'standout', 'type': 'text/html'}], 'link': 'https://www.nytimes.com/2019/07/01/us/politics/iran-nuclear-limit-compliance.html?emc=rss&partner=rss', 'id': 'https://www.nytimes.com/2019/07/01/us/politics/iran-nuclear-limit-compliance.html', 'guidislink': False, 'summary': 'The violation does not by itself give the country the material for a nuclear weapon, but it signals that Tehran may be willing to abandon the pact’s limits.', 'summary_detail': {'type': 'text/html', 'language': None, 'base': 'https://rss.nytimes.com/services/xml/rss/nyt/HomePage.xml', 'value': 'The violation does not by itself give the country the material for a nuclear weapon, but it signals that Tehran may be willing to abandon the pact’s limits.'}, 'authors': [{'name': 'David E. Sanger'}], 'author': 'David E. Sanger', 'author_detail': {'name': 'David E. Sanger'}, 'published': 'Mon, 01 Jul 2019 17:11:24 +0000', 'published_parsed': time.struct_time(tm_year=2019, tm_mon=7, tm_mday=1, tm_hour=17, tm_min=11, tm_sec=24, tm_wday=0, tm_yday=182, tm_isdst=0), 'tags': [{'term': 'Nuclear Weapons', 'scheme': 'http://www.nytimes.com/namespaces/keywords/des', 'label': None}, {'term': 'Cyberwarfare and Defense', 'scheme': 'http://www.nytimes.com/namespaces/keywords/des', 'label': None}, {'term': 'Embargoes and Sanctions', 'scheme': 'http://www.nytimes.com/namespaces/keywords/des', 'label': None}, {'term': 'United States International Relations', 'scheme': 'http://www.nytimes.com/namespaces/keywords/des', 'label': None}, {'term': 'Defense and Military Forces', 'scheme': 'http://www.nytimes.com/namespaces/keywords/des', 'label': None}, {'term': 'United States Politics and Government', 'scheme': 'http://www.nytimes.com/namespaces/keywords/des', 'label': None}, {'term': 'Uranium', 'scheme': 'http://www.nytimes.com/namespaces/keywords/des', 'label': None}, {'term': 'Stockpiling', 'scheme': 'http://www.nytimes.com/namespaces/keywords/des', 'label': None}, {'term': 'Rouhani, Hassan', 'scheme': 'http://www.nytimes.com/namespaces/keywords/nyt_per', 'label': None}, {'term': 'Trump, Donald J', 'scheme': 'http://www.nytimes.com/namespaces/keywords/nyt_per', 'label': None}, {'term': 'Tehran (Iran)', 'scheme': 'http://www.nytimes.com/namespaces/keywords/nyt_geo', 'label': None}, {'term': 'Zarif, Mohammad Javad', 'scheme': 'http://www.nytimes.com/namespaces/keywords/nyt_per', 'label': None}], 'media_content': [{'height': '151', 'medium': 'image', 'url': 'https://static01.nyt.com/images/2019/06/26/us/00dc-iranHFO-1/merlin_157023003_794f0493-87e3-43c4-861d-09be0703c417-moth.jpg', 'width': '151'}], 'media_credit': [{'content': 'Iranian Presidency Office, via Associated Press'}], 'credit': 'Iranian Presidency Office, via Associated Press', 'content': [{'type': 'text/plain', 'language': None, 'base': 'https://rss.nytimes.com/services/xml/rss/nyt/HomePage.xml', 'value': 'President Hassan Rouhani of Iran in 2018. He said this year that he intended to walk away from the nuclear deal’s restrictions.'}]}, {'title': 'In New Talks, U.S. May Settle for a Nuclear Freeze by North Korea', 'title_detail': {'type': 'text/plain', 'language': None, 'base': 'https://rss.nytimes.com/services/xml/rss/nyt/HomePage.xml', 'value': 'In New Talks, U.S. May Settle for a Nuclear Freeze by North Korea'}, 'links': [{'rel': 'alternate', 'type': 'text/html', 'href': 'https://www.nytimes.com/2019/06/30/world/asia/trump-kim-north-korea-negotiations.html?emc=rss&partner=rss'}, {'href': 'https://www.nytimes.com/2019/06/30/world/asia/trump-kim-north-korea-negotiations.html?emc=rss&partner=rss', 'rel': 'standout', 'type': 'text/html'}], 'link': 'https://www.nytimes.com/2019/06/30/world/asia/trump-kim-north-korea-negotiations.html?emc=rss&partner=rss', 'id': 'https://www.nytimes.com/2019/06/30/world/asia/trump-kim-north-korea-negotiations.html', 'guidislink': False, 'summary': 'The idea taking shape inside the Trump administration would amount to negotiating a nuclear freeze that essentially enshrines the status quo, tacitly accepting the North as a nuclear power.', 'summary_detail': {'type': 'text/html', 'language': None, 'base': 'https://rss.nytimes.com/services/xml/rss/nyt/HomePage.xml', 'value': 'The idea taking shape inside the Trump administration would amount to negotiating a nuclear freeze that essentially enshrines the status quo, tacitly accepting the North as a nuclear power.'}, 'authors': [{'name': 'Michael Crowley and David E. Sanger'}], 'author': 'Michael Crowley and David E. Sanger', 'author_detail': {'name': 'Michael Crowley and David E. Sanger'}, 'published': 'Mon, 01 Jul 2019 06:13:02 +0000', 'published_parsed': time.struct_time(tm_year=2019, tm_mon=7, tm_mday=1, tm_hour=6, tm_min=13, tm_sec=2, tm_wday=0, tm_yday=182, tm_isdst=0), 'tags': [{'term': 'North Korea', 'scheme': 'http://www.nytimes.com/namespaces/keywords/nyt_geo', 'label': None}, {'term': 'Trump, Donald J', 'scheme': 'http://www.nytimes.com/namespaces/keywords/nyt_per', 'label': None}, {'term': 'Kim Jong-un', 'scheme': 'http://www.nytimes.com/namespaces/keywords/nyt_per', 'label': None}, {'term': 'Arms Control and Limitation and Disarmament', 'scheme': 'http://www.nytimes.com/namespaces/keywords/des', 'label': None}, {'term': 'United States International Relations', 'scheme': 'http://www.nytimes.com/namespaces/keywords/des', 'label': None}, {'term': 'Nuclear Weapons', 'scheme': 'http://www.nytimes.com/namespaces/keywords/des', 'label': None}, {'term': 'United States', 'scheme': 'http://www.nytimes.com/namespaces/keywords/nyt_geo', 'label': None}], 'media_content': [{'height': '151', 'medium': 'image', 'url': 'https://static01.nyt.com/images/2019/06/30/world/30assess-sub/30assess-sub-moth.jpg', 'width': '151'}], 'media_credit': [{'content': 'Erin Schaff/The New York Times'}], 'credit': 'Erin Schaff/The New York Times', 'content': [{'type': 'text/plain', 'language': None, 'base': 'https://rss.nytimes.com/services/xml/rss/nyt/HomePage.xml', 'value': 'President Trump and North Korea’s leader, Kim Jong-un, on the North Korean side of the Demilitarized Zone on Sunday.'}]}, {'title': 'Ivanka Trump Tests Her Diplomatic Chops and Riles a Legion of Critics', 'title_detail': {'type': 'text/plain', 'language': None, 'base': 'https://rss.nytimes.com/services/xml/rss/nyt/HomePage.xml', 'value': 'Ivanka Trump Tests Her Diplomatic Chops and Riles a Legion of Critics'}, 'links': [{'rel': 'alternate', 'type': 'text/html', 'href': 'https://www.nytimes.com/2019/07/01/us/politics/ivanka-trump-north-korea-g20.html?emc=rss&partner=rss'}, {'href': 'https://www.nytimes.com/2019/07/01/us/politics/ivanka-trump-north-korea-g20.html?emc=rss&partner=rss', 'rel': 'standout', 'type': 'text/html'}], 'link': 'https://www.nytimes.com/2019/07/01/us/politics/ivanka-trump-north-korea-g20.html?emc=rss&partner=rss', 'id': 'https://www.nytimes.com/2019/07/01/us/politics/ivanka-trump-north-korea-g20.html', 'guidislink': False, 'summary': 'President Trump’s elder daughter used a G20 summit and then the Demilitarized Zone to test her role as budding stateswoman for the administration.', 'summary_detail': {'type': 'text/html', 'language': None, 'base': 'https://rss.nytimes.com/services/xml/rss/nyt/HomePage.xml', 'value': 'President Trump’s elder daughter used a G20 summit and then the Demilitarized Zone to test her role as budding stateswoman for the administration.'}, 'authors': [{'name': 'Katie Rogers'}], 'author': 'Katie Rogers', 'author_detail': {'name': 'Katie Rogers'}, 'published': 'Mon, 01 Jul 2019 17:09:44 +0000', 'published_parsed': time.struct_time(tm_year=2019, tm_mon=7, tm_mday=1, tm_hour=17, tm_min=9, tm_sec=44, tm_wday=0, tm_yday=182, tm_isdst=0), 'tags': [{'term': 'United States International Relations', 'scheme': 'http://www.nytimes.com/namespaces/keywords/des', 'label': None}, {'term': 'United States Politics and Government', 'scheme': 'http://www.nytimes.com/namespaces/keywords/des', 'label': None}, {'term': 'Group of Twenty', 'scheme': 'http://www.nytimes.com/namespaces/keywords/nyt_org', 'label': None}, {'term': 'Trump, Ivanka', 'scheme': 'http://www.nytimes.com/namespaces/keywords/nyt_per', 'label': None}, {'term': 'Trump, Donald J', 'scheme': 'http://www.nytimes.com/namespaces/keywords/nyt_per', 'label': None}, {'term': 'Lagarde, Christine', 'scheme': 'http://www.nytimes.com/namespaces/keywords/nyt_per', 'label': None}, {'term': 'May, Theresa M', 'scheme': 'http://www.nytimes.com/namespaces/keywords/nyt_per', 'label': None}, {'term': 'Abe, Shinzo', 'scheme': 'http://www.nytimes.com/namespaces/keywords/nyt_per', 'label': None}, {'term': 'Kushner, Jared', 'scheme': 'http://www.nytimes.com/namespaces/keywords/nyt_per', 'label': None}], 'media_content': [{'height': '151', 'medium': 'image', 'url': 'https://static01.nyt.com/images/2019/07/01/world/01dc-ivanka-1/01dc-ivanka-1-moth-v2.jpg', 'width': '151'}], 'media_credit': [{'content': 'Erin Schaff/The New York Times'}], 'credit': 'Erin Schaff/The New York Times', 'content': [{'type': 'text/plain', 'language': None, 'base': 'https://rss.nytimes.com/services/xml/rss/nyt/HomePage.xml', 'value': 'Ivanka Trump, the president’s elder daughter and senior adviser, at the Demilitarized Zone in South Korea on Sunday.'}]}, {'title': 'Pete Buttigieg Raised $24.8 Million in Second Quarter, His Campaign Says', 'title_detail': {'type': 'text/plain', 'language': None, 'base': 'https://rss.nytimes.com/services/xml/rss/nyt/HomePage.xml', 'value': 'Pete Buttigieg Raised $24.8 Million in Second Quarter, His Campaign Says'}, 'links': [{'rel': 'alternate', 'type': 'text/html', 'href': 'https://www.nytimes.com/2019/07/01/us/politics/pete-buttigieg-fundraising.html?emc=rss&partner=rss'}, {'href': 'https://www.nytimes.com/2019/07/01/us/politics/pete-buttigieg-fundraising.html?emc=rss&partner=rss', 'rel': 'standout', 'type': 'text/html'}], 'link': 'https://www.nytimes.com/2019/07/01/us/politics/pete-buttigieg-fundraising.html?emc=rss&partner=rss', 'id': 'https://www.nytimes.com/2019/07/01/us/politics/pete-buttigieg-fundraising.html', 'guidislink': False, 'summary': 'Mr. Buttigieg’s total is the latest evidence that he has gone from a long shot to a serious candidate for the Democratic nomination in a matter of months.', 'summary_detail': {'type': 'text/html', 'language': None, 'base': 'https://rss.nytimes.com/services/xml/rss/nyt/HomePage.xml', 'value': 'Mr. Buttigieg’s total is the latest evidence that he has gone from a long shot to a serious candidate for the Democratic nomination in a matter of months.'}, 'authors': [{'name': 'Thomas Kaplan'}], 'author': 'Thomas Kaplan', 'author_detail': {'name': 'Thomas Kaplan'}, 'published': 'Mon, 01 Jul 2019 14:27:49 +0000', 'published_parsed': time.struct_time(tm_year=2019, tm_mon=7, tm_mday=1, tm_hour=14, tm_min=27, tm_sec=49, tm_wday=0, tm_yday=182, tm_isdst=0), 'tags': [{'term': 'Buttigieg, Pete (1982- )', 'scheme': 'http://www.nytimes.com/namespaces/keywords/nyt_per', 'label': None}, {'term': 'Presidential Election of 2020', 'scheme': 'http://www.nytimes.com/namespaces/keywords/des', 'label': None}, {'term': 'Campaign Finance', 'scheme': 'http://www.nytimes.com/namespaces/keywords/des', 'label': None}, {'term': 'United States Politics and Government', 'scheme': 'http://www.nytimes.com/namespaces/keywords/des', 'label': None}], 'media_content': [{'height': '151', 'medium': 'image', 'url': 'https://static01.nyt.com/images/2019/07/01/us/politics/01buttigieg-money1/01buttigieg-money1-moth.jpg', 'width': '151'}], 'media_credit': [{'content': 'Doug Mills/The New York Times'}], 'credit': 'Doug Mills/The New York Times', 'content': [{'type': 'text/plain', 'language': None, 'base': 'https://rss.nytimes.com/services/xml/rss/nyt/HomePage.xml', 'value': 'Pete Buttigieg after a Democratic presidential debate in Miami on Thursday.'}]}, {'title': 'Consumers Are Spending. Businesses Aren’t. Who’s Right About the Future?', 'title_detail': {'type': 'text/plain', 'language': None, 'base': 'https://rss.nytimes.com/services/xml/rss/nyt/HomePage.xml', 'value': 'Consumers Are Spending. Businesses Aren’t. Who’s Right About the Future?'}, 'links': [{'rel': 'alternate', 'type': 'text/html', 'href': 'https://www.nytimes.com/2019/07/01/upshot/economic-forecast-consumers-businesses.html?emc=rss&partner=rss'}, {'href': 'https://www.nytimes.com/2019/07/01/upshot/economic-forecast-consumers-businesses.html?emc=rss&partner=rss', 'rel': 'standout', 'type': 'text/html'}], 'link': 'https://www.nytimes.com/2019/07/01/upshot/economic-forecast-consumers-businesses.html?emc=rss&partner=rss', 'id': 'https://www.nytimes.com/2019/07/01/upshot/economic-forecast-consumers-businesses.html', 'guidislink': False, 'summary': 'Forecasting is tricky when important economic indicators are pointing in different directions.', 'summary_detail': {'type': 'text/html', 'language': None, 'base': 'https://rss.nytimes.com/services/xml/rss/nyt/HomePage.xml', 'value': 'Forecasting is tricky when important economic indicators are pointing in different directions.'}, 'authors': [{'name': 'Neil Irwin'}], 'author': 'Neil Irwin', 'author_detail': {'name': 'Neil Irwin'}, 'published': 'Mon, 01 Jul 2019 19:46:52 +0000', 'published_parsed': time.struct_time(tm_year=2019, tm_mon=7, tm_mday=1, tm_hour=19, tm_min=46, tm_sec=52, tm_wday=0, tm_yday=182, tm_isdst=0), 'tags': [{'term': 'Economic Conditions and Trends', 'scheme': 'http://www.nytimes.com/namespaces/keywords/des', 'label': None}, {'term': 'Consumer Behavior', 'scheme': 'http://www.nytimes.com/namespaces/keywords/des', 'label': None}, {'term': 'Recession and Depression', 'scheme': 'http://www.nytimes.com/namespaces/keywords/des', 'label': None}, {'term': 'United States Economy', 'scheme': 'http://www.nytimes.com/namespaces/keywords/des', 'label': None}, {'term': 'Consumer Confidence (Economic Indicator)', 'scheme': 'http://www.nytimes.com/namespaces/keywords/des', 'label': None}, {'term': 'Federal Reserve System', 'scheme': 'http://www.nytimes.com/namespaces/keywords/nyt_org', 'label': None}, {'term': 'Interest Rates', 'scheme': 'http://www.nytimes.com/namespaces/keywords/des', 'label': None}], 'media_content': [{'height': '151', 'medium': 'image', 'url': 'https://static01.nyt.com/images/2019/07/01/upshot/01up-economy1/01up-economy1-moth.jpg', 'width': '151'}], 'media_credit': [{'content': 'Marcio Jose Sanchez/Associated Press'}], 'credit': 'Marcio Jose Sanchez/Associated Press', 'content': [{'type': 'text/plain', 'language': None, 'base': 'https://rss.nytimes.com/services/xml/rss/nyt/HomePage.xml', 'value': 'American consumption spending keeps showing healthy growth.'}]}, {'title': 'S&P and Dow Follow Global Markets Higher, as Investors Take Heart in Trade Thaw', 'title_detail': {'type': 'text/plain', 'language': None, 'base': 'https://rss.nytimes.com/services/xml/rss/nyt/HomePage.xml', 'value': 'S&P and Dow Follow Global Markets Higher, as Investors Take Heart in Trade Thaw'}, 'links': [{'rel': 'alternate', 'type': 'text/html', 'href': 'https://www.nytimes.com/2019/07/01/business/global-markets.html?emc=rss&partner=rss'}, {'href': 'https://www.nytimes.com/2019/07/01/business/global-markets.html?emc=rss&partner=rss', 'rel': 'standout', 'type': 'text/html'}], 'link': 'https://www.nytimes.com/2019/07/01/business/global-markets.html?emc=rss&partner=rss', 'id': 'https://www.nytimes.com/2019/07/01/business/global-markets.html', 'guidislink': False, 'summary': 'Markets took heart in the resumption of negotiations between Washington and Beijing. Still, many doubt the two sides can reach a deal anytime soon.', 'summary_detail': {'type': 'text/html', 'language': None, 'base': 'https://rss.nytimes.com/services/xml/rss/nyt/HomePage.xml', 'value': 'Markets took heart in the resumption of negotiations between Washington and Beijing. Still, many doubt the two sides can reach a deal anytime soon.'}, 'authors': [{'name': 'Alexandra Stevenson and Matt Phillips'}], 'author': 'Alexandra Stevenson and Matt Phillips', 'author_detail': {'name': 'Alexandra Stevenson and Matt Phillips'}, 'published': 'Mon, 01 Jul 2019 16:34:50 +0000', 'published_parsed': time.struct_time(tm_year=2019, tm_mon=7, tm_mday=1, tm_hour=16, tm_min=34, tm_sec=50, tm_wday=0, tm_yday=182, tm_isdst=0), 'tags': [{'term': 'International Trade and World Market', 'scheme': 'http://www.nytimes.com/namespaces/keywords/des', 'label': None}, {'term': 'Economic Conditions and Trends', 'scheme': 'http://www.nytimes.com/namespaces/keywords/des', 'label': None}, {'term': 'Stocks and Bonds', 'scheme': 'http://www.nytimes.com/namespaces/keywords/des', 'label': None}, {'term': 'China', 'scheme': 'http://www.nytimes.com/namespaces/keywords/nyt_geo', 'label': None}, {'term': 'Gold', 'scheme': 'http://www.nytimes.com/namespaces/keywords/des', 'label': None}, {'term': 'United States Politics and Government', 'scheme': 'http://www.nytimes.com/namespaces/keywords/des', 'label': None}, {'term': 'Group of Twenty', 'scheme': 'http://www.nytimes.com/namespaces/keywords/nyt_org', 'label': None}], 'media_content': [{'height': '151', 'medium': 'image', 'url': 'https://static01.nyt.com/images/2019/07/01/business/01markets-1alt/01markets-1alt-moth-v3.png', 'width': '151'}]}, {'title': 'Inside the Migrant Detention Center in Clint, Tex.', 'title_detail': {'type': 'text/plain', 'language': None, 'base': 'https://rss.nytimes.com/services/xml/rss/nyt/HomePage.xml', 'value': 'Inside the Migrant Detention Center in Clint, Tex.'}, 'links': [{'rel': 'alternate', 'type': 'text/html', 'href': 'https://www.nytimes.com/2019/07/01/podcasts/the-daily/migrant-children-border-detention-clint-texas.html?emc=rss&partner=rss'}, {'href': 'https://www.nytimes.com/2019/07/01/podcasts/the-daily/migrant-children-border-detention-clint-texas.html?emc=rss&partner=rss', 'rel': 'standout', 'type': 'text/html'}], 'link': 'https://www.nytimes.com/2019/07/01/podcasts/the-daily/migrant-children-border-detention-clint-texas.html?emc=rss&partner=rss', 'id': 'https://www.nytimes.com/2019/07/01/podcasts/the-daily/migrant-children-border-detention-clint-texas.html', 'guidislink': False, 'summary': '“Safe and sanitary” conditions are legally required for detained migrant children. Reports from a Texas border station set off an outcry that those standards weren’t being met.', 'summary_detail': {'type': 'text/html', 'language': None, 'base': 'https://rss.nytimes.com/services/xml/rss/nyt/HomePage.xml', 'value': '“Safe and sanitary” conditions are legally required for detained migrant children. Reports from a Texas border station set off an outcry that those standards weren’t being met.'}, 'published': 'Mon, 01 Jul 2019 19:34:49 +0000', 'published_parsed': time.struct_time(tm_year=2019, tm_mon=7, tm_mday=1, tm_hour=19, tm_min=34, tm_sec=49, tm_wday=0, tm_yday=182, tm_isdst=0), 'tags': [{'term': 'Immigration Detention', 'scheme': 'http://www.nytimes.com/namespaces/keywords/des', 'label': None}, {'term': 'Illegal Immigration', 'scheme': 'http://www.nytimes.com/namespaces/keywords/des', 'label': None}, {'term': 'Immigration and Emigration', 'scheme': 'http://www.nytimes.com/namespaces/keywords/des', 'label': None}, {'term': 'Customs and Border Protection (US)', 'scheme': 'http://www.nytimes.com/namespaces/keywords/nyt_org', 'label': None}, {'term': 'Health and Human Services Department', 'scheme': 'http://www.nytimes.com/namespaces/keywords/nyt_org', 'label': None}, {'term': 'Child Abuse and Neglect', 'scheme': 'http://www.nytimes.com/namespaces/keywords/des', 'label': None}, {'term': 'Children and Childhood', 'scheme': 'http://www.nytimes.com/namespaces/keywords/des', 'label': None}, {'term': 'Clint (Tex)', 'scheme': 'http://www.nytimes.com/namespaces/keywords/nyt_geo', 'label': None}], 'media_content': [{'height': '151', 'medium': 'image', 'url': 'https://static01.nyt.com/images/2019/07/01/podcasts/01daily1/01daily1-moth.jpg', 'width': '151'}], 'media_credit': [{'content': 'Mario Tama/Getty Images'}], 'credit': 'Mario Tama/Getty Images', 'content': [{'type': 'text/plain', 'language': None, 'base': 'https://rss.nytimes.com/services/xml/rss/nyt/HomePage.xml', 'value': 'Lawyers who visited a border station in Clint, Tex., last month reported filthy and negligent conditions for the young migrants who were detained there.'}]}, {'title': '‘Your Heritage Is Taken Away’: The Closing of 3 Historically Black Colleges', 'title_detail': {'type': 'text/plain', 'language': None, 'base': 'https://rss.nytimes.com/services/xml/rss/nyt/HomePage.xml', 'value': '‘Your Heritage Is Taken Away’: The Closing of 3 Historically Black Colleges'}, 'links': [{'rel': 'alternate', 'type': 'text/html', 'href': 'https://www.nytimes.com/2019/06/28/us/hbcu-closed-graduates.html?emc=rss&partner=rss'}, {'href': 'https://www.nytimes.com/2019/06/28/us/hbcu-closed-graduates.html?emc=rss&partner=rss', 'rel': 'standout', 'type': 'text/html'}], 'link': 'https://www.nytimes.com/2019/06/28/us/hbcu-closed-graduates.html?emc=rss&partner=rss', 'id': 'https://www.nytimes.com/2019/06/28/us/hbcu-closed-graduates.html', 'guidislink': False, 'summary': 'For nearly 200 years, historically black colleges and universities have educated thousands of students, but they continue to face an uncertain future.', 'summary_detail': {'type': 'text/html', 'language': None, 'base': 'https://rss.nytimes.com/services/xml/rss/nyt/HomePage.xml', 'value': 'For nearly 200 years, historically black colleges and universities have educated thousands of students, but they continue to face an uncertain future.'}, 'authors': [{'name': 'Wadzanai Mhute'}], 'author': 'Wadzanai Mhute', 'author_detail': {'name': 'Wadzanai Mhute'}, 'published': 'Sat, 29 Jun 2019 12:51:54 +0000', 'published_parsed': time.struct_time(tm_year=2019, tm_mon=6, tm_mday=29, tm_hour=12, tm_min=51, tm_sec=54, tm_wday=5, tm_yday=180, tm_isdst=0), 'tags': [{'term': 'Historically Black Colleges and Universities', 'scheme': 'http://www.nytimes.com/namespaces/keywords/des', 'label': None}, {'term': 'Bennett College for Women', 'scheme': 'http://www.nytimes.com/namespaces/keywords/nyt_org', 'label': None}, {'term': 'Race and Ethnicity', 'scheme': 'http://www.nytimes.com/namespaces/keywords/des', 'label': None}, {'term': 'Blacks', 'scheme': 'http://www.nytimes.com/namespaces/keywords/des', 'label': None}, {'term': 'Concordia College', 'scheme': 'http://www.nytimes.com/namespaces/keywords/nyt_org', 'label': None}], 'media_content': [{'height': '151', 'medium': 'image', 'url': 'https://static01.nyt.com/images/2019/06/28/us/00hbcu-bennett/00hbcu-bennett-moth.jpg', 'width': '151'}], 'media_credit': [{'content': 'Jeremy M. Lange for The New York Times'}], 'credit': 'Jeremy M. Lange for The New York Times', 'content': [{'type': 'text/plain', 'language': None, 'base': 'https://rss.nytimes.com/services/xml/rss/nyt/HomePage.xml', 'value': 'The main quad of Bennett College.'}]}, {'title': 'Kamala Harris Doesn’t Have to Believe in Joe Biden’s Innocence', 'title_detail': {'type': 'text/plain', 'language': None, 'base': 'https://rss.nytimes.com/services/xml/rss/nyt/HomePage.xml', 'value': 'Kamala Harris Doesn’t Have to Believe in Joe Biden’s Innocence'}, 'links': [{'rel': 'alternate', 'type': 'text/html', 'href': 'https://www.nytimes.com/2019/07/01/opinion/harris-biden-busing-debate.html?emc=rss&partner=rss'}, {'href': 'https://www.nytimes.com/2019/07/01/opinion/harris-biden-busing-debate.html?emc=rss&partner=rss', 'rel': 'standout', 'type': 'text/html'}], 'link': 'https://www.nytimes.com/2019/07/01/opinion/harris-biden-busing-debate.html?emc=rss&partner=rss', 'id': 'https://www.nytimes.com/2019/07/01/opinion/harris-biden-busing-debate.html', 'guidislink': False, 'summary': 'And why should she?', 'summary_detail': {'type': 'text/html', 'language': None, 'base': 'https://rss.nytimes.com/services/xml/rss/nyt/HomePage.xml', 'value': 'And why should she?'}, 'authors': [{'name': 'Jamelle Bouie'}], 'author': 'Jamelle Bouie', 'author_detail': {'name': 'Jamelle Bouie'}, 'published': 'Mon, 01 Jul 2019 19:19:08 +0000', 'published_parsed': time.struct_time(tm_year=2019, tm_mon=7, tm_mday=1, tm_hour=19, tm_min=19, tm_sec=8, tm_wday=0, tm_yday=182, tm_isdst=0), 'tags': [{'term': 'Harris, Kamala D', 'scheme': 'http://www.nytimes.com/namespaces/keywords/nyt_per', 'label': None}, {'term': 'Biden, Joseph R Jr', 'scheme': 'http://www.nytimes.com/namespaces/keywords/nyt_per', 'label': None}, {'term': 'Democratic Party', 'scheme': 'http://www.nytimes.com/namespaces/keywords/nyt_org', 'label': None}, {'term': 'Elections', 'scheme': 'http://www.nytimes.com/namespaces/keywords/des', 'label': None}, {'term': 'United States Politics and Government', 'scheme': 'http://www.nytimes.com/namespaces/keywords/des', 'label': None}, {'term': 'Booker, Cory A', 'scheme': 'http://www.nytimes.com/namespaces/keywords/nyt_per', 'label': None}, {'term': 'Debates (Political)', 'scheme': 'http://www.nytimes.com/namespaces/keywords/des', 'label': None}, {'term': 'Primaries and Caucuses', 'scheme': 'http://www.nytimes.com/namespaces/keywords/des', 'label': None}], 'media_content': [{'height': '151', 'medium': 'image', 'url': 'https://static01.nyt.com/images/2019/06/27/opinion/27dam11/27dam11-moth-v3.jpg', 'width': '151'}], 'media_credit': [{'content': 'Damon Winter/The New York Times'}], 'credit': 'Damon Winter/The New York Times', 'content': [{'type': 'text/plain', 'language': None, 'base': 'https://rss.nytimes.com/services/xml/rss/nyt/HomePage.xml', 'value': 'Kamala Harris addressing Joe Biden, viewed in the debate press room.'}]}, {'title': 'Please Stop Telling Me America Is Great', 'title_detail': {'type': 'text/plain', 'language': None, 'base': 'https://rss.nytimes.com/services/xml/rss/nyt/HomePage.xml', 'value': 'Please Stop Telling Me America Is Great'}, 'links': [{'rel': 'alternate', 'type': 'text/html', 'href': 'https://www.nytimes.com/2019/07/01/opinion/america-great.html?emc=rss&partner=rss'}, {'href': 'https://www.nytimes.com/2019/07/01/opinion/america-great.html?emc=rss&partner=rss', 'rel': 'standout', 'type': 'text/html'}], 'link': 'https://www.nytimes.com/2019/07/01/opinion/america-great.html?emc=rss&partner=rss', 'id': 'https://www.nytimes.com/2019/07/01/opinion/america-great.html', 'guidislink': False, 'summary': 'Politicians love to say it’s the greatest, but the numbers (and reality) don’t back them up.', 'summary_detail': {'type': 'text/html', 'language': None, 'base': 'https://rss.nytimes.com/services/xml/rss/nyt/HomePage.xml', 'value': 'Politicians love to say it’s the greatest, but the numbers (and reality) don’t back them up.'}, 'authors': [{'name': 'Taige Jensen and Nayeema Raza'}], 'author': 'Taige Jensen and Nayeema Raza', 'author_detail': {'name': 'Taige Jensen and Nayeema Raza'}, 'published': 'Mon, 01 Jul 2019 19:19:07 +0000', 'published_parsed': time.struct_time(tm_year=2019, tm_mon=7, tm_mday=1, tm_hour=19, tm_min=19, tm_sec=7, tm_wday=0, tm_yday=182, tm_isdst=0), 'tags': [{'term': 'United States', 'scheme': 'http://www.nytimes.com/namespaces/keywords/nyt_geo', 'label': None}, {'term': 'Poverty', 'scheme': 'http://www.nytimes.com/namespaces/keywords/des', 'label': None}, {'term': 'Elections', 'scheme': 'http://www.nytimes.com/namespaces/keywords/des', 'label': None}, {'term': 'Presidential Elections (US)', 'scheme': 'http://www.nytimes.com/namespaces/keywords/des', 'label': None}, {'term': 'Organization for Economic Cooperation and Development', 'scheme': 'http://www.nytimes.com/namespaces/keywords/nyt_org', 'label': None}, {'term': 'Third World and Developing Countries', 'scheme': 'http://www.nytimes.com/namespaces/keywords/des', 'label': None}, {'term': 'your-feed-opinionvideo', 'scheme': 'http://www.nytimes.com/namespaces/keywords/des', 'label': None}], 'media_content': [{'height': '151', 'medium': 'image', 'url': 'https://static01.nyt.com/images/2019/04/30/autossell/america-is-ok/america-is-ok-moth.jpg', 'width': '151'}], 'media_credit': [{'content': 'Getty Images'}], 'credit': 'Getty Images'}, {'title': 'Iran Is Rushing to Build a Nuclear Weapon — and Trump Can’t Stop It', 'title_detail': {'type': 'text/plain', 'language': None, 'base': 'https://rss.nytimes.com/services/xml/rss/nyt/HomePage.xml', 'value': 'Iran Is Rushing to Build a Nuclear Weapon — and Trump Can’t Stop It'}, 'links': [{'rel': 'alternate', 'type': 'text/html', 'href': 'https://www.nytimes.com/2019/07/01/opinion/iran-is-rushing-to-build-a-nuclear-weapon-and-trump-cant-stop-it.html?emc=rss&partner=rss'}, {'href': 'https://www.nytimes.com/2019/07/01/opinion/iran-is-rushing-to-build-a-nuclear-weapon-and-trump-cant-stop-it.html?emc=rss&partner=rss', 'rel': 'standout', 'type': 'text/html'}], 'link': 'https://www.nytimes.com/2019/07/01/opinion/iran-is-rushing-to-build-a-nuclear-weapon-and-trump-cant-stop-it.html?emc=rss&partner=rss', 'id': 'https://www.nytimes.com/2019/07/01/opinion/iran-is-rushing-to-build-a-nuclear-weapon-and-trump-cant-stop-it.html', 'guidislink': False, 'summary': 'The White House strategy of “maximum pressure” is backfiring in the most dangerous way possible.', 'summary_detail': {'type': 'text/html', 'language': None, 'base': 'https://rss.nytimes.com/services/xml/rss/nyt/HomePage.xml', 'value': 'The White House strategy of “maximum pressure” is backfiring in the most dangerous way possible.'}, 'authors': [{'name': 'John J. Mearsheimer'}], 'author': 'John J. Mearsheimer', 'author_detail': {'name': 'John J. Mearsheimer'}, 'published': 'Mon, 01 Jul 2019 19:19:08 +0000', 'published_parsed': time.struct_time(tm_year=2019, tm_mon=7, tm_mday=1, tm_hour=19, tm_min=19, tm_sec=8, tm_wday=0, tm_yday=182, tm_isdst=0), 'tags': [{'term': 'United States International Relations', 'scheme': 'http://www.nytimes.com/namespaces/keywords/des', 'label': None}, {'term': 'Nuclear Weapons', 'scheme': 'http://www.nytimes.com/namespaces/keywords/des', 'label': None}, {'term': 'Trump, Donald J', 'scheme': 'http://www.nytimes.com/namespaces/keywords/nyt_per', 'label': None}, {'term': 'Iran', 'scheme': 'http://www.nytimes.com/namespaces/keywords/nyt_geo', 'label': None}]}, {'title': 'The Vulnerability of Biden (and Bernie)', 'title_detail': {'type': 'text/plain', 'language': None, 'base': 'https://rss.nytimes.com/services/xml/rss/nyt/HomePage.xml', 'value': 'The Vulnerability of Biden (and Bernie)'}, 'links': [{'rel': 'alternate', 'type': 'text/html', 'href': 'https://www.nytimes.com/2019/07/01/opinion/biden-sanders-2020-donors.html?emc=rss&partner=rss'}, {'href': 'https://www.nytimes.com/2019/07/01/opinion/biden-sanders-2020-donors.html?emc=rss&partner=rss', 'rel': 'standout', 'type': 'text/html'}], 'link': 'https://www.nytimes.com/2019/07/01/opinion/biden-sanders-2020-donors.html?emc=rss&partner=rss', 'id': 'https://www.nytimes.com/2019/07/01/opinion/biden-sanders-2020-donors.html', 'guidislink': False, 'summary': 'A fascinating new poll of Democratic donors.', 'summary_detail': {'type': 'text/html', 'language': None, 'base': 'https://rss.nytimes.com/services/xml/rss/nyt/HomePage.xml', 'value': 'A fascinating new poll of Democratic donors.'}, 'authors': [{'name': 'David Leonhardt'}], 'author': 'David Leonhardt', 'author_detail': {'name': 'David Leonhardt'}, 'published': 'Mon, 01 Jul 2019 19:19:08 +0000', 'published_parsed': time.struct_time(tm_year=2019, tm_mon=7, tm_mday=1, tm_hour=19, tm_min=19, tm_sec=8, tm_wday=0, tm_yday=182, tm_isdst=0), 'tags': [{'term': 'Campaign Finance', 'scheme': 'http://www.nytimes.com/namespaces/keywords/des', 'label': None}, {'term': 'Presidential Election of 2020', 'scheme': 'http://www.nytimes.com/namespaces/keywords/des', 'label': None}, {'term': 'Polls and Public Opinion', 'scheme': 'http://www.nytimes.com/namespaces/keywords/des', 'label': None}, {'term': 'Voting and Voters', 'scheme': 'http://www.nytimes.com/namespaces/keywords/des', 'label': None}, {'term': 'Primaries and Caucuses', 'scheme': 'http://www.nytimes.com/namespaces/keywords/des', 'label': None}, {'term': 'Global Warming', 'scheme': 'http://www.nytimes.com/namespaces/keywords/des', 'label': None}, {'term': 'Health Insurance and Managed Care', 'scheme': 'http://www.nytimes.com/namespaces/keywords/des', 'label': None}, {'term': 'Democratic Party', 'scheme': 'http://www.nytimes.com/namespaces/keywords/nyt_org', 'label': None}, {'term': 'Biden, Joseph R Jr', 'scheme': 'http://www.nytimes.com/namespaces/keywords/nyt_per', 'label': None}, {'term': 'Buttigieg, Pete (1982- )', 'scheme': 'http://www.nytimes.com/namespaces/keywords/nyt_per', 'label': None}, {'term': 'Harris, Kamala D', 'scheme': 'http://www.nytimes.com/namespaces/keywords/nyt_per', 'label': None}, {'term': 'Sanders, Bernard', 'scheme': 'http://www.nytimes.com/namespaces/keywords/nyt_per', 'label': None}, {'term': 'Warren, Elizabeth', 'scheme': 'http://www.nytimes.com/namespaces/keywords/nyt_per', 'label': None}], 'media_content': [{'height': '151', 'medium': 'image', 'url': 'https://static01.nyt.com/images/2019/07/01/opinion/01leonhardt-newsletter/01leonhardt-newsletter-moth.jpg', 'width': '151'}], 'media_credit': [{'content': 'Wilfredo Lee/Associated Press'}], 'credit': 'Wilfredo Lee/Associated Press', 'content': [{'type': 'text/plain', 'language': None, 'base': 'https://rss.nytimes.com/services/xml/rss/nyt/HomePage.xml', 'value': 'Joe Biden and Bernie Sanders, 2020 presidential candidates, on stage during the Democratic primary debate last week.'}]}, {'title': 'The Trump-Kim Meeting Was Great TV. It Was Also Something Much More Important.', 'title_detail': {'type': 'text/plain', 'language': None, 'base': 'https://rss.nytimes.com/services/xml/rss/nyt/HomePage.xml', 'value': 'The Trump-Kim Meeting Was Great TV. It Was Also Something Much More Important.'}, 'links': [{'rel': 'alternate', 'type': 'text/html', 'href': 'https://www.nytimes.com/2019/07/01/opinion/north-korea.html?emc=rss&partner=rss'}, {'href': 'https://www.nytimes.com/2019/07/01/opinion/north-korea.html?emc=rss&partner=rss', 'rel': 'standout', 'type': 'text/html'}], 'link': 'https://www.nytimes.com/2019/07/01/opinion/north-korea.html?emc=rss&partner=rss', 'id': 'https://www.nytimes.com/2019/07/01/opinion/north-korea.html', 'guidislink': False, 'summary': 'With his visit to the Demilitarized Zone, the president is opening the door for real negotiations.', 'summary_detail': {'type': 'text/html', 'language': None, 'base': 'https://rss.nytimes.com/services/xml/rss/nyt/HomePage.xml', 'value': 'With his visit to the Demilitarized Zone, the president is opening the door for real negotiations.'}, 'authors': [{'name': 'Joel S. Wit'}], 'author': 'Joel S. Wit', 'author_detail': {'name': 'Joel S. Wit'}, 'published': 'Mon, 01 Jul 2019 19:19:07 +0000', 'published_parsed': time.struct_time(tm_year=2019, tm_mon=7, tm_mday=1, tm_hour=19, tm_min=19, tm_sec=7, tm_wday=0, tm_yday=182, tm_isdst=0), 'tags': [{'term': 'United States International Relations', 'scheme': 'http://www.nytimes.com/namespaces/keywords/des', 'label': None}, {'term': 'Arms Control and Limitation and Disarmament', 'scheme': 'http://www.nytimes.com/namespaces/keywords/des', 'label': None}, {'term': 'Nuclear Weapons', 'scheme': 'http://www.nytimes.com/namespaces/keywords/des', 'label': None}, {'term': 'Kim Jong-un', 'scheme': 'http://www.nytimes.com/namespaces/keywords/nyt_per', 'label': None}, {'term': 'Trump, Donald J', 'scheme': 'http://www.nytimes.com/namespaces/keywords/nyt_per', 'label': None}, {'term': 'North Korea', 'scheme': 'http://www.nytimes.com/namespaces/keywords/nyt_geo', 'label': None}, {'term': 'Korean Demilitarized Zone', 'scheme': 'http://www.nytimes.com/namespaces/keywords/nyt_geo', 'label': None}], 'media_content': [{'height': '151', 'medium': 'image', 'url': 'https://static01.nyt.com/images/2019/07/01/opinion/01witWeb/01witWeb-moth.jpg', 'width': '151'}], 'media_credit': [{'content': 'Erin Schaff/The New York Times'}], 'credit': 'Erin Schaff/The New York Times', 'content': [{'type': 'text/plain', 'language': None, 'base': 'https://rss.nytimes.com/services/xml/rss/nyt/HomePage.xml', 'value': 'President Trump met with Kim Jong-un, leader of North Korea, in the Korean Peninsula’s Demilitarized Zone, on Sunday.'}]}, {'title': 'Who Should Live in Flooded Old New York?', 'title_detail': {'type': 'text/plain', 'language': None, 'base': 'https://rss.nytimes.com/services/xml/rss/nyt/HomePage.xml', 'value': 'Who Should Live in Flooded Old New York?'}, 'links': [{'rel': 'alternate', 'type': 'text/html', 'href': 'https://www.nytimes.com/2019/07/01/opinion/future-climate-change-flooded-new-york-city.html?emc=rss&partner=rss'}, {'href': 'https://www.nytimes.com/2019/07/01/opinion/future-climate-change-flooded-new-york-city.html?emc=rss&partner=rss', 'rel': 'standout', 'type': 'text/html'}], 'link': 'https://www.nytimes.com/2019/07/01/opinion/future-climate-change-flooded-new-york-city.html?emc=rss&partner=rss', 'id': 'https://www.nytimes.com/2019/07/01/opinion/future-climate-change-flooded-new-york-city.html', 'guidislink': False, 'summary': 'Residents of the drowned city remain illegally, and have nowhere else to go.', 'summary_detail': {'type': 'text/html', 'language': None, 'base': 'https://rss.nytimes.com/services/xml/rss/nyt/HomePage.xml', 'value': 'Residents of the drowned city remain illegally, and have nowhere else to go.'}, 'authors': [{'name': 'Brooke Bolander'}], 'author': 'Brooke Bolander', 'author_detail': {'name': 'Brooke Bolander'}, 'published': 'Mon, 01 Jul 2019 15:22:47 +0000', 'published_parsed': time.struct_time(tm_year=2019, tm_mon=7, tm_mday=1, tm_hour=15, tm_min=22, tm_sec=47, tm_wday=0, tm_yday=182, tm_isdst=0), 'tags': [{'term': 'Floods', 'scheme': 'http://www.nytimes.com/namespaces/keywords/des', 'label': None}, {'term': 'Hurricanes and Tropical Storms', 'scheme': 'http://www.nytimes.com/namespaces/keywords/des', 'label': None}, {'term': 'New York City', 'scheme': 'http://www.nytimes.com/namespaces/keywords/nyt_geo', 'label': None}], 'media_content': [{'height': '151', 'medium': 'image', 'url': 'https://static01.nyt.com/images/2019/07/01/opinion/sunday/01bolander/d68ca4cb96d64185932d09d2ba2f51f9-moth.jpg', 'width': '151'}], 'media_credit': [{'content': 'John Karborn'}], 'credit': 'John Karborn'}, {'title': 'How to Defy the Catholic Church', 'title_detail': {'type': 'text/plain', 'language': None, 'base': 'https://rss.nytimes.com/services/xml/rss/nyt/HomePage.xml', 'value': 'How to Defy the Catholic Church'}, 'links': [{'rel': 'alternate', 'type': 'text/html', 'href': 'https://www.nytimes.com/2019/07/01/opinion/how-to-defy-the-catholic-church.html?emc=rss&partner=rss'}, {'href': 'https://www.nytimes.com/2019/07/01/opinion/how-to-defy-the-catholic-church.html?emc=rss&partner=rss', 'rel': 'standout', 'type': 'text/html'}], 'link': 'https://www.nytimes.com/2019/07/01/opinion/how-to-defy-the-catholic-church.html?emc=rss&partner=rss', 'id': 'https://www.nytimes.com/2019/07/01/opinion/how-to-defy-the-catholic-church.html', 'guidislink': False, 'summary': 'Believers have a spiritual obligation to defend their L.G.B.T.Q. brothers and sisters, even against archbishops.', 'summary_detail': {'type': 'text/html', 'language': None, 'base': 'https://rss.nytimes.com/services/xml/rss/nyt/HomePage.xml', 'value': 'Believers have a spiritual obligation to defend their L.G.B.T.Q. brothers and sisters, even against archbishops.'}, 'authors': [{'name': 'Margaret Renkl'}], 'author': 'Margaret Renkl', 'author_detail': {'name': 'Margaret Renkl'}, 'published': 'Mon, 01 Jul 2019 19:19:09 +0000', 'published_parsed': time.struct_time(tm_year=2019, tm_mon=7, tm_mday=1, tm_hour=19, tm_min=19, tm_sec=9, tm_wday=0, tm_yday=182, tm_isdst=0), 'tags': [{'term': 'Same-Sex Marriage, Civil Unions and Domestic Partnerships', 'scheme': 'http://www.nytimes.com/namespaces/keywords/des', 'label': None}, {'term': 'Teachers and School Employees', 'scheme': 'http://www.nytimes.com/namespaces/keywords/des', 'label': None}, {'term': 'Religion-State Relations', 'scheme': 'http://www.nytimes.com/namespaces/keywords/des', 'label': None}, {'term': 'Indianapolis (Ind)', 'scheme': 'http://www.nytimes.com/namespaces/keywords/nyt_geo', 'label': None}], 'media_content': [{'height': '151', 'medium': 'image', 'url': 'https://static01.nyt.com/images/2019/07/01/opinion/01renklWeb/01renklWeb-moth.jpg', 'width': '151'}], 'media_credit': [{'content': 'Ruth Fremson/The New York Times'}], 'credit': 'Ruth Fremson/The New York Times'}, {'title': 'A Hong Kong Protester’s Tactic: Get the Police  to Hit You', 'title_detail': {'type': 'text/plain', 'language': None, 'base': 'https://rss.nytimes.com/services/xml/rss/nyt/HomePage.xml', 'value': 'A Hong Kong Protester’s Tactic: Get the Police  to Hit You'}, 'links': [{'rel': 'alternate', 'type': 'text/html', 'href': 'https://www.nytimes.com/2019/06/30/opinion/hong-kong-protests-police-violence.html?emc=rss&partner=rss'}, {'href': 'https://www.nytimes.com/2019/06/30/opinion/hong-kong-protests-police-violence.html?emc=rss&partner=rss', 'rel': 'standout', 'type': 'text/html'}], 'link': 'https://www.nytimes.com/2019/06/30/opinion/hong-kong-protests-police-violence.html?emc=rss&partner=rss', 'id': 'https://www.nytimes.com/2019/06/30/opinion/hong-kong-protests-police-violence.html', 'guidislink': False, 'summary': 'Using aggressive nonviolence to provoke the authorities and win over the public.', 'summary_detail': {'type': 'text/html', 'language': None, 'base': 'https://rss.nytimes.com/services/xml/rss/nyt/HomePage.xml', 'value': 'Using aggressive nonviolence to provoke the authorities and win over the public.'}, 'authors': [{'name': 'Fred Chan Ho-fai'}], 'author': 'Fred Chan Ho-fai', 'author_detail': {'name': 'Fred Chan Ho-fai'}, 'published': 'Mon, 01 Jul 2019 19:19:09 +0000', 'published_parsed': time.struct_time(tm_year=2019, tm_mon=7, tm_mday=1, tm_hour=19, tm_min=19, tm_sec=9, tm_wday=0, tm_yday=182, tm_isdst=0), 'tags': [{'term': 'Hong Kong', 'scheme': 'http://www.nytimes.com/namespaces/keywords/nyt_geo', 'label': None}, {'term': 'Demonstrations, Protests and Riots', 'scheme': 'http://www.nytimes.com/namespaces/keywords/des', 'label': None}, {'term': 'Politics and Government', 'scheme': 'http://www.nytimes.com/namespaces/keywords/des', 'label': None}, {'term': 'Police Brutality, Misconduct and Shootings', 'scheme': 'http://www.nytimes.com/namespaces/keywords/des', 'label': None}, {'term': 'Secession and Independence Movements', 'scheme': 'http://www.nytimes.com/namespaces/keywords/des', 'label': None}, {'term': 'Polls and Public Opinion', 'scheme': 'http://www.nytimes.com/namespaces/keywords/des', 'label': None}, {'term': 'Communist Party of China', 'scheme': 'http://www.nytimes.com/namespaces/keywords/nyt_org', 'label': None}, {'term': 'Hong Kong Indigenous', 'scheme': 'http://www.nytimes.com/namespaces/keywords/nyt_org', 'label': None}, {'term': 'Occupy Central', 'scheme': 'http://www.nytimes.com/namespaces/keywords/nyt_org', 'label': None}, {'term': 'Leung, Edward (1991- )', 'scheme': 'http://www.nytimes.com/namespaces/keywords/nyt_per', 'label': None}, {'term': 'China', 'scheme': 'http://www.nytimes.com/namespaces/keywords/nyt_geo', 'label': None}, {'term': 'Great Britain', 'scheme': 'http://www.nytimes.com/namespaces/keywords/nyt_geo', 'label': None}]}, {'title': 'Do the Republicans Even Believe in Democracy Anymore?', 'title_detail': {'type': 'text/plain', 'language': None, 'base': 'https://rss.nytimes.com/services/xml/rss/nyt/HomePage.xml', 'value': 'Do the Republicans Even Believe in Democracy Anymore?'}, 'links': [{'rel': 'alternate', 'type': 'text/html', 'href': 'https://www.nytimes.com/2019/07/01/opinion/republicans-trump-democracy.html?emc=rss&partner=rss'}, {'href': 'https://www.nytimes.com/2019/07/01/opinion/republicans-trump-democracy.html?emc=rss&partner=rss', 'rel': 'standout', 'type': 'text/html'}], 'link': 'https://www.nytimes.com/2019/07/01/opinion/republicans-trump-democracy.html?emc=rss&partner=rss', 'id': 'https://www.nytimes.com/2019/07/01/opinion/republicans-trump-democracy.html', 'guidislink': False, 'summary': 'They pay lip service to it, but they actively try to undermine its institutions.', 'summary_detail': {'type': 'text/html', 'language': None, 'base': 'https://rss.nytimes.com/services/xml/rss/nyt/HomePage.xml', 'value': 'They pay lip service to it, but they actively try to undermine its institutions.'}, 'authors': [{'name': 'Michael Tomasky'}], 'author': 'Michael Tomasky', 'author_detail': {'name': 'Michael Tomasky'}, 'published': 'Mon, 01 Jul 2019 19:19:10 +0000', 'published_parsed': time.struct_time(tm_year=2019, tm_mon=7, tm_mday=1, tm_hour=19, tm_min=19, tm_sec=10, tm_wday=0, tm_yday=182, tm_isdst=0), 'tags': [{'term': 'United States Politics and Government', 'scheme': 'http://www.nytimes.com/namespaces/keywords/des', 'label': None}, {'term': 'Republican Party', 'scheme': 'http://www.nytimes.com/namespaces/keywords/nyt_org', 'label': None}, {'term': 'Levitsky, Steven', 'scheme': 'http://www.nytimes.com/namespaces/keywords/nyt_per', 'label': None}, {'term': 'Ziblatt, Daniel', 'scheme': 'http://www.nytimes.com/namespaces/keywords/nyt_per', 'label': None}, {'term': 'Trump, Donald J', 'scheme': 'http://www.nytimes.com/namespaces/keywords/nyt_per', 'label': None}], 'media_content': [{'height': '151', 'medium': 'image', 'url': 'https://static01.nyt.com/images/2019/07/01/opinion/01tomaskyWeb/01tomaskyWeb-moth.jpg', 'width': '151'}], 'media_credit': [{'content': 'Damon Winter/The New York Times'}], 'credit': 'Damon Winter/The New York Times'}, {'title': 'What if All Your Slack Chats Were Leaked?', 'title_detail': {'type': 'text/plain', 'language': None, 'base': 'https://rss.nytimes.com/services/xml/rss/nyt/HomePage.xml', 'value': 'What if All Your Slack Chats Were Leaked?'}, 'links': [{'rel': 'alternate', 'type': 'text/html', 'href': 'https://www.nytimes.com/2019/07/01/opinion/slack-chat-hackers-encryption.html?emc=rss&partner=rss'}, {'href': 'https://www.nytimes.com/2019/07/01/opinion/slack-chat-hackers-encryption.html?emc=rss&partner=rss', 'rel': 'standout', 'type': 'text/html'}], 'link': 'https://www.nytimes.com/2019/07/01/opinion/slack-chat-hackers-encryption.html?emc=rss&partner=rss', 'id': 'https://www.nytimes.com/2019/07/01/opinion/slack-chat-hackers-encryption.html', 'guidislink': False, 'summary': 'Unless the company makes changes to its encryption and retention policies, using Slack could put your data at risk.', 'summary_detail': {'type': 'text/html', 'language': None, 'base': 'https://rss.nytimes.com/services/xml/rss/nyt/HomePage.xml', 'value': 'Unless the company makes changes to its encryption and retention policies, using Slack could put your data at risk.'}, 'authors': [{'name': 'Gennie Gebhart'}], 'author': 'Gennie Gebhart', 'author_detail': {'name': 'Gennie Gebhart'}, 'published': 'Mon, 01 Jul 2019 19:31:32 +0000', 'published_parsed': time.struct_time(tm_year=2019, tm_mon=7, tm_mday=1, tm_hour=19, tm_min=31, tm_sec=32, tm_wday=0, tm_yday=182, tm_isdst=0), 'tags': [{'term': 'Computer Security', 'scheme': 'http://www.nytimes.com/namespaces/keywords/des', 'label': None}, {'term': 'Cyberattacks and Hackers', 'scheme': 'http://www.nytimes.com/namespaces/keywords/des', 'label': None}, {'term': 'Slack', 'scheme': 'http://www.nytimes.com/namespaces/keywords/nyt_org', 'label': None}], 'media_content': [{'height': '151', 'medium': 'image', 'url': 'https://static01.nyt.com/images/2019/07/01/opinion/sunday/01Gebhart/3a3686bbfe474a98a7b8f38189a55c7f-moth.jpg', 'width': '151'}], 'media_credit': [{'content': 'Alyssa Foote'}], 'credit': 'Alyssa Foote'}, {'title': 'The Trump Fallacy', 'title_detail': {'type': 'text/plain', 'language': None, 'base': 'https://rss.nytimes.com/services/xml/rss/nyt/HomePage.xml', 'value': 'The Trump Fallacy'}, 'links': [{'rel': 'alternate', 'type': 'text/html', 'href': 'https://www.nytimes.com/2019/06/30/opinion/trump-fallacy.html?emc=rss&partner=rss'}, {'href': 'https://www.nytimes.com/2019/06/30/opinion/trump-fallacy.html?emc=rss&partner=rss', 'rel': 'standout', 'type': 'text/html'}], 'link': 'https://www.nytimes.com/2019/06/30/opinion/trump-fallacy.html?emc=rss&partner=rss', 'id': 'https://www.nytimes.com/2019/06/30/opinion/trump-fallacy.html', 'guidislink': False, 'summary': 'Despite what some of the president’s supporters think, you cannot celebrate his policies and ignore his poor behavior.', 'summary_detail': {'type': 'text/html', 'language': None, 'base': 'https://rss.nytimes.com/services/xml/rss/nyt/HomePage.xml', 'value': 'Despite what some of the president’s supporters think, you cannot celebrate his policies and ignore his poor behavior.'}, 'authors': [{'name': 'Greg Weiner'}], 'author': 'Greg Weiner', 'author_detail': {'name': 'Greg Weiner'}, 'published': 'Mon, 01 Jul 2019 19:19:09 +0000', 'published_parsed': time.struct_time(tm_year=2019, tm_mon=7, tm_mday=1, tm_hour=19, tm_min=19, tm_sec=9, tm_wday=0, tm_yday=182, tm_isdst=0), 'tags': [{'term': 'Constitution (US)', 'scheme': 'http://www.nytimes.com/namespaces/keywords/des', 'label': None}, {'term': 'United States Politics and Government', 'scheme': 'http://www.nytimes.com/namespaces/keywords/des', 'label': None}, {'term': 'Trump, Donald J', 'scheme': 'http://www.nytimes.com/namespaces/keywords/nyt_per', 'label': None}], 'media_content': [{'height': '151', 'medium': 'image', 'url': 'https://static01.nyt.com/images/2019/06/30/opinion/30Weiner/30Weiner-moth-v3.jpg', 'width': '151'}], 'media_credit': [{'content': 'Doug Mills/The New York Times'}], 'credit': 'Doug Mills/The New York Times'}, {'title': 'N.B.A. Free Agency Updates: Signings, Trades and More', 'title_detail': {'type': 'text/plain', 'language': None, 'base': 'https://rss.nytimes.com/services/xml/rss/nyt/HomePage.xml', 'value': 'N.B.A. Free Agency Updates: Signings, Trades and More'}, 'links': [{'rel': 'alternate', 'type': 'text/html', 'href': 'https://www.nytimes.com/2019/07/01/sports/basketball/nba-free-agency-tracker.html?emc=rss&partner=rss'}, {'href': 'https://www.nytimes.com/2019/07/01/sports/basketball/nba-free-agency-tracker.html?emc=rss&partner=rss', 'rel': 'standout', 'type': 'text/html'}], 'link': 'https://www.nytimes.com/2019/07/01/sports/basketball/nba-free-agency-tracker.html?emc=rss&partner=rss', 'id': 'https://www.nytimes.com/2019/07/01/sports/basketball/nba-free-agency-tracker.html', 'guidislink': False, 'summary': 'Kevin Durant. Kyrie Irving. Jimmy Butler. But no Kawhi Leonard (so far). Dozens of deals have been reported, and the chaos has only just begun.', 'summary_detail': {'type': 'text/html', 'language': None, 'base': 'https://rss.nytimes.com/services/xml/rss/nyt/HomePage.xml', 'value': 'Kevin Durant. Kyrie Irving. Jimmy Butler. But no Kawhi Leonard (so far). Dozens of deals have been reported, and the chaos has only just begun.'}, 'authors': [{'name': 'Scott Cacciola, Sopan Deb and Marc Stein'}], 'author': 'Scott Cacciola, Sopan Deb and Marc Stein', 'author_detail': {'name': 'Scott Cacciola, Sopan Deb and Marc Stein'}, 'published': 'Mon, 01 Jul 2019 19:44:28 +0000', 'published_parsed': time.struct_time(tm_year=2019, tm_mon=7, tm_mday=1, tm_hour=19, tm_min=44, tm_sec=28, tm_wday=0, tm_yday=182, tm_isdst=0), 'tags': [{'term': 'Basketball', 'scheme': 'http://www.nytimes.com/namespaces/keywords/des', 'label': None}, {'term': 'Free Agents (Sports)', 'scheme': 'http://www.nytimes.com/namespaces/keywords/des', 'label': None}, {'term': 'Trades (Sports)', 'scheme': 'http://www.nytimes.com/namespaces/keywords/des', 'label': None}, {'term': 'Brooklyn Nets', 'scheme': 'http://www.nytimes.com/namespaces/keywords/nyt_org', 'label': None}, {'term': 'Golden State Warriors', 'scheme': 'http://www.nytimes.com/namespaces/keywords/nyt_org', 'label': None}, {'term': 'Butler, Jimmy', 'scheme': 'http://www.nytimes.com/namespaces/keywords/nyt_per', 'label': None}, {'term': 'Durant, Kevin', 'scheme': 'http://www.nytimes.com/namespaces/keywords/nyt_per', 'label': None}, {'term': 'Harris, Tobias (1992- )', 'scheme': 'http://www.nytimes.com/namespaces/keywords/nyt_per', 'label': None}, {'term': 'Iguodala, Andre', 'scheme': 'http://www.nytimes.com/namespaces/keywords/nyt_per', 'label': None}, {'term': 'Irving, Kyrie', 'scheme': 'http://www.nytimes.com/namespaces/keywords/nyt_per', 'label': None}], 'media_content': [{'height': '151', 'medium': 'image', 'url': 'https://static01.nyt.com/images/2019/07/01/sports/01nbafreeagency/01nbafreeagency-moth.jpg', 'width': '151'}], 'media_credit': [{'content': 'Vaughn Ridley/Getty Images'}], 'credit': 'Vaughn Ridley/Getty Images', 'content': [{'type': 'text/plain', 'language': None, 'base': 'https://rss.nytimes.com/services/xml/rss/nyt/HomePage.xml', 'value': 'Kevin Durant before Game 5 of the NBA Finals last month.'}]}, {'title': '‘Three Women’ Takes a Long, Close Look at Sex Lives', 'title_detail': {'type': 'text/plain', 'language': None, 'base': 'https://rss.nytimes.com/services/xml/rss/nyt/HomePage.xml', 'value': '‘Three Women’ Takes a Long, Close Look at Sex Lives'}, 'links': [{'rel': 'alternate', 'type': 'text/html', 'href': 'https://www.nytimes.com/2019/06/28/books/review-three-women-lisa-taddeo.html?emc=rss&partner=rss'}, {'href': 'https://www.nytimes.com/2019/06/28/books/review-three-women-lisa-taddeo.html?emc=rss&partner=rss', 'rel': 'standout', 'type': 'text/html'}], 'link': 'https://www.nytimes.com/2019/06/28/books/review-three-women-lisa-taddeo.html?emc=rss&partner=rss', 'id': 'https://www.nytimes.com/2019/06/28/books/review-three-women-lisa-taddeo.html', 'guidislink': False, 'summary': 'Lisa Taddeo spent eight years with the subjects of her book, an immersive look at a particular story of female sexuality, refracted three ways.', 'summary_detail': {'type': 'text/html', 'language': None, 'base': 'https://rss.nytimes.com/services/xml/rss/nyt/HomePage.xml', 'value': 'Lisa Taddeo spent eight years with the subjects of her book, an immersive look at a particular story of female sexuality, refracted three ways.'}, 'authors': [{'name': 'Parul\\t Sehgal'}], 'author': 'Parul\\t Sehgal', 'author_detail': {'name': 'Parul\\t Sehgal'}, 'published': 'Mon, 01 Jul 2019 19:48:36 +0000', 'published_parsed': time.struct_time(tm_year=2019, tm_mon=7, tm_mday=1, tm_hour=19, tm_min=48, tm_sec=36, tm_wday=0, tm_yday=182, tm_isdst=0), 'tags': [{'term': 'Books and Literature', 'scheme': 'http://www.nytimes.com/namespaces/keywords/des', 'label': None}, {'term': 'Three Women (Book)', 'scheme': 'http://www.nytimes.com/namespaces/keywords/nyt_ttl', 'label': None}, {'term': 'Taddeo, Lisa', 'scheme': 'http://www.nytimes.com/namespaces/keywords/nyt_per', 'label': None}], 'media_content': [{'height': '151', 'medium': 'image', 'url': 'https://static01.nyt.com/images/2019/07/02/books/02booktaddeo1/02booktaddeo1-moth.jpg', 'width': '151'}], 'media_credit': [{'content': 'Alessandra Montalto/The New York Times'}], 'credit': 'Alessandra Montalto/The New York Times'}, {'title': 'Cori Gauff, 15, Seizes Her Moment, Upsetting Venus Williams at Wimbledon', 'title_detail': {'type': 'text/plain', 'language': None, 'base': 'https://rss.nytimes.com/services/xml/rss/nyt/HomePage.xml', 'value': 'Cori Gauff, 15, Seizes Her Moment, Upsetting Venus Williams at Wimbledon'}, 'links': [{'rel': 'alternate', 'type': 'text/html', 'href': 'https://www.nytimes.com/2019/07/01/sports/cori-gauff-venus-williams-wimbledon.html?emc=rss&partner=rss'}, {'href': 'https://www.nytimes.com/2019/07/01/sports/cori-gauff-venus-williams-wimbledon.html?emc=rss&partner=rss', 'rel': 'standout', 'type': 'text/html'}], 'link': 'https://www.nytimes.com/2019/07/01/sports/cori-gauff-venus-williams-wimbledon.html?emc=rss&partner=rss', 'id': 'https://www.nytimes.com/2019/07/01/sports/cori-gauff-venus-williams-wimbledon.html', 'guidislink': False, 'summary': 'Gauff, the youngest player in the draw, beat the oldest, her 39-year-old idol, in a changing-of-the-guard match.', 'summary_detail': {'type': 'text/html', 'language': None, 'base': 'https://rss.nytimes.com/services/xml/rss/nyt/HomePage.xml', 'value': 'Gauff, the youngest player in the draw, beat the oldest, her 39-year-old idol, in a changing-of-the-guard match.'}, 'authors': [{'name': 'Christopher Clarey'}], 'author': 'Christopher Clarey', 'author_detail': {'name': 'Christopher Clarey'}, 'published': 'Mon, 01 Jul 2019 19:44:57 +0000', 'published_parsed': time.struct_time(tm_year=2019, tm_mon=7, tm_mday=1, tm_hour=19, tm_min=44, tm_sec=57, tm_wday=0, tm_yday=182, tm_isdst=0), 'tags': [{'term': 'Wimbledon Tennis Tournament', 'scheme': 'http://www.nytimes.com/namespaces/keywords/des', 'label': None}, {'term': 'Tennis', 'scheme': 'http://www.nytimes.com/namespaces/keywords/des', 'label': None}, {'term': 'Gauff, Cori (2004- )', 'scheme': 'http://www.nytimes.com/namespaces/keywords/nyt_per', 'label': None}, {'term': 'Williams, Venus', 'scheme': 'http://www.nytimes.com/namespaces/keywords/nyt_per', 'label': None}], 'media_content': [{'height': '151', 'medium': 'image', 'url': 'https://static01.nyt.com/images/2019/07/01/sports/01clarey-react/merlin_157317636_ee1b4103-136d-4538-b347-7e7a882cead9-moth.jpg', 'width': '151'}], 'media_credit': [{'content': 'Toby Melville/Reuters'}], 'credit': 'Toby Melville/Reuters', 'content': [{'type': 'text/plain', 'language': None, 'base': 'https://rss.nytimes.com/services/xml/rss/nyt/HomePage.xml', 'value': 'Cori Gauff, the youngest qualifier in Wimbleon’s history, won her first-round match against Venus Williams, a five-time singles champion at the tournament.'}]}, {'title': 'Mossad Chief Bluntly Blames Iran for Tanker Attacks', 'title_detail': {'type': 'text/plain', 'language': None, 'base': 'https://rss.nytimes.com/services/xml/rss/nyt/HomePage.xml', 'value': 'Mossad Chief Bluntly Blames Iran for Tanker Attacks'}, 'links': [{'rel': 'alternate', 'type': 'text/html', 'href': 'https://www.nytimes.com/2019/07/01/world/middleeast/israel-iran-mossad.html?emc=rss&partner=rss'}, {'href': 'https://www.nytimes.com/2019/07/01/world/middleeast/israel-iran-mossad.html?emc=rss&partner=rss', 'rel': 'standout', 'type': 'text/html'}], 'link': 'https://www.nytimes.com/2019/07/01/world/middleeast/israel-iran-mossad.html?emc=rss&partner=rss', 'id': 'https://www.nytimes.com/2019/07/01/world/middleeast/israel-iran-mossad.html', 'guidislink': False, 'summary': 'The head of Israel’s spy agency nonetheless said he saw a “rare opportunity” to make progress toward peace in the region.', 'summary_detail': {'type': 'text/html', 'language': None, 'base': 'https://rss.nytimes.com/services/xml/rss/nyt/HomePage.xml', 'value': 'The head of Israel’s spy agency nonetheless said he saw a “rare opportunity” to make progress toward peace in the region.'}, 'authors': [{'name': 'David M. Halbfinger'}], 'author': 'David M. Halbfinger', 'author_detail': {'name': 'David M. Halbfinger'}, 'published': 'Mon, 01 Jul 2019 16:48:35 +0000', 'published_parsed': time.struct_time(tm_year=2019, tm_mon=7, tm_mday=1, tm_hour=16, tm_min=48, tm_sec=35, tm_wday=0, tm_yday=182, tm_isdst=0), 'tags': [{'term': 'Embargoes and Sanctions', 'scheme': 'http://www.nytimes.com/namespaces/keywords/des', 'label': None}, {'term': 'Islamic Revolutionary Guards Corps', 'scheme': 'http://www.nytimes.com/namespaces/keywords/nyt_org', 'label': None}, {'term': 'Mossad', 'scheme': 'http://www.nytimes.com/namespaces/keywords/nyt_org', 'label': None}, {'term': 'Israel', 'scheme': 'http://www.nytimes.com/namespaces/keywords/nyt_geo', 'label': None}, {'term': 'Iran', 'scheme': 'http://www.nytimes.com/namespaces/keywords/nyt_geo', 'label': None}, {'term': 'Persian Gulf', 'scheme': 'http://www.nytimes.com/namespaces/keywords/nyt_geo', 'label': None}, {'term': 'Yossi Cohen', 'scheme': 'http://www.nytimes.com/namespaces/keywords/nyt_per', 'label': None}], 'media_content': [{'height': '151', 'medium': 'image', 'url': 'https://static01.nyt.com/images/2019/06/21/business/01mossad1/21oilcrisis-1-moth.jpg', 'width': '151'}], 'media_credit': [{'content': \"Iranian Students' News Agency, via Associated Press\"}], 'credit': \"Iranian Students' News Agency, via Associated Press\", 'content': [{'type': 'text/plain', 'language': None, 'base': 'https://rss.nytimes.com/services/xml/rss/nyt/HomePage.xml', 'value': 'An oil tanker after it was attacked in the Gulf of Oman last month.'}]}, {'title': 'Mexico Hailstorm Blankets Western Areas Under 3 Feet of Ice', 'title_detail': {'type': 'text/plain', 'language': None, 'base': 'https://rss.nytimes.com/services/xml/rss/nyt/HomePage.xml', 'value': 'Mexico Hailstorm Blankets Western Areas Under 3 Feet of Ice'}, 'links': [{'rel': 'alternate', 'type': 'text/html', 'href': 'https://www.nytimes.com/2019/07/01/world/americas/mexico-hail-storm-guadalajara.html?emc=rss&partner=rss'}, {'href': 'https://www.nytimes.com/2019/07/01/world/americas/mexico-hail-storm-guadalajara.html?emc=rss&partner=rss', 'rel': 'standout', 'type': 'text/html'}], 'link': 'https://www.nytimes.com/2019/07/01/world/americas/mexico-hail-storm-guadalajara.html?emc=rss&partner=rss', 'id': 'https://www.nytimes.com/2019/07/01/world/americas/mexico-hail-storm-guadalajara.html', 'guidislink': False, 'summary': 'A local mayor said he had never seen anything like it. The Mexican Army also assisted in the cleanup.', 'summary_detail': {'type': 'text/html', 'language': None, 'base': 'https://rss.nytimes.com/services/xml/rss/nyt/HomePage.xml', 'value': 'A local mayor said he had never seen anything like it. The Mexican Army also assisted in the cleanup.'}, 'authors': [{'name': 'Iliana Magra'}], 'author': 'Iliana Magra', 'author_detail': {'name': 'Iliana Magra'}, 'published': 'Mon, 01 Jul 2019 16:34:41 +0000', 'published_parsed': time.struct_time(tm_year=2019, tm_mon=7, tm_mday=1, tm_hour=16, tm_min=34, tm_sec=41, tm_wday=0, tm_yday=182, tm_isdst=0), 'tags': [{'term': 'Guadalajara (Mexico)', 'scheme': 'http://www.nytimes.com/namespaces/keywords/nyt_geo', 'label': None}, {'term': 'Mexico', 'scheme': 'http://www.nytimes.com/namespaces/keywords/nyt_geo', 'label': None}]}, {'title': 'Lil Nas X Comes Out on Last Day of Pride Month', 'title_detail': {'type': 'text/plain', 'language': None, 'base': 'https://rss.nytimes.com/services/xml/rss/nyt/HomePage.xml', 'value': 'Lil Nas X Comes Out on Last Day of Pride Month'}, 'links': [{'rel': 'alternate', 'type': 'text/html', 'href': 'https://www.nytimes.com/2019/07/01/arts/music/lil-nas-x-c7osure.html?emc=rss&partner=rss'}, {'href': 'https://www.nytimes.com/2019/07/01/arts/music/lil-nas-x-c7osure.html?emc=rss&partner=rss', 'rel': 'standout', 'type': 'text/html'}], 'link': 'https://www.nytimes.com/2019/07/01/arts/music/lil-nas-x-c7osure.html?emc=rss&partner=rss', 'id': 'https://www.nytimes.com/2019/07/01/arts/music/lil-nas-x-c7osure.html', 'guidislink': False, 'summary': 'The 20-year-old “Old Town Road” rapper pointed to the lyrics of “c7osure,” a song off his new EP, as confirmation of his sexuality.', 'summary_detail': {'type': 'text/html', 'language': None, 'base': 'https://rss.nytimes.com/services/xml/rss/nyt/HomePage.xml', 'value': 'The 20-year-old “Old Town Road” rapper pointed to the lyrics of “c7osure,” a song off his new EP, as confirmation of his sexuality.'}, 'authors': [{'name': 'Julia Jacobs'}], 'author': 'Julia Jacobs', 'author_detail': {'name': 'Julia Jacobs'}, 'published': 'Mon, 01 Jul 2019 19:13:48 +0000', 'published_parsed': time.struct_time(tm_year=2019, tm_mon=7, tm_mday=1, tm_hour=19, tm_min=13, tm_sec=48, tm_wday=0, tm_yday=182, tm_isdst=0), 'tags': [{'term': 'Music', 'scheme': 'http://www.nytimes.com/namespaces/keywords/des', 'label': None}, {'term': 'Rap and Hip-Hop', 'scheme': 'http://www.nytimes.com/namespaces/keywords/des', 'label': None}, {'term': 'Homosexuality and Bisexuality', 'scheme': 'http://www.nytimes.com/namespaces/keywords/des', 'label': None}, {'term': 'Lil Nas X (Rapper)', 'scheme': 'http://www.nytimes.com/namespaces/keywords/nyt_per', 'label': None}, {'term': 'Social Media', 'scheme': 'http://www.nytimes.com/namespaces/keywords/des', 'label': None}, {'term': 'c7osure (Song)', 'scheme': 'http://www.nytimes.com/namespaces/keywords/nyt_ttl', 'label': None}], 'media_content': [{'height': '151', 'medium': 'image', 'url': 'https://static01.nyt.com/images/2019/07/02/arts/01lilnasx-item-BET/01lilnasx-item-BET-moth.jpg', 'width': '151'}], 'media_credit': [{'content': 'Jean-Baptiste Lacroix/Agence France-Presse &mdash; Getty Images'}], 'credit': 'Jean-Baptiste Lacroix/Agence France-Presse &mdash; Getty Images', 'content': [{'type': 'text/plain', 'language': None, 'base': 'https://rss.nytimes.com/services/xml/rss/nyt/HomePage.xml', 'value': 'Lil Nas X performing “Old Town Road” at the BET awards last week.\\xa0The rapper’s coming out on social media feels fitting, as he built his fame as an amateur meme maker.'}]}, {'title': 'Bombing Kills Dozens and Hurts Schoolchildren as Taliban Talks Resume', 'title_detail': {'type': 'text/plain', 'language': None, 'base': 'https://rss.nytimes.com/services/xml/rss/nyt/HomePage.xml', 'value': 'Bombing Kills Dozens and Hurts Schoolchildren as Taliban Talks Resume'}, 'links': [{'rel': 'alternate', 'type': 'text/html', 'href': 'https://www.nytimes.com/2019/07/01/world/asia/afghanistan-bombing-war-museum.html?emc=rss&partner=rss'}, {'href': 'https://www.nytimes.com/2019/07/01/world/asia/afghanistan-bombing-war-museum.html?emc=rss&partner=rss', 'rel': 'standout', 'type': 'text/html'}], 'link': 'https://www.nytimes.com/2019/07/01/world/asia/afghanistan-bombing-war-museum.html?emc=rss&partner=rss', 'id': 'https://www.nytimes.com/2019/07/01/world/asia/afghanistan-bombing-war-museum.html', 'guidislink': False, 'summary': 'While negotiators press toward a deal to withdraw U.S. troops, the Taliban set off bombs that wrecked a museum, TV station and a school in Kabul, Afghanistan.', 'summary_detail': {'type': 'text/html', 'language': None, 'base': 'https://rss.nytimes.com/services/xml/rss/nyt/HomePage.xml', 'value': 'While negotiators press toward a deal to withdraw U.S. troops, the Taliban set off bombs that wrecked a museum, TV station and a school in Kabul, Afghanistan.'}, 'authors': [{'name': 'Fatima Faizi, Rod Nordland and Thomas Gibbons-Neff'}], 'author': 'Fatima Faizi, Rod Nordland and Thomas Gibbons-Neff', 'author_detail': {'name': 'Fatima Faizi, Rod Nordland and Thomas Gibbons-Neff'}, 'published': 'Mon, 01 Jul 2019 11:33:33 +0000', 'published_parsed': time.struct_time(tm_year=2019, tm_mon=7, tm_mday=1, tm_hour=11, tm_min=33, tm_sec=33, tm_wday=0, tm_yday=182, tm_isdst=0), 'tags': [{'term': 'Museums', 'scheme': 'http://www.nytimes.com/namespaces/keywords/des', 'label': None}, {'term': 'Afghanistan War (2001- )', 'scheme': 'http://www.nytimes.com/namespaces/keywords/des', 'label': None}, {'term': 'Civilian Casualties', 'scheme': 'http://www.nytimes.com/namespaces/keywords/des', 'label': None}, {'term': 'State Department', 'scheme': 'http://www.nytimes.com/namespaces/keywords/nyt_org', 'label': None}, {'term': 'Taliban', 'scheme': 'http://www.nytimes.com/namespaces/keywords/nyt_org', 'label': None}, {'term': 'Afghanistan', 'scheme': 'http://www.nytimes.com/namespaces/keywords/nyt_geo', 'label': None}], 'media_content': [{'height': '151', 'medium': 'image', 'url': 'https://static01.nyt.com/images/2019/07/01/world/01afghanistan-hp-update/01afghanistan-hp-update-moth.jpg', 'width': '151'}], 'media_credit': [{'content': 'Rahmat Gul/Associated Press'}], 'credit': 'Rahmat Gul/Associated Press', 'content': [{'type': 'text/plain', 'language': None, 'base': 'https://rss.nytimes.com/services/xml/rss/nyt/HomePage.xml', 'value': 'The site of a deadly car-bombing in Kabul, Afghanistan, on Monday.'}]}, {'title': 'Under Modi, Hindus Find Hope for a Temple on Disputed Speck of Land', 'title_detail': {'type': 'text/plain', 'language': None, 'base': 'https://rss.nytimes.com/services/xml/rss/nyt/HomePage.xml', 'value': 'Under Modi, Hindus Find Hope for a Temple on Disputed Speck of Land'}, 'links': [{'rel': 'alternate', 'type': 'text/html', 'href': 'https://www.nytimes.com/2019/07/01/world/asia/india-hindus-muslims-ayodhya.html?emc=rss&partner=rss'}, {'href': 'https://www.nytimes.com/2019/07/01/world/asia/india-hindus-muslims-ayodhya.html?emc=rss&partner=rss', 'rel': 'standout', 'type': 'text/html'}], 'link': 'https://www.nytimes.com/2019/07/01/world/asia/india-hindus-muslims-ayodhya.html?emc=rss&partner=rss', 'id': 'https://www.nytimes.com/2019/07/01/world/asia/india-hindus-muslims-ayodhya.html', 'guidislink': False, 'summary': 'Hindus and Muslims have long sparred over a few barren acres in the city of Ayodhya. But since Prime Minister Narendra Modi’s commanding election win, Hindus feel a new optimism.', 'summary_detail': {'type': 'text/html', 'language': None, 'base': 'https://rss.nytimes.com/services/xml/rss/nyt/HomePage.xml', 'value': 'Hindus and Muslims have long sparred over a few barren acres in the city of Ayodhya. But since Prime Minister Narendra Modi’s commanding election win, Hindus feel a new optimism.'}, 'authors': [{'name': 'Kai Schultz and Hari Kumar'}], 'author': 'Kai Schultz and Hari Kumar', 'author_detail': {'name': 'Kai Schultz and Hari Kumar'}, 'published': 'Mon, 01 Jul 2019 07:00:07 +0000', 'published_parsed': time.struct_time(tm_year=2019, tm_mon=7, tm_mday=1, tm_hour=7, tm_min=0, tm_sec=7, tm_wday=0, tm_yday=182, tm_isdst=0), 'tags': [{'term': 'Bharatiya Janata Party', 'scheme': 'http://www.nytimes.com/namespaces/keywords/nyt_org', 'label': None}, {'term': 'Modi, Narendra', 'scheme': 'http://www.nytimes.com/namespaces/keywords/nyt_per', 'label': None}, {'term': 'Ayodhya (India)', 'scheme': 'http://www.nytimes.com/namespaces/keywords/nyt_geo', 'label': None}, {'term': 'Mosques', 'scheme': 'http://www.nytimes.com/namespaces/keywords/des', 'label': None}, {'term': 'Hinduism', 'scheme': 'http://www.nytimes.com/namespaces/keywords/des', 'label': None}, {'term': 'Muslims and Islam', 'scheme': 'http://www.nytimes.com/namespaces/keywords/des', 'label': None}, {'term': 'Supreme Court of India', 'scheme': 'http://www.nytimes.com/namespaces/keywords/nyt_org', 'label': None}], 'media_content': [{'height': '151', 'medium': 'image', 'url': 'https://static01.nyt.com/images/2019/06/30/world/00india-temple-dispatch-1/00india-temple-dispatch-1-moth.jpg', 'width': '151'}], 'media_credit': [{'content': 'Rebecca Conway for The New York Times'}], 'credit': 'Rebecca Conway for The New York Times', 'content': [{'type': 'text/plain', 'language': None, 'base': 'https://rss.nytimes.com/services/xml/rss/nyt/HomePage.xml', 'value': 'A model of a proposed Hindu temple draws visitors in Ayodhya, India. Since elections in May, Hindus have become increasingly confident that the temple will be built on a disputed site.'}]}, {'title': 'Russia Sanctions Froze His Fortune. Can the 4th Amendment Unlock It?', 'title_detail': {'type': 'text/plain', 'language': None, 'base': 'https://rss.nytimes.com/services/xml/rss/nyt/HomePage.xml', 'value': 'Russia Sanctions Froze His Fortune. Can the 4th Amendment Unlock It?'}, 'links': [{'rel': 'alternate', 'type': 'text/html', 'href': 'https://www.nytimes.com/2019/07/01/business/trump-donor-russia-sanctions.html?emc=rss&partner=rss'}, {'href': 'https://www.nytimes.com/2019/07/01/business/trump-donor-russia-sanctions.html?emc=rss&partner=rss', 'rel': 'standout', 'type': 'text/html'}], 'link': 'https://www.nytimes.com/2019/07/01/business/trump-donor-russia-sanctions.html?emc=rss&partner=rss', 'id': 'https://www.nytimes.com/2019/07/01/business/trump-donor-russia-sanctions.html', 'guidislink': False, 'summary': 'A Manhattan investor and Trump donor with business ties to the heirs of Prince can’t get access to his money. A lawsuit says it amounts to an unreasonable seizure of property.', 'summary_detail': {'type': 'text/html', 'language': None, 'base': 'https://rss.nytimes.com/services/xml/rss/nyt/HomePage.xml', 'value': 'A Manhattan investor and Trump donor with business ties to the heirs of Prince can’t get access to his money. A lawsuit says it amounts to an unreasonable seizure of property.'}, 'authors': [{'name': 'Ben Protess and William K. Rashbaum'}], 'author': 'Ben Protess and William K. Rashbaum', 'author_detail': {'name': 'Ben Protess and William K. Rashbaum'}, 'published': 'Mon, 01 Jul 2019 18:00:18 +0000', 'published_parsed': time.struct_time(tm_year=2019, tm_mon=7, tm_mday=1, tm_hour=18, tm_min=0, tm_sec=18, tm_wday=0, tm_yday=182, tm_isdst=0), 'tags': [{'term': 'Embargoes and Sanctions', 'scheme': 'http://www.nytimes.com/namespaces/keywords/des', 'label': None}, {'term': 'Russian Interference in 2016 US Elections and Ties to Trump Associates', 'scheme': 'http://www.nytimes.com/namespaces/keywords/des', 'label': None}, {'term': 'Vekselberg, Viktor F', 'scheme': 'http://www.nytimes.com/namespaces/keywords/nyt_per', 'label': None}, {'term': 'Intrater, Andrew', 'scheme': 'http://www.nytimes.com/namespaces/keywords/nyt_per', 'label': None}, {'term': 'Fourth Amendment (US Constitution)', 'scheme': 'http://www.nytimes.com/namespaces/keywords/des', 'label': None}, {'term': 'Suits and Litigation (Civil)', 'scheme': 'http://www.nytimes.com/namespaces/keywords/des', 'label': None}, {'term': 'Treasury Department', 'scheme': 'http://www.nytimes.com/namespaces/keywords/nyt_org', 'label': None}, {'term': 'Trump, Donald J', 'scheme': 'http://www.nytimes.com/namespaces/keywords/nyt_per', 'label': None}, {'term': 'Cohen, Michael D (1966- )', 'scheme': 'http://www.nytimes.com/namespaces/keywords/nyt_per', 'label': None}, {'term': 'Columbus Nova', 'scheme': 'http://www.nytimes.com/namespaces/keywords/nyt_org', 'label': None}], 'media_content': [{'height': '151', 'medium': 'image', 'url': 'https://static01.nyt.com/images/2019/06/29/multimedia/00russiansanctions-00/00russiansanctions-00-moth.jpg', 'width': '151'}], 'media_credit': [{'content': 'Jeenah Moon for The New York Times'}], 'credit': 'Jeenah Moon for The New York Times', 'content': [{'type': 'text/plain', 'language': None, 'base': 'https://rss.nytimes.com/services/xml/rss/nyt/HomePage.xml', 'value': 'Andrew Intrater, a Manhattan investor and Trump donor with ties to a Russian oligarch.'}]}, {'title': 'Wounded by Chemical Weapons in Iraq, Veterans Fight a Lonely Battle for Help', 'title_detail': {'type': 'text/plain', 'language': None, 'base': 'https://rss.nytimes.com/services/xml/rss/nyt/HomePage.xml', 'value': 'Wounded by Chemical Weapons in Iraq, Veterans Fight a Lonely Battle for Help'}, 'links': [{'rel': 'alternate', 'type': 'text/html', 'href': 'https://www.nytimes.com/2019/06/26/magazine/chemical-weapons-military-iraq.html?emc=rss&partner=rss'}, {'href': 'https://www.nytimes.com/2019/06/26/magazine/chemical-weapons-military-iraq.html?emc=rss&partner=rss', 'rel': 'standout', 'type': 'text/html'}], 'link': 'https://www.nytimes.com/2019/06/26/magazine/chemical-weapons-military-iraq.html?emc=rss&partner=rss', 'id': 'https://www.nytimes.com/2019/06/26/magazine/chemical-weapons-military-iraq.html', 'guidislink': False, 'summary': 'Annette Nellis and three other airmen came forward with health issues years after they were exposed to chemicals during a training exercise. When will the military provide the recognition they were promised?', 'summary_detail': {'type': 'text/html', 'language': None, 'base': 'https://rss.nytimes.com/services/xml/rss/nyt/HomePage.xml', 'value': 'Annette Nellis and three other airmen came forward with health issues years after they were exposed to chemicals during a training exercise. When will the military provide the recognition they were promised?'}, 'authors': [{'name': 'John Ismay'}], 'author': 'John Ismay', 'author_detail': {'name': 'John Ismay'}, 'published': 'Wed, 26 Jun 2019 12:06:47 +0000', 'published_parsed': time.struct_time(tm_year=2019, tm_mon=6, tm_mday=26, tm_hour=12, tm_min=6, tm_sec=47, tm_wday=2, tm_yday=177, tm_isdst=0), 'tags': [{'term': 'United States Defense and Military Forces', 'scheme': 'http://www.nytimes.com/namespaces/keywords/des', 'label': None}, {'term': 'Veterans', 'scheme': 'http://www.nytimes.com/namespaces/keywords/des', 'label': None}, {'term': 'Iraq War (2003-11)', 'scheme': 'http://www.nytimes.com/namespaces/keywords/des', 'label': None}, {'term': 'Biological and Chemical Warfare', 'scheme': 'http://www.nytimes.com/namespaces/keywords/des', 'label': None}, {'term': 'Purple Heart (Military Decoration)', 'scheme': 'http://www.nytimes.com/namespaces/keywords/des', 'label': None}, {'term': 'Defense Department', 'scheme': 'http://www.nytimes.com/namespaces/keywords/nyt_org', 'label': None}, {'term': 'Veterans Affairs Department', 'scheme': 'http://www.nytimes.com/namespaces/keywords/nyt_org', 'label': None}, {'term': 'Balad (Iraq)', 'scheme': 'http://www.nytimes.com/namespaces/keywords/nyt_geo', 'label': None}], 'media_content': [{'height': '151', 'medium': 'image', 'url': 'https://static01.nyt.com/images/2019/06/26/magazine/26atwar-pjgas-image-01/26atwar-pjgas-image-03-moth.jpg', 'width': '151'}], 'media_credit': [{'content': 'Matt Eich for The New York Times'}], 'credit': 'Matt Eich for The New York Times', 'content': [{'type': 'text/plain', 'language': None, 'base': 'https://rss.nytimes.com/services/xml/rss/nyt/HomePage.xml', 'value': 'During a mission in Iraq in 2005, Annette Nellis saw pinhead-size blisters forming on her face and chest. Within six hours, those blisters had each grown to half the size of a dime.'}]}, {'title': '2,000 Cameras Will Be Watching How You Drive in New York City', 'title_detail': {'type': 'text/plain', 'language': None, 'base': 'https://rss.nytimes.com/services/xml/rss/nyt/HomePage.xml', 'value': '2,000 Cameras Will Be Watching How You Drive in New York City'}, 'links': [{'rel': 'alternate', 'type': 'text/html', 'href': 'https://www.nytimes.com/2019/07/01/nyregion/speeding-cameras-nyc.html?emc=rss&partner=rss'}, {'href': 'https://www.nytimes.com/2019/07/01/nyregion/speeding-cameras-nyc.html?emc=rss&partner=rss', 'rel': 'standout', 'type': 'text/html'}], 'link': 'https://www.nytimes.com/2019/07/01/nyregion/speeding-cameras-nyc.html?emc=rss&partner=rss', 'id': 'https://www.nytimes.com/2019/07/01/nyregion/speeding-cameras-nyc.html', 'guidislink': False, 'summary': 'Will the nation’s largest urban network of speed cameras make the city safer or “one big speed trap?”', 'summary_detail': {'type': 'text/html', 'language': None, 'base': 'https://rss.nytimes.com/services/xml/rss/nyt/HomePage.xml', 'value': 'Will the nation’s largest urban network of speed cameras make the city safer or “one big speed trap?”'}, 'authors': [{'name': 'Winnie Hu'}], 'author': 'Winnie Hu', 'author_detail': {'name': 'Winnie Hu'}, 'published': 'Mon, 01 Jul 2019 19:11:28 +0000', 'published_parsed': time.struct_time(tm_year=2019, tm_mon=7, tm_mday=1, tm_hour=19, tm_min=11, tm_sec=28, tm_wday=0, tm_yday=182, tm_isdst=0), 'tags': [{'term': 'Cameras', 'scheme': 'http://www.nytimes.com/namespaces/keywords/des', 'label': None}, {'term': 'Traffic Accidents and Safety', 'scheme': 'http://www.nytimes.com/namespaces/keywords/des', 'label': None}, {'term': 'Speed Limits and Speeding', 'scheme': 'http://www.nytimes.com/namespaces/keywords/des', 'label': None}, {'term': 'Roads and Traffic', 'scheme': 'http://www.nytimes.com/namespaces/keywords/des', 'label': None}, {'term': 'Transportation Alternatives', 'scheme': 'http://www.nytimes.com/namespaces/keywords/nyt_org', 'label': None}, {'term': 'Gounardes, Andrew S', 'scheme': 'http://www.nytimes.com/namespaces/keywords/nyt_per', 'label': None}, {'term': 'Trottenberg, Polly', 'scheme': 'http://www.nytimes.com/namespaces/keywords/nyt_per', 'label': None}, {'term': 'New York City', 'scheme': 'http://www.nytimes.com/namespaces/keywords/nyt_geo', 'label': None}], 'media_content': [{'height': '151', 'medium': 'image', 'url': 'https://static01.nyt.com/images/2019/06/10/nyregion/00speedcameras1/00speedcameras1-moth.jpg', 'width': '151'}], 'media_credit': [{'content': 'James Estrin/The New York Times'}], 'credit': 'James Estrin/The New York Times', 'content': [{'type': 'text/plain', 'language': None, 'base': 'https://rss.nytimes.com/services/xml/rss/nyt/HomePage.xml', 'value': 'A camera was installed on West End Avenue on the Upper West Side of Manhattan as part of a major expansion of a program in New York City to discourage speeding near schools.'}]}, {'title': '5 Cheap(ish) Things to Keep Your Bedroom Cool', 'title_detail': {'type': 'text/plain', 'language': None, 'base': 'https://rss.nytimes.com/services/xml/rss/nyt/HomePage.xml', 'value': '5 Cheap(ish) Things to Keep Your Bedroom Cool'}, 'links': [{'rel': 'alternate', 'type': 'text/html', 'href': 'https://www.nytimes.com/2019/06/30/smarter-living/5-cheap-ish-things-to-keep-your-bedroom-cool.html?emc=rss&partner=rss'}, {'href': 'https://www.nytimes.com/2019/06/30/smarter-living/5-cheap-ish-things-to-keep-your-bedroom-cool.html?emc=rss&partner=rss', 'rel': 'standout', 'type': 'text/html'}], 'link': 'https://www.nytimes.com/2019/06/30/smarter-living/5-cheap-ish-things-to-keep-your-bedroom-cool.html?emc=rss&partner=rss', 'id': 'https://www.nytimes.com/2019/06/30/smarter-living/5-cheap-ish-things-to-keep-your-bedroom-cool.html', 'guidislink': False, 'summary': 'As summer heats up, here are some ways to keep cool at home.', 'summary_detail': {'type': 'text/html', 'language': None, 'base': 'https://rss.nytimes.com/services/xml/rss/nyt/HomePage.xml', 'value': 'As summer heats up, here are some ways to keep cool at home.'}, 'authors': [{'name': 'Christine Cyr Clisset'}], 'author': 'Christine Cyr Clisset', 'author_detail': {'name': 'Christine Cyr Clisset'}, 'published': 'Mon, 01 Jul 2019 13:47:27 +0000', 'published_parsed': time.struct_time(tm_year=2019, tm_mon=7, tm_mday=1, tm_hour=13, tm_min=47, tm_sec=27, tm_wday=0, tm_yday=182, tm_isdst=0), 'media_content': [{'height': '151', 'medium': 'image', 'url': 'https://static01.nyt.com/images/2019/07/01/smarter-living/01sl-newsletter-bedroom/01sl-newsletter-bedroom-moth.jpg', 'width': '151'}], 'media_credit': [{'content': 'Katherine Marks for The New York Times'}], 'credit': 'Katherine Marks for The New York Times', 'content': [{'type': 'text/plain', 'language': None, 'base': 'https://rss.nytimes.com/services/xml/rss/nyt/HomePage.xml', 'value': 'Northwest view from bedroom in Manhattan.'}]}, {'title': 'Could Ancient Greek Philosophy Help You Work Smarter and Better?', 'title_detail': {'type': 'text/plain', 'language': None, 'base': 'https://rss.nytimes.com/services/xml/rss/nyt/HomePage.xml', 'value': 'Could Ancient Greek Philosophy Help You Work Smarter and Better?'}, 'links': [{'rel': 'alternate', 'type': 'text/html', 'href': 'https://www.nytimes.com/2019/06/27/smarter-living/ancient-greek-philosophy-humors-work-smarter-productivity.html?emc=rss&partner=rss'}, {'href': 'https://www.nytimes.com/2019/06/27/smarter-living/ancient-greek-philosophy-humors-work-smarter-productivity.html?emc=rss&partner=rss', 'rel': 'standout', 'type': 'text/html'}], 'link': 'https://www.nytimes.com/2019/06/27/smarter-living/ancient-greek-philosophy-humors-work-smarter-productivity.html?emc=rss&partner=rss', 'id': 'https://www.nytimes.com/2019/06/27/smarter-living/ancient-greek-philosophy-humors-work-smarter-productivity.html', 'guidislink': False, 'summary': 'The idea of “temperaments” or “humors” has been long debunked, but thinking in terms of broad personality types may actually help you get things done.', 'summary_detail': {'type': 'text/html', 'language': None, 'base': 'https://rss.nytimes.com/services/xml/rss/nyt/HomePage.xml', 'value': 'The idea of “temperaments” or “humors” has been long debunked, but thinking in terms of broad personality types may actually help you get things done.'}, 'authors': [{'name': 'Elizabeth Grace Saunders'}], 'author': 'Elizabeth Grace Saunders', 'author_detail': {'name': 'Elizabeth Grace Saunders'}, 'published': 'Mon, 01 Jul 2019 13:47:27 +0000', 'published_parsed': time.struct_time(tm_year=2019, tm_mon=7, tm_mday=1, tm_hour=13, tm_min=47, tm_sec=27, tm_wday=0, tm_yday=182, tm_isdst=0), 'tags': [{'term': 'Labor and Jobs', 'scheme': 'http://www.nytimes.com/namespaces/keywords/des', 'label': None}, {'term': 'Psychology and Psychologists', 'scheme': 'http://www.nytimes.com/namespaces/keywords/des', 'label': None}, {'term': 'Productivity', 'scheme': 'http://www.nytimes.com/namespaces/keywords/des', 'label': None}, {'term': 'Philosophy', 'scheme': 'http://www.nytimes.com/namespaces/keywords/des', 'label': None}], 'media_content': [{'height': '151', 'medium': 'image', 'url': 'https://static01.nyt.com/images/2019/07/01/smarter-living/01sl_fourtempermants/00sl_fourtempermants-moth.jpg', 'width': '151'}], 'media_credit': [{'content': 'Julia Schwarz'}], 'credit': 'Julia Schwarz'}, {'title': '10 Ways to Lower the Cancer Risk of Grilling', 'title_detail': {'type': 'text/plain', 'language': None, 'base': 'https://rss.nytimes.com/services/xml/rss/nyt/HomePage.xml', 'value': '10 Ways to Lower the Cancer Risk of Grilling'}, 'links': [{'rel': 'alternate', 'type': 'text/html', 'href': 'https://www.nytimes.com/2019/06/27/well/eat/10-ways-to-lower-the-cancer-risk-of-grilling.html?emc=rss&partner=rss'}, {'href': 'https://www.nytimes.com/2019/06/27/well/eat/10-ways-to-lower-the-cancer-risk-of-grilling.html?emc=rss&partner=rss', 'rel': 'standout', 'type': 'text/html'}], 'link': 'https://www.nytimes.com/2019/06/27/well/eat/10-ways-to-lower-the-cancer-risk-of-grilling.html?emc=rss&partner=rss', 'id': 'https://www.nytimes.com/2019/06/27/well/eat/10-ways-to-lower-the-cancer-risk-of-grilling.html', 'guidislink': False, 'summary': 'If you plan to grill often experts suggest taking some small steps to make a big difference in lowering your exposure to compounds that are tied to cancer.', 'summary_detail': {'type': 'text/html', 'language': None, 'base': 'https://rss.nytimes.com/services/xml/rss/nyt/HomePage.xml', 'value': 'If you plan to grill often experts suggest taking some small steps to make a big difference in lowering your exposure to compounds that are tied to cancer.'}, 'authors': [{'name': 'Sophie Egan'}], 'author': 'Sophie Egan', 'author_detail': {'name': 'Sophie Egan'}, 'published': 'Mon, 01 Jul 2019 13:47:27 +0000', 'published_parsed': time.struct_time(tm_year=2019, tm_mon=7, tm_mday=1, tm_hour=13, tm_min=47, tm_sec=27, tm_wday=0, tm_yday=182, tm_isdst=0), 'tags': [{'term': 'Seafood', 'scheme': 'http://www.nytimes.com/namespaces/keywords/des', 'label': None}, {'term': 'Grilling (Cooking)', 'scheme': 'http://www.nytimes.com/namespaces/keywords/des', 'label': None}, {'term': 'Meat', 'scheme': 'http://www.nytimes.com/namespaces/keywords/des', 'label': None}, {'term': 'Cancer', 'scheme': 'http://www.nytimes.com/namespaces/keywords/des', 'label': None}, {'term': 'Vegetables', 'scheme': 'http://www.nytimes.com/namespaces/keywords/des', 'label': None}], 'media_content': [{'height': '151', 'medium': 'image', 'url': 'https://static01.nyt.com/images/2019/07/02/science/02-well-grilling/well-grilling-moth.jpg', 'width': '151'}], 'media_credit': [{'content': 'Michael Graydon\\xa0& Nikole Herriott for The New York Times'}], 'credit': 'Michael Graydon\\xa0& Nikole Herriott for The New York Times'}, {'title': 'Taylor Swift on Scooter Braun Buying Her Old Label: ‘My Worst Case Scenario’', 'title_detail': {'type': 'text/plain', 'language': None, 'base': 'https://rss.nytimes.com/services/xml/rss/nyt/HomePage.xml', 'value': 'Taylor Swift on Scooter Braun Buying Her Old Label: ‘My Worst Case Scenario’'}, 'links': [{'rel': 'alternate', 'type': 'text/html', 'href': 'https://www.nytimes.com/2019/06/30/arts/music/taylor-swift-music-scooter-braun.html?emc=rss&partner=rss'}, {'href': 'https://www.nytimes.com/2019/06/30/arts/music/taylor-swift-music-scooter-braun.html?emc=rss&partner=rss', 'rel': 'standout', 'type': 'text/html'}], 'link': 'https://www.nytimes.com/2019/06/30/arts/music/taylor-swift-music-scooter-braun.html?emc=rss&partner=rss', 'id': 'https://www.nytimes.com/2019/06/30/arts/music/taylor-swift-music-scooter-braun.html', 'guidislink': False, 'summary': 'In a Tumblr post on Sunday, the singer called out the powerful music manager for his purchase of her back catalog.', 'summary_detail': {'type': 'text/html', 'language': None, 'base': 'https://rss.nytimes.com/services/xml/rss/nyt/HomePage.xml', 'value': 'In a Tumblr post on Sunday, the singer called out the powerful music manager for his purchase of her back catalog.'}, 'authors': [{'name': 'Joe Coscarelli'}], 'author': 'Joe Coscarelli', 'author_detail': {'name': 'Joe Coscarelli'}, 'published': 'Mon, 01 Jul 2019 18:06:06 +0000', 'published_parsed': time.struct_time(tm_year=2019, tm_mon=7, tm_mday=1, tm_hour=18, tm_min=6, tm_sec=6, tm_wday=0, tm_yday=182, tm_isdst=0), 'tags': [{'term': 'Swift, Taylor', 'scheme': 'http://www.nytimes.com/namespaces/keywords/nyt_per', 'label': None}, {'term': 'Pop and Rock Music', 'scheme': 'http://www.nytimes.com/namespaces/keywords/des', 'label': None}, {'term': 'Big Machine Records', 'scheme': 'http://www.nytimes.com/namespaces/keywords/nyt_org', 'label': None}, {'term': 'Mergers, Acquisitions and Divestitures', 'scheme': 'http://www.nytimes.com/namespaces/keywords/des', 'label': None}, {'term': 'Braun, Scooter (1981- )', 'scheme': 'http://www.nytimes.com/namespaces/keywords/nyt_per', 'label': None}, {'term': 'Borchetta, Scott', 'scheme': 'http://www.nytimes.com/namespaces/keywords/nyt_per', 'label': None}], 'media_content': [{'height': '151', 'medium': 'image', 'url': 'https://static01.nyt.com/images/2019/06/30/arts/30taylor/30taylor-moth.jpg', 'width': '151'}], 'media_credit': [{'content': 'Rich Fury/Getty Images for Iheartmedia'}], 'credit': 'Rich Fury/Getty Images for Iheartmedia', 'content': [{'type': 'text/plain', 'language': None, 'base': 'https://rss.nytimes.com/services/xml/rss/nyt/HomePage.xml', 'value': 'The sale “has stripped me of my life’s work,” Taylor Swift wrote Sunday. She accused Scooter Braun of “incessant, manipulative bullying.”'}]}, {'title': 'Serena Williams’s Coach Says She Is Pain Free. Watch Out, Wimbledon?', 'title_detail': {'type': 'text/plain', 'language': None, 'base': 'https://rss.nytimes.com/services/xml/rss/nyt/HomePage.xml', 'value': 'Serena Williams’s Coach Says She Is Pain Free. Watch Out, Wimbledon?'}, 'links': [{'rel': 'alternate', 'type': 'text/html', 'href': 'https://www.nytimes.com/2019/06/29/sports/wimbledon-serena-williams.html?emc=rss&partner=rss'}, {'href': 'https://www.nytimes.com/2019/06/29/sports/wimbledon-serena-williams.html?emc=rss&partner=rss', 'rel': 'standout', 'type': 'text/html'}], 'link': 'https://www.nytimes.com/2019/06/29/sports/wimbledon-serena-williams.html?emc=rss&partner=rss', 'id': 'https://www.nytimes.com/2019/06/29/sports/wimbledon-serena-williams.html', 'guidislink': False, 'summary': 'If she is healthy, Williams can defeat any woman on grass, even at 37. But her health has been a persistent concern.', 'summary_detail': {'type': 'text/html', 'language': None, 'base': 'https://rss.nytimes.com/services/xml/rss/nyt/HomePage.xml', 'value': 'If she is healthy, Williams can defeat any woman on grass, even at 37. But her health has been a persistent concern.'}, 'authors': [{'name': 'Christopher Clarey'}], 'author': 'Christopher Clarey', 'author_detail': {'name': 'Christopher Clarey'}, 'published': 'Mon, 01 Jul 2019 17:06:30 +0000', 'published_parsed': time.struct_time(tm_year=2019, tm_mon=7, tm_mday=1, tm_hour=17, tm_min=6, tm_sec=30, tm_wday=0, tm_yday=182, tm_isdst=0), 'tags': [{'term': 'Tennis', 'scheme': 'http://www.nytimes.com/namespaces/keywords/des', 'label': None}, {'term': 'Wimbledon Tennis Tournament', 'scheme': 'http://www.nytimes.com/namespaces/keywords/des', 'label': None}, {'term': 'French Open (Tennis)', 'scheme': 'http://www.nytimes.com/namespaces/keywords/des', 'label': None}, {'term': 'Mouratoglou, Patrick', 'scheme': 'http://www.nytimes.com/namespaces/keywords/nyt_per', 'label': None}, {'term': 'Williams, Serena', 'scheme': 'http://www.nytimes.com/namespaces/keywords/nyt_per', 'label': None}], 'media_content': [{'height': '151', 'medium': 'image', 'url': 'https://static01.nyt.com/images/2019/06/29/sports/29clarey/29clarey-moth-v2.jpg', 'width': '151'}], 'media_credit': [{'content': 'TPN/Getty Images'}], 'credit': 'TPN/Getty Images', 'content': [{'type': 'text/plain', 'language': None, 'base': 'https://rss.nytimes.com/services/xml/rss/nyt/HomePage.xml', 'value': 'Serena Williams, who has won Wimbledon seven times, is in the toughest quarter of this year’s draw.'}]}, {'title': 'The Prom Where the City Councilman Dances the Jennifer Grey Part from ‘Dirty Dancing.’ And He’s Not Bad.', 'title_detail': {'type': 'text/plain', 'language': None, 'base': 'https://rss.nytimes.com/services/xml/rss/nyt/HomePage.xml', 'value': 'The Prom Where the City Councilman Dances the Jennifer Grey Part from ‘Dirty Dancing.’ And He’s Not Bad.'}, 'links': [{'rel': 'alternate', 'type': 'text/html', 'href': 'https://www.nytimes.com/2019/06/27/nyregion/cora-dance-red-hook-carlos-menchaca.html?emc=rss&partner=rss'}, {'href': 'https://www.nytimes.com/2019/06/27/nyregion/cora-dance-red-hook-carlos-menchaca.html?emc=rss&partner=rss', 'rel': 'standout', 'type': 'text/html'}], 'link': 'https://www.nytimes.com/2019/06/27/nyregion/cora-dance-red-hook-carlos-menchaca.html?emc=rss&partner=rss', 'id': 'https://www.nytimes.com/2019/06/27/nyregion/cora-dance-red-hook-carlos-menchaca.html', 'guidislink': False, 'summary': 'Sneaking a peek at an annual dance in Brooklyn, when a local politician wore a ball gown. He looked fabulous.', 'summary_detail': {'type': 'text/html', 'language': None, 'base': 'https://rss.nytimes.com/services/xml/rss/nyt/HomePage.xml', 'value': 'Sneaking a peek at an annual dance in Brooklyn, when a local politician wore a ball gown. He looked fabulous.'}, 'authors': [{'name': 'John Leland and Gaia Squarci'}], 'author': 'John Leland and Gaia Squarci', 'author_detail': {'name': 'John Leland and Gaia Squarci'}, 'published': 'Mon, 01 Jul 2019 17:06:31 +0000', 'published_parsed': time.struct_time(tm_year=2019, tm_mon=7, tm_mday=1, tm_hour=17, tm_min=6, tm_sec=31, tm_wday=0, tm_yday=182, tm_isdst=0), 'tags': [{'term': 'Dancing', 'scheme': 'http://www.nytimes.com/namespaces/keywords/des', 'label': None}, {'term': 'Proms', 'scheme': 'http://www.nytimes.com/namespaces/keywords/des', 'label': None}, {'term': 'Cora Dance', 'scheme': 'http://www.nytimes.com/namespaces/keywords/nyt_org', 'label': None}, {'term': 'Hurricane Sandy (2012)', 'scheme': 'http://www.nytimes.com/namespaces/keywords/des', 'label': None}, {'term': 'Hummel, Shannon', 'scheme': 'http://www.nytimes.com/namespaces/keywords/nyt_per', 'label': None}, {'term': 'Squarci, Gaia', 'scheme': 'http://www.nytimes.com/namespaces/keywords/nyt_per', 'label': None}, {'term': 'Red Hook (Brooklyn, NY)', 'scheme': 'http://www.nytimes.com/namespaces/keywords/nyt_geo', 'label': None}], 'media_content': [{'height': '151', 'medium': 'image', 'url': 'https://static01.nyt.com/images/2019/06/30/nyregion/30ALBUM2/30ALBUM2-moth-v2.jpg', 'width': '151'}], 'content': [{'type': 'text/plain', 'language': None, 'base': 'https://rss.nytimes.com/services/xml/rss/nyt/HomePage.xml', 'value': 'Carlos Menchaca, Red Hook’s councilman and also, for this night at least, Jennifer Grey, performing the famous lift from “Dirty Dancing.”'}]}, {'title': 'Review: Hugh Jackman Isn’t Quite the Greatest Showman in an Arena', 'title_detail': {'type': 'text/plain', 'language': None, 'base': 'https://rss.nytimes.com/services/xml/rss/nyt/HomePage.xml', 'value': 'Review: Hugh Jackman Isn’t Quite the Greatest Showman in an Arena'}, 'links': [{'rel': 'alternate', 'type': 'text/html', 'href': 'https://www.nytimes.com/2019/06/30/theater/hugh-jackman-madison-square-garden-review.html?emc=rss&partner=rss'}, {'href': 'https://www.nytimes.com/2019/06/30/theater/hugh-jackman-madison-square-garden-review.html?emc=rss&partner=rss', 'rel': 'standout', 'type': 'text/html'}], 'link': 'https://www.nytimes.com/2019/06/30/theater/hugh-jackman-madison-square-garden-review.html?emc=rss&partner=rss', 'id': 'https://www.nytimes.com/2019/06/30/theater/hugh-jackman-madison-square-garden-review.html', 'guidislink': False, 'summary': 'His world tour “The Man. The Music. The Show.” stopped at Madison Square Garden. But it would have been better on Broadway.', 'summary_detail': {'type': 'text/html', 'language': None, 'base': 'https://rss.nytimes.com/services/xml/rss/nyt/HomePage.xml', 'value': 'His world tour “The Man. The Music. The Show.” stopped at Madison Square Garden. But it would have been better on Broadway.'}, 'authors': [{'name': 'Laura Collins-Hughes'}], 'author': 'Laura Collins-Hughes', 'author_detail': {'name': 'Laura Collins-Hughes'}, 'published': 'Mon, 01 Jul 2019 17:06:30 +0000', 'published_parsed': time.struct_time(tm_year=2019, tm_mon=7, tm_mday=1, tm_hour=17, tm_min=6, tm_sec=30, tm_wday=0, tm_yday=182, tm_isdst=0), 'tags': [{'term': 'Theater', 'scheme': 'http://www.nytimes.com/namespaces/keywords/des', 'label': None}, {'term': 'Madison Square Garden', 'scheme': 'http://www.nytimes.com/namespaces/keywords/nyt_org', 'label': None}, {'term': \"New York City Gay Men's Chorus\", 'scheme': 'http://www.nytimes.com/namespaces/keywords/nyt_org', 'label': None}, {'term': 'Jackman, Hugh', 'scheme': 'http://www.nytimes.com/namespaces/keywords/nyt_per', 'label': None}, {'term': 'Pasek, Benj', 'scheme': 'http://www.nytimes.com/namespaces/keywords/nyt_per', 'label': None}, {'term': 'Paul, Justin', 'scheme': 'http://www.nytimes.com/namespaces/keywords/nyt_per', 'label': None}, {'term': 'Settle, Keala', 'scheme': 'http://www.nytimes.com/namespaces/keywords/nyt_per', 'label': None}, {'term': 'Music', 'scheme': 'http://www.nytimes.com/namespaces/keywords/des', 'label': None}], 'media_content': [{'height': '151', 'medium': 'image', 'url': 'https://static01.nyt.com/images/2019/06/30/arts/30jackman/30jackman-moth-v2.jpg', 'width': '151'}], 'media_credit': [{'content': 'The New York Times'}], 'credit': 'The New York Times', 'content': [{'type': 'text/plain', 'language': None, 'base': 'https://rss.nytimes.com/services/xml/rss/nyt/HomePage.xml', 'value': 'Hugh Jackman during his arena tour concert “The Man. The Music. The Show.” at Madison Square Garden.'}]}, {'title': 'South Africa Meets South Asia at Peri Peri Grill House', 'title_detail': {'type': 'text/plain', 'language': None, 'base': 'https://rss.nytimes.com/services/xml/rss/nyt/HomePage.xml', 'value': 'South Africa Meets South Asia at Peri Peri Grill House'}, 'links': [{'rel': 'alternate', 'type': 'text/html', 'href': 'https://www.nytimes.com/2019/06/27/dining/peri-peri-grill-house-review.html?emc=rss&partner=rss'}, {'href': 'https://www.nytimes.com/2019/06/27/dining/peri-peri-grill-house-review.html?emc=rss&partner=rss', 'rel': 'standout', 'type': 'text/html'}], 'link': 'https://www.nytimes.com/2019/06/27/dining/peri-peri-grill-house-review.html?emc=rss&partner=rss', 'id': 'https://www.nytimes.com/2019/06/27/dining/peri-peri-grill-house-review.html', 'guidislink': False, 'summary': 'Smoke, spice and an eclectic menu are the hallmarks of this small restaurant in Bedford-Stuyvesant, Brooklyn.', 'summary_detail': {'type': 'text/html', 'language': None, 'base': 'https://rss.nytimes.com/services/xml/rss/nyt/HomePage.xml', 'value': 'Smoke, spice and an eclectic menu are the hallmarks of this small restaurant in Bedford-Stuyvesant, Brooklyn.'}, 'authors': [{'name': 'Mahira Rivers'}], 'author': 'Mahira Rivers', 'author_detail': {'name': 'Mahira Rivers'}, 'published': 'Mon, 01 Jul 2019 13:35:30 +0000', 'published_parsed': time.struct_time(tm_year=2019, tm_mon=7, tm_mday=1, tm_hour=13, tm_min=35, tm_sec=30, tm_wday=0, tm_yday=182, tm_isdst=0), 'tags': [{'term': 'Restaurants', 'scheme': 'http://www.nytimes.com/namespaces/keywords/des', 'label': None}, {'term': 'Peri Peri Grill House (Brooklyn, NY, Restaurant)', 'scheme': 'http://www.nytimes.com/namespaces/keywords/nyt_org', 'label': None}, {'term': 'Halal Foods and Products', 'scheme': 'http://www.nytimes.com/namespaces/keywords/des', 'label': None}, {'term': 'Bedford-Stuyvesant (Brooklyn, NY)', 'scheme': 'http://www.nytimes.com/namespaces/keywords/nyt_geo', 'label': None}], 'media_content': [{'height': '151', 'medium': 'image', 'url': 'https://static01.nyt.com/images/2019/06/27/dining/27HUNGRY-slide-U717/27HUNGRY-slide-U717-moth.jpg', 'width': '151'}], 'media_credit': [{'content': 'Caitlin Ochs for The New York Times'}], 'credit': 'Caitlin Ochs for The New York Times'}, {'title': 'Do Hand Dryers Hurt Kids’ Hearing? This 13-Year-Old Studied It', 'title_detail': {'type': 'text/plain', 'language': None, 'base': 'https://rss.nytimes.com/services/xml/rss/nyt/HomePage.xml', 'value': 'Do Hand Dryers Hurt Kids’ Hearing? This 13-Year-Old Studied It'}, 'links': [{'rel': 'alternate', 'type': 'text/html', 'href': 'https://www.nytimes.com/2019/07/01/us/hand-dryers-children.html?emc=rss&partner=rss'}, {'href': 'https://www.nytimes.com/2019/07/01/us/hand-dryers-children.html?emc=rss&partner=rss', 'rel': 'standout', 'type': 'text/html'}], 'link': 'https://www.nytimes.com/2019/07/01/us/hand-dryers-children.html?emc=rss&partner=rss', 'id': 'https://www.nytimes.com/2019/07/01/us/hand-dryers-children.html', 'guidislink': False, 'summary': 'Nora Keegan noticed that dryers tended to be closer to children’s ears. So she set out on a study that was eventually published in a medical journal in Canada.', 'summary_detail': {'type': 'text/html', 'language': None, 'base': 'https://rss.nytimes.com/services/xml/rss/nyt/HomePage.xml', 'value': 'Nora Keegan noticed that dryers tended to be closer to children’s ears. So she set out on a study that was eventually published in a medical journal in Canada.'}, 'authors': [{'name': 'Niraj Chokshi'}], 'author': 'Niraj Chokshi', 'author_detail': {'name': 'Niraj Chokshi'}, 'published': 'Mon, 01 Jul 2019 19:02:14 +0000', 'published_parsed': time.struct_time(tm_year=2019, tm_mon=7, tm_mday=1, tm_hour=19, tm_min=2, tm_sec=14, tm_wday=0, tm_yday=182, tm_isdst=0), 'tags': [{'term': 'Ears and Hearing', 'scheme': 'http://www.nytimes.com/namespaces/keywords/des', 'label': None}, {'term': 'Children and Childhood', 'scheme': 'http://www.nytimes.com/namespaces/keywords/des', 'label': None}, {'term': 'Noise', 'scheme': 'http://www.nytimes.com/namespaces/keywords/des', 'label': None}, {'term': 'Canada', 'scheme': 'http://www.nytimes.com/namespaces/keywords/nyt_geo', 'label': None}, {'term': 'Bathrooms and Toilets', 'scheme': 'http://www.nytimes.com/namespaces/keywords/des', 'label': None}, {'term': 'Canadian Paediatric Society', 'scheme': 'http://www.nytimes.com/namespaces/keywords/nyt_org', 'label': None}, {'term': 'Keegan, Nora', 'scheme': 'http://www.nytimes.com/namespaces/keywords/nyt_per', 'label': None}], 'media_content': [{'height': '151', 'medium': 'image', 'url': 'https://static01.nyt.com/images/2019/06/28/reader-center/01xp-dryers2/01xp-dryers2-moth-v2.jpg', 'width': '151'}], 'media_credit': [{'content': 'Susan Bannister'}], 'credit': 'Susan Bannister', 'content': [{'type': 'text/plain', 'language': None, 'base': 'https://rss.nytimes.com/services/xml/rss/nyt/HomePage.xml', 'value': 'Nora Keegan after winning a medal at a science fair for her research on the noise levels of hand dryers.'}]}, {'title': 'Drugged, Castrated, Eager to Mate: the Lives of Fungi-Infected Cicadas', 'title_detail': {'type': 'text/plain', 'language': None, 'base': 'https://rss.nytimes.com/services/xml/rss/nyt/HomePage.xml', 'value': 'Drugged, Castrated, Eager to Mate: the Lives of Fungi-Infected Cicadas'}, 'links': [{'rel': 'alternate', 'type': 'text/html', 'href': 'https://www.nytimes.com/2019/06/28/science/cicadas-fungus-butts.html?emc=rss&partner=rss'}, {'href': 'https://www.nytimes.com/2019/06/28/science/cicadas-fungus-butts.html?emc=rss&partner=rss', 'rel': 'standout', 'type': 'text/html'}], 'link': 'https://www.nytimes.com/2019/06/28/science/cicadas-fungus-butts.html?emc=rss&partner=rss', 'id': 'https://www.nytimes.com/2019/06/28/science/cicadas-fungus-butts.html', 'guidislink': False, 'summary': '“This really has all the elements of a sci-fi horror story,” a mycologist said.', 'summary_detail': {'type': 'text/html', 'language': None, 'base': 'https://rss.nytimes.com/services/xml/rss/nyt/HomePage.xml', 'value': '“This really has all the elements of a sci-fi horror story,” a mycologist said.'}, 'authors': [{'name': 'JoAnna Klein'}], 'author': 'JoAnna Klein', 'author_detail': {'name': 'JoAnna Klein'}, 'published': 'Mon, 01 Jul 2019 09:37:52 +0000', 'published_parsed': time.struct_time(tm_year=2019, tm_mon=7, tm_mday=1, tm_hour=9, tm_min=37, tm_sec=52, tm_wday=0, tm_yday=182, tm_isdst=0), 'tags': [{'term': 'Cicadas (Insects)', 'scheme': 'http://www.nytimes.com/namespaces/keywords/des', 'label': None}, {'term': 'Fungi', 'scheme': 'http://www.nytimes.com/namespaces/keywords/des', 'label': None}, {'term': 'Parasites', 'scheme': 'http://www.nytimes.com/namespaces/keywords/des', 'label': None}, {'term': 'Genetics and Heredity', 'scheme': 'http://www.nytimes.com/namespaces/keywords/des', 'label': None}, {'term': 'Reproduction (Biological)', 'scheme': 'http://www.nytimes.com/namespaces/keywords/des', 'label': None}, {'term': 'Kasson, Matthew', 'scheme': 'http://www.nytimes.com/namespaces/keywords/nyt_per', 'label': None}, {'term': 'Fungal Ecology (Journal)', 'scheme': 'http://www.nytimes.com/namespaces/keywords/nyt_org', 'label': None}, {'term': 'your-feed-science', 'scheme': 'http://www.nytimes.com/namespaces/keywords/des', 'label': None}], 'media_content': [{'height': '151', 'medium': 'image', 'url': 'https://static01.nyt.com/images/2019/06/28/science/28TB-CICADA/28TB-CICADA-moth.jpg', 'width': '151'}], 'media_credit': [{'content': 'Kasson et al.'}], 'credit': 'Kasson et al.', 'content': [{'type': 'text/plain', 'language': None, 'base': 'https://rss.nytimes.com/services/xml/rss/nyt/HomePage.xml', 'value': 'When cicadas are infected by a parasitic fungus, the insect’s innards get digested and their rear ends are replaced by a chalky white plug of spores.'}]}, {'title': 'Reversing the Damage of a Stroke', 'title_detail': {'type': 'text/plain', 'language': None, 'base': 'https://rss.nytimes.com/services/xml/rss/nyt/HomePage.xml', 'value': 'Reversing the Damage of a Stroke'}, 'links': [{'rel': 'alternate', 'type': 'text/html', 'href': 'https://www.nytimes.com/2019/07/01/well/live/reversing-the-damage-of-a-massive-stroke.html?emc=rss&partner=rss'}, {'href': 'https://www.nytimes.com/2019/07/01/well/live/reversing-the-damage-of-a-massive-stroke.html?emc=rss&partner=rss', 'rel': 'standout', 'type': 'text/html'}], 'link': 'https://www.nytimes.com/2019/07/01/well/live/reversing-the-damage-of-a-massive-stroke.html?emc=rss&partner=rss', 'id': 'https://www.nytimes.com/2019/07/01/well/live/reversing-the-damage-of-a-massive-stroke.html', 'guidislink': False, 'summary': 'For one patient, a decade of recovery took determination, persistence and the courage to weather repeated setbacks.', 'summary_detail': {'type': 'text/html', 'language': None, 'base': 'https://rss.nytimes.com/services/xml/rss/nyt/HomePage.xml', 'value': 'For one patient, a decade of recovery took determination, persistence and the courage to weather repeated setbacks.'}, 'authors': [{'name': 'Jane E. Brody'}], 'author': 'Jane E. Brody', 'author_detail': {'name': 'Jane E. Brody'}, 'published': 'Mon, 01 Jul 2019 14:33:55 +0000', 'published_parsed': time.struct_time(tm_year=2019, tm_mon=7, tm_mday=1, tm_hour=14, tm_min=33, tm_sec=55, tm_wday=0, tm_yday=182, tm_isdst=0), 'tags': [{'term': 'Stroke', 'scheme': 'http://www.nytimes.com/namespaces/keywords/des', 'label': None}, {'term': 'Therapy and Rehabilitation', 'scheme': 'http://www.nytimes.com/namespaces/keywords/des', 'label': None}, {'term': 'Brain', 'scheme': 'http://www.nytimes.com/namespaces/keywords/des', 'label': None}], 'media_content': [{'height': '151', 'medium': 'image', 'url': 'https://static01.nyt.com/images/2019/07/02/science/02BRODYSTROKE/02BRODYSTROKE-moth.jpg', 'width': '151'}], 'media_credit': [{'content': 'Gracia Lam'}], 'credit': 'Gracia Lam'}, {'title': 'Keeping the Fun in Children’s Sports', 'title_detail': {'type': 'text/plain', 'language': None, 'base': 'https://rss.nytimes.com/services/xml/rss/nyt/HomePage.xml', 'value': 'Keeping the Fun in Children’s Sports'}, 'links': [{'rel': 'alternate', 'type': 'text/html', 'href': 'https://www.nytimes.com/2019/07/01/well/family/keeping-the-fun-in-childrens-sports.html?emc=rss&partner=rss'}, {'href': 'https://www.nytimes.com/2019/07/01/well/family/keeping-the-fun-in-childrens-sports.html?emc=rss&partner=rss', 'rel': 'standout', 'type': 'text/html'}], 'link': 'https://www.nytimes.com/2019/07/01/well/family/keeping-the-fun-in-childrens-sports.html?emc=rss&partner=rss', 'id': 'https://www.nytimes.com/2019/07/01/well/family/keeping-the-fun-in-childrens-sports.html', 'guidislink': False, 'summary': '“The evidence shows that what makes sports really fun for kids is trying hard, making progress, being a good sport, experiencing positive coaching,” a doctor of sports medicine said.', 'summary_detail': {'type': 'text/html', 'language': None, 'base': 'https://rss.nytimes.com/services/xml/rss/nyt/HomePage.xml', 'value': '“The evidence shows that what makes sports really fun for kids is trying hard, making progress, being a good sport, experiencing positive coaching,” a doctor of sports medicine said.'}, 'authors': [{'name': 'Perri Klass, M.D.'}], 'author': 'Perri Klass, M.D.', 'author_detail': {'name': 'Perri Klass, M.D.'}, 'published': 'Mon, 01 Jul 2019 14:35:13 +0000', 'published_parsed': time.struct_time(tm_year=2019, tm_mon=7, tm_mday=1, tm_hour=14, tm_min=35, tm_sec=13, tm_wday=0, tm_yday=182, tm_isdst=0), 'tags': [{'term': 'Athletics and Sports', 'scheme': 'http://www.nytimes.com/namespaces/keywords/des', 'label': None}, {'term': 'Children and Childhood', 'scheme': 'http://www.nytimes.com/namespaces/keywords/des', 'label': None}, {'term': 'Sports Injuries', 'scheme': 'http://www.nytimes.com/namespaces/keywords/des', 'label': None}, {'term': 'Parenting', 'scheme': 'http://www.nytimes.com/namespaces/keywords/des', 'label': None}, {'term': 'Exercise', 'scheme': 'http://www.nytimes.com/namespaces/keywords/des', 'label': None}, {'term': 'Coaches and Managers', 'scheme': 'http://www.nytimes.com/namespaces/keywords/des', 'label': None}, {'term': 'American Academy of Pediatrics', 'scheme': 'http://www.nytimes.com/namespaces/keywords/nyt_org', 'label': None}, {'term': 'Research', 'scheme': 'http://www.nytimes.com/namespaces/keywords/des', 'label': None}], 'media_content': [{'height': '151', 'medium': 'image', 'url': 'https://static01.nyt.com/images/2019/07/01/well/01klass-sports/44aef00815ec40f4a49a6a229ddb4faf-moth.jpg', 'width': '151'}], 'media_credit': [{'content': 'iStock'}], 'credit': 'iStock'}, {'title': 'Reefer Madness or Pot Paradise? The Surprising Legacy of the Place Where Legal Weed Began', 'title_detail': {'type': 'text/plain', 'language': None, 'base': 'https://rss.nytimes.com/services/xml/rss/nyt/HomePage.xml', 'value': 'Reefer Madness or Pot Paradise? The Surprising Legacy of the Place Where Legal Weed Began'}, 'links': [{'rel': 'alternate', 'type': 'text/html', 'href': 'https://www.nytimes.com/2019/06/30/us/marijuana-colorado-legalization.html?emc=rss&partner=rss'}, {'href': 'https://www.nytimes.com/2019/06/30/us/marijuana-colorado-legalization.html?emc=rss&partner=rss', 'rel': 'standout', 'type': 'text/html'}], 'link': 'https://www.nytimes.com/2019/06/30/us/marijuana-colorado-legalization.html?emc=rss&partner=rss', 'id': 'https://www.nytimes.com/2019/06/30/us/marijuana-colorado-legalization.html', 'guidislink': False, 'summary': 'Colorado’s first-in-the-nation experiment with legalized marijuana has infused the drug into almost every corner of life.', 'summary_detail': {'type': 'text/html', 'language': None, 'base': 'https://rss.nytimes.com/services/xml/rss/nyt/HomePage.xml', 'value': 'Colorado’s first-in-the-nation experiment with legalized marijuana has infused the drug into almost every corner of life.'}, 'authors': [{'name': 'Jack Healy'}], 'author': 'Jack Healy', 'author_detail': {'name': 'Jack Healy'}, 'published': 'Sun, 30 Jun 2019 09:00:10 +0000', 'published_parsed': time.struct_time(tm_year=2019, tm_mon=6, tm_mday=30, tm_hour=9, tm_min=0, tm_sec=10, tm_wday=6, tm_yday=181, tm_isdst=0), 'tags': [{'term': 'Marijuana', 'scheme': 'http://www.nytimes.com/namespaces/keywords/des', 'label': None}, {'term': 'Drug Abuse and Traffic', 'scheme': 'http://www.nytimes.com/namespaces/keywords/des', 'label': None}, {'term': 'Medical Marijuana', 'scheme': 'http://www.nytimes.com/namespaces/keywords/des', 'label': None}, {'term': 'Colorado', 'scheme': 'http://www.nytimes.com/namespaces/keywords/nyt_geo', 'label': None}], 'media_content': [{'height': '151', 'medium': 'image', 'url': 'https://static01.nyt.com/images/2019/06/06/us/00marijuana-01/00marijuana-01-moth.jpg', 'width': '151'}], 'media_credit': [{'content': 'Benjamin Rasmussen for The New York Times'}], 'credit': 'Benjamin Rasmussen for The New York Times', 'content': [{'type': 'text/plain', 'language': None, 'base': 'https://rss.nytimes.com/services/xml/rss/nyt/HomePage.xml', 'value': 'Workers prepared for marijuana planting on Woody Farms in Pueblo, Colo. The state’s first-in-the-nation experiment with legalizing recreational marijuana put it on the front lines of changing America’s drug laws.'}]}, {'title': 'For a ‘Saturday Night Live’ Writer, a Permanent Musical Guest', 'title_detail': {'type': 'text/plain', 'language': None, 'base': 'https://rss.nytimes.com/services/xml/rss/nyt/HomePage.xml', 'value': 'For a ‘Saturday Night Live’ Writer, a Permanent Musical Guest'}, 'links': [{'rel': 'alternate', 'type': 'text/html', 'href': 'https://www.nytimes.com/2019/06/28/style/for-a-saturday-night-live-writer-a-permanent-musical-guest.html?emc=rss&partner=rss'}, {'href': 'https://www.nytimes.com/2019/06/28/style/for-a-saturday-night-live-writer-a-permanent-musical-guest.html?emc=rss&partner=rss', 'rel': 'standout', 'type': 'text/html'}], 'link': 'https://www.nytimes.com/2019/06/28/style/for-a-saturday-night-live-writer-a-permanent-musical-guest.html?emc=rss&partner=rss', 'id': 'https://www.nytimes.com/2019/06/28/style/for-a-saturday-night-live-writer-a-permanent-musical-guest.html', 'guidislink': False, 'summary': 'The Swedish rapper Rebin Shah, a.k.a. Rebstar, and Megan Callahan were married in a low-key ceremony in Tarrytown, N.Y.', 'summary_detail': {'type': 'text/html', 'language': None, 'base': 'https://rss.nytimes.com/services/xml/rss/nyt/HomePage.xml', 'value': 'The Swedish rapper Rebin Shah, a.k.a. Rebstar, and Megan Callahan were married in a low-key ceremony in Tarrytown, N.Y.'}, 'authors': [{'name': 'Alix Strauss'}], 'author': 'Alix Strauss', 'author_detail': {'name': 'Alix Strauss'}, 'published': 'Mon, 01 Jul 2019 14:02:18 +0000', 'published_parsed': time.struct_time(tm_year=2019, tm_mon=7, tm_mday=1, tm_hour=14, tm_min=2, tm_sec=18, tm_wday=0, tm_yday=182, tm_isdst=0), 'tags': [{'term': 'Weddings and Engagements', 'scheme': 'http://www.nytimes.com/namespaces/keywords/des', 'label': None}, {'term': 'Dating and Relationships', 'scheme': 'http://www.nytimes.com/namespaces/keywords/des', 'label': None}, {'term': 'Raya App LLC', 'scheme': 'http://www.nytimes.com/namespaces/keywords/nyt_org', 'label': None}, {'term': 'Saturday Night Live (TV Program)', 'scheme': 'http://www.nytimes.com/namespaces/keywords/nyt_ttl', 'label': None}], 'media_content': [{'height': '151', 'medium': 'image', 'url': 'https://static01.nyt.com/images/2019/06/30/fashion/weddings/28VOWS-SNL-Rebstar1/28VOWS-SNL-Rebstar1-moth-v2.jpg', 'width': '151'}], 'media_credit': [{'content': 'Lauren Lancaster for The New York Times'}], 'credit': 'Lauren Lancaster for The New York Times', 'content': [{'type': 'text/plain', 'language': None, 'base': 'https://rss.nytimes.com/services/xml/rss/nyt/HomePage.xml', 'value': 'Megan Callahan and Rebin Shah surrounded by family members and friends at Blue Hill at Stone Barns in Tarrytown, N.Y.'}]}, {'title': 'How to Host a Relaxed, Italian-Style Late Lunch', 'title_detail': {'type': 'text/plain', 'language': None, 'base': 'https://rss.nytimes.com/services/xml/rss/nyt/HomePage.xml', 'value': 'How to Host a Relaxed, Italian-Style Late Lunch'}, 'links': [{'rel': 'alternate', 'type': 'text/html', 'href': 'https://www.nytimes.com/2019/06/27/t-magazine/amber-camilla-guinness-arniano-painting-school.html?emc=rss&partner=rss'}, {'href': 'https://www.nytimes.com/2019/06/27/t-magazine/amber-camilla-guinness-arniano-painting-school.html?emc=rss&partner=rss', 'rel': 'standout', 'type': 'text/html'}], 'link': 'https://www.nytimes.com/2019/06/27/t-magazine/amber-camilla-guinness-arniano-painting-school.html?emc=rss&partner=rss', 'id': 'https://www.nytimes.com/2019/06/27/t-magazine/amber-camilla-guinness-arniano-painting-school.html', 'guidislink': False, 'summary': 'The chef Amber Guinness, who runs the Arniano Painting School from her family’s country house in Tuscany, shares her tips for easygoing entertaining.', 'summary_detail': {'type': 'text/html', 'language': None, 'base': 'https://rss.nytimes.com/services/xml/rss/nyt/HomePage.xml', 'value': 'The chef Amber Guinness, who runs the Arniano Painting School from her family’s country house in Tuscany, shares her tips for easygoing entertaining.'}, 'authors': [{'name': 'Laura Rysman'}], 'author': 'Laura Rysman', 'author_detail': {'name': 'Laura Rysman'}, 'published': 'Mon, 01 Jul 2019 15:57:27 +0000', 'published_parsed': time.struct_time(tm_year=2019, tm_mon=7, tm_mday=1, tm_hour=15, tm_min=57, tm_sec=27, tm_wday=0, tm_yday=182, tm_isdst=0), 'tags': [{'term': 'Cooking and Cookbooks', 'scheme': 'http://www.nytimes.com/namespaces/keywords/des', 'label': None}, {'term': 'Interior Design and Furnishings', 'scheme': 'http://www.nytimes.com/namespaces/keywords/des', 'label': None}, {'term': 'Italian Food (Cuisine)', 'scheme': 'http://www.nytimes.com/namespaces/keywords/des', 'label': None}, {'term': 'Hazan, Marcella (1924-2013)', 'scheme': 'http://www.nytimes.com/namespaces/keywords/nyt_per', 'label': None}, {'term': 'Italy', 'scheme': 'http://www.nytimes.com/namespaces/keywords/nyt_geo', 'label': None}, {'term': 'Tuscany (Italy)', 'scheme': 'http://www.nytimes.com/namespaces/keywords/nyt_geo', 'label': None}], 'media_content': [{'height': '151', 'medium': 'image', 'url': 'https://static01.nyt.com/images/2019/06/25/t-magazine/entertainment/amber-guinness-slide-KSF6/amber-guinness-slide-KSF6-moth-v4.jpg', 'width': '151'}], 'media_credit': [{'content': 'Andrea Wyner'}], 'credit': 'Andrea Wyner', 'content': [{'type': 'text/plain', 'language': None, 'base': 'https://rss.nytimes.com/services/xml/rss/nyt/HomePage.xml', 'value': 'The garden at Villa Arniano, the Tuscan farmhouse owned by the Guinness family, which for four weeks each year hosts the Arniano Painting School.'}]}], 'bozo': 0, 'headers': {'Connection': 'close', 'Content-Length': '14980', 'Access-Control-Allow-Headers': 'Accept, Content-Type, X-Forwarded-For, X-Prototype-Version, X-Requested-With', 'Access-Control-Allow-Methods': 'GET, OPTIONS', 'Access-Control-Allow-Origin': '*', 'Cache-Control': 'public, max-age=300', 'Content-Type': 'application/xml', 'Function-Execution-Id': 'q67tzdx2kwvj', 'X-Cloud-Trace-Context': '8373eb9d9c19cbe148554ae42e8e20be', 'Server': 'Google Frontend', 'Content-Encoding': 'gzip', 'Accept-Ranges': 'bytes', 'Date': 'Mon, 01 Jul 2019 19:57:27 GMT', 'Via': '1.1 varnish', 'Age': '216', 'X-Served-By': 'cache-lga21949-LGA', 'X-Cache': 'HIT', 'X-Cache-Hits': '2', 'X-Timer': 'S1562011048.561234,VS0,VE0', 'Vary': 'Accept-Encoding'}, 'href': 'https://rss.nytimes.com/services/xml/rss/nyt/HomePage.xml', 'status': 200, 'encoding': 'utf-8', 'version': 'rss20', 'namespaces': {'dc': 'http://purl.org/dc/elements/1.1/', 'media': 'http://search.yahoo.com/mrss/', '': 'http://www.w3.org/2005/Atom', 'nyt': 'http://www.nytimes.com/namespaces/rss/2.0'}}\n"
     ]
    }
   ],
   "source": [
    "print(nyt_feed) # print the full RSS feed"
   ]
  },
  {
   "cell_type": "code",
   "execution_count": 33,
   "metadata": {},
   "outputs": [
    {
     "name": "stdout",
     "output_type": "stream",
     "text": [
      "Angry Core of Hong Kong Protesters Storms Legislature, Dividing the Movement\n",
      "Hong Kong Protest Live Updates: Police Disperse Protesters Outside Legislative Building\n",
      "On Hong Kong Handover Anniversary, Many Fear Loss of Freedoms\n",
      "Iran Breaches Critical Limit on Nuclear Fuel Under 2015 Deal\n",
      "In New Talks, U.S. May Settle for a Nuclear Freeze by North Korea\n",
      "Ivanka Trump Tests Her Diplomatic Chops and Riles a Legion of Critics\n",
      "Pete Buttigieg Raised $24.8 Million in Second Quarter, His Campaign Says\n",
      "Consumers Are Spending. Businesses Aren’t. Who’s Right About the Future?\n",
      "S&P and Dow Follow Global Markets Higher, as Investors Take Heart in Trade Thaw\n",
      "Inside the Migrant Detention Center in Clint, Tex.\n"
     ]
    }
   ],
   "source": [
    "for i in range(0,10): # for the first ten entries in the RSS feed (the ten most recent stories)\n",
    "    print(nyt_feed['entries'][i]['title']) # print the title of said article"
   ]
  },
  {
   "cell_type": "markdown",
   "metadata": {},
   "source": [
    "## But how did we know to use \"['entries'][i]['title']\"?\n",
    "\n",
    "### To understand, we need to briefly delve into the world of dictionaries "
   ]
  },
  {
   "cell_type": "code",
   "execution_count": 47,
   "metadata": {},
   "outputs": [],
   "source": [
    "dictionary = {'favorite_food':'pasta'} # create a new dictionary \n",
    "\n",
    "# consider 'favorite_food' to be the word, and 'pasta' to be the definition, it it helps you"
   ]
  },
  {
   "cell_type": "code",
   "execution_count": 48,
   "metadata": {},
   "outputs": [
    {
     "name": "stdout",
     "output_type": "stream",
     "text": [
      "pasta\n"
     ]
    }
   ],
   "source": [
    "print(dictionary['favorite_food'])\n",
    "\n",
    "# we then call 'favorite_food' and get the \"definiton\" \n",
    "# in reality, this is known as a Key:Value pair, with \"Key\" being the word, and \"Value\" being the definition"
   ]
  },
  {
   "cell_type": "markdown",
   "metadata": {},
   "source": [
    "#### As you may be able to see, our RSS is actually formated quite cleverily. It is a dicitionary (a set of key-value pairs) that includes lists. \n",
    "\n",
    "#### For example, look at the very top of the feed. It starts \n",
    "\n",
    "#### {'feed': {'title': 'WSJ.com: World News',\n",
    "\n",
    "#### The best way to read this is - the first entry in the dictionary is 'Feed' and the first value for that entry (also known as a 'key' is 'Title'. \n",
    "\n",
    "#### Now, 'Title' happens to be another dictionary (you can tell because it begins with a '{')\n",
    "\n",
    "#### If we keep searching, we'll see that the headline comes after 'entries' and is paired with the 'title'\n",
    "\n",
    "#### I know this is all exceptionally confusing, but just bear with me. The more you practice parsing information from RSS feeds (or HTML in general) the easier it will become, I promise!\n",
    "\n",
    "#### So, if we want that headline, and that headline only, we are going to: \n",
    "\n",
    "1. Navigate to the entire RSS feed\n",
    "2. Navigate to the 'entries' section\n",
    "3. Navigate to the first 'entries' section (each story is going to have its own, and we want the first headline)\n",
    "4. Navigate to the 'title' section \n",
    "\n",
    "<br>"
   ]
  },
  {
   "cell_type": "markdown",
   "metadata": {},
   "source": [
    "## Now, back to replicating 'TwoHeadlinesBot'"
   ]
  },
  {
   "cell_type": "code",
   "execution_count": 49,
   "metadata": {},
   "outputs": [],
   "source": [
    "my_list = [] # create a new, empty list called 'my_list'\n",
    "\n",
    "for i in range(0,10): \n",
    "    my_list.append(nyt_feed['entries'][i]['title']) # append the first ten titles to this list"
   ]
  },
  {
   "cell_type": "code",
   "execution_count": 50,
   "metadata": {},
   "outputs": [
    {
     "data": {
      "text/plain": [
       "'Iran Breaches Critical Limit on Nuclear Fuel Under 2015 Deal'"
      ]
     },
     "execution_count": 50,
     "metadata": {},
     "output_type": "execute_result"
    }
   ],
   "source": [
    "my_list[3] # select the third index of that list"
   ]
  },
  {
   "cell_type": "code",
   "execution_count": 51,
   "metadata": {},
   "outputs": [],
   "source": [
    "Article4 = my_list[3]"
   ]
  },
  {
   "cell_type": "code",
   "execution_count": 52,
   "metadata": {},
   "outputs": [
    {
     "data": {
      "text/plain": [
       "'Iran Breaches Critical Li'"
      ]
     },
     "execution_count": 52,
     "metadata": {},
     "output_type": "execute_result"
    }
   ],
   "source": [
    "Article4[:25] # get the first 25 characters of the title of the 3rd index (fourth article) in our list"
   ]
  },
  {
   "cell_type": "code",
   "execution_count": 53,
   "metadata": {},
   "outputs": [
    {
     "data": {
      "text/plain": [
       "60"
      ]
     },
     "execution_count": 53,
     "metadata": {},
     "output_type": "execute_result"
    }
   ],
   "source": [
    "len(Article4) # how many characters long is our title? "
   ]
  },
  {
   "cell_type": "code",
   "execution_count": 54,
   "metadata": {},
   "outputs": [
    {
     "data": {
      "text/plain": [
       "30.0"
      ]
     },
     "execution_count": 54,
     "metadata": {},
     "output_type": "execute_result"
    }
   ],
   "source": [
    "len(Article4)/2 # figure out the half-way point of the title "
   ]
  },
  {
   "cell_type": "code",
   "execution_count": 55,
   "metadata": {},
   "outputs": [
    {
     "data": {
      "text/plain": [
       "'Iran Breaches Critical Limit o'"
      ]
     },
     "execution_count": 55,
     "metadata": {},
     "output_type": "execute_result"
    }
   ],
   "source": [
    "Article4[0:30] # get the first half of our article title"
   ]
  },
  {
   "cell_type": "code",
   "execution_count": 69,
   "metadata": {},
   "outputs": [
    {
     "name": "stdout",
     "output_type": "stream",
     "text": [
      "In New Talks, U.S. May Settle for a Nuclear Freeze by North Korea\n"
     ]
    }
   ],
   "source": [
    "Article5 = my_list[4] # let's see what the next title is in our list\n",
    "print(Article5)"
   ]
  },
  {
   "cell_type": "markdown",
   "metadata": {
    "collapsed": true
   },
   "source": [
    "## So, how do we want to mash our headlines together?"
   ]
  },
  {
   "cell_type": "code",
   "execution_count": 71,
   "metadata": {},
   "outputs": [
    {
     "name": "stdout",
     "output_type": "stream",
     "text": [
      "Angry Core of Hong Kong Protesters Storms Legislature, Dividing the Movement\n"
     ]
    }
   ],
   "source": [
    "nyt_first_story = nyt_feed['entries'][0]['title'] #Recall that '0' is actually the first instance\n",
    "print(nyt_first_story)"
   ]
  },
  {
   "cell_type": "code",
   "execution_count": 72,
   "metadata": {},
   "outputs": [
    {
     "name": "stdout",
     "output_type": "stream",
     "text": [
      "['Angry', 'Core', 'of', 'Hong', 'Kong', 'Protesters', 'Storms', 'Legislature,', 'Dividing', 'the', 'Movement']\n"
     ]
    }
   ],
   "source": [
    "words = nyt_first_story.split(' ') # remember, I can split that single sentence into a list of individual words \n",
    "print(words) "
   ]
  },
  {
   "cell_type": "code",
   "execution_count": 77,
   "metadata": {},
   "outputs": [
    {
     "name": "stdout",
     "output_type": "stream",
     "text": [
      "['Inside', 'the', 'Migrant', 'Detention', 'Center', 'in', 'Clint,', 'Tex.']\n",
      " --- \n",
      "['The', 'legend', 'of', 'The', 'Martian,', 'the', \"Yankees'\", '$5', 'million,', '16-year-old', 'international', 'coup']\n"
     ]
    }
   ],
   "source": [
    "for i in range(0,10): \n",
    "\n",
    "    nyt_first_story = nyt_feed['entries'][i]['title'] # pull the title of the ith story in the first RSS feed\n",
    "    espn_first_story = espn_feed['entries'][i]['title'] # pull the title of the ith story in the second RSS feed\n",
    "\n",
    "    nyt_words = nyt_first_story.split(' ') # split the title by spaces (aka, make every word in the title it's own)\n",
    "    espn_words = espn_first_story.split(' ') # split the title by spaces (aka, make every word in the title it's own)\n",
    "    \n",
    "print(nyt_words) \n",
    "print(\" --- \") # print a line for formatting purposes\n",
    "print(espn_words)"
   ]
  },
  {
   "cell_type": "markdown",
   "metadata": {},
   "source": [
    "## Let's keep going. Remember, we want to take half of one headline and half of a different headline and mash them together. So, how do we get just the first or second half of a list of words?  <br>"
   ]
  },
  {
   "cell_type": "code",
   "execution_count": 80,
   "metadata": {},
   "outputs": [
    {
     "name": "stdout",
     "output_type": "stream",
     "text": [
      "['Inside', 'the', 'Migrant', 'Detention']\n",
      " --- \n",
      "[\"Yankees'\", '$5', 'million,', '16-year-old', 'international', 'coup']\n"
     ]
    }
   ],
   "source": [
    "for i in range(0,10): \n",
    "\n",
    "    nyt_first_story = nyt_feed['entries'][i]['title'] # pull the title of the ith story in the first RSS feed\n",
    "    espn_first_story = espn_feed['entries'][i]['title'] # pull the title of the ith story in the second RSS feed\n",
    "\n",
    "    nyt_words = nyt_first_story.split(' ') # split the title by spaces (aka, make every word in the title it's own)\n",
    "    espn_words = espn_first_story.split(' ') # split the title by spaces (aka, make every word in the title it's own)\n",
    "\n",
    "    nyt_words = nyt_words[:int(len(nyt_words)/2)] \n",
    "    espn_words = espn_words[int(len(espn_words)/2):]\n",
    "    \n",
    "print(nyt_words)\n",
    "print(\" --- \")\n",
    "print(espn_words)"
   ]
  },
  {
   "cell_type": "markdown",
   "metadata": {},
   "source": [
    "### OK, so let's walk through that code: \n",
    "\n",
    "#### 1) First, the [: \n",
    "   "
   ]
  },
  {
   "cell_type": "code",
   "execution_count": 81,
   "metadata": {},
   "outputs": [
    {
     "name": "stdout",
     "output_type": "stream",
     "text": [
      "['a', 'b', 'c']\n"
     ]
    }
   ],
   "source": [
    "# the ':' at the front of a list means 'everything leading up to this point. For instance: \n",
    "\n",
    "list = ['a','b','c','d','e']\n",
    "list = list[:3]\n",
    "print(list)"
   ]
  },
  {
   "cell_type": "markdown",
   "metadata": {},
   "source": [
    "### In other words, we want to print everything leading up to (but not including!) the third instance in our list."
   ]
  },
  {
   "cell_type": "markdown",
   "metadata": {},
   "source": [
    "#### 2)  Next, the int allows us to ensure we're working with integers so we can do the necessary division at the end of the line of code.  \n"
   ]
  },
  {
   "cell_type": "code",
   "execution_count": 89,
   "metadata": {},
   "outputs": [
    {
     "data": {
      "text/plain": [
       "2.0"
      ]
     },
     "execution_count": 89,
     "metadata": {},
     "output_type": "execute_result"
    }
   ],
   "source": [
    "len(nyt_words)/2 # the result is a float, which we don't want"
   ]
  },
  {
   "cell_type": "code",
   "execution_count": 92,
   "metadata": {},
   "outputs": [
    {
     "data": {
      "text/plain": [
       "2"
      ]
     },
     "execution_count": 92,
     "metadata": {},
     "output_type": "execute_result"
    }
   ],
   "source": [
    "int(len(nyt_words)/2) # tis gives us an integer"
   ]
  },
  {
   "cell_type": "markdown",
   "metadata": {},
   "source": [
    "#### 3)  len is a function that gives you the number of items in a list. For instance: "
   ]
  },
  {
   "cell_type": "code",
   "execution_count": 83,
   "metadata": {},
   "outputs": [
    {
     "data": {
      "text/plain": [
       "5"
      ]
     },
     "execution_count": 83,
     "metadata": {},
     "output_type": "execute_result"
    }
   ],
   "source": [
    "list = ['a','b','c','d','e']\n",
    "len(list)"
   ]
  },
  {
   "cell_type": "markdown",
   "metadata": {},
   "source": [
    "#### 4) Finally, we are taking the total number of words in the headline and dividing by two"
   ]
  },
  {
   "cell_type": "markdown",
   "metadata": {},
   "source": [
    "### In total, we are saying: \"Take the headline, find out how many words are in the headline and divide by two. Then, take the first half of that headline and store it as the new healdine.\" \n",
    "\n",
    "#### Note that while for the first healdine we take the first half (by putting the ':' at the beginning of the code) we are taking the second half of the second headline (by putting the ':' at the end of the code)."
   ]
  },
  {
   "cell_type": "markdown",
   "metadata": {},
   "source": [
    "<br> \n",
    "\n",
    "## Finally, we want to join the two halves of our healdine and store it as the variable 'new_headline' "
   ]
  },
  {
   "cell_type": "code",
   "execution_count": 93,
   "metadata": {},
   "outputs": [
    {
     "name": "stdout",
     "output_type": "stream",
     "text": [
      "Angry Core of Hong Kong changed the NBA\n",
      "Hong Kong Protest Live Updates: this off, and what's next\n",
      "On Hong Kong Handover Anniversary, 1st round at Wimbledon\n",
      "Iran Breaches Critical Limit on acquire Whiteside from Heat\n",
      "In New Talks, U.S. May Settle will remain with Warriors\n",
      "Ivanka Trump Tests Her Diplomatic Chops Aho via rare offer sheet\n",
      "Pete Buttigieg Raised $24.8 Million meet over Vegas issue\n",
      "Consumers Are Spending. Businesses Aren’t. finalizing Russell acquisition\n",
      "S&P and Dow Follow Global Markets Higher, Latest buzz, news and reports\n",
      "Inside the Migrant Detention Yankees' $5 million, 16-year-old international coup\n"
     ]
    }
   ],
   "source": [
    "for i in range(0,10): \n",
    "\n",
    "    nyt_first_story = nyt_feed['entries'][i]['title'] # pull the title of the ith story in the first RSS feed\n",
    "    espn_first_story = espn_feed['entries'][i]['title'] # pull the title of the ith story in the second RSS feed\n",
    "\n",
    "    nyt_words = nyt_first_story.split(' ') # split the title by spaces (aka, make every word in the title it's own)\n",
    "    espn_words = espn_first_story.split(' ') # split the title by spaces (aka, make every word in the title it's own)\n",
    "\n",
    "    nyt_words = nyt_words[:int(len(nyt_words)/2)] \n",
    "    espn_words = espn_words[int(len(espn_words)/2):]\n",
    "    \n",
    "    new_headline = nyt_words + espn_words # Take the first half of the title from the first RSS feed and add the second half of the second RSS feed\n",
    "    new_headline = ' '.join(new_headline) # Join the two strings created above with spaces\n",
    "\n",
    "    print(new_headline) # Print your newly created headline"
   ]
  }
 ],
 "metadata": {
  "kernelspec": {
   "display_name": "Python 3",
   "language": "python",
   "name": "python3"
  },
  "language_info": {
   "codemirror_mode": {
    "name": "ipython",
    "version": 3
   },
   "file_extension": ".py",
   "mimetype": "text/x-python",
   "name": "python",
   "nbconvert_exporter": "python",
   "pygments_lexer": "ipython3",
   "version": "3.7.1"
  }
 },
 "nbformat": 4,
 "nbformat_minor": 2
}
