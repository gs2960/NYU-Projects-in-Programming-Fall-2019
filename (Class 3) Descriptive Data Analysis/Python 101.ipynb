{
 "cells": [
  {
   "cell_type": "markdown",
   "metadata": {},
   "source": [
    "# All material ©2019, Alex Siegman"
   ]
  },
  {
   "cell_type": "markdown",
   "metadata": {},
   "source": [
    "---"
   ]
  },
  {
   "cell_type": "markdown",
   "metadata": {},
   "source": [
    "The goal of these notebooks is simple: To help you secure a foothold in what is otherwise the very daunting climb towards learning a new programming anguage (and, of course, to have fun!) "
   ]
  },
  {
   "cell_type": "markdown",
   "metadata": {},
   "source": [
    "## A few basics regarding Jupyter Notebooks (formerly iPython Notebooks)\n",
    "\n",
    "<br>\n",
    "\n",
    "1. To execute a cell, hit Shift+Enter <br><br>\n",
    "\n",
    "2. If you want to execute a cell, and add an aditional, blank cell below it, hit Option+Enter <br><br>\n",
    "\n",
    "3. On the top of the window you will see this cell says 'Markdown' - this means you can type as if you would in any word processor. To execute any code in Python, you must ensure the cel is in 'Code' (you can ignore the other two options for now). \n",
    "\n",
    "    NB: You can use this cheat sheet in order to do things in Markdown like make headers or use bold/italics: https://guides.github.com/pdfs/markdown-cheatsheet-online.pdf <br><br>\n",
    "\n",
    "4. If you make a mistake and, for instance, start a 'while' loop with no ending and your computer gets stuck, you can click the square next to the 'Code/Markdown' dropdown menu above, which will stop the kernel (aka, the cell). <br><br>\n",
    "\n",
    "5. When a cell is running, there will be a little '*' to its left. This means it's working on executing the code in the cell (the more complex the code, the longer it will take to execute). Once it is done, it will display a number. The numbers are really just there to show you the order in which you executed your cells, and nothing more. They can largely be ignored.\n",
    "\n",
    "<br>"
   ]
  },
  {
   "cell_type": "markdown",
   "metadata": {},
   "source": [
    "## Now, for a bit of background on Python! \n",
    "\n",
    "<br>\n",
    "\n",
    "Python is one of many programming languages, and just like other languages, it has its pros and cons. \n",
    "\n",
    "For more on Python, they have a handy site: https://www.python.org/about/gettingstarted/, but for now just know that it is what's called an object-oriented, high-level programming language (read as: versatile and fairly basic). \n",
    "\n",
    "<br>\n",
    "\n",
    "Python was released more than 25 years ago, in 1991, by a Guido van Rossum. In his own words:\n",
    "\n",
    "_\"...In December 1989, I was looking for a \"hobby\" programming project that would keep me occupied during the week around Christmas. My office ... would be closed, but I had a home computer, and not much else on my hands. I decided to write an interpreter for the new scripting language I had been thinking about lately: a descendant of ABC that would appeal to Unix/C hackers. I chose Python as a working title for the project, being in a slightly irreverent mood (and a big fan of Monty Python's Flying Circus)._\n",
    "\n",
    "<br>\n",
    "\n",
    "\n",
    "Finally, and perhaps most importantly, if you ever have any questions, you can ask me, or, visit https://stackoverflow.com/, quite possibly the most useful tool on the internet. Consider it the Google of coding questions. Input your search query (I.e., 'Convert string to integer') and you'll get hundreds if not thousands of answers!\n",
    "\n",
    "<br>\n",
    "\n",
    "P.S. You are most likely running Python 3.6.4, which is the latest vertsion (to check which version you are running, open your terminal and simply type \"python\"). Unfortunately, with each new update to Python there are some quirky changes. For instance, in previous Python versions, to print something you would say: \n",
    "\n",
    "    print \"Hello, my name is Alex\" \n",
    "\n",
    "Whereas in the latest version, you say: \n",
    "\n",
    "    print(\"Hello, my name is Alex\") \n",
    "\n",
    "It may seem trivial, but it's anything but when you can't figure out why the code you've spent all night writing won't execute. \n",
    "\n",
    "P.P.S. Perhaps most important of all, if you are in a 'Code' cell and want to type something non-code, just put a '#' before it (demonstrated below). \n",
    "\n",
    "#### Alas, let's get started! "
   ]
  },
  {
   "cell_type": "markdown",
   "metadata": {},
   "source": [
    "---"
   ]
  },
  {
   "cell_type": "markdown",
   "metadata": {},
   "source": [
    "## Math in Python"
   ]
  },
  {
   "cell_type": "code",
   "execution_count": 1,
   "metadata": {},
   "outputs": [
    {
     "data": {
      "text/plain": [
       "3"
      ]
     },
     "execution_count": 1,
     "metadata": {},
     "output_type": "execute_result"
    }
   ],
   "source": [
    "1 + 2 # we can do addition\n",
    "    # remember, the \"#\" means I can 'comment out' (explain) every line of my code (a good habit to get into)"
   ]
  },
  {
   "cell_type": "code",
   "execution_count": 2,
   "metadata": {},
   "outputs": [
    {
     "data": {
      "text/plain": [
       "5"
      ]
     },
     "execution_count": 2,
     "metadata": {},
     "output_type": "execute_result"
    }
   ],
   "source": [
    "10 - 5 # subtraction"
   ]
  },
  {
   "cell_type": "code",
   "execution_count": 3,
   "metadata": {},
   "outputs": [
    {
     "data": {
      "text/plain": [
       "63"
      ]
     },
     "execution_count": 3,
     "metadata": {},
     "output_type": "execute_result"
    }
   ],
   "source": [
    "7 * 9 # and multiplication"
   ]
  },
  {
   "cell_type": "markdown",
   "metadata": {},
   "source": [
    "### We can also work with what are known as variables. \n",
    "\n",
    "#### For instance, below we are assigning 's' to the result of the operation (1+5). In other words, we are saying 's' is equal to 6."
   ]
  },
  {
   "cell_type": "code",
   "execution_count": 4,
   "metadata": {},
   "outputs": [
    {
     "name": "stdout",
     "output_type": "stream",
     "text": [
      "6\n"
     ]
    }
   ],
   "source": [
    "s = (1+5) \n",
    "\n",
    "print(s)"
   ]
  },
  {
   "cell_type": "markdown",
   "metadata": {},
   "source": [
    "### We can take it a step further and add, subtract, and multiply variables to ,from, and by other numbers."
   ]
  },
  {
   "cell_type": "code",
   "execution_count": 5,
   "metadata": {},
   "outputs": [
    {
     "data": {
      "text/plain": [
       "20"
      ]
     },
     "execution_count": 5,
     "metadata": {},
     "output_type": "execute_result"
    }
   ],
   "source": [
    "s + 14 # 6 + 14 = 20"
   ]
  },
  {
   "cell_type": "code",
   "execution_count": 6,
   "metadata": {},
   "outputs": [
    {
     "data": {
      "text/plain": [
       "-8"
      ]
     },
     "execution_count": 6,
     "metadata": {},
     "output_type": "execute_result"
    }
   ],
   "source": [
    "s - 14 # 6 - 14 = -8 "
   ]
  },
  {
   "cell_type": "code",
   "execution_count": 7,
   "metadata": {},
   "outputs": [
    {
     "data": {
      "text/plain": [
       "600"
      ]
     },
     "execution_count": 7,
     "metadata": {},
     "output_type": "execute_result"
    }
   ],
   "source": [
    "s * 100 # 6 * 100 = 600"
   ]
  },
  {
   "cell_type": "markdown",
   "metadata": {},
   "source": [
    "## A note on Object Oriented Programming\n",
    "\n",
    "#### One important thing to know about Python is that it is an object-oriented programming language. As part of that language, we deal with different data types. \n",
    "\n",
    "#### For instance, we might deal with: \n",
    "\n",
    "1. Integers\n",
    "2. Floats\n",
    "3. Strings\n",
    "4. Lists / Arrays\n",
    "5. Booleans (True / False)\n",
    "\n",
    "#### Each of which allows you to do certain things to it as an object. "
   ]
  },
  {
   "cell_type": "code",
   "execution_count": 8,
   "metadata": {},
   "outputs": [
    {
     "data": {
      "text/plain": [
       "27"
      ]
     },
     "execution_count": 8,
     "metadata": {},
     "output_type": "execute_result"
    }
   ],
   "source": [
    "14 + 13 # we can add integers together"
   ]
  },
  {
   "cell_type": "code",
   "execution_count": 9,
   "metadata": {},
   "outputs": [
    {
     "data": {
      "text/plain": [
       "27.0"
      ]
     },
     "execution_count": 9,
     "metadata": {},
     "output_type": "execute_result"
    }
   ],
   "source": [
    "14 + 13.0 # and we can add integers and floats together"
   ]
  },
  {
   "cell_type": "code",
   "execution_count": 10,
   "metadata": {},
   "outputs": [
    {
     "ename": "TypeError",
     "evalue": "unsupported operand type(s) for +: 'int' and 'str'",
     "output_type": "error",
     "traceback": [
      "\u001b[0;31m---------------------------------------------------------------------------\u001b[0m",
      "\u001b[0;31mTypeError\u001b[0m                                 Traceback (most recent call last)",
      "\u001b[0;32m<ipython-input-10-53cb26d5b16c>\u001b[0m in \u001b[0;36m<module>\u001b[0;34m\u001b[0m\n\u001b[0;32m----> 1\u001b[0;31m \u001b[0;36m14\u001b[0m \u001b[0;34m+\u001b[0m \u001b[0;34m\"Thirteen\"\u001b[0m \u001b[0;31m# but we can't add an integer and a string\u001b[0m\u001b[0;34m\u001b[0m\u001b[0;34m\u001b[0m\u001b[0m\n\u001b[0m",
      "\u001b[0;31mTypeError\u001b[0m: unsupported operand type(s) for +: 'int' and 'str'"
     ]
    }
   ],
   "source": [
    "14 + \"Thirteen\" # but we can't add an integer and a string "
   ]
  },
  {
   "cell_type": "markdown",
   "metadata": {},
   "source": [
    "### We can also work with varibles alongside mathematical functions"
   ]
  },
  {
   "cell_type": "code",
   "execution_count": 11,
   "metadata": {},
   "outputs": [
    {
     "data": {
      "text/plain": [
       "int"
      ]
     },
     "execution_count": 11,
     "metadata": {},
     "output_type": "execute_result"
    }
   ],
   "source": [
    "s = 14 # we reassign 's' to equal 14\n",
    "\n",
    "type(s) # the 'type' function returns to us the object type of the variable\n",
    "        # in this case, 's' is an integer"
   ]
  },
  {
   "cell_type": "code",
   "execution_count": 12,
   "metadata": {},
   "outputs": [
    {
     "data": {
      "text/plain": [
       "float"
      ]
     },
     "execution_count": 12,
     "metadata": {},
     "output_type": "execute_result"
    }
   ],
   "source": [
    "s = float(s) # you can 'recast' objects as different data types, too. \n",
    "             # here, we 'recast' 's' from an integer to a float. \n",
    "             # you can think of 'float' as a decimal value.\n",
    "        \n",
    "type(s)"
   ]
  },
  {
   "cell_type": "markdown",
   "metadata": {},
   "source": [
    "### We'll go into much greater depth around object types later on, though. For now, let's talk about how about 'strings' (aka, words and sentences) work. <br>"
   ]
  },
  {
   "cell_type": "code",
   "execution_count": 13,
   "metadata": {},
   "outputs": [],
   "source": [
    "sentence = \"Here is a basic sentence, that we can transform! \" \n",
    "\n",
    "# again, we're storing the sentence as the variable 'sentence'"
   ]
  },
  {
   "cell_type": "code",
   "execution_count": 14,
   "metadata": {},
   "outputs": [
    {
     "data": {
      "text/plain": [
       "'Here is a basic sentence, that we can transform! '"
      ]
     },
     "execution_count": 14,
     "metadata": {},
     "output_type": "execute_result"
    }
   ],
   "source": [
    "sentence"
   ]
  },
  {
   "cell_type": "code",
   "execution_count": 15,
   "metadata": {},
   "outputs": [
    {
     "data": {
      "text/plain": [
       "['Here is a basic ', ', that we can transform! ']"
      ]
     },
     "execution_count": 15,
     "metadata": {},
     "output_type": "execute_result"
    }
   ],
   "source": [
    "sentence.split('sentence') # here we are splitting the sentence at every blank space"
   ]
  },
  {
   "cell_type": "markdown",
   "metadata": {
    "collapsed": true
   },
   "source": [
    "### The result of the sentence.split() is a ist of words (we'll get more into lists in a moment)"
   ]
  },
  {
   "cell_type": "code",
   "execution_count": 16,
   "metadata": {},
   "outputs": [
    {
     "data": {
      "text/plain": [
       "['Here ', 's a bas', 'c sentence, that we can transform! ']"
      ]
     },
     "execution_count": 16,
     "metadata": {},
     "output_type": "execute_result"
    }
   ],
   "source": [
    "sentence.split(\"i\") # rather than split the sentence into its component parts, let's say that we want to split\n",
    "                    # the sentence every time we come to the letter 'i'"
   ]
  },
  {
   "cell_type": "markdown",
   "metadata": {},
   "source": [
    "### What else can we do with strings? "
   ]
  },
  {
   "cell_type": "code",
   "execution_count": 17,
   "metadata": {},
   "outputs": [
    {
     "data": {
      "text/plain": [
       "1"
      ]
     },
     "execution_count": 17,
     "metadata": {},
     "output_type": "execute_result"
    }
   ],
   "source": [
    "sentence.count(\"Here\") # We can count how many times the word \"Here\" appear in our sentence."
   ]
  },
  {
   "cell_type": "code",
   "execution_count": 18,
   "metadata": {},
   "outputs": [
    {
     "data": {
      "text/plain": [
       "'Alex, Chloe'"
      ]
     },
     "execution_count": 18,
     "metadata": {},
     "output_type": "execute_result"
    }
   ],
   "source": [
    "\"Alex,\" + \" Chloe\" # and we can do what's called 'concatenation' (adding two or more strings together)"
   ]
  },
  {
   "cell_type": "code",
   "execution_count": 19,
   "metadata": {},
   "outputs": [
    {
     "data": {
      "text/plain": [
       "'here is a basic sentence, that we can transform! '"
      ]
     },
     "execution_count": 19,
     "metadata": {},
     "output_type": "execute_result"
    }
   ],
   "source": [
    "sentence.lower() # we can transform our sentence into lowercase..."
   ]
  },
  {
   "cell_type": "code",
   "execution_count": 20,
   "metadata": {},
   "outputs": [
    {
     "data": {
      "text/plain": [
       "'HERE IS A BASIC SENTENCE, THAT WE CAN TRANSFORM! '"
      ]
     },
     "execution_count": 20,
     "metadata": {},
     "output_type": "execute_result"
    }
   ],
   "source": [
    "sentence.upper() # ...and uppercase"
   ]
  },
  {
   "cell_type": "code",
   "execution_count": 21,
   "metadata": {},
   "outputs": [],
   "source": [
    "x = \"I love chcolate.\" "
   ]
  },
  {
   "cell_type": "code",
   "execution_count": 22,
   "metadata": {},
   "outputs": [
    {
     "name": "stdout",
     "output_type": "stream",
     "text": [
      "I love chcolate.\n"
     ]
    }
   ],
   "source": [
    "print(x)"
   ]
  },
  {
   "cell_type": "code",
   "execution_count": 23,
   "metadata": {},
   "outputs": [],
   "source": [
    "x = x.replace(\"cookies\",\"chocolate\") # we can replace words in our sentence"
   ]
  },
  {
   "cell_type": "code",
   "execution_count": 24,
   "metadata": {},
   "outputs": [
    {
     "name": "stdout",
     "output_type": "stream",
     "text": [
      "False\n",
      "False\n"
     ]
    }
   ],
   "source": [
    "print(\"cookies\" in x) # is the word 'cookies' in our sentence, x?\n",
    "print(\"cake\" in x) # is the word 'cake' in our sentence, x?"
   ]
  },
  {
   "cell_type": "markdown",
   "metadata": {},
   "source": [
    "### Note: The results above are what is known as boolean values. They can either be \"True\" or \"False\" and nothing else. But back to our strings:"
   ]
  },
  {
   "cell_type": "code",
   "execution_count": 25,
   "metadata": {},
   "outputs": [
    {
     "data": {
      "text/plain": [
       "'Here is a basic sentence, that we can transform!  We can even add to our sentence!'"
      ]
     },
     "execution_count": 25,
     "metadata": {},
     "output_type": "execute_result"
    }
   ],
   "source": [
    "sentence+ \" We can even add to our sentence!\" "
   ]
  },
  {
   "cell_type": "code",
   "execution_count": 26,
   "metadata": {},
   "outputs": [
    {
     "ename": "TypeError",
     "evalue": "can only concatenate str (not \"int\") to str",
     "output_type": "error",
     "traceback": [
      "\u001b[0;31m---------------------------------------------------------------------------\u001b[0m",
      "\u001b[0;31mTypeError\u001b[0m                                 Traceback (most recent call last)",
      "\u001b[0;32m<ipython-input-26-9d2c9ee09ebe>\u001b[0m in \u001b[0;36m<module>\u001b[0;34m\u001b[0m\n\u001b[0;32m----> 1\u001b[0;31m \u001b[0msentence\u001b[0m \u001b[0;34m+\u001b[0m \u001b[0;36m194\u001b[0m\u001b[0;34m\u001b[0m\u001b[0;34m\u001b[0m\u001b[0m\n\u001b[0m",
      "\u001b[0;31mTypeError\u001b[0m: can only concatenate str (not \"int\") to str"
     ]
    }
   ],
   "source": [
    "sentence + 194"
   ]
  },
  {
   "cell_type": "markdown",
   "metadata": {},
   "source": [
    "### Oh no! It won't let us add our number to the end of our sentence. What shall we do? \n",
    "\n",
    "### _Also, note how helpful the error messages in Python are. It's cearly telling us here that the highlighted number (194) must be a string and not an integer._\n",
    "<br>"
   ]
  },
  {
   "cell_type": "code",
   "execution_count": 27,
   "metadata": {},
   "outputs": [
    {
     "data": {
      "text/plain": [
       "'Here is a basic sentence, that we can transform! 195'"
      ]
     },
     "execution_count": 27,
     "metadata": {},
     "output_type": "execute_result"
    }
   ],
   "source": [
    "sentence + str(195) # easy! Turn that integer into a string! "
   ]
  },
  {
   "cell_type": "markdown",
   "metadata": {},
   "source": [
    "### Now let's take a look at lists (also known as arrays)!\n",
    "\n",
    "#### BEWARE - Python is what is known as '0 index'. In other words, the first item of a list is item 0, not item 1 <br>"
   ]
  },
  {
   "cell_type": "code",
   "execution_count": 28,
   "metadata": {},
   "outputs": [],
   "source": [
    "family = [\"Alex\",\"Mara\",\"Max\",\"Michael\",\"Valerie\"] # this is a list of my family members!"
   ]
  },
  {
   "cell_type": "code",
   "execution_count": 29,
   "metadata": {},
   "outputs": [
    {
     "data": {
      "text/plain": [
       "'Mara'"
      ]
     },
     "execution_count": 29,
     "metadata": {},
     "output_type": "execute_result"
    }
   ],
   "source": [
    "family[1] #Remember, Python is 0 index, so the first index actually corresponds with the second list item"
   ]
  },
  {
   "cell_type": "markdown",
   "metadata": {},
   "source": [
    "## If Statements\n",
    "\n",
    "### If statements are fantastic if you need to traverse a list of values or a database of values. Think of it as commanding the computer to do a series of \"If, than\" statements. \n",
    "\n",
    "### If the given crieteria are met, do this. Otherwise, do this. And so on and so forth. "
   ]
  },
  {
   "cell_type": "code",
   "execution_count": 30,
   "metadata": {},
   "outputs": [
    {
     "name": "stdout",
     "output_type": "stream",
     "text": [
      "Alex\n",
      "Mara\n",
      "Max\n",
      "Michael\n",
      "Valerie\n"
     ]
    }
   ],
   "source": [
    "for i in family: # for every indexed value in the list 'family'\n",
    "    print(i) # simply print that value "
   ]
  },
  {
   "cell_type": "code",
   "execution_count": 31,
   "metadata": {},
   "outputs": [
    {
     "name": "stdout",
     "output_type": "stream",
     "text": [
      "ALEX\n",
      "MARA\n",
      "MAX\n",
      "MICHAEL\n",
      "VALERIE\n"
     ]
    }
   ],
   "source": [
    "for i in family: # for every indexed value in the list 'family'\n",
    "    i = i.upper() # turn that value into all uppercase lettering...\n",
    "    print(i) # ...and print it"
   ]
  },
  {
   "cell_type": "markdown",
   "metadata": {},
   "source": [
    "### It's important to note that in an 'if' statement, indentation matters! You'l note the ':' at the end of the initial if statement - that 'opens' the statement. Everything else below that and indented falls within that statement. A good way to think about it, especially at first, is by reading it aloud. For instance: "
   ]
  },
  {
   "cell_type": "code",
   "execution_count": 32,
   "metadata": {},
   "outputs": [],
   "source": [
    "if \"cookies\" in x: #'if the word 'cookies' appears in our sentence, x, we want to (1) Replace 'cookies' \n",
    "                   # with the word 'cake'...\n",
    "\n",
    "    x = x.replace(\"cookies\",\"cake\") # ... and reassign 'x' to the sentence with 'cake' instead of 'cookies'\n",
    "    x = x.upper() # ... and make our sentence uppercase...\n",
    "    print(x) # and print our new sentence"
   ]
  },
  {
   "cell_type": "markdown",
   "metadata": {},
   "source": [
    "### If you're wondering what \"if 'cookies' in x:\" means, it's quite simple. "
   ]
  },
  {
   "cell_type": "code",
   "execution_count": 33,
   "metadata": {},
   "outputs": [
    {
     "name": "stdout",
     "output_type": "stream",
     "text": [
      "True\n"
     ]
    }
   ],
   "source": [
    "x = \"I love cookies.\"\n",
    "\n",
    "print(\"cookies\" in x) # is the word \"cookies\" in our sentence, 'x'?"
   ]
  },
  {
   "cell_type": "markdown",
   "metadata": {},
   "source": [
    "### As you can see, the results of the prior cell is 'True'. This is called a boolean value (it can either be 'True' or 'False').  As you can see, the word 'cookies' is in our sentence, so the result of that line is 'True'.\n",
    "\n",
    "### Tus, in our 'if' loop above, we are saying: \n",
    "\n",
    "### _If \"cookies\" is in our sentence 'x', do everything below. Otherwise, do nothing_"
   ]
  },
  {
   "cell_type": "markdown",
   "metadata": {},
   "source": [
    "### Below is another example of an if statement, except this time we are including \"elif's\". \n",
    "\n",
    "### Think of the below example as, again, an \"if than\" statement, but, now we are just specifying three possible outcomes. "
   ]
  },
  {
   "cell_type": "code",
   "execution_count": 34,
   "metadata": {},
   "outputs": [
    {
     "name": "stdout",
     "output_type": "stream",
     "text": [
      "That's a small number.\n"
     ]
    }
   ],
   "source": [
    "x = 3 # we are going to start by storing the value 3 in our variable, x\n",
    "\n",
    "if x > 5: # if x is greater than 5 (and in this case it is not)...\n",
    "    print(\"That's a big number!\") # we want to print \"That's a big number!\"\n",
    "elif x > 8: # if x is greater than 8 (and in this case it still isn't)...\n",
    "        print(\"That's an even bigger number!\") # we want to print \"That's an even bigger number!\"\n",
    "else: # finally, if x isn't bigger than 5 or 8 (aka, if none of the above is true)...\n",
    "    print(\"That's a small number.\") # we want to print \"That's a small number\"\n",
    "    "
   ]
  },
  {
   "cell_type": "markdown",
   "metadata": {},
   "source": [
    "### Now for some more complex work... <br>"
   ]
  },
  {
   "cell_type": "code",
   "execution_count": 35,
   "metadata": {},
   "outputs": [
    {
     "name": "stdout",
     "output_type": "stream",
     "text": [
      "1 is an odd number\n",
      "2 is an even number\n",
      "3 is an odd number\n",
      "4 is an even number\n",
      "5 is an odd number\n",
      "6 is an even number\n",
      "7 is an odd number\n",
      "8 is an even number\n",
      "9 is an odd number\n",
      "10 is an even number\n"
     ]
    }
   ],
   "source": [
    "for i in range(1,11): # for every value in the range 1-11 (again, don't forget Python starts indexing at 0!\n",
    "    if i % 2 == 0: # if the value (i) is evenly divisible by 2 (aka, after dividing by 2 there is no remainder)\n",
    "        print(str(i) + \" is an even number\") # print \"the value is an even number\"\n",
    "    else: # if it's not divisible by 2 with no remainder...\n",
    "        print(str(i) + \" is an odd number\") # print \"the value is an odd number\""
   ]
  },
  {
   "cell_type": "markdown",
   "metadata": {},
   "source": [
    "### A few notes on the code above: \n",
    "\n",
    "1. The \"%\" symbol is called a modulo. It basically gets the remainder of a divsion. For instance, 3 % 3 = 0, because 3 goes evenly into 3. However, 4 % 3 = 1, because there is 1 left over after dividing 4 by 3. <br>\n",
    "<br>\n",
    "2. == is how we say \"is equal to\". It's different from a single = sign, which means we are assigning a value. In the statement above, \"if i % 2 == 0\" we are saying, if the result of i modulo 2 is equal to 0, then...\" <br> \n",
    "<br>\n",
    "3. print(str(i) + \" is an even number\") means we want to take the value of i (in this case, that's a number between 1 and 10) and turn it into a string, that way we can concatenate (add) it to the rest of the sentence, \" is an even number\"."
   ]
  },
  {
   "cell_type": "markdown",
   "metadata": {},
   "source": [
    "### What else can we do? "
   ]
  },
  {
   "cell_type": "code",
   "execution_count": 36,
   "metadata": {},
   "outputs": [
    {
     "name": "stdout",
     "output_type": "stream",
     "text": [
      "[2, 3, 8]\n"
     ]
    }
   ],
   "source": [
    "from random import * \n",
    "\n",
    "# this is how we can import libraries. We'll get more into this later on, but for now just know that you are \n",
    "# importing a package called 'sample' from a library called 'random' \n",
    "\n",
    "# for more on this particular package visit: https://docs.python.org/3/library/random.html\n",
    "\n",
    "print(sample(range(10),3)) # this is going to give us three random integers between the 0 and 9 (aka range(10))\n",
    "                           # note that each time you hit Shift+Enter you'll get a new value. Cool!"
   ]
  },
  {
   "cell_type": "code",
   "execution_count": 37,
   "metadata": {},
   "outputs": [
    {
     "data": {
      "text/plain": [
       "['Alex', 'Mara', 'Max', 'Michael', 'Valerie']"
      ]
     },
     "execution_count": 37,
     "metadata": {},
     "output_type": "execute_result"
    }
   ],
   "source": [
    "family # note that my 'family' list is still saved from earlier."
   ]
  },
  {
   "cell_type": "code",
   "execution_count": 38,
   "metadata": {},
   "outputs": [
    {
     "name": "stdout",
     "output_type": "stream",
     "text": [
      "['Alex', 'Mara', 'Valerie']\n"
     ]
    }
   ],
   "source": [
    "print(sample(family,3)) # let's choose three random family members. "
   ]
  },
  {
   "cell_type": "markdown",
   "metadata": {},
   "source": [
    "### What if we wanted to simulate a coin toss? "
   ]
  },
  {
   "cell_type": "code",
   "execution_count": 39,
   "metadata": {},
   "outputs": [
    {
     "data": {
      "text/plain": [
       "'H'"
      ]
     },
     "execution_count": 39,
     "metadata": {},
     "output_type": "execute_result"
    }
   ],
   "source": [
    "sample([\"H\",\"T\"],1)[0] \n",
    "\n",
    "# we can use a list of two options, 'H' for heads and 'T' for tails, and select at random one of those two.\n",
    "\n",
    "# the [0] at the end of the line means that we want the first item of the result list \n",
    "# try it without that 0 to see why"
   ]
  },
  {
   "cell_type": "code",
   "execution_count": 40,
   "metadata": {},
   "outputs": [
    {
     "name": "stdout",
     "output_type": "stream",
     "text": [
      "T\n"
     ]
    }
   ],
   "source": [
    "flip = sample([\"H\",\"T\"],1)[0] # so now let's store that result ('H' or 'T') as 'flip\n",
    "\n",
    "print(flip)\n",
    "\n",
    "count = 1 # and let's set a new variable, 'count' to the integer 1"
   ]
  },
  {
   "cell_type": "code",
   "execution_count": 41,
   "metadata": {},
   "outputs": [
    {
     "name": "stdout",
     "output_type": "stream",
     "text": [
      "T\n",
      "H\n",
      "2 flip(s)\n"
     ]
    }
   ],
   "source": [
    "flip = sample([\"H\",\"T\"],1)[0]\n",
    "print(flip)\n",
    "count = 1\n",
    "\n",
    "while flip == \"T\": # this is a 'while' loop. Everything indented below will run, over and over again, until the \n",
    "                   # initial state is false. In this case, as long as flip == True, it will keep running.\n",
    "                   # note the double equals sign is used when we try to evaluate something, while the single equal \n",
    "                   # sign is used when we are assigning a variable (this wil become more clear later on)\n",
    "                \n",
    "    flip = sample([\"H\",\"T\"],1)[0] # so, while flip == 'T' (as long as our coin fip results in Tails)...\n",
    "    print(flip) # let's print the result...\n",
    "    count = count+1 # and add to our count\n",
    "    \n",
    "print(count,\"flip(s)\") # thus, we can run this code over and over and see how many Tails we can get in a row before\n",
    "                       # we flip a heads (once we flip Heads, the while loop is no longer true, so the loop stops and\n",
    "                       # we move to the next line, which in this case is a print statement)"
   ]
  },
  {
   "cell_type": "markdown",
   "metadata": {},
   "source": [
    "## Functions! <br>\n",
    "\n",
    "### Functions are great if you have to repeat the same process over and over again. Rather than recode that process each time, you can just create a function once and call on it whenever needed!"
   ]
  },
  {
   "cell_type": "code",
   "execution_count": 42,
   "metadata": {},
   "outputs": [
    {
     "name": "stdout",
     "output_type": "stream",
     "text": [
      "Hello, John!\n"
     ]
    }
   ],
   "source": [
    "def greet(name): # we are defining a function called 'greet' that takes one variable, 'name'\n",
    "    return \"Hello, \" +name +\"!\" # the function is simple. Given the input 'name' we want to print 'Hello, name!'\n",
    "\n",
    "print(greet(\"John\")) # now we call our function with the input \"John\" and voila!"
   ]
  },
  {
   "cell_type": "code",
   "execution_count": 43,
   "metadata": {},
   "outputs": [
    {
     "name": "stdout",
     "output_type": "stream",
     "text": [
      "1870\n"
     ]
    }
   ],
   "source": [
    "def area(width,height):\n",
    "    return width*height\n",
    "\n",
    "print(area(34,55))"
   ]
  },
  {
   "cell_type": "markdown",
   "metadata": {},
   "source": [
    "# Congratulations, you've just completed a Python crash course! To test your understanding, try and work out what the following function is doing... <br>"
   ]
  },
  {
   "cell_type": "code",
   "execution_count": 44,
   "metadata": {
    "scrolled": true
   },
   "outputs": [
    {
     "ename": "KeyboardInterrupt",
     "evalue": "",
     "output_type": "error",
     "traceback": [
      "\u001b[0;31m---------------------------------------------------------------------------\u001b[0m",
      "\u001b[0;31mKeyboardInterrupt\u001b[0m                         Traceback (most recent call last)",
      "\u001b[0;32m~/miniconda3/lib/python3.7/site-packages/ipykernel/kernelbase.py\u001b[0m in \u001b[0;36m_input_request\u001b[0;34m(self, prompt, ident, parent, password)\u001b[0m\n\u001b[1;32m    877\u001b[0m             \u001b[0;32mtry\u001b[0m\u001b[0;34m:\u001b[0m\u001b[0;34m\u001b[0m\u001b[0;34m\u001b[0m\u001b[0m\n\u001b[0;32m--> 878\u001b[0;31m                 \u001b[0mident\u001b[0m\u001b[0;34m,\u001b[0m \u001b[0mreply\u001b[0m \u001b[0;34m=\u001b[0m \u001b[0mself\u001b[0m\u001b[0;34m.\u001b[0m\u001b[0msession\u001b[0m\u001b[0;34m.\u001b[0m\u001b[0mrecv\u001b[0m\u001b[0;34m(\u001b[0m\u001b[0mself\u001b[0m\u001b[0;34m.\u001b[0m\u001b[0mstdin_socket\u001b[0m\u001b[0;34m,\u001b[0m \u001b[0;36m0\u001b[0m\u001b[0;34m)\u001b[0m\u001b[0;34m\u001b[0m\u001b[0;34m\u001b[0m\u001b[0m\n\u001b[0m\u001b[1;32m    879\u001b[0m             \u001b[0;32mexcept\u001b[0m \u001b[0mException\u001b[0m\u001b[0;34m:\u001b[0m\u001b[0;34m\u001b[0m\u001b[0;34m\u001b[0m\u001b[0m\n",
      "\u001b[0;32m~/miniconda3/lib/python3.7/site-packages/jupyter_client/session.py\u001b[0m in \u001b[0;36mrecv\u001b[0;34m(self, socket, mode, content, copy)\u001b[0m\n\u001b[1;32m    802\u001b[0m         \u001b[0;32mtry\u001b[0m\u001b[0;34m:\u001b[0m\u001b[0;34m\u001b[0m\u001b[0;34m\u001b[0m\u001b[0m\n\u001b[0;32m--> 803\u001b[0;31m             \u001b[0mmsg_list\u001b[0m \u001b[0;34m=\u001b[0m \u001b[0msocket\u001b[0m\u001b[0;34m.\u001b[0m\u001b[0mrecv_multipart\u001b[0m\u001b[0;34m(\u001b[0m\u001b[0mmode\u001b[0m\u001b[0;34m,\u001b[0m \u001b[0mcopy\u001b[0m\u001b[0;34m=\u001b[0m\u001b[0mcopy\u001b[0m\u001b[0;34m)\u001b[0m\u001b[0;34m\u001b[0m\u001b[0;34m\u001b[0m\u001b[0m\n\u001b[0m\u001b[1;32m    804\u001b[0m         \u001b[0;32mexcept\u001b[0m \u001b[0mzmq\u001b[0m\u001b[0;34m.\u001b[0m\u001b[0mZMQError\u001b[0m \u001b[0;32mas\u001b[0m \u001b[0me\u001b[0m\u001b[0;34m:\u001b[0m\u001b[0;34m\u001b[0m\u001b[0;34m\u001b[0m\u001b[0m\n",
      "\u001b[0;32m~/miniconda3/lib/python3.7/site-packages/zmq/sugar/socket.py\u001b[0m in \u001b[0;36mrecv_multipart\u001b[0;34m(self, flags, copy, track)\u001b[0m\n\u001b[1;32m    466\u001b[0m         \"\"\"\n\u001b[0;32m--> 467\u001b[0;31m         \u001b[0mparts\u001b[0m \u001b[0;34m=\u001b[0m \u001b[0;34m[\u001b[0m\u001b[0mself\u001b[0m\u001b[0;34m.\u001b[0m\u001b[0mrecv\u001b[0m\u001b[0;34m(\u001b[0m\u001b[0mflags\u001b[0m\u001b[0;34m,\u001b[0m \u001b[0mcopy\u001b[0m\u001b[0;34m=\u001b[0m\u001b[0mcopy\u001b[0m\u001b[0;34m,\u001b[0m \u001b[0mtrack\u001b[0m\u001b[0;34m=\u001b[0m\u001b[0mtrack\u001b[0m\u001b[0;34m)\u001b[0m\u001b[0;34m]\u001b[0m\u001b[0;34m\u001b[0m\u001b[0;34m\u001b[0m\u001b[0m\n\u001b[0m\u001b[1;32m    468\u001b[0m         \u001b[0;31m# have first part already, only loop while more to receive\u001b[0m\u001b[0;34m\u001b[0m\u001b[0;34m\u001b[0m\u001b[0;34m\u001b[0m\u001b[0m\n",
      "\u001b[0;32mzmq/backend/cython/socket.pyx\u001b[0m in \u001b[0;36mzmq.backend.cython.socket.Socket.recv\u001b[0;34m()\u001b[0m\n",
      "\u001b[0;32mzmq/backend/cython/socket.pyx\u001b[0m in \u001b[0;36mzmq.backend.cython.socket.Socket.recv\u001b[0;34m()\u001b[0m\n",
      "\u001b[0;32mzmq/backend/cython/socket.pyx\u001b[0m in \u001b[0;36mzmq.backend.cython.socket._recv_copy\u001b[0;34m()\u001b[0m\n",
      "\u001b[0;32m~/miniconda3/lib/python3.7/site-packages/zmq/backend/cython/checkrc.pxd\u001b[0m in \u001b[0;36mzmq.backend.cython.checkrc._check_rc\u001b[0;34m()\u001b[0m\n",
      "\u001b[0;31mKeyboardInterrupt\u001b[0m: ",
      "\nDuring handling of the above exception, another exception occurred:\n",
      "\u001b[0;31mKeyboardInterrupt\u001b[0m                         Traceback (most recent call last)",
      "\u001b[0;32m<ipython-input-44-fbf5a1a2e252>\u001b[0m in \u001b[0;36m<module>\u001b[0;34m\u001b[0m\n\u001b[1;32m     46\u001b[0m \u001b[0;34m\u001b[0m\u001b[0m\n\u001b[1;32m     47\u001b[0m \u001b[0;32mif\u001b[0m \u001b[0m__name__\u001b[0m \u001b[0;34m==\u001b[0m \u001b[0;34m\"__main__\"\u001b[0m\u001b[0;34m:\u001b[0m \u001b[0;31m#A little hint, this is just a fancy to say \"Run my function\"\u001b[0m\u001b[0;34m\u001b[0m\u001b[0;34m\u001b[0m\u001b[0m\n\u001b[0;32m---> 48\u001b[0;31m     \u001b[0mrps\u001b[0m\u001b[0;34m(\u001b[0m\u001b[0;34m)\u001b[0m\u001b[0;34m\u001b[0m\u001b[0;34m\u001b[0m\u001b[0m\n\u001b[0m\u001b[1;32m     49\u001b[0m \u001b[0;34m\u001b[0m\u001b[0m\n\u001b[1;32m     50\u001b[0m \u001b[0;31m# note that when you're done playing, you'll need to stop the kernel (click the little back box at\u001b[0m\u001b[0;34m\u001b[0m\u001b[0;34m\u001b[0m\u001b[0;34m\u001b[0m\u001b[0m\n",
      "\u001b[0;32m<ipython-input-44-fbf5a1a2e252>\u001b[0m in \u001b[0;36mrps\u001b[0;34m()\u001b[0m\n\u001b[1;32m      5\u001b[0m     \u001b[0;32mwhile\u001b[0m \u001b[0;32mTrue\u001b[0m\u001b[0;34m:\u001b[0m\u001b[0;34m\u001b[0m\u001b[0;34m\u001b[0m\u001b[0m\n\u001b[1;32m      6\u001b[0m \u001b[0;34m\u001b[0m\u001b[0m\n\u001b[0;32m----> 7\u001b[0;31m         \u001b[0muser_choice\u001b[0m \u001b[0;34m=\u001b[0m \u001b[0minput\u001b[0m\u001b[0;34m(\u001b[0m\u001b[0;34m\"Choose: Rock (R), Paper (P) or Scissors (S)\"\u001b[0m\u001b[0;34m)\u001b[0m\u001b[0;34m.\u001b[0m\u001b[0mupper\u001b[0m\u001b[0;34m(\u001b[0m\u001b[0;34m)\u001b[0m\u001b[0;34m\u001b[0m\u001b[0;34m\u001b[0m\u001b[0m\n\u001b[0m\u001b[1;32m      8\u001b[0m         \u001b[0mcomputer_choice\u001b[0m \u001b[0;34m=\u001b[0m \u001b[0mget_computerChoice\u001b[0m\u001b[0;34m(\u001b[0m\u001b[0;34m)\u001b[0m\u001b[0;34m\u001b[0m\u001b[0;34m\u001b[0m\u001b[0m\n\u001b[1;32m      9\u001b[0m \u001b[0;34m\u001b[0m\u001b[0m\n",
      "\u001b[0;32m~/miniconda3/lib/python3.7/site-packages/ipykernel/kernelbase.py\u001b[0m in \u001b[0;36mraw_input\u001b[0;34m(self, prompt)\u001b[0m\n\u001b[1;32m    851\u001b[0m             \u001b[0mself\u001b[0m\u001b[0;34m.\u001b[0m\u001b[0m_parent_ident\u001b[0m\u001b[0;34m,\u001b[0m\u001b[0;34m\u001b[0m\u001b[0;34m\u001b[0m\u001b[0m\n\u001b[1;32m    852\u001b[0m             \u001b[0mself\u001b[0m\u001b[0;34m.\u001b[0m\u001b[0m_parent_header\u001b[0m\u001b[0;34m,\u001b[0m\u001b[0;34m\u001b[0m\u001b[0;34m\u001b[0m\u001b[0m\n\u001b[0;32m--> 853\u001b[0;31m             \u001b[0mpassword\u001b[0m\u001b[0;34m=\u001b[0m\u001b[0;32mFalse\u001b[0m\u001b[0;34m,\u001b[0m\u001b[0;34m\u001b[0m\u001b[0;34m\u001b[0m\u001b[0m\n\u001b[0m\u001b[1;32m    854\u001b[0m         )\n\u001b[1;32m    855\u001b[0m \u001b[0;34m\u001b[0m\u001b[0m\n",
      "\u001b[0;32m~/miniconda3/lib/python3.7/site-packages/ipykernel/kernelbase.py\u001b[0m in \u001b[0;36m_input_request\u001b[0;34m(self, prompt, ident, parent, password)\u001b[0m\n\u001b[1;32m    881\u001b[0m             \u001b[0;32mexcept\u001b[0m \u001b[0mKeyboardInterrupt\u001b[0m\u001b[0;34m:\u001b[0m\u001b[0;34m\u001b[0m\u001b[0;34m\u001b[0m\u001b[0m\n\u001b[1;32m    882\u001b[0m                 \u001b[0;31m# re-raise KeyboardInterrupt, to truncate traceback\u001b[0m\u001b[0;34m\u001b[0m\u001b[0;34m\u001b[0m\u001b[0;34m\u001b[0m\u001b[0m\n\u001b[0;32m--> 883\u001b[0;31m                 \u001b[0;32mraise\u001b[0m \u001b[0mKeyboardInterrupt\u001b[0m\u001b[0;34m\u001b[0m\u001b[0;34m\u001b[0m\u001b[0m\n\u001b[0m\u001b[1;32m    884\u001b[0m             \u001b[0;32melse\u001b[0m\u001b[0;34m:\u001b[0m\u001b[0;34m\u001b[0m\u001b[0;34m\u001b[0m\u001b[0m\n\u001b[1;32m    885\u001b[0m                 \u001b[0;32mbreak\u001b[0m\u001b[0;34m\u001b[0m\u001b[0;34m\u001b[0m\u001b[0m\n",
      "\u001b[0;31mKeyboardInterrupt\u001b[0m: "
     ]
    }
   ],
   "source": [
    "import random\n",
    "\n",
    "def rps(): \n",
    "\n",
    "    while True:\n",
    "\n",
    "        user_choice = input(\"Choose: Rock (R), Paper (P) or Scissors (S)\").upper()\n",
    "        computer_choice = get_computerChoice()\n",
    "\n",
    "        if computer_choice == \"R\":\n",
    "            if user_choice == \"R\":\n",
    "                print(\"Computer chose ROCK. You chose ROCK. It's a draw. Choose again.\")\n",
    "            elif user_choice == \"P\":\n",
    "                print(\"Computer chose ROCK. You chose PAPER. You win!\")\n",
    "                break\n",
    "            else:\n",
    "                print(\"Computer chose ROCK. You chose SCISSORS. You loose.\")\n",
    "\n",
    "        elif computer_choice == \"P\":\n",
    "            if user_choice == \"R\":\n",
    "                print(\"Computer chose PAPER. You chose ROCK. You loose.\")\n",
    "            elif user_choice == \"P\":\n",
    "                print(\"Computer chose PAPER. You chose PAPER. It's a draw. Choose again.\")\n",
    "            else:\n",
    "                print(\"Computer chose PAPER. You chose SCISSORS. You win!\")\n",
    "                break\n",
    "\n",
    "        else:\n",
    "            if user_choice == \"R\":\n",
    "                print(\"Computer chose SCISSORS. You chose ROCK. You win!\")\n",
    "                break\n",
    "            elif user_choice == \"P\":\n",
    "                print(\"Computer chose SCISSORS. You chose PAPER. You loose.\")\n",
    "            else:\n",
    "                print(\"Computer chose SCISSORS. You chose SCISSORS. It's a draw. Choose again.\")\n",
    "\n",
    "\n",
    "def get_computerChoice():\n",
    "    choice = random.randrange(0,3)\n",
    "    if choice == 0:\n",
    "        return \"R\"\n",
    "    elif choice == 2:\n",
    "        return \"P\"\n",
    "    else:\n",
    "        return \"S\"\n",
    "\n",
    "if __name__ == \"__main__\": #A little hint, this is just a fancy to say \"Run my function\"\n",
    "    rps()\n",
    "    \n",
    "# note that when you're done playing, you'll need to stop the kernel (click the little back box at \n",
    "# the top of the page next to the 'Code/Markdown' dropdown menu)"
   ]
  }
 ],
 "metadata": {
  "kernelspec": {
   "display_name": "Python 3",
   "language": "python",
   "name": "python3"
  },
  "language_info": {
   "codemirror_mode": {
    "name": "ipython",
    "version": 3
   },
   "file_extension": ".py",
   "mimetype": "text/x-python",
   "name": "python",
   "nbconvert_exporter": "python",
   "pygments_lexer": "ipython3",
   "version": "3.7.1"
  }
 },
 "nbformat": 4,
 "nbformat_minor": 2
}
