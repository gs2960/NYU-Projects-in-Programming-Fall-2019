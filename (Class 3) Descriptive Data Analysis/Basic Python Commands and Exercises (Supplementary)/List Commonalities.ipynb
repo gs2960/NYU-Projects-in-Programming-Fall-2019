{
 "cells": [
  {
   "cell_type": "markdown",
   "metadata": {},
   "source": [
    "# In this script we generate two random lists of numbers. The script will subsequently return a list that includes only numbers that appear in both lists. \n",
    "# Then, this script we will create two random lists of numbers, then create a third list that only contains numbers present in both lists, without duplicates\n",
    "\n",
    "## Thank you to http://www.practicepython.org/ for the inspiration and direction for this script.\n"
   ]
  },
  {
   "cell_type": "code",
   "execution_count": null,
   "metadata": {},
   "outputs": [],
   "source": [
    "import random\n",
    "\n",
    "def in_common():\n",
    "\n",
    "    a = random.sample(range(0,20),10)\n",
    "    b = random.sample(range(0,20),10)\n",
    "\n",
    "    print(sorted(list(set(a)&(set(b)))))\n",
    "\n",
    "if __name__ == \"__main__\":\n",
    "    in_common()\n",
    "\n",
    "\n",
    "import random\n",
    "\n",
    "def list_comprehension_2():\n",
    "\n",
    "    list_1 = random.sample(range(0,20),5)\n",
    "    list_2 = random.sample(range(0,20),10)\n",
    "\n",
    "    new_list = sorted(list(set(list_1)&(set(list_2))))\n",
    "\n",
    "    new_list_2 = []\n",
    "\n",
    "    for i in new_list:\n",
    "        if i not in new_list_2:\n",
    "            new_list_2.append(i)\n",
    "\n",
    "    print(\"List 1: \" + str(list_1))\n",
    "    print(\"List 2: \" + str(list_2))\n",
    "    print(\"New List: \" + new_list_2)\n",
    "\n",
    "if __name__ == \"__main__\":\n",
    "        ist_comprehension_2()"
   ]
  }
 ],
 "metadata": {
  "kernelspec": {
   "display_name": "Python 3",
   "language": "python",
   "name": "python3"
  },
  "language_info": {
   "codemirror_mode": {
    "name": "ipython",
    "version": 3
   },
   "file_extension": ".py",
   "mimetype": "text/x-python",
   "name": "python",
   "nbconvert_exporter": "python",
   "pygments_lexer": "ipython3",
   "version": "3.7.1"
  }
 },
 "nbformat": 4,
 "nbformat_minor": 2
}
