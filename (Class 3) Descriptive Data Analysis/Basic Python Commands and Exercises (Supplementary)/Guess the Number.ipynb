{
 "cells": [
  {
   "cell_type": "markdown",
   "metadata": {},
   "source": [
    "# In this script we generate a random number between 1 and 9 and ask our user to guess the number generated. We will then tell the user if they guessed correctly, or if their guess was too high or too low.\n",
    "\n",
    "## Thank you to http://www.practicepython.org/ for the inspiration and direction for this script."
   ]
  },
  {
   "cell_type": "code",
   "execution_count": null,
   "metadata": {},
   "outputs": [],
   "source": [
    "import random\n",
    "\n",
    "computer_guess = random.randint(0,9)\n",
    "\n",
    "def guessing_game(): \n",
    "\n",
    "    while True:\n",
    "\n",
    "        user_guess = int(input(\"Pick a number between 1 and 10: \"))\n",
    "        if user_guess == computer_guess:\n",
    "            print(\"You guessed the number!\")\n",
    "            break\n",
    "        elif user_guess < computer_guess:\n",
    "            print(\"Try a higher number.\")\n",
    "        else:\n",
    "            print(\"Try a lower number.\")\n",
    "\n",
    "if __name__ == \"__main__\":\n",
    "    guessing_game()"
   ]
  }
 ],
 "metadata": {
  "kernelspec": {
   "display_name": "Python 3",
   "language": "python",
   "name": "python3"
  },
  "language_info": {
   "codemirror_mode": {
    "name": "ipython",
    "version": 3
   },
   "file_extension": ".py",
   "mimetype": "text/x-python",
   "name": "python",
   "nbconvert_exporter": "python",
   "pygments_lexer": "ipython3",
   "version": "3.7.1"
  }
 },
 "nbformat": 4,
 "nbformat_minor": 2
}
