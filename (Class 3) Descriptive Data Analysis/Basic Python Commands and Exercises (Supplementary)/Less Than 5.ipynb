{
 "cells": [
  {
   "cell_type": "markdown",
   "metadata": {},
   "source": [
    "# In this script we will create a program that asks the user to enter a list of numbers. The script will subsequently return a list of numbers in the original list that are < 5\n",
    "\n",
    "## Thank you to http://www.practicepython.org/ for the inspiration and direction for this script.\n"
   ]
  },
  {
   "cell_type": "code",
   "execution_count": null,
   "metadata": {},
   "outputs": [],
   "source": [
    "def less_than_5():\n",
    "\n",
    "    list_1 = list(input(\"Please provide a list of numbers, with each number separated by a comma: \"))\n",
    "    list_2 = []\n",
    "\n",
    "    for i in list_1:\n",
    "        if i < 5:\n",
    "            list_2.append(i)\n",
    "\n",
    "    print(list_2)\n",
    "\n",
    "if __name__ == \"__main__\":\n",
    "    less_than_5()"
   ]
  },
  {
   "cell_type": "code",
   "execution_count": null,
   "metadata": {},
   "outputs": [],
   "source": []
  }
 ],
 "metadata": {
  "kernelspec": {
   "display_name": "Python 3",
   "language": "python",
   "name": "python3"
  },
  "language_info": {
   "codemirror_mode": {
    "name": "ipython",
    "version": 3
   },
   "file_extension": ".py",
   "mimetype": "text/x-python",
   "name": "python",
   "nbconvert_exporter": "python",
   "pygments_lexer": "ipython3",
   "version": "3.7.1"
  }
 },
 "nbformat": 4,
 "nbformat_minor": 2
}
