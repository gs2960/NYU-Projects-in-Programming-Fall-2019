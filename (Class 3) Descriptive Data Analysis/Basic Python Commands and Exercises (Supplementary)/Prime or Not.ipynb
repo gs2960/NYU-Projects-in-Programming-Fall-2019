{
 "cells": [
  {
   "cell_type": "markdown",
   "metadata": {},
   "source": [
    "# In this script we will ask the user for a number and tell the user if that number is or is not prime.\n",
    "\n",
    "## Thank you to http://www.practicepython.org/ for the inspiration and direction for this script."
   ]
  },
  {
   "cell_type": "code",
   "execution_count": null,
   "metadata": {},
   "outputs": [],
   "source": [
    "def is_prime():\n",
    "    number = int(input(\"What number are you curious about? \"))\n",
    "    for i in range(2,100):\n",
    "        if number % i == 0 & number != i:\n",
    "            print(\"%s is not a prime number.\" % number)\n",
    "            break\n",
    "        else:\n",
    "            print(\"%s is a prime number!\" % number)\n",
    "            break\n",
    "\n",
    "if __name__ == \"__main__\":\n",
    "    is_prime()"
   ]
  }
 ],
 "metadata": {
  "kernelspec": {
   "display_name": "Python 3",
   "language": "python",
   "name": "python3"
  },
  "language_info": {
   "codemirror_mode": {
    "name": "ipython",
    "version": 3
   },
   "file_extension": ".py",
   "mimetype": "text/x-python",
   "name": "python",
   "nbconvert_exporter": "python",
   "pygments_lexer": "ipython3",
   "version": "3.7.1"
  }
 },
 "nbformat": 4,
 "nbformat_minor": 2
}
