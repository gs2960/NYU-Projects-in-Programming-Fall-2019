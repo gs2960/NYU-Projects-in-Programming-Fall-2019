{
 "cells": [
  {
   "cell_type": "markdown",
   "metadata": {},
   "source": [
    "## Thank you to https://github.com/MattAmbacher/Python-Scripts/blob/master/scrabble.py for the inspiration and direction for this script."
   ]
  },
  {
   "cell_type": "code",
   "execution_count": null,
   "metadata": {},
   "outputs": [],
   "source": [
    "def valid_word(words):\n",
    "    # determine if a word can be made with our rack\n",
    "    # can be optimized in the future, reads through approximately 250,000 words quick enough however\n",
    "    valid_words = []\n",
    "    for word in words:\n",
    "        rack = input(\"Provide your seven letters, each separated by a comma: \")\n",
    "        rack_copy = list(rack) #temporary copy to manipulate\n",
    "        word_characters = list(word)\n",
    "        valid = True\n",
    "        for char in word_characters:\n",
    "            if char in rack_copy:\n",
    "                rack_copy.remove(char)\n",
    "            else:\n",
    "                valid = False\n",
    "                break\n",
    "\n",
    "        if valid:\n",
    "            valid_words.append(word)\n",
    "\n",
    "    return valid_words\n",
    "\n",
    "def score_counter(word):\n",
    "    sum = 0\n",
    "    chrarray = list(word)\n",
    "    for chr in chrarray:\n",
    "        sum += scores[chr]\n",
    "    return sum\n",
    "\n",
    "user_rack = Rack()\n",
    "\n",
    "scores = {\"A\": 1, \"C\": 4, \"B\": 3, \"E\": 1, \"D\": 2, \"G\": 3,\n",
    "         \"F\": 4, \"I\": 1, \"H\": 3, \"K\": 5, \"J\": 10, \"M\": 4,\n",
    "         \"L\": 2, \"O\": 1, \"N\": 2, \"Q\": 10, \"P\": 4, \"S\": 1,\n",
    "         \"R\": 1, \"U\": 2, \"T\": 1, \"W\": 4, \"V\": 5, \"Y\": 3,\n",
    "         \"X\": 8, \"Z\": 10}\n",
    "\n",
    "f = open(pathname.txt) # make sure to change to reflect location of file \n",
    "words = []\n",
    "\n",
    "for line in f:\n",
    "    words.append(line.strip('\\n'))\n",
    "f.close()\n",
    "\n",
    "parser = argparse.ArgumentParser(description='Process Player Tiles')\n",
    "parser.add_argument('rack', metavar='Chr', type=str, nargs='+', help='a character for parsing')\n",
    "parser.parse_args(namespace=user_rack)\n",
    "\n",
    "rack = list(user_rack.rack[0].upper()) #split command line string into a character list\n",
    "\n",
    "valid_word_list = valid_word(words)\n",
    "\n",
    "valid_dict = {}\n",
    "for word in valid_word_list:\n",
    "    valid_dict[word] = score_counter(word)\n",
    "\n",
    "print('\\n'*2)\n",
    "for key, value in sorted(valid_dict.iteritems(), key=lambda (k,v): (v)):\n",
    "    # sorts the words in our valid word dict by value, easier to read\n",
    "    print('%s \\t %s' % (key, valid_dict[key]))\n",
    "print('\\n'*2)"
   ]
  }
 ],
 "metadata": {
  "kernelspec": {
   "display_name": "Python 3",
   "language": "python",
   "name": "python3"
  },
  "language_info": {
   "codemirror_mode": {
    "name": "ipython",
    "version": 3
   },
   "file_extension": ".py",
   "mimetype": "text/x-python",
   "name": "python",
   "nbconvert_exporter": "python",
   "pygments_lexer": "ipython3",
   "version": "3.7.1"
  }
 },
 "nbformat": 4,
 "nbformat_minor": 2
}
