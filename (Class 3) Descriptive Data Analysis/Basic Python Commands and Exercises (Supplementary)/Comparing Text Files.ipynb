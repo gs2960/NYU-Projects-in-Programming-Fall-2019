{
 "cells": [
  {
   "cell_type": "markdown",
   "metadata": {},
   "source": [
    "# In this script we will compare two .txt files and find the overlapping content. One list should have prime numbers under 1000, the other a list of happy numbers under 1000.\n",
    "\n",
    "## Thank you to http://www.practicepython.org/ for the inspiration and direction for this script."
   ]
  },
  {
   "cell_type": "code",
   "execution_count": null,
   "metadata": {},
   "outputs": [],
   "source": [
    "from sets import Set #https://docs.python.org/2/library/sets.html\n",
    "\n",
    "with open('prime_number_list.txt', 'r') as prime_number_list: \n",
    "    prime_number_list_list = []\n",
    "    for i in prime_number_list:\n",
    "        prime_number_list_list.append(i.strip('\\n'))\n",
    "\n",
    "with open('happy_number_list.txt', 'r') as happy_number_list:\n",
    "    happy_number_list_list = []\n",
    "    for i in happy_number_list:\n",
    "        happy_number_list_list.append(i.strip('\\n'))\n",
    "\n",
    "overlap = sorted(list(set(prime_number_list_list)&(set(happy_number_list_list))))\n",
    "\n",
    "print(overlap)"
   ]
  }
 ],
 "metadata": {
  "kernelspec": {
   "display_name": "Python 3",
   "language": "python",
   "name": "python3"
  },
  "language_info": {
   "codemirror_mode": {
    "name": "ipython",
    "version": 3
   },
   "file_extension": ".py",
   "mimetype": "text/x-python",
   "name": "python",
   "nbconvert_exporter": "python",
   "pygments_lexer": "ipython3",
   "version": "3.7.1"
  }
 },
 "nbformat": 4,
 "nbformat_minor": 2
}
