{
 "cells": [
  {
   "cell_type": "code",
   "execution_count": null,
   "metadata": {
    "collapsed": true
   },
   "outputs": [],
   "source": [
    "import time\n",
    "import re\n",
    "import csv\n",
    "import requests\n",
    "from bs4 import BeautifulSoup\n",
    "\n",
    "url_list = []\n",
    "word_count_list = []\n",
    "\n",
    "with open(\"<path to csv>\", newline='') as csvfile:\n",
    "    reader = csv.DictReader(csvfile)\n",
    "    counting = 0 \n",
    "    for row in reader:\n",
    "        for k, v in row.items():\n",
    "            url = str(v)\n",
    "            url_list.append(url)\n",
    "            \n",
    "# make the request and run the page through BeautifulSoup\n",
    "\n",
    "            r = requests.get(url)\n",
    "            soup = BeautifulSoup(r.text,'lxml')\n",
    "            wc1 = soup.find(\"meta\", property=\"article:word_count\")\n",
    "            wc1 = str(wc1)\n",
    "            wc2 = re.search('\\d+',wc1).group(0)\n",
    "            word_count_list.append(wc2)\n",
    "            counting = counting + 1\n",
    "            print(counting)\n",
    "\n",
    "print(\"done\")\n",
    "\n",
    "myData = url_list, word_count_list\n",
    "myFile = open('<path to csv>', 'w')  \n",
    "with myFile:  \n",
    "    writer = csv.writer(myFile)\n",
    "    writer.writerows(myData)"
   ]
  }
 ],
 "metadata": {
  "kernelspec": {
   "display_name": "Python 3",
   "language": "python",
   "name": "python3"
  },
  "language_info": {
   "codemirror_mode": {
    "name": "ipython",
    "version": 3
   },
   "file_extension": ".py",
   "mimetype": "text/x-python",
   "name": "python",
   "nbconvert_exporter": "python",
   "pygments_lexer": "ipython3",
   "version": "3.7.1"
  }
 },
 "nbformat": 4,
 "nbformat_minor": 2
}
