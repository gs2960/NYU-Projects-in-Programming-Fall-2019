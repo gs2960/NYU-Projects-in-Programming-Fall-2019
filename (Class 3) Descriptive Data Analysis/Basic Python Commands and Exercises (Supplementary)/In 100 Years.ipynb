{
 "cells": [
  {
   "cell_type": "markdown",
   "metadata": {},
   "source": [
    "# In this script we will create a program that asks the user to enter their name and age. The script will subsequently print out a message addressing the user and telling them how old they will be in X number of years. \n",
    "\n",
    "## Thank you to http://www.practicepython.org/ for the inspiration and direction for this script."
   ]
  },
  {
   "cell_type": "code",
   "execution_count": null,
   "metadata": {},
   "outputs": [],
   "source": [
    "def in_100_years(): # define a function called 'in_100_years'\n",
    "    name = input(\"What is your name? \") # prompt the user for his or her name.\n",
    "    age = int(input(\"How old are you? \")) # prompt the user for his or her age. \n",
    "    years_into_future = int(input(\"How many years into the future would you like to look? \")) #Prompt the user for the number of years into the future he or she would like to look. \n",
    "\n",
    "    future_age = age + years_into_future # calculate the age your user will be in X number of years.\n",
    "\n",
    "    print(\"Hello, %s\" % name) # greet your user. \n",
    "    print(\"In %s years you will be %s!\" % (years_into_future, future_age)) # tell your user how old he or she will be in X number of years.\n",
    "\n",
    "if __name__ == \"__main__\" : \n",
    "    in_100_years() "
   ]
  }
 ],
 "metadata": {
  "kernelspec": {
   "display_name": "Python 3",
   "language": "python",
   "name": "python3"
  },
  "language_info": {
   "codemirror_mode": {
    "name": "ipython",
    "version": 3
   },
   "file_extension": ".py",
   "mimetype": "text/x-python",
   "name": "python",
   "nbconvert_exporter": "python",
   "pygments_lexer": "ipython3",
   "version": "3.7.1"
  }
 },
 "nbformat": 4,
 "nbformat_minor": 2
}
