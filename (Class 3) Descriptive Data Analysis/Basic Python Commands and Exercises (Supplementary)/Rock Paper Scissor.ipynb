{
 "cells": [
  {
   "cell_type": "markdown",
   "metadata": {},
   "source": [
    "# In this script we generate a game of \"Rock, Paper, Scissors\"\n",
    "\n",
    "## Thank you to http://www.practicepython.org/ for the inspiration and direction for this script."
   ]
  },
  {
   "cell_type": "code",
   "execution_count": null,
   "metadata": {},
   "outputs": [],
   "source": [
    "import random\n",
    "\n",
    "def rps(): \n",
    "\n",
    "    while True:\n",
    "\n",
    "        user_choice = input(\"Choose: Rock (R), Paper (P) or Scissors (S)\").upper()\n",
    "        computer_choice = get_computerChoice()\n",
    "\n",
    "        if computer_choice == \"R\":\n",
    "            if user_choice == \"R\":\n",
    "                print(\"Computer chose ROCK. You chose ROCK. It's a draw. Choose again.\")\n",
    "            elif user_choice == \"P\":\n",
    "                print(\"Computer chose ROCK. You chose PAPER. You win!\")\n",
    "                break\n",
    "            else:\n",
    "                print(\"Computer chose ROCK. You chose SCISSORS. You loose.\")\n",
    "\n",
    "        elif computer_choice == \"P\":\n",
    "            if user_choice == \"R\":\n",
    "                print(\"Computer chose PAPER. You chose ROCK. You loose.\")\n",
    "            elif user_choice == \"P\":\n",
    "                print(\"Computer chose PAPER. You chose PAPER. It's a draw. Choose again.\")\n",
    "            else:\n",
    "                print(\"Computer chose PAPER. You chose SCISSORS. You win!\")\n",
    "                break\n",
    "\n",
    "        else:\n",
    "            if user_choice == \"R\":\n",
    "                print(\"Computer chose SCISSORS. You chose ROCK. You win!\")\n",
    "                break\n",
    "            elif user_choice == \"P\":\n",
    "                print(\"Computer chose SCISSORS. You chose PAPER. You loose.\")\n",
    "            else:\n",
    "                print(\"Computer chose SCISSORS. You chose SCISSORS. It's a draw. Choose again.\")\n",
    "\n",
    "\n",
    "def get_computerChoice():\n",
    "    choice = random.randrange(0,3)\n",
    "    if choice == 0:\n",
    "        return \"R\"\n",
    "    elif choice == 2:\n",
    "        return \"P\"\n",
    "    else:\n",
    "        return \"S\"\n",
    "\n",
    "if __name__ == \"__main__\":\n",
    "    rps()"
   ]
  },
  {
   "cell_type": "code",
   "execution_count": null,
   "metadata": {},
   "outputs": [],
   "source": []
  }
 ],
 "metadata": {
  "kernelspec": {
   "display_name": "Python 3",
   "language": "python",
   "name": "python3"
  },
  "language_info": {
   "codemirror_mode": {
    "name": "ipython",
    "version": 3
   },
   "file_extension": ".py",
   "mimetype": "text/x-python",
   "name": "python",
   "nbconvert_exporter": "python",
   "pygments_lexer": "ipython3",
   "version": "3.7.1"
  }
 },
 "nbformat": 4,
 "nbformat_minor": 2
}
