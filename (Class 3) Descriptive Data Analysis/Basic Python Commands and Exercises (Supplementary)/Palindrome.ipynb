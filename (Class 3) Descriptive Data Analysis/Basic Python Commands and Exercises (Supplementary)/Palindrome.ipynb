{
 "cells": [
  {
   "cell_type": "markdown",
   "metadata": {},
   "source": [
    "# In this script we prompt the user for a word, and tell the user if that word is a palindrome.\n",
    "\n",
    "## Thank you to http://www.practicepython.org/ for the inspiration and direction for this script."
   ]
  },
  {
   "cell_type": "code",
   "execution_count": null,
   "metadata": {},
   "outputs": [],
   "source": [
    "def palindrome():\n",
    "    string = input(\"What word would you like to examine? \")\n",
    "    string_list = list(string)\n",
    "    if string == string[::-1]:\n",
    "        print(\"%s is a palindrome!\" % string.upper())\n",
    "    else:\n",
    "        print(\"%s is not a palindrome.\" % string.upper())\n",
    "\n",
    "if __name__ == \"__main__\": \n",
    "    palindrome()"
   ]
  },
  {
   "cell_type": "code",
   "execution_count": null,
   "metadata": {},
   "outputs": [],
   "source": []
  }
 ],
 "metadata": {
  "kernelspec": {
   "display_name": "Python 3",
   "language": "python",
   "name": "python3"
  },
  "language_info": {
   "codemirror_mode": {
    "name": "ipython",
    "version": 3
   },
   "file_extension": ".py",
   "mimetype": "text/x-python",
   "name": "python",
   "nbconvert_exporter": "python",
   "pygments_lexer": "ipython3",
   "version": "3.7.1"
  }
 },
 "nbformat": 4,
 "nbformat_minor": 2
}
