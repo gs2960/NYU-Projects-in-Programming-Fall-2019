{
 "cells": [
  {
   "cell_type": "markdown",
   "metadata": {},
   "source": [
    "# In this script we will remove all duplicates from a list\n",
    "\n",
    "## Thank you to http://www.practicepython.org/ for the inspiration and direction for this script."
   ]
  },
  {
   "cell_type": "code",
   "execution_count": null,
   "metadata": {},
   "outputs": [],
   "source": [
    "import random\n",
    "\n",
    "def de_duplicator():\n",
    "    base_list = list(input(\"Please provide a list of numbers, each separated by a comma: \"))\n",
    "    new_list = []\n",
    "    for i in base_list:\n",
    "        if i not in new_list:\n",
    "            new_list.append(i)\n",
    "    print(base_list)\n",
    "    print(new_list)\n",
    "\n",
    "if __name__ == \"__main__\":\n",
    "    de_duplicator()"
   ]
  }
 ],
 "metadata": {
  "kernelspec": {
   "display_name": "Python 3",
   "language": "python",
   "name": "python3"
  },
  "language_info": {
   "codemirror_mode": {
    "name": "ipython",
    "version": 3
   },
   "file_extension": ".py",
   "mimetype": "text/x-python",
   "name": "python",
   "nbconvert_exporter": "python",
   "pygments_lexer": "ipython3",
   "version": "3.7.1"
  }
 },
 "nbformat": 4,
 "nbformat_minor": 2
}
