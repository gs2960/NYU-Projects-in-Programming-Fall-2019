{
 "cells": [
  {
   "cell_type": "markdown",
   "metadata": {},
   "source": [
    "# In this script we will draw a gameboard based on the user's input specifications.\n",
    "\n",
    "## Thank you to http://www.practicepython.org/ for the inspiration and direction for this script."
   ]
  },
  {
   "cell_type": "code",
   "execution_count": null,
   "metadata": {},
   "outputs": [],
   "source": [
    "size = list(input(\"What size board would you like?\"))\n",
    "\n",
    "def main():\n",
    "    for i in range(0,size[1]):\n",
    "        print(horizontal())\n",
    "        print(vertical())\n",
    "    print(horizontal())\n",
    "\n",
    "def horizontal():\n",
    "    print(\" ---\") * size[0]\n",
    "\n",
    "def vertical():\n",
    "    print(\"|   \") * (size[0] + 1)\n",
    "\n",
    "if __name__ == \"__main__\":\n",
    "    main()"
   ]
  }
 ],
 "metadata": {
  "kernelspec": {
   "display_name": "Python 3",
   "language": "python",
   "name": "python3"
  },
  "language_info": {
   "codemirror_mode": {
    "name": "ipython",
    "version": 3
   },
   "file_extension": ".py",
   "mimetype": "text/x-python",
   "name": "python",
   "nbconvert_exporter": "python",
   "pygments_lexer": "ipython3",
   "version": "3.7.1"
  }
 },
 "nbformat": 4,
 "nbformat_minor": 2
}
