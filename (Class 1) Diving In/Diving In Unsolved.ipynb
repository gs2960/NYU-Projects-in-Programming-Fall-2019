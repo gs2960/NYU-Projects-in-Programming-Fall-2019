{
 "cells": [
  {
   "cell_type": "markdown",
   "metadata": {},
   "source": [
    "# All material ©2019, Alex Siegman"
   ]
  },
  {
   "cell_type": "markdown",
   "metadata": {},
   "source": [
    "---"
   ]
  },
  {
   "cell_type": "markdown",
   "metadata": {},
   "source": [
    "## Welcome to 'Projects in Programming & Data Science' – we're going to jump right in to the mix. \n",
    "\n",
    "### Today we are going to leverage the CitiBike API to populate a MySQL database at regular intervals. Consider this your warm-up for the semester. "
   ]
  },
  {
   "cell_type": "markdown",
   "metadata": {},
   "source": [
    "---"
   ]
  },
  {
   "cell_type": "markdown",
   "metadata": {},
   "source": [
    "## MySQL Setup"
   ]
  },
  {
   "cell_type": "markdown",
   "metadata": {},
   "source": [
    "To install, in your terminal: \n",
    "\n",
    "1. brew install mysql\n",
    "2. unset TMPDIR\n",
    "3. mysql_secure_installation\n",
    "4. enter your preferred password\n",
    "5. skip all options presented\n",
    "\n",
    "To run, in your terminal: \n",
    "\n",
    "1. mysql -u root -p\n",
    "2. enter password\n",
    "3. quit\n",
    "\n",
    "To set privileges: \n",
    "\n",
    "1. mysql -u root -p\n",
    "2. enter password\n",
    "3. grant all privileges on *.* to 'username'@'localhost' identified by 'password' \n",
    "\n",
    "> _to change your password, use mysql> alter user 'user'@'localhost' identified by 'newpassword'_\n",
    "\n",
    "4. flush privileges\n",
    "5. quit\n",
    "\n",
    "To create database: \n",
    "\n",
    "1. mysql> create database citibike"
   ]
  },
  {
   "cell_type": "markdown",
   "metadata": {},
   "source": [
    "### https://streamdata.io/developers/api-gallery/new-york-citibike-api/"
   ]
  },
  {
   "cell_type": "code",
   "execution_count": null,
   "metadata": {},
   "outputs": [],
   "source": [
    "# first, let's request the json from the CitiBike API URL\n",
    "\n",
    "import json \n",
    "import urllib.request"
   ]
  },
  {
   "cell_type": "code",
   "execution_count": null,
   "metadata": {},
   "outputs": [],
   "source": []
  },
  {
   "cell_type": "code",
   "execution_count": null,
   "metadata": {},
   "outputs": [],
   "source": [
    "import pandas as pd"
   ]
  },
  {
   "cell_type": "code",
   "execution_count": null,
   "metadata": {},
   "outputs": [],
   "source": [
    "import MySQLdb"
   ]
  },
  {
   "cell_type": "code",
   "execution_count": null,
   "metadata": {},
   "outputs": [],
   "source": []
  },
  {
   "cell_type": "code",
   "execution_count": null,
   "metadata": {},
   "outputs": [],
   "source": [
    "c = db.cursor()"
   ]
  },
  {
   "cell_type": "code",
   "execution_count": null,
   "metadata": {},
   "outputs": [],
   "source": [
    "# create table\n",
    "\n",
    "c.execute(\"CREATE TABLE IF NOT EXISTS StationInfo ();\")\n",
    "\n",
    "c.close()\n",
    "db.commit()"
   ]
  },
  {
   "cell_type": "code",
   "execution_count": null,
   "metadata": {},
   "outputs": [],
   "source": [
    "from datetime import datetime\n",
    "\n",
    "# populate table\n",
    "\n",
    "# we fetch for now just the time-invariant data. Notice that we have the INSERT IGNORE so that even when we add the same entry\n",
    "# again, we do not get an error that the line exists. We do get warnings, but this is expected\n",
    "\n",
    "c = db.cursor()\n",
    "\n",
    "query_template = \n",
    "\n",
    "for entry in stations:\n",
    "    station_id = \n",
    "    num_ebikes_available =\n",
    "    num_docks_disabled = \n",
    "    num_docks_available =\n",
    "    num_bikes_disabled = \n",
    "    num_bikes_available = \n",
    "    last_reported = \n",
    "    is_returning = \n",
    "    is_renting = \n",
    "    is_installed = \n",
    "    eightd_has_available_keys = \n",
    "                           \n",
    "    c.execute(query_template, query_parameters)\n",
    "\n",
    "c.close()\n",
    "db.commit()"
   ]
  },
  {
   "cell_type": "code",
   "execution_count": null,
   "metadata": {},
   "outputs": [],
   "source": [
    "c = db.cursor()\n",
    "\n",
    "c.execute(\";\")\n",
    "\n",
    "\n",
    "c.close()\n",
    "db.commit()"
   ]
  },
  {
   "cell_type": "markdown",
   "metadata": {},
   "source": [
    "---"
   ]
  },
  {
   "cell_type": "markdown",
   "metadata": {},
   "source": [
    "## I hope this has helped you find your coding legs! Next week we'll get back to descriptive analytics using Python and Pandas. For now, take time to refresh yourself on the content covered in \"Introduction to Programming\". \n",
    "\n",
    "## If you need a referesher, check out the \"Supplementary Info\" directory in the class repo."
   ]
  },
  {
   "cell_type": "code",
   "execution_count": null,
   "metadata": {},
   "outputs": [],
   "source": []
  }
 ],
 "metadata": {
  "kernelspec": {
   "display_name": "Python 3",
   "language": "python",
   "name": "python3"
  },
  "language_info": {
   "codemirror_mode": {
    "name": "ipython",
    "version": 3
   },
   "file_extension": ".py",
   "mimetype": "text/x-python",
   "name": "python",
   "nbconvert_exporter": "python",
   "pygments_lexer": "ipython3",
   "version": "3.7.1"
  }
 },
 "nbformat": 4,
 "nbformat_minor": 2
}
