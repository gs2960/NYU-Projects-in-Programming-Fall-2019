{
 "cells": [
  {
   "cell_type": "markdown",
   "metadata": {},
   "source": [
    "# All material ©2019, Alex Siegman"
   ]
  },
  {
   "cell_type": "markdown",
   "metadata": {},
   "source": [
    "---"
   ]
  },
  {
   "cell_type": "markdown",
   "metadata": {},
   "source": [
    "## Welcome to Projects in Programming & Data Science. We're going to jump right in to the mix. \n",
    "\n",
    "### Today we are going to leverage the CitiBike API to populate a MySQL database at regular intervals. Consider this your warm-up for the semester. "
   ]
  },
  {
   "cell_type": "markdown",
   "metadata": {},
   "source": [
    "---"
   ]
  },
  {
   "cell_type": "markdown",
   "metadata": {},
   "source": [
    "## MySQL Setup \n",
    "#### (https://www.mysql.com/about/)"
   ]
  },
  {
   "cell_type": "markdown",
   "metadata": {},
   "source": [
    "**To install MySQL, in your terminal:**\n",
    "\n",
    "1. \\> brew install mysql\n",
    "2. \\> unset TMPDIR\n",
    "3. \\> mysql_secure_installation\n",
    "4. \\> {enter your preferred password}\n",
    "5. \\> {skip all options presented}\n",
    "\n",
    "**To run MySQL, in your terminal:**\n",
    "\n",
    "1. \\> mysql -u root -p\n",
    "2. \\> {enter password}\n",
    "3. \\> quit\n",
    "\n",
    "**To set MySQL privileges:** \n",
    "\n",
    "1. \\> mysql -u root -p\n",
    "2. \\> {enter password}\n",
    "3. \\> grant all privileges on *.* to 'username'@'localhost' identified by 'password' \n",
    "\n",
    "> _to change your password, use mysql> alter user 'user'@'localhost' identified by 'newpassword'_\n",
    "\n",
    "4. \\> flush privileges\n",
    "5. \\> quit\n",
    "\n",
    "**To create a MySQL database:**\n",
    "\n",
    "1. mysql> create database citibike "
   ]
  },
  {
   "cell_type": "markdown",
   "metadata": {},
   "source": [
    "## Now, let's check out the API we'll be working with:\n",
    "\n",
    "### https://streamdata.io/developers/api-gallery/new-york-citibike-api/"
   ]
  },
  {
   "cell_type": "code",
   "execution_count": null,
   "metadata": {},
   "outputs": [],
   "source": [
    "# first, let's request the json from the CitiBike API URL\n",
    "\n",
    "import time \n",
    "import json \n",
    "import urllib.request\n",
    "\n",
    "with :\n",
    "    data = \n",
    "    print(data)"
   ]
  },
  {
   "cell_type": "code",
   "execution_count": null,
   "metadata": {},
   "outputs": [],
   "source": [
    "stations =  # iterate through the json to find the station data"
   ]
  },
  {
   "cell_type": "code",
   "execution_count": null,
   "metadata": {},
   "outputs": [],
   "source": [
    "import pandas as pd # we'll use pandas just to visualize our data\n",
    "\n",
    "df_stations = \n",
    " # check the first five station entries"
   ]
  },
  {
   "cell_type": "code",
   "execution_count": null,
   "metadata": {},
   "outputs": [],
   "source": [
    "import MySQLdb \n",
    "\n",
    "# MySQLdb is a way to interface with a MySQL database via a Python API \n",
    "# http://mysql-python.sourceforge.net/MySQLdb.html"
   ]
  },
  {
   "cell_type": "code",
   "execution_count": null,
   "metadata": {},
   "outputs": [],
   "source": [
    "db =  # connect to our db"
   ]
  },
  {
   "cell_type": "code",
   "execution_count": null,
   "metadata": {},
   "outputs": [],
   "source": [
    " # set our cursor"
   ]
  },
  {
   "cell_type": "code",
   "execution_count": null,
   "metadata": {},
   "outputs": [],
   "source": [
    "# create our table\n",
    "\n",
    "c.execute(\"CREATE TABLE IF NOT EXISTS StationInfo (station_id int, num_ebikes_available int, num_docks_disabled int, num_docks_available int, num_bikes_disabled int, num_bikes_available int, last_reported varchar(250), is_returning int, is_renting int, is_installed int, eightd_has_available_keys bool);\")\n",
    "\n",
    "c.close()\n",
    "db.commit()"
   ]
  },
  {
   "cell_type": "code",
   "execution_count": null,
   "metadata": {},
   "outputs": [],
   "source": [
    "from datetime import datetime # import the datetime library \n",
    "\n",
    "c = db.cursor() # set our cursor \n",
    "\n",
    "# below, we are going to populate our table using \"INSERT IGNORE INTO\"\n",
    "# this allows us to avoid errors when we periodically update our database \n",
    "\n",
    "query_template = \"\"\"INSERT IGNORE INTO StationInfo(station_id, num_ebikes_available, num_docks_disabled, \\\n",
    "num_docks_available, num_bikes_disabled, num_bikes_available, last_reported, is_returning, is_renting, \\\n",
    "is_installed, eightd_has_available_keys) VALUES (%s, %s, %s, %s, %s, %s, %s, %s, %s, %s, %s);\"\"\"\n",
    "\n",
    "for entry in stations: # for every station entry in the json \n",
    "     # find and set station_id\n",
    "     # find and set num_ebikes_available\n",
    "    num_docks_disabled = int(entry['num_docks_disabled']) # find and set num_docks_disabled\n",
    "    num_docks_available = int(entry['num_docks_available']) # find and set num_docks_available\n",
    "    num_bikes_disabled = int(entry['num_bikes_disabled']) # find and set num_bikes_disabled\n",
    "    num_bikes_available = int(entry['num_bikes_available']) # find and set num_bikes_available\n",
    "    last_reported = str(entry['last_reported']) # find and set last_reported\n",
    "    is_returning = int(entry['is_returning']) # find and set is_returning\n",
    "    is_renting = int(entry['is_renting']) # find and set is_renting\n",
    "    is_installed = int(entry['is_installed']) # find and set is_installed\n",
    "    eightd_has_available_keys = bool(entry['eightd_has_available_keys']) # find and set eightd_has_available_keys\n",
    "                           \n",
    "    print(\"Inserting Station:\", station_id, num_ebikes_available, num_docks_disabled, num_docks_available, num_bikes_disabled, num_bikes_available, last_reported, is_returning, is_renting, is_installed, eightd_has_available_keys) \n",
    "    query_parameters = (station_id, num_ebikes_available, num_docks_disabled, num_docks_available, num_bikes_disabled, num_bikes_available, last_reported, is_returning, is_renting, is_installed, eightd_has_available_keys) \n",
    "   \n",
    "     # execute insert query and parameters\n",
    "\n",
    "c.close()\n",
    "db.commit()"
   ]
  },
  {
   "cell_type": "code",
   "execution_count": null,
   "metadata": {},
   "outputs": [],
   "source": [
    "c = db.cursor() # set our cursor \n",
    "\n",
    " # look at the first five entries \n",
    "\n",
    "\n",
    "\n",
    "\n",
    "c.close()\n",
    "db.commit()"
   ]
  },
  {
   "cell_type": "markdown",
   "metadata": {},
   "source": [
    "## Last but not least, let's set things up so that our database automatically updates every 15 seconds. "
   ]
  },
  {
   "cell_type": "code",
   "execution_count": null,
   "metadata": {},
   "outputs": [],
   "source": [
    "import time \n",
    "import json \n",
    "import urllib.request\n",
    "from datetime import datetime\n",
    "\n"
   ]
  },
  {
   "cell_type": "markdown",
   "metadata": {},
   "source": [
    "---"
   ]
  },
  {
   "cell_type": "markdown",
   "metadata": {},
   "source": [
    "## I hope this has helped you find your coding legs! Next week we'll get back to descriptive analytics using Python and Pandas. For now, take time to refresh yourself on the content covered in \"Introduction to Programming\". \n",
    "\n",
    "## If you need a referesher on your SQL skills, check out the \"Supplementary Info\" directory in the class repo."
   ]
  }
 ],
 "metadata": {
  "kernelspec": {
   "display_name": "Python 3",
   "language": "python",
   "name": "python3"
  },
  "language_info": {
   "codemirror_mode": {
    "name": "ipython",
    "version": 3
   },
   "file_extension": ".py",
   "mimetype": "text/x-python",
   "name": "python",
   "nbconvert_exporter": "python",
   "pygments_lexer": "ipython3",
   "version": "3.7.1"
  }
 },
 "nbformat": 4,
 "nbformat_minor": 2
}
