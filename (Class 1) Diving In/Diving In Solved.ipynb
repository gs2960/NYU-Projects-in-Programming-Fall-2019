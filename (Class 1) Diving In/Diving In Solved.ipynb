{
 "cells": [
  {
   "cell_type": "markdown",
   "metadata": {},
   "source": [
    "# All material ©2019, Alex Siegman"
   ]
  },
  {
   "cell_type": "markdown",
   "metadata": {},
   "source": [
    "---"
   ]
  },
  {
   "cell_type": "markdown",
   "metadata": {},
   "source": [
    "## Welcome to Projects in Programming & Data Science. Today we're going to jump right in to the mix and leverage the CitiBike API to populate a MySQL database at regular intervals. Consider this your warm-up for the semester! \n",
    "\n",
    "## MySQL is an open-source, relational database management system. Remember, a relational database can be thought of as an Excel file that contains multiple tabs (sheets). The benefit of these databases is that they are ripe for querying, and SQL (Structured Query Language) is one of the preferred methods for querying these relational databases."
   ]
  },
  {
   "cell_type": "markdown",
   "metadata": {},
   "source": [
    "---"
   ]
  },
  {
   "cell_type": "markdown",
   "metadata": {},
   "source": [
    "## MySQL Setup "
   ]
  },
  {
   "cell_type": "markdown",
   "metadata": {},
   "source": [
    "**To install MySQL, in your terminal:**\n",
    "\n",
    "1. \\> brew install mysql\n",
    "2. \\> unset TMPDIR\n",
    "3. \\> mysql_secure_installation\n",
    "4. \\> {enter your preferred password}\n",
    "5. \\> {skip all options presented}\n",
    "\n",
    "**To run MySQL, in your terminal:**\n",
    "\n",
    "1. \\> mysql -u root -p\n",
    "2. \\> {enter password}\n",
    "3. \\> quit\n",
    "\n",
    "**To set MySQL privileges:** \n",
    "\n",
    "1. \\> mysql -u root -p\n",
    "2. \\> {enter password}\n",
    "3. \\> grant all privileges on *.* to 'username'@'localhost' identified by 'password' \n",
    "\n",
    "> _to change your password, use mysql> alter user 'user'@'localhost' identified by 'newpassword'_\n",
    "\n",
    "4. \\> flush privileges\n",
    "5. \\> quit\n",
    "\n",
    "**To create a MySQL database:**\n",
    "\n",
    "1. mysql> create database citibike "
   ]
  },
  {
   "cell_type": "markdown",
   "metadata": {},
   "source": [
    "## Now, let's check out the API we'll be working with:\n",
    "\n",
    "### https://streamdata.io/developers/api-gallery/new-york-citibike-api/"
   ]
  },
  {
   "cell_type": "code",
   "execution_count": null,
   "metadata": {},
   "outputs": [],
   "source": [
    "# first, let's request the json from the CitiBike API URL\n",
    "\n",
    "import json \n",
    "import urllib.request\n",
    "\n",
    "with urllib.request.urlopen(\"https://feeds.citibikenyc.com/stations/stations.json\") as url:\n",
    "    data = json.loads(url.read().decode())\n",
    "    print(data)"
   ]
  },
  {
   "cell_type": "code",
   "execution_count": null,
   "metadata": {},
   "outputs": [],
   "source": [
    "stations = data['stationBeanList'] # iterate through the json to find the station data"
   ]
  },
  {
   "cell_type": "code",
   "execution_count": null,
   "metadata": {},
   "outputs": [],
   "source": [
    "import pandas as pd # we'll use pandas just to visualize our data, NOT to query it\n",
    "\n",
    "df_stations = pd.DataFrame(stations)\n",
    "df_stations.head() # check the first five station entries\n",
    "\n",
    "# you'll note that it has set 'altitude' as our index; if we were working only in Pandas we'd probably want to \n",
    "# change that, but we can leave it alone for now"
   ]
  },
  {
   "cell_type": "code",
   "execution_count": null,
   "metadata": {},
   "outputs": [],
   "source": [
    "import MySQLdb \n",
    "\n",
    "# MySQLdb is a way to interface with a MySQL database via a Python API \n",
    "# http://mysql-python.sourceforge.net/MySQLdb.html"
   ]
  },
  {
   "cell_type": "code",
   "execution_count": null,
   "metadata": {},
   "outputs": [],
   "source": [
    "db = MySQLdb.connect(passwd=\"password\",db=\"citibike\") # connect to our db"
   ]
  },
  {
   "cell_type": "code",
   "execution_count": null,
   "metadata": {},
   "outputs": [],
   "source": [
    "c = db.cursor() # set our cursor"
   ]
  },
  {
   "cell_type": "code",
   "execution_count": null,
   "metadata": {},
   "outputs": [],
   "source": [
    "# create our table\n",
    "\n",
    "c.execute(\"CREATE TABLE IF NOT EXISTS StationsData (station_id int, stationName varchar(250), availableDocks int, totalDocks int, latitude float, longitude float, statusValue varchar(250), statusKey int, availableBikes int, stAddress1 varchar(250), stAddress2 varchar(250), city varchar(250), postalCode varchar(250), location varchar(250), altitude varchar(250), testStation bool, lastCommunicationTime date, landMark varchar(250));\")\n",
    "\n",
    "c.close()\n",
    "db.commit()"
   ]
  },
  {
   "cell_type": "code",
   "execution_count": null,
   "metadata": {},
   "outputs": [],
   "source": [
    "from datetime import datetime # import the datetime library \n",
    "\n",
    "c = db.cursor() # set our cursor \n",
    "\n",
    "# below, we are going to populate our table using \"INSERT IGNORE INTO\"\n",
    "# this allows us to avoid errors when we periodically update our database \n",
    "\n",
    "query_template = \"\"\"INSERT IGNORE INTO StationsData(station_id, stationName, availableDocks, totalDocks, latitude, \\\n",
    "longitude, statusValue, statusKey, availableBikes, stAddress1, stAddress2, city, postalCode, location, altitude, \\\n",
    "testStation, lastCommunicationTime, landMark) VALUES (%s, %s, %s, %s, %s, %s, %s, %s, %s, %s, %s, %s, %s, %s, %s, %s, %s, %s);\"\"\"\n",
    "\n",
    "for entry in stations: # for every station entry in the json \n",
    "    station_id = int(entry['id']) # find and set station_id\n",
    "    stationName = str(entry['stationName'])\n",
    "    availableDocks = int(entry['availableDocks'])\n",
    "    totalDocks = int(entry['totalDocks'])\n",
    "    latitude = str(entry['latitude'])\n",
    "    longitude = str(entry['longitude'])\n",
    "    statusValue = str(entry['statusValue'])\n",
    "    statusKey = int(entry['statusKey'])\n",
    "    availableBikes = int(entry['availableBikes'])\n",
    "    stAddress1 = str(entry['stAddress1'])\n",
    "    stAddress2 = str(entry['stAddress2'])\n",
    "    city = str(entry['city'])\n",
    "    postalCode = str(entry['postalCode'])\n",
    "    location = str(entry['location'])\n",
    "    altitude = str(entry['altitude'])\n",
    "    testStation = bool(entry['testStation'])\n",
    "    lastCommunicationTime = entry['lastCommunicationTime']\n",
    "    landMark = str(entry['landMark'])\n",
    "                           \n",
    "    print(\"Inserting Station:\", station_id, stationName, availableDocks, totalDocks, latitude, longitude, statusValue, statusKey, availableBikes, stAddress1, stAddress2, city, postalCode, location, altitude, testStation, lastCommunicationTime, landMark) \n",
    "    query_parameters = (station_id, stationName, availableDocks, totalDocks, latitude, longitude, statusValue, statusKey, availableBikes, stAddress1, stAddress2, city, postalCode, location, altitude, testStation, lastCommunicationTime, landMark) \n",
    "   \n",
    "    c.execute(query_template, query_parameters) # execute insert query and parameters\n",
    "\n",
    "c.close()\n",
    "db.commit()"
   ]
  },
  {
   "cell_type": "code",
   "execution_count": null,
   "metadata": {},
   "outputs": [],
   "source": [
    "c = db.cursor() # set our cursor \n",
    "\n",
    "c.execute(\"SELECT * FROM StationsData LIMIT 5;\") # look at the first five entries \n",
    "rows = c.fetchall()\n",
    "\n",
    "print(rows)\n",
    "\n",
    "c.close()\n",
    "db.commit()"
   ]
  },
  {
   "cell_type": "markdown",
   "metadata": {},
   "source": [
    "## Last but not least, let's set things up so that our database automatically updates every 15 seconds. "
   ]
  },
  {
   "cell_type": "code",
   "execution_count": null,
   "metadata": {},
   "outputs": [],
   "source": [
    "import time \n",
    "import json \n",
    "import urllib.request\n",
    "from datetime import datetime\n",
    "\n",
    "while True:\n",
    "    \n",
    "    with urllib.request.urlopen(\"https://feeds.citibikenyc.com/stations/stations.json\") as url:\n",
    "        data = json.loads(url.read().decode())\n",
    "\n",
    "    stations = data['stationBeanList'] # iterate through the json to find the station data\n",
    "\n",
    "    db = MySQLdb.connect(passwd=\"password\",db=\"citibike\") # connect to our db\n",
    "\n",
    "    c = db.cursor() # set our cursor\n",
    "\n",
    "    query_template = \"\"\"INSERT IGNORE INTO StationsData(station_id, stationName, availableDocks, totalDocks, latitude, \\\n",
    "    longitude, statusValue, statusKey, availableBikes, stAddress1, stAddress2, city, postalCode, location, altitude, \\\n",
    "    testStation, lastCommunicationTime, landMark) VALUES (%s, %s, %s, %s, %s, %s, %s, %s, %s, %s, %s, %s, %s, %s, %s, %s, %s, %s);\"\"\"\n",
    "\n",
    "    for entry in stations: # for every station entry in the json \n",
    "        station_id = int(entry['id']) # find and set station_id\n",
    "        stationName = str(entry['stationName'])\n",
    "        availableDocks = int(entry['availableDocks'])\n",
    "        totalDocks = int(entry['totalDocks'])\n",
    "        latitude = str(entry['latitude'])\n",
    "        longitude = str(entry['longitude'])\n",
    "        statusValue = str(entry['statusValue'])\n",
    "        statusKey = int(entry['statusKey'])\n",
    "        availableBikes = int(entry['availableBikes'])\n",
    "        stAddress1 = str(entry['stAddress1'])\n",
    "        stAddress2 = str(entry['stAddress2'])\n",
    "        city = str(entry['city'])\n",
    "        postalCode = str(entry['postalCode'])\n",
    "        location = str(entry['location'])\n",
    "        altitude = str(entry['altitude'])\n",
    "        testStation = bool(entry['testStation'])\n",
    "        lastCommunicationTime = entry['lastCommunicationTime']\n",
    "        landMark = str(entry['landMark'])\n",
    "                           \n",
    "        print(\"Inserting Station:\", station_id, stationName, availableDocks, totalDocks, latitude, longitude, statusValue, statusKey, availableBikes, stAddress1, stAddress2, city, postalCode, location, altitude, testStation, lastCommunicationTime, landMark) \n",
    "        query_parameters = (station_id, stationName, availableDocks, totalDocks, latitude, longitude, statusValue, statusKey, availableBikes, stAddress1, stAddress2, city, postalCode, location, altitude, testStation, lastCommunicationTime, landMark) \n",
    "   \n",
    "        c.execute(query_template, query_parameters) # execute insert query and parameters\n",
    " \n",
    "    c.close()\n",
    "    db.commit()\n",
    "        \n",
    "    c = db.cursor() # set our cursor\n",
    "\n",
    "    c.execute(\"SELECT * FROM StationsData LIMIT 5;\") # look at the first five entries \n",
    "    rows = c.fetchall()\n",
    "\n",
    "    print(rows)\n",
    "        \n",
    "    time.sleep(15)"
   ]
  },
  {
   "cell_type": "markdown",
   "metadata": {},
   "source": [
    "---"
   ]
  },
  {
   "cell_type": "markdown",
   "metadata": {},
   "source": [
    "## I hope this has helped you find your coding legs! Next week we'll get back to descriptive analytics using Python and Pandas. For now, take time to refresh yourself on the content covered in \"Introduction to Programming\". \n",
    "\n",
    "## If you need a referesher on your SQL skills, check out the \"Supplementary Info\" directory in the class repo."
   ]
  }
 ],
 "metadata": {
  "kernelspec": {
   "display_name": "Python 3",
   "language": "python",
   "name": "python3"
  },
  "language_info": {
   "codemirror_mode": {
    "name": "ipython",
    "version": 3
   },
   "file_extension": ".py",
   "mimetype": "text/x-python",
   "name": "python",
   "nbconvert_exporter": "python",
   "pygments_lexer": "ipython3",
   "version": "3.7.1"
  }
 },
 "nbformat": 4,
 "nbformat_minor": 2
}
