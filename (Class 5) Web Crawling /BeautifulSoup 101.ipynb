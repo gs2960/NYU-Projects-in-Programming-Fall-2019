{
 "cells": [
  {
   "cell_type": "markdown",
   "metadata": {},
   "source": [
    "# All material ©2019, Alex Siegman\n"
   ]
  },
  {
   "cell_type": "markdown",
   "metadata": {},
   "source": [
    "---"
   ]
  },
  {
   "cell_type": "code",
   "execution_count": null,
   "metadata": {},
   "outputs": [],
   "source": [
    "import time\n",
    "import re\n",
    "import csv\n",
    "import requests\n",
    "from bs4 import BeautifulSoup"
   ]
  },
  {
   "cell_type": "code",
   "execution_count": null,
   "metadata": {
    "scrolled": true
   },
   "outputs": [],
   "source": [
    "# the file attached is a simple csv containing 100 unique URLs from WSJ.com\n",
    "\n",
    "url_list = [] # create an empty list called 'url_list' where we will store all of the URL's in question\n",
    "\n",
    "word_count_list = [] # create an empty list called 'word_count_list' where we will store the word counts associated  \n",
    "                     # with each URL in our 'url_list'\n",
    "\n",
    "with open(\"URLS_for_WordCount.csv\", newline='') as csvfile:\n",
    "          # note that you will have to navigate to wherever it is you have stored your csv as a pathname\n",
    "        \n",
    "    reader = csv.DictReader(csvfile) # this allows us to map our information in each row to an OrderedDictionary \n",
    "                                     # for more on DictReader see https://docs.python.org/3/library/csv.html\n",
    "    \n",
    "    for row in reader: # for every row in our csv, aka, for every dictionary entry (which is composed of our URLs)...\n",
    "        \n",
    "        # NB: you can use \"print(row)\" here to see what our ordered dictionary looks like \n",
    "        \n",
    "        for k, v in row.items(): # for every key, value pair in our ordered dictionary...\n",
    "            \n",
    "            # NB: again, you can use \"print(k)\" or \"print(v)\" here to see what our key, value pairs look like \n",
    "\n",
    "            url_list.append(str(v)) # add the URL to our \"url_list\"\n",
    "            \n",
    "            r = requests.get(v) # for more on the requests library check out this tutorial from RealPython: \n",
    "                                # https://realpython.com/python-requests/\n",
    "            \n",
    "            soup = BeautifulSoup(r.text,'html') # we are going to turn that URL into 'soup', aka, we are going to be \n",
    "                                                # able to see it's metadata For more on BeautifulSoup, check out: \n",
    "                                                # https://www.crummy.com/software/BeautifulSoup/bs4/doc/\n",
    "            \n",
    "            wc1 = str(soup.find(\"meta\", property=\"article:word_count\")) # we want to find the word_count associated \n",
    "                                                                        # with each URL, found in the HTML that we \n",
    "                                                                        # have just \"souped\"\n",
    "            \n",
    "            wc2 = re.search('\\d+',wc1).group(0) # we use regular expressions to find the first number in the associated\n",
    "            # metadata, and store that. For more on regex see this great tutorial (not from me): https://regexr.com/\n",
    "        \n",
    "            word_count_list.append(wc2) # finally, we add (append) our word count to our \"word_count_list\"\n",
    "\n",
    "print(word_count_list) # just to make sure everything works as planned\n",
    "print(url_list) # again, just to make sure everything works as planned        "
   ]
  },
  {
   "cell_type": "code",
   "execution_count": null,
   "metadata": {},
   "outputs": [],
   "source": [
    "# the code below will create a new csv, called \"URL_for_WordCount_with_WordCounts.csv\" in our current directory\"\n",
    "\n",
    "# for more on csv.writer check out: https://docs.python.org/3/library/csv.html\n",
    "\n",
    "myData = url_list,word_count_list \n",
    "myFile = open('URL_for_WordCount_with_WordCounts.csv', 'w')  \n",
    "with myFile:  \n",
    "   writer = csv.writer(myFile)\n",
    "   writer.writerows(myData)"
   ]
  },
  {
   "cell_type": "code",
   "execution_count": null,
   "metadata": {},
   "outputs": [],
   "source": []
  }
 ],
 "metadata": {
  "kernelspec": {
   "display_name": "Python 3",
   "language": "python",
   "name": "python3"
  },
  "language_info": {
   "codemirror_mode": {
    "name": "ipython",
    "version": 3
   },
   "file_extension": ".py",
   "mimetype": "text/x-python",
   "name": "python",
   "nbconvert_exporter": "python",
   "pygments_lexer": "ipython3",
   "version": "3.7.1"
  }
 },
 "nbformat": 4,
 "nbformat_minor": 2
}
