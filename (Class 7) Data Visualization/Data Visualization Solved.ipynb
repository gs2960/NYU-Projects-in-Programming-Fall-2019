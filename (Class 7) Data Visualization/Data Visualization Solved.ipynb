{
 "cells": [
  {
   "cell_type": "markdown",
   "metadata": {},
   "source": [
    "# All material ©2019, Alex Siegman"
   ]
  },
  {
   "cell_type": "markdown",
   "metadata": {},
   "source": [
    "---"
   ]
  },
  {
   "cell_type": "markdown",
   "metadata": {},
   "source": [
    "### {quote on data viz}"
   ]
  },
  {
   "cell_type": "markdown",
   "metadata": {},
   "source": [
    "### There are a lot of different tools for data visualization in Python. \n",
    "\n",
    "### {Matplotlib} \n",
    "### {Seaborn} \n",
    "### {Numpy}"
   ]
  },
  {
   "cell_type": "code",
   "execution_count": 220,
   "metadata": {},
   "outputs": [],
   "source": [
    "import matplotlib.pyplot as plt\n",
    "import seaborn as sns\n",
    "import pandas as pd\n",
    "import numpy as np\n",
    "%matplotlib inline"
   ]
  },
  {
   "cell_type": "code",
   "execution_count": 221,
   "metadata": {},
   "outputs": [],
   "source": [
    "data = pd.read_csv(\"SternTech_UserData.csv\") # read in our csv "
   ]
  },
  {
   "cell_type": "code",
   "execution_count": 222,
   "metadata": {},
   "outputs": [
    {
     "data": {
      "text/html": [
       "<div>\n",
       "<style scoped>\n",
       "    .dataframe tbody tr th:only-of-type {\n",
       "        vertical-align: middle;\n",
       "    }\n",
       "\n",
       "    .dataframe tbody tr th {\n",
       "        vertical-align: top;\n",
       "    }\n",
       "\n",
       "    .dataframe thead th {\n",
       "        text-align: right;\n",
       "    }\n",
       "</style>\n",
       "<table border=\"1\" class=\"dataframe\">\n",
       "  <thead>\n",
       "    <tr style=\"text-align: right;\">\n",
       "      <th></th>\n",
       "      <th>Unnamed: 0</th>\n",
       "      <th>id</th>\n",
       "      <th>company_size</th>\n",
       "      <th>age</th>\n",
       "      <th>sex</th>\n",
       "      <th>clicked_on_ad</th>\n",
       "      <th>ad_type</th>\n",
       "      <th>location</th>\n",
       "      <th>timestamp</th>\n",
       "    </tr>\n",
       "  </thead>\n",
       "  <tbody>\n",
       "    <tr>\n",
       "      <th>0</th>\n",
       "      <td>0</td>\n",
       "      <td>081217b4-1cf5-4657-8287-6db1b75462e4</td>\n",
       "      <td>large</td>\n",
       "      <td>92</td>\n",
       "      <td>M</td>\n",
       "      <td>Yes</td>\n",
       "      <td>Business</td>\n",
       "      <td>MidWest</td>\n",
       "      <td>2018-08-26 06:00:27.124290</td>\n",
       "    </tr>\n",
       "    <tr>\n",
       "      <th>1</th>\n",
       "      <td>1</td>\n",
       "      <td>d0b45a01-b73d-4f8e-bfa8-c53ea75397f1</td>\n",
       "      <td>large</td>\n",
       "      <td>56</td>\n",
       "      <td>M</td>\n",
       "      <td>Yes</td>\n",
       "      <td>Culinary</td>\n",
       "      <td>SouthWest</td>\n",
       "      <td>2011-06-01 18:54:34.815634</td>\n",
       "    </tr>\n",
       "    <tr>\n",
       "      <th>2</th>\n",
       "      <td>2</td>\n",
       "      <td>1dc2e636-e19b-4d42-b228-df09cd009acb</td>\n",
       "      <td>large</td>\n",
       "      <td>20</td>\n",
       "      <td>F</td>\n",
       "      <td>No</td>\n",
       "      <td>Business</td>\n",
       "      <td>SouthEast</td>\n",
       "      <td>2013-07-16 00:24:47.888180</td>\n",
       "    </tr>\n",
       "    <tr>\n",
       "      <th>3</th>\n",
       "      <td>3</td>\n",
       "      <td>5d09d6d4-023e-4fa1-9559-89526679e885</td>\n",
       "      <td>large</td>\n",
       "      <td>55</td>\n",
       "      <td>F</td>\n",
       "      <td>Yes</td>\n",
       "      <td>Political</td>\n",
       "      <td>NorthWest</td>\n",
       "      <td>2010-06-25 12:13:51.369878</td>\n",
       "    </tr>\n",
       "    <tr>\n",
       "      <th>4</th>\n",
       "      <td>4</td>\n",
       "      <td>b69e54e3-fc89-4c0f-8bdb-280409db173e</td>\n",
       "      <td>medium</td>\n",
       "      <td>25</td>\n",
       "      <td>N</td>\n",
       "      <td>No</td>\n",
       "      <td>Tech</td>\n",
       "      <td>US</td>\n",
       "      <td>2010-09-22 07:53:12.454909</td>\n",
       "    </tr>\n",
       "  </tbody>\n",
       "</table>\n",
       "</div>"
      ],
      "text/plain": [
       "   Unnamed: 0                                    id company_size  age sex  \\\n",
       "0           0  081217b4-1cf5-4657-8287-6db1b75462e4        large   92   M   \n",
       "1           1  d0b45a01-b73d-4f8e-bfa8-c53ea75397f1        large   56   M   \n",
       "2           2  1dc2e636-e19b-4d42-b228-df09cd009acb        large   20   F   \n",
       "3           3  5d09d6d4-023e-4fa1-9559-89526679e885        large   55   F   \n",
       "4           4  b69e54e3-fc89-4c0f-8bdb-280409db173e       medium   25   N   \n",
       "\n",
       "  clicked_on_ad    ad_type   location                   timestamp  \n",
       "0           Yes   Business    MidWest  2018-08-26 06:00:27.124290  \n",
       "1           Yes   Culinary  SouthWest  2011-06-01 18:54:34.815634  \n",
       "2            No   Business  SouthEast  2013-07-16 00:24:47.888180  \n",
       "3           Yes  Political  NorthWest  2010-06-25 12:13:51.369878  \n",
       "4            No       Tech         US  2010-09-22 07:53:12.454909  "
      ]
     },
     "execution_count": 222,
     "metadata": {},
     "output_type": "execute_result"
    }
   ],
   "source": [
    "data.head() # check the first five rows of our csv"
   ]
  },
  {
   "cell_type": "code",
   "execution_count": 223,
   "metadata": {},
   "outputs": [],
   "source": [
    "data = data.drop(data.columns[[0]],axis=1)"
   ]
  },
  {
   "cell_type": "markdown",
   "metadata": {},
   "source": [
    "### An important note on grouping: "
   ]
  },
  {
   "cell_type": "code",
   "execution_count": 224,
   "metadata": {},
   "outputs": [
    {
     "data": {
      "text/plain": [
       "dict_keys(['Canada', 'Mexico', 'MidWest', 'NorthEast', 'NorthWest', 'SouthAmerica', 'SouthEast', 'SouthWest', 'US'])"
      ]
     },
     "execution_count": 224,
     "metadata": {},
     "output_type": "execute_result"
    }
   ],
   "source": [
    "data.groupby(['location']).groups.keys()"
   ]
  },
  {
   "cell_type": "code",
   "execution_count": 225,
   "metadata": {},
   "outputs": [
    {
     "data": {
      "text/html": [
       "<div>\n",
       "<style scoped>\n",
       "    .dataframe tbody tr th:only-of-type {\n",
       "        vertical-align: middle;\n",
       "    }\n",
       "\n",
       "    .dataframe tbody tr th {\n",
       "        vertical-align: top;\n",
       "    }\n",
       "\n",
       "    .dataframe thead th {\n",
       "        text-align: right;\n",
       "    }\n",
       "</style>\n",
       "<table border=\"1\" class=\"dataframe\">\n",
       "  <thead>\n",
       "    <tr style=\"text-align: right;\">\n",
       "      <th></th>\n",
       "      <th>id</th>\n",
       "      <th>company_size</th>\n",
       "      <th>age</th>\n",
       "      <th>sex</th>\n",
       "      <th>clicked_on_ad</th>\n",
       "      <th>ad_type</th>\n",
       "      <th>timestamp</th>\n",
       "    </tr>\n",
       "    <tr>\n",
       "      <th>location</th>\n",
       "      <th></th>\n",
       "      <th></th>\n",
       "      <th></th>\n",
       "      <th></th>\n",
       "      <th></th>\n",
       "      <th></th>\n",
       "      <th></th>\n",
       "    </tr>\n",
       "  </thead>\n",
       "  <tbody>\n",
       "    <tr>\n",
       "      <th>Canada</th>\n",
       "      <td>26753d01-eaf3-4906-a0e8-ec3364e336ab</td>\n",
       "      <td>large</td>\n",
       "      <td>87</td>\n",
       "      <td>N</td>\n",
       "      <td>Yes</td>\n",
       "      <td>Political</td>\n",
       "      <td>2018-08-07 01:14:12.732566</td>\n",
       "    </tr>\n",
       "    <tr>\n",
       "      <th>Mexico</th>\n",
       "      <td>e68c8268-aeee-4bbf-b097-9d3d0f7be367</td>\n",
       "      <td>startup</td>\n",
       "      <td>89</td>\n",
       "      <td>F</td>\n",
       "      <td>Yes</td>\n",
       "      <td>Tech</td>\n",
       "      <td>2011-02-03 04:28:16.388852</td>\n",
       "    </tr>\n",
       "    <tr>\n",
       "      <th>MidWest</th>\n",
       "      <td>081217b4-1cf5-4657-8287-6db1b75462e4</td>\n",
       "      <td>large</td>\n",
       "      <td>92</td>\n",
       "      <td>M</td>\n",
       "      <td>Yes</td>\n",
       "      <td>Business</td>\n",
       "      <td>2018-08-26 06:00:27.124290</td>\n",
       "    </tr>\n",
       "    <tr>\n",
       "      <th>NorthEast</th>\n",
       "      <td>346471ed-a4e7-46b3-9418-7dff84b50132</td>\n",
       "      <td>large</td>\n",
       "      <td>95</td>\n",
       "      <td>F</td>\n",
       "      <td>Yes</td>\n",
       "      <td>Culinary</td>\n",
       "      <td>2006-09-30 02:14:29.869183</td>\n",
       "    </tr>\n",
       "    <tr>\n",
       "      <th>NorthWest</th>\n",
       "      <td>5d09d6d4-023e-4fa1-9559-89526679e885</td>\n",
       "      <td>large</td>\n",
       "      <td>55</td>\n",
       "      <td>F</td>\n",
       "      <td>Yes</td>\n",
       "      <td>Political</td>\n",
       "      <td>2010-06-25 12:13:51.369878</td>\n",
       "    </tr>\n",
       "    <tr>\n",
       "      <th>SouthAmerica</th>\n",
       "      <td>ec5a6353-f816-4737-8fed-a8a620fe70c3</td>\n",
       "      <td>medium</td>\n",
       "      <td>39</td>\n",
       "      <td>N</td>\n",
       "      <td>No</td>\n",
       "      <td>Business</td>\n",
       "      <td>2015-08-26 08:07:55.115573</td>\n",
       "    </tr>\n",
       "    <tr>\n",
       "      <th>SouthEast</th>\n",
       "      <td>1dc2e636-e19b-4d42-b228-df09cd009acb</td>\n",
       "      <td>large</td>\n",
       "      <td>20</td>\n",
       "      <td>F</td>\n",
       "      <td>No</td>\n",
       "      <td>Business</td>\n",
       "      <td>2013-07-16 00:24:47.888180</td>\n",
       "    </tr>\n",
       "    <tr>\n",
       "      <th>SouthWest</th>\n",
       "      <td>d0b45a01-b73d-4f8e-bfa8-c53ea75397f1</td>\n",
       "      <td>large</td>\n",
       "      <td>56</td>\n",
       "      <td>M</td>\n",
       "      <td>Yes</td>\n",
       "      <td>Culinary</td>\n",
       "      <td>2011-06-01 18:54:34.815634</td>\n",
       "    </tr>\n",
       "    <tr>\n",
       "      <th>US</th>\n",
       "      <td>b69e54e3-fc89-4c0f-8bdb-280409db173e</td>\n",
       "      <td>medium</td>\n",
       "      <td>25</td>\n",
       "      <td>N</td>\n",
       "      <td>No</td>\n",
       "      <td>Tech</td>\n",
       "      <td>2010-09-22 07:53:12.454909</td>\n",
       "    </tr>\n",
       "  </tbody>\n",
       "</table>\n",
       "</div>"
      ],
      "text/plain": [
       "                                                id company_size  age sex  \\\n",
       "location                                                                   \n",
       "Canada        26753d01-eaf3-4906-a0e8-ec3364e336ab        large   87   N   \n",
       "Mexico        e68c8268-aeee-4bbf-b097-9d3d0f7be367      startup   89   F   \n",
       "MidWest       081217b4-1cf5-4657-8287-6db1b75462e4        large   92   M   \n",
       "NorthEast     346471ed-a4e7-46b3-9418-7dff84b50132        large   95   F   \n",
       "NorthWest     5d09d6d4-023e-4fa1-9559-89526679e885        large   55   F   \n",
       "SouthAmerica  ec5a6353-f816-4737-8fed-a8a620fe70c3       medium   39   N   \n",
       "SouthEast     1dc2e636-e19b-4d42-b228-df09cd009acb        large   20   F   \n",
       "SouthWest     d0b45a01-b73d-4f8e-bfa8-c53ea75397f1        large   56   M   \n",
       "US            b69e54e3-fc89-4c0f-8bdb-280409db173e       medium   25   N   \n",
       "\n",
       "             clicked_on_ad    ad_type                   timestamp  \n",
       "location                                                           \n",
       "Canada                 Yes  Political  2018-08-07 01:14:12.732566  \n",
       "Mexico                 Yes       Tech  2011-02-03 04:28:16.388852  \n",
       "MidWest                Yes   Business  2018-08-26 06:00:27.124290  \n",
       "NorthEast              Yes   Culinary  2006-09-30 02:14:29.869183  \n",
       "NorthWest              Yes  Political  2010-06-25 12:13:51.369878  \n",
       "SouthAmerica            No   Business  2015-08-26 08:07:55.115573  \n",
       "SouthEast               No   Business  2013-07-16 00:24:47.888180  \n",
       "SouthWest              Yes   Culinary  2011-06-01 18:54:34.815634  \n",
       "US                      No       Tech  2010-09-22 07:53:12.454909  "
      ]
     },
     "execution_count": 225,
     "metadata": {},
     "output_type": "execute_result"
    }
   ],
   "source": [
    "data.groupby('location').first() # show us the first entry for each location"
   ]
  },
  {
   "cell_type": "code",
   "execution_count": 226,
   "metadata": {},
   "outputs": [
    {
     "data": {
      "text/plain": [
       "location\n",
       "Canada          58.444503\n",
       "Mexico          57.991047\n",
       "MidWest         58.907493\n",
       "NorthEast       58.884084\n",
       "NorthWest       58.120070\n",
       "SouthAmerica    58.431022\n",
       "SouthEast       58.334727\n",
       "SouthWest       58.101925\n",
       "US              58.439169\n",
       "Name: age, dtype: float64"
      ]
     },
     "execution_count": 226,
     "metadata": {},
     "output_type": "execute_result"
    }
   ],
   "source": [
    "data.groupby('location')['age'].mean() # show us the mean age for each location \n",
    "\n",
    "# note that the result here is a Pandas Series – a one-dimensional array \n",
    "# think of a series as a single column in a data frame "
   ]
  },
  {
   "cell_type": "code",
   "execution_count": 227,
   "metadata": {},
   "outputs": [
    {
     "data": {
      "text/html": [
       "<div>\n",
       "<style scoped>\n",
       "    .dataframe tbody tr th:only-of-type {\n",
       "        vertical-align: middle;\n",
       "    }\n",
       "\n",
       "    .dataframe tbody tr th {\n",
       "        vertical-align: top;\n",
       "    }\n",
       "\n",
       "    .dataframe thead th {\n",
       "        text-align: right;\n",
       "    }\n",
       "</style>\n",
       "<table border=\"1\" class=\"dataframe\">\n",
       "  <thead>\n",
       "    <tr style=\"text-align: right;\">\n",
       "      <th></th>\n",
       "      <th>age</th>\n",
       "    </tr>\n",
       "    <tr>\n",
       "      <th>location</th>\n",
       "      <th></th>\n",
       "    </tr>\n",
       "  </thead>\n",
       "  <tbody>\n",
       "    <tr>\n",
       "      <th>Canada</th>\n",
       "      <td>330153</td>\n",
       "    </tr>\n",
       "    <tr>\n",
       "      <th>Mexico</th>\n",
       "      <td>317385</td>\n",
       "    </tr>\n",
       "    <tr>\n",
       "      <th>MidWest</th>\n",
       "      <td>331767</td>\n",
       "    </tr>\n",
       "    <tr>\n",
       "      <th>NorthEast</th>\n",
       "      <td>328161</td>\n",
       "    </tr>\n",
       "    <tr>\n",
       "      <th>NorthWest</th>\n",
       "      <td>333028</td>\n",
       "    </tr>\n",
       "    <tr>\n",
       "      <th>SouthAmerica</th>\n",
       "      <td>326980</td>\n",
       "    </tr>\n",
       "    <tr>\n",
       "      <th>SouthEast</th>\n",
       "      <td>320841</td>\n",
       "    </tr>\n",
       "    <tr>\n",
       "      <th>SouthWest</th>\n",
       "      <td>316946</td>\n",
       "    </tr>\n",
       "    <tr>\n",
       "      <th>US</th>\n",
       "      <td>315104</td>\n",
       "    </tr>\n",
       "  </tbody>\n",
       "</table>\n",
       "</div>"
      ],
      "text/plain": [
       "                 age\n",
       "location            \n",
       "Canada        330153\n",
       "Mexico        317385\n",
       "MidWest       331767\n",
       "NorthEast     328161\n",
       "NorthWest     333028\n",
       "SouthAmerica  326980\n",
       "SouthEast     320841\n",
       "SouthWest     316946\n",
       "US            315104"
      ]
     },
     "execution_count": 227,
     "metadata": {},
     "output_type": "execute_result"
    }
   ],
   "source": [
    "# this, on the other hand, will produce Pandas DataFrame\n",
    "\n",
    "data.groupby('location')[['age']].sum()"
   ]
  },
  {
   "cell_type": "markdown",
   "metadata": {},
   "source": [
    "## But what if we don't want to set a new index? "
   ]
  },
  {
   "cell_type": "code",
   "execution_count": 228,
   "metadata": {},
   "outputs": [
    {
     "data": {
      "text/html": [
       "<div>\n",
       "<style scoped>\n",
       "    .dataframe tbody tr th:only-of-type {\n",
       "        vertical-align: middle;\n",
       "    }\n",
       "\n",
       "    .dataframe tbody tr th {\n",
       "        vertical-align: top;\n",
       "    }\n",
       "\n",
       "    .dataframe thead th {\n",
       "        text-align: right;\n",
       "    }\n",
       "</style>\n",
       "<table border=\"1\" class=\"dataframe\">\n",
       "  <thead>\n",
       "    <tr style=\"text-align: right;\">\n",
       "      <th></th>\n",
       "      <th>location</th>\n",
       "      <th>age</th>\n",
       "    </tr>\n",
       "  </thead>\n",
       "  <tbody>\n",
       "    <tr>\n",
       "      <th>0</th>\n",
       "      <td>Canada</td>\n",
       "      <td>330153</td>\n",
       "    </tr>\n",
       "    <tr>\n",
       "      <th>1</th>\n",
       "      <td>Mexico</td>\n",
       "      <td>317385</td>\n",
       "    </tr>\n",
       "    <tr>\n",
       "      <th>2</th>\n",
       "      <td>MidWest</td>\n",
       "      <td>331767</td>\n",
       "    </tr>\n",
       "    <tr>\n",
       "      <th>3</th>\n",
       "      <td>NorthEast</td>\n",
       "      <td>328161</td>\n",
       "    </tr>\n",
       "    <tr>\n",
       "      <th>4</th>\n",
       "      <td>NorthWest</td>\n",
       "      <td>333028</td>\n",
       "    </tr>\n",
       "    <tr>\n",
       "      <th>5</th>\n",
       "      <td>SouthAmerica</td>\n",
       "      <td>326980</td>\n",
       "    </tr>\n",
       "    <tr>\n",
       "      <th>6</th>\n",
       "      <td>SouthEast</td>\n",
       "      <td>320841</td>\n",
       "    </tr>\n",
       "    <tr>\n",
       "      <th>7</th>\n",
       "      <td>SouthWest</td>\n",
       "      <td>316946</td>\n",
       "    </tr>\n",
       "    <tr>\n",
       "      <th>8</th>\n",
       "      <td>US</td>\n",
       "      <td>315104</td>\n",
       "    </tr>\n",
       "  </tbody>\n",
       "</table>\n",
       "</div>"
      ],
      "text/plain": [
       "       location     age\n",
       "0        Canada  330153\n",
       "1        Mexico  317385\n",
       "2       MidWest  331767\n",
       "3     NorthEast  328161\n",
       "4     NorthWest  333028\n",
       "5  SouthAmerica  326980\n",
       "6     SouthEast  320841\n",
       "7     SouthWest  316946\n",
       "8            US  315104"
      ]
     },
     "execution_count": 228,
     "metadata": {},
     "output_type": "execute_result"
    }
   ],
   "source": [
    "data.groupby('location', as_index=False).agg({\"age\": \"sum\"})"
   ]
  },
  {
   "cell_type": "code",
   "execution_count": 229,
   "metadata": {},
   "outputs": [],
   "source": [
    "click_data = data[data['clicked_on_ad'] == 'Yes'].groupby('location')['age'].sum()"
   ]
  },
  {
   "cell_type": "code",
   "execution_count": 230,
   "metadata": {},
   "outputs": [
    {
     "data": {
      "text/plain": [
       "location\n",
       "Canada          167592\n",
       "Mexico          161244\n",
       "MidWest         165068\n",
       "NorthEast       161467\n",
       "NorthWest       168745\n",
       "SouthAmerica    161199\n",
       "SouthEast       163964\n",
       "SouthWest       160529\n",
       "US              152096\n",
       "Name: age, dtype: int64"
      ]
     },
     "execution_count": 230,
     "metadata": {},
     "output_type": "execute_result"
    }
   ],
   "source": [
    "click_data"
   ]
  },
  {
   "cell_type": "code",
   "execution_count": 231,
   "metadata": {},
   "outputs": [
    {
     "data": {
      "text/plain": [
       "pandas.core.series.Series"
      ]
     },
     "execution_count": 231,
     "metadata": {},
     "output_type": "execute_result"
    }
   ],
   "source": [
    "type(click_data)"
   ]
  },
  {
   "cell_type": "markdown",
   "metadata": {},
   "source": [
    "### Pandas has a built in .plotI() function, with lots of parameters:\n",
    "\n",
    "https://towardsdatascience.com/a-guide-to-pandas-and-matplotlib-for-data-exploration-56fad95f951c"
   ]
  },
  {
   "cell_type": "markdown",
   "metadata": {},
   "source": [
    "### Barplots "
   ]
  },
  {
   "cell_type": "code",
   "execution_count": 232,
   "metadata": {},
   "outputs": [
    {
     "data": {
      "text/html": [
       "<div>\n",
       "<style scoped>\n",
       "    .dataframe tbody tr th:only-of-type {\n",
       "        vertical-align: middle;\n",
       "    }\n",
       "\n",
       "    .dataframe tbody tr th {\n",
       "        vertical-align: top;\n",
       "    }\n",
       "\n",
       "    .dataframe thead th {\n",
       "        text-align: right;\n",
       "    }\n",
       "</style>\n",
       "<table border=\"1\" class=\"dataframe\">\n",
       "  <thead>\n",
       "    <tr style=\"text-align: right;\">\n",
       "      <th></th>\n",
       "      <th>id</th>\n",
       "      <th>company_size</th>\n",
       "      <th>age</th>\n",
       "      <th>sex</th>\n",
       "      <th>clicked_on_ad</th>\n",
       "      <th>ad_type</th>\n",
       "      <th>location</th>\n",
       "      <th>timestamp</th>\n",
       "    </tr>\n",
       "  </thead>\n",
       "  <tbody>\n",
       "    <tr>\n",
       "      <th>0</th>\n",
       "      <td>081217b4-1cf5-4657-8287-6db1b75462e4</td>\n",
       "      <td>large</td>\n",
       "      <td>92</td>\n",
       "      <td>M</td>\n",
       "      <td>Yes</td>\n",
       "      <td>Business</td>\n",
       "      <td>MidWest</td>\n",
       "      <td>2018-08-26 06:00:27.124290</td>\n",
       "    </tr>\n",
       "    <tr>\n",
       "      <th>1</th>\n",
       "      <td>d0b45a01-b73d-4f8e-bfa8-c53ea75397f1</td>\n",
       "      <td>large</td>\n",
       "      <td>56</td>\n",
       "      <td>M</td>\n",
       "      <td>Yes</td>\n",
       "      <td>Culinary</td>\n",
       "      <td>SouthWest</td>\n",
       "      <td>2011-06-01 18:54:34.815634</td>\n",
       "    </tr>\n",
       "    <tr>\n",
       "      <th>2</th>\n",
       "      <td>1dc2e636-e19b-4d42-b228-df09cd009acb</td>\n",
       "      <td>large</td>\n",
       "      <td>20</td>\n",
       "      <td>F</td>\n",
       "      <td>No</td>\n",
       "      <td>Business</td>\n",
       "      <td>SouthEast</td>\n",
       "      <td>2013-07-16 00:24:47.888180</td>\n",
       "    </tr>\n",
       "    <tr>\n",
       "      <th>3</th>\n",
       "      <td>5d09d6d4-023e-4fa1-9559-89526679e885</td>\n",
       "      <td>large</td>\n",
       "      <td>55</td>\n",
       "      <td>F</td>\n",
       "      <td>Yes</td>\n",
       "      <td>Political</td>\n",
       "      <td>NorthWest</td>\n",
       "      <td>2010-06-25 12:13:51.369878</td>\n",
       "    </tr>\n",
       "    <tr>\n",
       "      <th>4</th>\n",
       "      <td>b69e54e3-fc89-4c0f-8bdb-280409db173e</td>\n",
       "      <td>medium</td>\n",
       "      <td>25</td>\n",
       "      <td>N</td>\n",
       "      <td>No</td>\n",
       "      <td>Tech</td>\n",
       "      <td>US</td>\n",
       "      <td>2010-09-22 07:53:12.454909</td>\n",
       "    </tr>\n",
       "  </tbody>\n",
       "</table>\n",
       "</div>"
      ],
      "text/plain": [
       "                                     id company_size  age sex clicked_on_ad  \\\n",
       "0  081217b4-1cf5-4657-8287-6db1b75462e4        large   92   M           Yes   \n",
       "1  d0b45a01-b73d-4f8e-bfa8-c53ea75397f1        large   56   M           Yes   \n",
       "2  1dc2e636-e19b-4d42-b228-df09cd009acb        large   20   F            No   \n",
       "3  5d09d6d4-023e-4fa1-9559-89526679e885        large   55   F           Yes   \n",
       "4  b69e54e3-fc89-4c0f-8bdb-280409db173e       medium   25   N            No   \n",
       "\n",
       "     ad_type   location                   timestamp  \n",
       "0   Business    MidWest  2018-08-26 06:00:27.124290  \n",
       "1   Culinary  SouthWest  2011-06-01 18:54:34.815634  \n",
       "2   Business  SouthEast  2013-07-16 00:24:47.888180  \n",
       "3  Political  NorthWest  2010-06-25 12:13:51.369878  \n",
       "4       Tech         US  2010-09-22 07:53:12.454909  "
      ]
     },
     "execution_count": 232,
     "metadata": {},
     "output_type": "execute_result"
    }
   ],
   "source": [
    "data.head()"
   ]
  },
  {
   "cell_type": "code",
   "execution_count": 233,
   "metadata": {},
   "outputs": [
    {
     "data": {
      "text/plain": [
       "pandas.core.frame.DataFrame"
      ]
     },
     "execution_count": 233,
     "metadata": {},
     "output_type": "execute_result"
    }
   ],
   "source": [
    "type(data)"
   ]
  },
  {
   "cell_type": "code",
   "execution_count": 234,
   "metadata": {},
   "outputs": [
    {
     "name": "stdout",
     "output_type": "stream",
     "text": [
      "None\n"
     ]
    }
   ],
   "source": [
    "print(data.index.name)"
   ]
  },
  {
   "cell_type": "code",
   "execution_count": 235,
   "metadata": {},
   "outputs": [
    {
     "data": {
      "text/html": [
       "<div>\n",
       "<style scoped>\n",
       "    .dataframe tbody tr th:only-of-type {\n",
       "        vertical-align: middle;\n",
       "    }\n",
       "\n",
       "    .dataframe tbody tr th {\n",
       "        vertical-align: top;\n",
       "    }\n",
       "\n",
       "    .dataframe thead th {\n",
       "        text-align: right;\n",
       "    }\n",
       "</style>\n",
       "<table border=\"1\" class=\"dataframe\">\n",
       "  <thead>\n",
       "    <tr style=\"text-align: right;\">\n",
       "      <th>clicked_on_ad</th>\n",
       "      <th>No</th>\n",
       "      <th>Yes</th>\n",
       "      <th>Total</th>\n",
       "    </tr>\n",
       "    <tr>\n",
       "      <th>company_size</th>\n",
       "      <th></th>\n",
       "      <th></th>\n",
       "      <th></th>\n",
       "    </tr>\n",
       "  </thead>\n",
       "  <tbody>\n",
       "    <tr>\n",
       "      <th>large</th>\n",
       "      <td>6196</td>\n",
       "      <td>6291</td>\n",
       "      <td>12487</td>\n",
       "    </tr>\n",
       "    <tr>\n",
       "      <th>medium</th>\n",
       "      <td>6359</td>\n",
       "      <td>6278</td>\n",
       "      <td>12637</td>\n",
       "    </tr>\n",
       "    <tr>\n",
       "      <th>small</th>\n",
       "      <td>6165</td>\n",
       "      <td>6216</td>\n",
       "      <td>12381</td>\n",
       "    </tr>\n",
       "    <tr>\n",
       "      <th>startup</th>\n",
       "      <td>6280</td>\n",
       "      <td>6215</td>\n",
       "      <td>12495</td>\n",
       "    </tr>\n",
       "    <tr>\n",
       "      <th>Total</th>\n",
       "      <td>25000</td>\n",
       "      <td>25000</td>\n",
       "      <td>50000</td>\n",
       "    </tr>\n",
       "  </tbody>\n",
       "</table>\n",
       "</div>"
      ],
      "text/plain": [
       "clicked_on_ad     No    Yes  Total\n",
       "company_size                      \n",
       "large           6196   6291  12487\n",
       "medium          6359   6278  12637\n",
       "small           6165   6216  12381\n",
       "startup         6280   6215  12495\n",
       "Total          25000  25000  50000"
      ]
     },
     "execution_count": 235,
     "metadata": {},
     "output_type": "execute_result"
    }
   ],
   "source": [
    "size_click = pd.crosstab(data['company_size'],data['clicked_on_ad'],margins=True,margins_name='Total')\n",
    "size_click"
   ]
  },
  {
   "cell_type": "code",
   "execution_count": 236,
   "metadata": {},
   "outputs": [
    {
     "data": {
      "text/plain": [
       "pandas.core.frame.DataFrame"
      ]
     },
     "execution_count": 236,
     "metadata": {},
     "output_type": "execute_result"
    }
   ],
   "source": [
    "type(size_click)"
   ]
  },
  {
   "cell_type": "code",
   "execution_count": 237,
   "metadata": {},
   "outputs": [
    {
     "name": "stdout",
     "output_type": "stream",
     "text": [
      "company_size\n"
     ]
    }
   ],
   "source": [
    "print(size_click.index.name)"
   ]
  },
  {
   "cell_type": "code",
   "execution_count": 117,
   "metadata": {},
   "outputs": [
    {
     "data": {
      "text/plain": [
       "<matplotlib.axes._subplots.AxesSubplot at 0x11e71d3c8>"
      ]
     },
     "execution_count": 117,
     "metadata": {},
     "output_type": "execute_result"
    },
    {
     "data": {
      "image/png": "[encoded data removed]",
      "text/plain": [
       "<Figure size 432x288 with 1 Axes>"
      ]
     },
     "metadata": {
      "needs_background": "light"
     },
     "output_type": "display_data"
    }
   ],
   "source": [
    "size_click[:4].plot(kind='bar')"
   ]
  },
  {
   "cell_type": "code",
   "execution_count": 238,
   "metadata": {},
   "outputs": [
    {
     "ename": "ValueError",
     "evalue": "Could not interpret input 'company_size'",
     "output_type": "error",
     "traceback": [
      "\u001b[0;31m---------------------------------------------------------------------------\u001b[0m",
      "\u001b[0;31mValueError\u001b[0m                                Traceback (most recent call last)",
      "\u001b[0;32m<ipython-input-238-af9c2a8de820>\u001b[0m in \u001b[0;36m<module>\u001b[0;34m\u001b[0m\n\u001b[0;32m----> 1\u001b[0;31m \u001b[0msns\u001b[0m\u001b[0;34m.\u001b[0m\u001b[0mbarplot\u001b[0m\u001b[0;34m(\u001b[0m\u001b[0mx\u001b[0m\u001b[0;34m=\u001b[0m\u001b[0;34m'company_size'\u001b[0m\u001b[0;34m,\u001b[0m\u001b[0my\u001b[0m\u001b[0;34m=\u001b[0m\u001b[0;34m'clicked_on_ad'\u001b[0m\u001b[0;34m,\u001b[0m\u001b[0mdata\u001b[0m\u001b[0;34m=\u001b[0m\u001b[0msize_click\u001b[0m\u001b[0;34m)\u001b[0m\u001b[0;34m\u001b[0m\u001b[0;34m\u001b[0m\u001b[0m\n\u001b[0m",
      "\u001b[0;32m~/miniconda3/lib/python3.7/site-packages/seaborn/categorical.py\u001b[0m in \u001b[0;36mbarplot\u001b[0;34m(x, y, hue, data, order, hue_order, estimator, ci, n_boot, units, orient, color, palette, saturation, errcolor, errwidth, capsize, dodge, ax, **kwargs)\u001b[0m\n\u001b[1;32m   3147\u001b[0m                           \u001b[0mestimator\u001b[0m\u001b[0;34m,\u001b[0m \u001b[0mci\u001b[0m\u001b[0;34m,\u001b[0m \u001b[0mn_boot\u001b[0m\u001b[0;34m,\u001b[0m \u001b[0munits\u001b[0m\u001b[0;34m,\u001b[0m\u001b[0;34m\u001b[0m\u001b[0;34m\u001b[0m\u001b[0m\n\u001b[1;32m   3148\u001b[0m                           \u001b[0morient\u001b[0m\u001b[0;34m,\u001b[0m \u001b[0mcolor\u001b[0m\u001b[0;34m,\u001b[0m \u001b[0mpalette\u001b[0m\u001b[0;34m,\u001b[0m \u001b[0msaturation\u001b[0m\u001b[0;34m,\u001b[0m\u001b[0;34m\u001b[0m\u001b[0;34m\u001b[0m\u001b[0m\n\u001b[0;32m-> 3149\u001b[0;31m                           errcolor, errwidth, capsize, dodge)\n\u001b[0m\u001b[1;32m   3150\u001b[0m \u001b[0;34m\u001b[0m\u001b[0m\n\u001b[1;32m   3151\u001b[0m     \u001b[0;32mif\u001b[0m \u001b[0max\u001b[0m \u001b[0;32mis\u001b[0m \u001b[0;32mNone\u001b[0m\u001b[0;34m:\u001b[0m\u001b[0;34m\u001b[0m\u001b[0;34m\u001b[0m\u001b[0m\n",
      "\u001b[0;32m~/miniconda3/lib/python3.7/site-packages/seaborn/categorical.py\u001b[0m in \u001b[0;36m__init__\u001b[0;34m(self, x, y, hue, data, order, hue_order, estimator, ci, n_boot, units, orient, color, palette, saturation, errcolor, errwidth, capsize, dodge)\u001b[0m\n\u001b[1;32m   1605\u001b[0m         \u001b[0;34m\"\"\"Initialize the plotter.\"\"\"\u001b[0m\u001b[0;34m\u001b[0m\u001b[0;34m\u001b[0m\u001b[0m\n\u001b[1;32m   1606\u001b[0m         self.establish_variables(x, y, hue, data, orient,\n\u001b[0;32m-> 1607\u001b[0;31m                                  order, hue_order, units)\n\u001b[0m\u001b[1;32m   1608\u001b[0m         \u001b[0mself\u001b[0m\u001b[0;34m.\u001b[0m\u001b[0mestablish_colors\u001b[0m\u001b[0;34m(\u001b[0m\u001b[0mcolor\u001b[0m\u001b[0;34m,\u001b[0m \u001b[0mpalette\u001b[0m\u001b[0;34m,\u001b[0m \u001b[0msaturation\u001b[0m\u001b[0;34m)\u001b[0m\u001b[0;34m\u001b[0m\u001b[0;34m\u001b[0m\u001b[0m\n\u001b[1;32m   1609\u001b[0m         \u001b[0mself\u001b[0m\u001b[0;34m.\u001b[0m\u001b[0mestimate_statistic\u001b[0m\u001b[0;34m(\u001b[0m\u001b[0mestimator\u001b[0m\u001b[0;34m,\u001b[0m \u001b[0mci\u001b[0m\u001b[0;34m,\u001b[0m \u001b[0mn_boot\u001b[0m\u001b[0;34m)\u001b[0m\u001b[0;34m\u001b[0m\u001b[0;34m\u001b[0m\u001b[0m\n",
      "\u001b[0;32m~/miniconda3/lib/python3.7/site-packages/seaborn/categorical.py\u001b[0m in \u001b[0;36mestablish_variables\u001b[0;34m(self, x, y, hue, data, orient, order, hue_order, units)\u001b[0m\n\u001b[1;32m    153\u001b[0m                 \u001b[0;32mif\u001b[0m \u001b[0misinstance\u001b[0m\u001b[0;34m(\u001b[0m\u001b[0minput\u001b[0m\u001b[0;34m,\u001b[0m \u001b[0mstring_types\u001b[0m\u001b[0;34m)\u001b[0m\u001b[0;34m:\u001b[0m\u001b[0;34m\u001b[0m\u001b[0;34m\u001b[0m\u001b[0m\n\u001b[1;32m    154\u001b[0m                     \u001b[0merr\u001b[0m \u001b[0;34m=\u001b[0m \u001b[0;34m\"Could not interpret input '{}'\"\u001b[0m\u001b[0;34m.\u001b[0m\u001b[0mformat\u001b[0m\u001b[0;34m(\u001b[0m\u001b[0minput\u001b[0m\u001b[0;34m)\u001b[0m\u001b[0;34m\u001b[0m\u001b[0;34m\u001b[0m\u001b[0m\n\u001b[0;32m--> 155\u001b[0;31m                     \u001b[0;32mraise\u001b[0m \u001b[0mValueError\u001b[0m\u001b[0;34m(\u001b[0m\u001b[0merr\u001b[0m\u001b[0;34m)\u001b[0m\u001b[0;34m\u001b[0m\u001b[0;34m\u001b[0m\u001b[0m\n\u001b[0m\u001b[1;32m    156\u001b[0m \u001b[0;34m\u001b[0m\u001b[0m\n\u001b[1;32m    157\u001b[0m             \u001b[0;31m# Figure out the plotting orientation\u001b[0m\u001b[0;34m\u001b[0m\u001b[0;34m\u001b[0m\u001b[0;34m\u001b[0m\u001b[0m\n",
      "\u001b[0;31mValueError\u001b[0m: Could not interpret input 'company_size'"
     ]
    }
   ],
   "source": [
    "sns.barplot(x='company_size',y='clicked_on_ad',data=size_click)"
   ]
  },
  {
   "cell_type": "code",
   "execution_count": 243,
   "metadata": {},
   "outputs": [],
   "source": [
    "size_click.reset_index(inplace=True)"
   ]
  },
  {
   "cell_type": "code",
   "execution_count": 244,
   "metadata": {},
   "outputs": [
    {
     "data": {
      "text/html": [
       "<div>\n",
       "<style scoped>\n",
       "    .dataframe tbody tr th:only-of-type {\n",
       "        vertical-align: middle;\n",
       "    }\n",
       "\n",
       "    .dataframe tbody tr th {\n",
       "        vertical-align: top;\n",
       "    }\n",
       "\n",
       "    .dataframe thead th {\n",
       "        text-align: right;\n",
       "    }\n",
       "</style>\n",
       "<table border=\"1\" class=\"dataframe\">\n",
       "  <thead>\n",
       "    <tr style=\"text-align: right;\">\n",
       "      <th>clicked_on_ad</th>\n",
       "      <th>company_size</th>\n",
       "      <th>No</th>\n",
       "      <th>Yes</th>\n",
       "      <th>Total</th>\n",
       "    </tr>\n",
       "  </thead>\n",
       "  <tbody>\n",
       "    <tr>\n",
       "      <th>0</th>\n",
       "      <td>large</td>\n",
       "      <td>6196</td>\n",
       "      <td>6291</td>\n",
       "      <td>12487</td>\n",
       "    </tr>\n",
       "    <tr>\n",
       "      <th>1</th>\n",
       "      <td>medium</td>\n",
       "      <td>6359</td>\n",
       "      <td>6278</td>\n",
       "      <td>12637</td>\n",
       "    </tr>\n",
       "    <tr>\n",
       "      <th>2</th>\n",
       "      <td>small</td>\n",
       "      <td>6165</td>\n",
       "      <td>6216</td>\n",
       "      <td>12381</td>\n",
       "    </tr>\n",
       "    <tr>\n",
       "      <th>3</th>\n",
       "      <td>startup</td>\n",
       "      <td>6280</td>\n",
       "      <td>6215</td>\n",
       "      <td>12495</td>\n",
       "    </tr>\n",
       "    <tr>\n",
       "      <th>4</th>\n",
       "      <td>Total</td>\n",
       "      <td>25000</td>\n",
       "      <td>25000</td>\n",
       "      <td>50000</td>\n",
       "    </tr>\n",
       "  </tbody>\n",
       "</table>\n",
       "</div>"
      ],
      "text/plain": [
       "clicked_on_ad company_size     No    Yes  Total\n",
       "0                    large   6196   6291  12487\n",
       "1                   medium   6359   6278  12637\n",
       "2                    small   6165   6216  12381\n",
       "3                  startup   6280   6215  12495\n",
       "4                    Total  25000  25000  50000"
      ]
     },
     "execution_count": 244,
     "metadata": {},
     "output_type": "execute_result"
    }
   ],
   "source": [
    "size_click"
   ]
  },
  {
   "cell_type": "code",
   "execution_count": 246,
   "metadata": {},
   "outputs": [
    {
     "data": {
      "text/plain": [
       "<matplotlib.axes._subplots.AxesSubplot at 0x135bc0358>"
      ]
     },
     "execution_count": 246,
     "metadata": {},
     "output_type": "execute_result"
    },
    {
     "data": {
      "image/png": "[encoded data removed]",
      "text/plain": [
       "<Figure size 432x288 with 1 Axes>"
      ]
     },
     "metadata": {
      "needs_background": "light"
     },
     "output_type": "display_data"
    }
   ],
   "source": [
    "sns.barplot(x='company_size',y='Yes',data=size_click)"
   ]
  },
  {
   "cell_type": "code",
   "execution_count": null,
   "metadata": {},
   "outputs": [],
   "source": []
  },
  {
   "cell_type": "code",
   "execution_count": null,
   "metadata": {},
   "outputs": [],
   "source": []
  },
  {
   "cell_type": "code",
   "execution_count": null,
   "metadata": {},
   "outputs": [],
   "source": []
  },
  {
   "cell_type": "code",
   "execution_count": null,
   "metadata": {},
   "outputs": [],
   "source": []
  },
  {
   "cell_type": "markdown",
   "metadata": {},
   "source": [
    "### Histograms"
   ]
  },
  {
   "cell_type": "code",
   "execution_count": 122,
   "metadata": {},
   "outputs": [
    {
     "data": {
      "text/plain": [
       "<matplotlib.axes._subplots.AxesSubplot at 0x120743438>"
      ]
     },
     "execution_count": 122,
     "metadata": {},
     "output_type": "execute_result"
    },
    {
     "data": {
      "image/png": "[encoded data removed]",
      "text/plain": [
       "<Figure size 864x648 with 1 Axes>"
      ]
     },
     "metadata": {},
     "output_type": "display_data"
    }
   ],
   "source": [
    "sns.set(rc={'figure.figsize':(12,9)})\n",
    "sns.countplot(x='location',data=data)"
   ]
  },
  {
   "cell_type": "code",
   "execution_count": null,
   "metadata": {},
   "outputs": [],
   "source": []
  },
  {
   "cell_type": "code",
   "execution_count": null,
   "metadata": {},
   "outputs": [],
   "source": []
  },
  {
   "cell_type": "code",
   "execution_count": null,
   "metadata": {},
   "outputs": [],
   "source": []
  },
  {
   "cell_type": "code",
   "execution_count": null,
   "metadata": {},
   "outputs": [],
   "source": []
  },
  {
   "cell_type": "markdown",
   "metadata": {},
   "source": [
    "### Scatterplot"
   ]
  },
  {
   "cell_type": "code",
   "execution_count": null,
   "metadata": {},
   "outputs": [],
   "source": []
  },
  {
   "cell_type": "code",
   "execution_count": null,
   "metadata": {},
   "outputs": [],
   "source": []
  },
  {
   "cell_type": "code",
   "execution_count": null,
   "metadata": {},
   "outputs": [],
   "source": []
  },
  {
   "cell_type": "code",
   "execution_count": null,
   "metadata": {},
   "outputs": [],
   "source": []
  },
  {
   "cell_type": "code",
   "execution_count": null,
   "metadata": {},
   "outputs": [],
   "source": []
  },
  {
   "cell_type": "code",
   "execution_count": 111,
   "metadata": {},
   "outputs": [],
   "source": [
    "# data['timestamp'] = pd.to_datetime(data['timestamp'],infer_datetime_format=True)\n",
    "# data['timestamp'].map(lambda d: d.month).plot(kind='hist')"
   ]
  },
  {
   "cell_type": "code",
   "execution_count": null,
   "metadata": {},
   "outputs": [],
   "source": []
  },
  {
   "cell_type": "markdown",
   "metadata": {},
   "source": [
    "### Density Plot"
   ]
  },
  {
   "cell_type": "code",
   "execution_count": null,
   "metadata": {},
   "outputs": [],
   "source": []
  },
  {
   "cell_type": "code",
   "execution_count": null,
   "metadata": {},
   "outputs": [],
   "source": []
  },
  {
   "cell_type": "markdown",
   "metadata": {},
   "source": [
    "### Boxplot"
   ]
  },
  {
   "cell_type": "code",
   "execution_count": null,
   "metadata": {},
   "outputs": [],
   "source": []
  },
  {
   "cell_type": "code",
   "execution_count": null,
   "metadata": {},
   "outputs": [],
   "source": []
  },
  {
   "cell_type": "code",
   "execution_count": null,
   "metadata": {},
   "outputs": [],
   "source": []
  },
  {
   "cell_type": "code",
   "execution_count": null,
   "metadata": {},
   "outputs": [],
   "source": []
  },
  {
   "cell_type": "markdown",
   "metadata": {},
   "source": [
    "### Hexagonal Bin Plot"
   ]
  },
  {
   "cell_type": "code",
   "execution_count": null,
   "metadata": {},
   "outputs": [],
   "source": []
  },
  {
   "cell_type": "code",
   "execution_count": null,
   "metadata": {},
   "outputs": [],
   "source": []
  },
  {
   "cell_type": "markdown",
   "metadata": {},
   "source": [
    "### Trellis Plot"
   ]
  },
  {
   "cell_type": "code",
   "execution_count": null,
   "metadata": {},
   "outputs": [],
   "source": []
  },
  {
   "cell_type": "code",
   "execution_count": null,
   "metadata": {},
   "outputs": [],
   "source": []
  },
  {
   "cell_type": "markdown",
   "metadata": {},
   "source": [
    "### Heatmaps"
   ]
  },
  {
   "cell_type": "code",
   "execution_count": null,
   "metadata": {},
   "outputs": [],
   "source": [
    "# size_sex_click = pd.crosstab(data.clicked_on_ad,[data.company_size,data.sex],margins=True,margins_name='Total')\n",
    "# size_sex_click"
   ]
  },
  {
   "cell_type": "code",
   "execution_count": null,
   "metadata": {},
   "outputs": [],
   "source": []
  },
  {
   "cell_type": "code",
   "execution_count": null,
   "metadata": {},
   "outputs": [],
   "source": []
  },
  {
   "cell_type": "code",
   "execution_count": null,
   "metadata": {},
   "outputs": [],
   "source": []
  },
  {
   "cell_type": "code",
   "execution_count": null,
   "metadata": {},
   "outputs": [],
   "source": []
  }
 ],
 "metadata": {
  "kernelspec": {
   "display_name": "Python 3",
   "language": "python",
   "name": "python3"
  },
  "language_info": {
   "codemirror_mode": {
    "name": "ipython",
    "version": 3
   },
   "file_extension": ".py",
   "mimetype": "text/x-python",
   "name": "python",
   "nbconvert_exporter": "python",
   "pygments_lexer": "ipython3",
   "version": "3.7.1"
  }
 },
 "nbformat": 4,
 "nbformat_minor": 2
}
